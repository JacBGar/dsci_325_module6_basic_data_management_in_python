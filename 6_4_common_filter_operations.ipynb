{
 "cells": [
  {
   "cell_type": "markdown",
   "id": "2d129329",
   "metadata": {
    "jp-MarkdownHeadingCollapsed": true
   },
   "source": [
    "## Colab Prep\n",
    "\n",
    "Execute the following code cells to whenever you open/restart the notebook in Google Colab."
   ]
  },
  {
   "cell_type": "code",
   "execution_count": null,
   "id": "7b375479",
   "metadata": {},
   "outputs": [],
   "source": [
    "!pip install \"polars[all]\""
   ]
  },
  {
   "cell_type": "code",
   "execution_count": null,
   "id": "d188a811",
   "metadata": {
    "scrolled": true
   },
   "outputs": [],
   "source": [
    "!wget https://github.com/WSU-DataScience/dsci_325_module6_basic_data_management_in_python/raw/main/sample_data.zip"
   ]
  },
  {
   "cell_type": "code",
   "execution_count": null,
   "id": "311d5379",
   "metadata": {},
   "outputs": [],
   "source": [
    "!unzip ./sample_data.zip"
   ]
  },
  {
   "cell_type": "markdown",
   "id": "d3c269f2",
   "metadata": {
    "slideshow": {
     "slide_type": "slide"
    }
   },
   "source": [
    "# Advanced Filters\n",
    "\n",
    "In this section, we will take a closer look at common filtering patterns.  Note that this list is based on the Common Filter Operations section of the [SQL Alchemy tutorial](https://docs.sqlalchemy.org/en/latest/orm/tutorial.html) from the SQL Alchemy documentation, which is copyright © by SQLAlchemy authors and contributors. SQLAlchemy and its documentation are licensed under the MIT license."
   ]
  },
  {
   "cell_type": "code",
   "execution_count": 1,
   "id": "4cc5408e",
   "metadata": {
    "slideshow": {
     "slide_type": "fragment"
    }
   },
   "outputs": [],
   "source": [
    "import polars as pl\n",
    "pl.Config.with_columns_kwargs = True\n",
    "\n",
    "import seaborn as sns\n",
    "%matplotlib inline"
   ]
  },
  {
   "cell_type": "markdown",
   "id": "bff24d8c",
   "metadata": {
    "slideshow": {
     "slide_type": "slide"
    }
   },
   "source": [
    "## Common Filter Operators\n",
    "\n",
    "Most filters consist of the following operations.\n",
    "\n",
    "* Equals/not equals and other inequalities\n",
    "* Like/ilike\n",
    "* In/not in\n",
    "* Is Null/is not null\n",
    "* And/or\n"
   ]
  },
  {
   "cell_type": "markdown",
   "id": "afa0ad23",
   "metadata": {
    "slideshow": {
     "slide_type": "slide"
    }
   },
   "source": [
    "## How we will proceed\n",
    "\n",
    "Let's look at how each of the operations is performed in polars.  We need a dataset that is ripe for filtering, so we will return to the super hero data set.  Who doesn't love a super hero?"
   ]
  },
  {
   "cell_type": "code",
   "execution_count": 2,
   "id": "01e07ef2",
   "metadata": {
    "scrolled": true,
    "slideshow": {
     "slide_type": "fragment"
    }
   },
   "outputs": [
    {
     "data": {
      "text/html": [
       "<div><style>\n",
       ".dataframe > thead > tr,\n",
       ".dataframe > tbody > tr {\n",
       "  text-align: right;\n",
       "  white-space: pre-wrap;\n",
       "}\n",
       "</style>\n",
       "<small>shape: (5, 11)</small><table border=\"1\" class=\"dataframe\"><thead><tr><th>ID</th><th>name</th><th>Gender</th><th>Eye color</th><th>Race</th><th>Hair color</th><th>Height</th><th>Publisher</th><th>Skin color</th><th>Alignment</th><th>Weight</th></tr><tr><td>i64</td><td>str</td><td>str</td><td>str</td><td>str</td><td>str</td><td>f64</td><td>str</td><td>str</td><td>str</td><td>f64</td></tr></thead><tbody><tr><td>0</td><td>&quot;A-Bomb&quot;</td><td>&quot;Male&quot;</td><td>&quot;yellow&quot;</td><td>&quot;Human&quot;</td><td>&quot;No Hair&quot;</td><td>203.0</td><td>&quot;Marvel Comics&quot;</td><td>null</td><td>&quot;good&quot;</td><td>441.0</td></tr><tr><td>1</td><td>&quot;Abe Sapien&quot;</td><td>&quot;Male&quot;</td><td>&quot;blue&quot;</td><td>&quot;Icthyo Sapien&quot;</td><td>&quot;No Hair&quot;</td><td>191.0</td><td>&quot;Dark Horse Comics&quot;</td><td>&quot;blue&quot;</td><td>&quot;good&quot;</td><td>65.0</td></tr><tr><td>2</td><td>&quot;Abin Sur&quot;</td><td>&quot;Male&quot;</td><td>&quot;blue&quot;</td><td>&quot;Ungaran&quot;</td><td>&quot;No Hair&quot;</td><td>185.0</td><td>&quot;DC Comics&quot;</td><td>&quot;red&quot;</td><td>&quot;good&quot;</td><td>90.0</td></tr><tr><td>3</td><td>&quot;Abomination&quot;</td><td>&quot;Male&quot;</td><td>&quot;green&quot;</td><td>&quot;Human / Radiation&quot;</td><td>&quot;No Hair&quot;</td><td>203.0</td><td>&quot;Marvel Comics&quot;</td><td>null</td><td>&quot;bad&quot;</td><td>441.0</td></tr><tr><td>4</td><td>&quot;Abraxas&quot;</td><td>&quot;Male&quot;</td><td>&quot;blue&quot;</td><td>&quot;Cosmic Entity&quot;</td><td>&quot;Black&quot;</td><td>null</td><td>&quot;Marvel Comics&quot;</td><td>null</td><td>&quot;bad&quot;</td><td>null</td></tr></tbody></table></div>"
      ],
      "text/plain": [
       "shape: (5, 11)\n",
       "┌─────┬─────────────┬────────┬───────────┬───┬───────────────────┬────────────┬───────────┬────────┐\n",
       "│ ID  ┆ name        ┆ Gender ┆ Eye color ┆ … ┆ Publisher         ┆ Skin color ┆ Alignment ┆ Weight │\n",
       "│ --- ┆ ---         ┆ ---    ┆ ---       ┆   ┆ ---               ┆ ---        ┆ ---       ┆ ---    │\n",
       "│ i64 ┆ str         ┆ str    ┆ str       ┆   ┆ str               ┆ str        ┆ str       ┆ f64    │\n",
       "╞═════╪═════════════╪════════╪═══════════╪═══╪═══════════════════╪════════════╪═══════════╪════════╡\n",
       "│ 0   ┆ A-Bomb      ┆ Male   ┆ yellow    ┆ … ┆ Marvel Comics     ┆ null       ┆ good      ┆ 441.0  │\n",
       "│ 1   ┆ Abe Sapien  ┆ Male   ┆ blue      ┆ … ┆ Dark Horse Comics ┆ blue       ┆ good      ┆ 65.0   │\n",
       "│ 2   ┆ Abin Sur    ┆ Male   ┆ blue      ┆ … ┆ DC Comics         ┆ red        ┆ good      ┆ 90.0   │\n",
       "│ 3   ┆ Abomination ┆ Male   ┆ green     ┆ … ┆ Marvel Comics     ┆ null       ┆ bad       ┆ 441.0  │\n",
       "│ 4   ┆ Abraxas     ┆ Male   ┆ blue      ┆ … ┆ Marvel Comics     ┆ null       ┆ bad       ┆ null   │\n",
       "└─────┴─────────────┴────────┴───────────┴───┴───────────────────┴────────────┴───────────┴────────┘"
      ]
     },
     "execution_count": 2,
     "metadata": {},
     "output_type": "execute_result"
    }
   ],
   "source": [
    "heroes = (pl.read_csv('./sample_data/heroes_information.csv', null_values=['-', '-99.0', ''])\n",
    "          .rename({'':'ID'})\n",
    "         )\n",
    "heroes.head()"
   ]
  },
  {
   "cell_type": "markdown",
   "id": "b94909c0",
   "metadata": {
    "slideshow": {
     "slide_type": "slide"
    }
   },
   "source": [
    "## Common Filter Operators - Equality and Inequality\n",
    "\n",
    "In all three frameworks, equalities/inequalities are performed using the regular Python operators on column expressions."
   ]
  },
  {
   "cell_type": "markdown",
   "id": "ed8cc118",
   "metadata": {
    "slideshow": {
     "slide_type": "slide"
    }
   },
   "source": [
    "#### Check equality using `==`"
   ]
  },
  {
   "cell_type": "code",
   "execution_count": 3,
   "id": "4e0ef0b3",
   "metadata": {
    "slideshow": {
     "slide_type": "fragment"
    }
   },
   "outputs": [
    {
     "data": {
      "text/html": [
       "<div><style>\n",
       ".dataframe > thead > tr,\n",
       ".dataframe > tbody > tr {\n",
       "  text-align: right;\n",
       "  white-space: pre-wrap;\n",
       "}\n",
       "</style>\n",
       "<small>shape: (2, 11)</small><table border=\"1\" class=\"dataframe\"><thead><tr><th>ID</th><th>name</th><th>Gender</th><th>Eye color</th><th>Race</th><th>Hair color</th><th>Height</th><th>Publisher</th><th>Skin color</th><th>Alignment</th><th>Weight</th></tr><tr><td>i64</td><td>str</td><td>str</td><td>str</td><td>str</td><td>str</td><td>f64</td><td>str</td><td>str</td><td>str</td><td>f64</td></tr></thead><tbody><tr><td>1</td><td>&quot;Abe Sapien&quot;</td><td>&quot;Male&quot;</td><td>&quot;blue&quot;</td><td>&quot;Icthyo Sapien&quot;</td><td>&quot;No Hair&quot;</td><td>191.0</td><td>&quot;Dark Horse Comics&quot;</td><td>&quot;blue&quot;</td><td>&quot;good&quot;</td><td>65.0</td></tr><tr><td>2</td><td>&quot;Abin Sur&quot;</td><td>&quot;Male&quot;</td><td>&quot;blue&quot;</td><td>&quot;Ungaran&quot;</td><td>&quot;No Hair&quot;</td><td>185.0</td><td>&quot;DC Comics&quot;</td><td>&quot;red&quot;</td><td>&quot;good&quot;</td><td>90.0</td></tr></tbody></table></div>"
      ],
      "text/plain": [
       "shape: (2, 11)\n",
       "┌─────┬────────────┬────────┬───────────┬───┬───────────────────┬────────────┬───────────┬────────┐\n",
       "│ ID  ┆ name       ┆ Gender ┆ Eye color ┆ … ┆ Publisher         ┆ Skin color ┆ Alignment ┆ Weight │\n",
       "│ --- ┆ ---        ┆ ---    ┆ ---       ┆   ┆ ---               ┆ ---        ┆ ---       ┆ ---    │\n",
       "│ i64 ┆ str        ┆ str    ┆ str       ┆   ┆ str               ┆ str        ┆ str       ┆ f64    │\n",
       "╞═════╪════════════╪════════╪═══════════╪═══╪═══════════════════╪════════════╪═══════════╪════════╡\n",
       "│ 1   ┆ Abe Sapien ┆ Male   ┆ blue      ┆ … ┆ Dark Horse Comics ┆ blue       ┆ good      ┆ 65.0   │\n",
       "│ 2   ┆ Abin Sur   ┆ Male   ┆ blue      ┆ … ┆ DC Comics         ┆ red        ┆ good      ┆ 90.0   │\n",
       "└─────┴────────────┴────────┴───────────┴───┴───────────────────┴────────────┴───────────┴────────┘"
      ]
     },
     "execution_count": 3,
     "metadata": {},
     "output_type": "execute_result"
    }
   ],
   "source": [
    "(heroes\n",
    " .filter(pl.col('Eye color') == 'blue')\n",
    " .head(2))"
   ]
  },
  {
   "cell_type": "markdown",
   "id": "b68b366f",
   "metadata": {
    "slideshow": {
     "slide_type": "slide"
    }
   },
   "source": [
    "#### Check not equal using `!=`"
   ]
  },
  {
   "cell_type": "code",
   "execution_count": 4,
   "id": "b19f451c",
   "metadata": {
    "slideshow": {
     "slide_type": "fragment"
    }
   },
   "outputs": [
    {
     "data": {
      "text/html": [
       "<div><style>\n",
       ".dataframe > thead > tr,\n",
       ".dataframe > tbody > tr {\n",
       "  text-align: right;\n",
       "  white-space: pre-wrap;\n",
       "}\n",
       "</style>\n",
       "<small>shape: (2, 11)</small><table border=\"1\" class=\"dataframe\"><thead><tr><th>ID</th><th>name</th><th>Gender</th><th>Eye color</th><th>Race</th><th>Hair color</th><th>Height</th><th>Publisher</th><th>Skin color</th><th>Alignment</th><th>Weight</th></tr><tr><td>i64</td><td>str</td><td>str</td><td>str</td><td>str</td><td>str</td><td>f64</td><td>str</td><td>str</td><td>str</td><td>f64</td></tr></thead><tbody><tr><td>0</td><td>&quot;A-Bomb&quot;</td><td>&quot;Male&quot;</td><td>&quot;yellow&quot;</td><td>&quot;Human&quot;</td><td>&quot;No Hair&quot;</td><td>203.0</td><td>&quot;Marvel Comics&quot;</td><td>null</td><td>&quot;good&quot;</td><td>441.0</td></tr><tr><td>3</td><td>&quot;Abomination&quot;</td><td>&quot;Male&quot;</td><td>&quot;green&quot;</td><td>&quot;Human / Radiation&quot;</td><td>&quot;No Hair&quot;</td><td>203.0</td><td>&quot;Marvel Comics&quot;</td><td>null</td><td>&quot;bad&quot;</td><td>441.0</td></tr></tbody></table></div>"
      ],
      "text/plain": [
       "shape: (2, 11)\n",
       "┌─────┬─────────────┬────────┬───────────┬───┬───────────────┬────────────┬───────────┬────────┐\n",
       "│ ID  ┆ name        ┆ Gender ┆ Eye color ┆ … ┆ Publisher     ┆ Skin color ┆ Alignment ┆ Weight │\n",
       "│ --- ┆ ---         ┆ ---    ┆ ---       ┆   ┆ ---           ┆ ---        ┆ ---       ┆ ---    │\n",
       "│ i64 ┆ str         ┆ str    ┆ str       ┆   ┆ str           ┆ str        ┆ str       ┆ f64    │\n",
       "╞═════╪═════════════╪════════╪═══════════╪═══╪═══════════════╪════════════╪═══════════╪════════╡\n",
       "│ 0   ┆ A-Bomb      ┆ Male   ┆ yellow    ┆ … ┆ Marvel Comics ┆ null       ┆ good      ┆ 441.0  │\n",
       "│ 3   ┆ Abomination ┆ Male   ┆ green     ┆ … ┆ Marvel Comics ┆ null       ┆ bad       ┆ 441.0  │\n",
       "└─────┴─────────────┴────────┴───────────┴───┴───────────────┴────────────┴───────────┴────────┘"
      ]
     },
     "execution_count": 4,
     "metadata": {},
     "output_type": "execute_result"
    }
   ],
   "source": [
    "(heroes\n",
    " .filter(pl.col('Eye color') != 'blue')\n",
    " .head(2))"
   ]
  },
  {
   "cell_type": "markdown",
   "id": "570a46f1",
   "metadata": {
    "slideshow": {
     "slide_type": "slide"
    }
   },
   "source": [
    "#### Other inequalities"
   ]
  },
  {
   "cell_type": "code",
   "execution_count": 5,
   "id": "a32cf3db",
   "metadata": {
    "slideshow": {
     "slide_type": "fragment"
    }
   },
   "outputs": [
    {
     "data": {
      "text/html": [
       "<div><style>\n",
       ".dataframe > thead > tr,\n",
       ".dataframe > tbody > tr {\n",
       "  text-align: right;\n",
       "  white-space: pre-wrap;\n",
       "}\n",
       "</style>\n",
       "<small>shape: (2, 11)</small><table border=\"1\" class=\"dataframe\"><thead><tr><th>ID</th><th>name</th><th>Gender</th><th>Eye color</th><th>Race</th><th>Hair color</th><th>Height</th><th>Publisher</th><th>Skin color</th><th>Alignment</th><th>Weight</th></tr><tr><td>i64</td><td>str</td><td>str</td><td>str</td><td>str</td><td>str</td><td>f64</td><td>str</td><td>str</td><td>str</td><td>f64</td></tr></thead><tbody><tr><td>17</td><td>&quot;Alien&quot;</td><td>&quot;Male&quot;</td><td>null</td><td>&quot;Xenomorph XX121&quot;</td><td>&quot;No Hair&quot;</td><td>244.0</td><td>&quot;Dark Horse Comics&quot;</td><td>&quot;black&quot;</td><td>&quot;bad&quot;</td><td>169.0</td></tr><tr><td>19</td><td>&quot;Amazo&quot;</td><td>&quot;Male&quot;</td><td>&quot;red&quot;</td><td>&quot;Android&quot;</td><td>null</td><td>257.0</td><td>&quot;DC Comics&quot;</td><td>null</td><td>&quot;bad&quot;</td><td>173.0</td></tr></tbody></table></div>"
      ],
      "text/plain": [
       "shape: (2, 11)\n",
       "┌─────┬───────┬────────┬───────────┬───┬───────────────────┬────────────┬───────────┬────────┐\n",
       "│ ID  ┆ name  ┆ Gender ┆ Eye color ┆ … ┆ Publisher         ┆ Skin color ┆ Alignment ┆ Weight │\n",
       "│ --- ┆ ---   ┆ ---    ┆ ---       ┆   ┆ ---               ┆ ---        ┆ ---       ┆ ---    │\n",
       "│ i64 ┆ str   ┆ str    ┆ str       ┆   ┆ str               ┆ str        ┆ str       ┆ f64    │\n",
       "╞═════╪═══════╪════════╪═══════════╪═══╪═══════════════════╪════════════╪═══════════╪════════╡\n",
       "│ 17  ┆ Alien ┆ Male   ┆ null      ┆ … ┆ Dark Horse Comics ┆ black      ┆ bad       ┆ 169.0  │\n",
       "│ 19  ┆ Amazo ┆ Male   ┆ red       ┆ … ┆ DC Comics         ┆ null       ┆ bad       ┆ 173.0  │\n",
       "└─────┴───────┴────────┴───────────┴───┴───────────────────┴────────────┴───────────┴────────┘"
      ]
     },
     "execution_count": 5,
     "metadata": {},
     "output_type": "execute_result"
    }
   ],
   "source": [
    "(heroes\n",
    " .filter(pl.col('Height') > 200)\n",
    " .filter(pl.col('Weight') <= 440)\n",
    " .head(2))"
   ]
  },
  {
   "cell_type": "markdown",
   "id": "3c889f80",
   "metadata": {
    "slideshow": {
     "slide_type": "slide"
    }
   },
   "source": [
    "## Reminder - Referencing Constructed Column\n",
    "\n",
    "Recall that we can also reference newly constructed columns by using `pl.col('name')`."
   ]
  },
  {
   "cell_type": "code",
   "execution_count": 6,
   "id": "3933088e",
   "metadata": {
    "slideshow": {
     "slide_type": "fragment"
    }
   },
   "outputs": [
    {
     "data": {
      "text/html": [
       "<div><style>\n",
       ".dataframe > thead > tr,\n",
       ".dataframe > tbody > tr {\n",
       "  text-align: right;\n",
       "  white-space: pre-wrap;\n",
       "}\n",
       "</style>\n",
       "<small>shape: (2, 12)</small><table border=\"1\" class=\"dataframe\"><thead><tr><th>ID</th><th>name</th><th>Gender</th><th>Eye color</th><th>Race</th><th>Hair color</th><th>Height</th><th>Publisher</th><th>Skin color</th><th>Alignment</th><th>Weight</th><th>Weight_kg</th></tr><tr><td>i64</td><td>str</td><td>str</td><td>str</td><td>str</td><td>str</td><td>f64</td><td>str</td><td>str</td><td>str</td><td>f64</td><td>f64</td></tr></thead><tbody><tr><td>1</td><td>&quot;Abe Sapien&quot;</td><td>&quot;Male&quot;</td><td>&quot;blue&quot;</td><td>&quot;Icthyo Sapien&quot;</td><td>&quot;No Hair&quot;</td><td>191.0</td><td>&quot;Dark Horse Comics&quot;</td><td>&quot;blue&quot;</td><td>&quot;good&quot;</td><td>65.0</td><td>29.483807</td></tr><tr><td>2</td><td>&quot;Abin Sur&quot;</td><td>&quot;Male&quot;</td><td>&quot;blue&quot;</td><td>&quot;Ungaran&quot;</td><td>&quot;No Hair&quot;</td><td>185.0</td><td>&quot;DC Comics&quot;</td><td>&quot;red&quot;</td><td>&quot;good&quot;</td><td>90.0</td><td>40.823732</td></tr></tbody></table></div>"
      ],
      "text/plain": [
       "shape: (2, 12)\n",
       "┌─────┬────────────┬────────┬───────────┬───┬────────────┬───────────┬────────┬───────────┐\n",
       "│ ID  ┆ name       ┆ Gender ┆ Eye color ┆ … ┆ Skin color ┆ Alignment ┆ Weight ┆ Weight_kg │\n",
       "│ --- ┆ ---        ┆ ---    ┆ ---       ┆   ┆ ---        ┆ ---       ┆ ---    ┆ ---       │\n",
       "│ i64 ┆ str        ┆ str    ┆ str       ┆   ┆ str        ┆ str       ┆ f64    ┆ f64       │\n",
       "╞═════╪════════════╪════════╪═══════════╪═══╪════════════╪═══════════╪════════╪═══════════╡\n",
       "│ 1   ┆ Abe Sapien ┆ Male   ┆ blue      ┆ … ┆ blue       ┆ good      ┆ 65.0   ┆ 29.483807 │\n",
       "│ 2   ┆ Abin Sur   ┆ Male   ┆ blue      ┆ … ┆ red        ┆ good      ┆ 90.0   ┆ 40.823732 │\n",
       "└─────┴────────────┴────────┴───────────┴───┴────────────┴───────────┴────────┴───────────┘"
      ]
     },
     "execution_count": 6,
     "metadata": {},
     "output_type": "execute_result"
    }
   ],
   "source": [
    "(heroes\n",
    " .with_columns(Weight_kg = pl.col('Weight')/2.2046)\n",
    " .filter(pl.col('Weight_kg') <= 200)\n",
    " .head(2))"
   ]
  },
  {
   "cell_type": "markdown",
   "id": "c914fcda",
   "metadata": {
    "slideshow": {
     "slide_type": "slide"
    }
   },
   "source": [
    "## <font color=\"red\"> Exercise 6.4.1 - The Super Hero Dating Game - Part 1</font>\n",
    "\n",
    "Yesterday, you notice a singles add in the local paper that reads\n",
    "\n",
    "> SWF looking for BESHM (blue-eyed super hero).  Must be tall (70+ inches).  Only interested in bad boys! Must list height (in inches) in reply!\n",
    "\n",
    "Write a query in each framework to help find candidates for this personal add."
   ]
  },
  {
   "cell_type": "code",
   "execution_count": 7,
   "id": "04d98bd8",
   "metadata": {
    "slideshow": {
     "slide_type": "fragment"
    }
   },
   "outputs": [],
   "source": [
    "# Your solution here"
   ]
  },
  {
   "cell_type": "markdown",
   "id": "8b325552",
   "metadata": {
    "slideshow": {
     "slide_type": "slide"
    }
   },
   "source": [
    "## Common Filter Operations -  LIKE and ILIKE\n",
    "\n",
    "`LIKE` and `ILIKE` are both SQL idioms that \n",
    "\n",
    "* is used to match string patterns\n",
    "* Uses the `%` wildcard\n",
    "    * like `*` in a regular expression\n",
    "* `LIKE` is case-sensitive\n",
    "* `ILIKE` is case-insensitive\n",
    "    * Actual details are platform dependent"
   ]
  },
  {
   "cell_type": "markdown",
   "id": "1f06615f",
   "metadata": {
    "slideshow": {
     "slide_type": "slide"
    }
   },
   "source": [
    "### `polars` lacks `LIKE`/`ILIKE`\n",
    "\n",
    "Instead we use\n",
    "\n",
    "* `str.starts_with`\n",
    "* `str.ends_with`\n",
    "* `str.contains`"
   ]
  },
  {
   "cell_type": "markdown",
   "id": "66ffe484",
   "metadata": {
    "slideshow": {
     "slide_type": "slide"
    }
   },
   "source": [
    "#### `LIKE 'Super%'`"
   ]
  },
  {
   "cell_type": "code",
   "execution_count": 8,
   "id": "bdb165e2",
   "metadata": {
    "slideshow": {
     "slide_type": "fragment"
    }
   },
   "outputs": [
    {
     "data": {
      "text/html": [
       "<div><style>\n",
       ".dataframe > thead > tr,\n",
       ".dataframe > tbody > tr {\n",
       "  text-align: right;\n",
       "  white-space: pre-wrap;\n",
       "}\n",
       "</style>\n",
       "<small>shape: (2, 11)</small><table border=\"1\" class=\"dataframe\"><thead><tr><th>ID</th><th>name</th><th>Gender</th><th>Eye color</th><th>Race</th><th>Hair color</th><th>Height</th><th>Publisher</th><th>Skin color</th><th>Alignment</th><th>Weight</th></tr><tr><td>i64</td><td>str</td><td>str</td><td>str</td><td>str</td><td>str</td><td>f64</td><td>str</td><td>str</td><td>str</td><td>f64</td></tr></thead><tbody><tr><td>643</td><td>&quot;Superboy&quot;</td><td>&quot;Male&quot;</td><td>&quot;blue&quot;</td><td>null</td><td>&quot;Black&quot;</td><td>170.0</td><td>&quot;DC Comics&quot;</td><td>null</td><td>&quot;good&quot;</td><td>68.0</td></tr><tr><td>644</td><td>&quot;Superboy-Prime&quot;</td><td>&quot;Male&quot;</td><td>&quot;blue&quot;</td><td>&quot;Kryptonian&quot;</td><td>&quot;Black / Blue&quot;</td><td>180.0</td><td>&quot;DC Comics&quot;</td><td>null</td><td>&quot;bad&quot;</td><td>77.0</td></tr></tbody></table></div>"
      ],
      "text/plain": [
       "shape: (2, 11)\n",
       "┌─────┬────────────────┬────────┬───────────┬───┬───────────┬────────────┬───────────┬────────┐\n",
       "│ ID  ┆ name           ┆ Gender ┆ Eye color ┆ … ┆ Publisher ┆ Skin color ┆ Alignment ┆ Weight │\n",
       "│ --- ┆ ---            ┆ ---    ┆ ---       ┆   ┆ ---       ┆ ---        ┆ ---       ┆ ---    │\n",
       "│ i64 ┆ str            ┆ str    ┆ str       ┆   ┆ str       ┆ str        ┆ str       ┆ f64    │\n",
       "╞═════╪════════════════╪════════╪═══════════╪═══╪═══════════╪════════════╪═══════════╪════════╡\n",
       "│ 643 ┆ Superboy       ┆ Male   ┆ blue      ┆ … ┆ DC Comics ┆ null       ┆ good      ┆ 68.0   │\n",
       "│ 644 ┆ Superboy-Prime ┆ Male   ┆ blue      ┆ … ┆ DC Comics ┆ null       ┆ bad       ┆ 77.0   │\n",
       "└─────┴────────────────┴────────┴───────────┴───┴───────────┴────────────┴───────────┴────────┘"
      ]
     },
     "execution_count": 8,
     "metadata": {},
     "output_type": "execute_result"
    }
   ],
   "source": [
    "(heroes\n",
    " .filter(pl.col('name').str.starts_with('Super'))\n",
    " .head(2))"
   ]
  },
  {
   "cell_type": "markdown",
   "id": "e588c675",
   "metadata": {
    "slideshow": {
     "slide_type": "slide"
    }
   },
   "source": [
    "#### `LIKE '%boy'`"
   ]
  },
  {
   "cell_type": "code",
   "execution_count": 9,
   "id": "f18de23d",
   "metadata": {
    "slideshow": {
     "slide_type": "fragment"
    }
   },
   "outputs": [
    {
     "data": {
      "text/html": [
       "<div><style>\n",
       ".dataframe > thead > tr,\n",
       ".dataframe > tbody > tr {\n",
       "  text-align: right;\n",
       "  white-space: pre-wrap;\n",
       "}\n",
       "</style>\n",
       "<small>shape: (2, 11)</small><table border=\"1\" class=\"dataframe\"><thead><tr><th>ID</th><th>name</th><th>Gender</th><th>Eye color</th><th>Race</th><th>Hair color</th><th>Height</th><th>Publisher</th><th>Skin color</th><th>Alignment</th><th>Weight</th></tr><tr><td>i64</td><td>str</td><td>str</td><td>str</td><td>str</td><td>str</td><td>f64</td><td>str</td><td>str</td><td>str</td><td>f64</td></tr></thead><tbody><tr><td>142</td><td>&quot;Bumbleboy&quot;</td><td>&quot;Male&quot;</td><td>null</td><td>null</td><td>null</td><td>null</td><td>&quot;Marvel Comics&quot;</td><td>null</td><td>&quot;good&quot;</td><td>null</td></tr><tr><td>321</td><td>&quot;Hellboy&quot;</td><td>&quot;Male&quot;</td><td>&quot;gold&quot;</td><td>&quot;Demon&quot;</td><td>&quot;Black&quot;</td><td>259.0</td><td>&quot;Dark Horse Comics&quot;</td><td>null</td><td>&quot;good&quot;</td><td>158.0</td></tr></tbody></table></div>"
      ],
      "text/plain": [
       "shape: (2, 11)\n",
       "┌─────┬───────────┬────────┬───────────┬───┬───────────────────┬────────────┬───────────┬────────┐\n",
       "│ ID  ┆ name      ┆ Gender ┆ Eye color ┆ … ┆ Publisher         ┆ Skin color ┆ Alignment ┆ Weight │\n",
       "│ --- ┆ ---       ┆ ---    ┆ ---       ┆   ┆ ---               ┆ ---        ┆ ---       ┆ ---    │\n",
       "│ i64 ┆ str       ┆ str    ┆ str       ┆   ┆ str               ┆ str        ┆ str       ┆ f64    │\n",
       "╞═════╪═══════════╪════════╪═══════════╪═══╪═══════════════════╪════════════╪═══════════╪════════╡\n",
       "│ 142 ┆ Bumbleboy ┆ Male   ┆ null      ┆ … ┆ Marvel Comics     ┆ null       ┆ good      ┆ null   │\n",
       "│ 321 ┆ Hellboy   ┆ Male   ┆ gold      ┆ … ┆ Dark Horse Comics ┆ null       ┆ good      ┆ 158.0  │\n",
       "└─────┴───────────┴────────┴───────────┴───┴───────────────────┴────────────┴───────────┴────────┘"
      ]
     },
     "execution_count": 9,
     "metadata": {},
     "output_type": "execute_result"
    }
   ],
   "source": [
    "(heroes\n",
    " .filter(pl.col('name').str.ends_with('boy'))\n",
    " .head(2))"
   ]
  },
  {
   "cell_type": "markdown",
   "id": "75fcd7e4",
   "metadata": {
    "slideshow": {
     "slide_type": "slide"
    }
   },
   "source": [
    "#### `LIKE '%boy%'`"
   ]
  },
  {
   "cell_type": "code",
   "execution_count": 10,
   "id": "2fcebeff",
   "metadata": {
    "slideshow": {
     "slide_type": "fragment"
    }
   },
   "outputs": [
    {
     "data": {
      "text/html": [
       "<div><style>\n",
       ".dataframe > thead > tr,\n",
       ".dataframe > tbody > tr {\n",
       "  text-align: right;\n",
       "  white-space: pre-wrap;\n",
       "}\n",
       "</style>\n",
       "<small>shape: (2, 11)</small><table border=\"1\" class=\"dataframe\"><thead><tr><th>ID</th><th>name</th><th>Gender</th><th>Eye color</th><th>Race</th><th>Hair color</th><th>Height</th><th>Publisher</th><th>Skin color</th><th>Alignment</th><th>Weight</th></tr><tr><td>i64</td><td>str</td><td>str</td><td>str</td><td>str</td><td>str</td><td>f64</td><td>str</td><td>str</td><td>str</td><td>f64</td></tr></thead><tbody><tr><td>142</td><td>&quot;Bumbleboy&quot;</td><td>&quot;Male&quot;</td><td>null</td><td>null</td><td>null</td><td>null</td><td>&quot;Marvel Comics&quot;</td><td>null</td><td>&quot;good&quot;</td><td>null</td></tr><tr><td>321</td><td>&quot;Hellboy&quot;</td><td>&quot;Male&quot;</td><td>&quot;gold&quot;</td><td>&quot;Demon&quot;</td><td>&quot;Black&quot;</td><td>259.0</td><td>&quot;Dark Horse Comics&quot;</td><td>null</td><td>&quot;good&quot;</td><td>158.0</td></tr></tbody></table></div>"
      ],
      "text/plain": [
       "shape: (2, 11)\n",
       "┌─────┬───────────┬────────┬───────────┬───┬───────────────────┬────────────┬───────────┬────────┐\n",
       "│ ID  ┆ name      ┆ Gender ┆ Eye color ┆ … ┆ Publisher         ┆ Skin color ┆ Alignment ┆ Weight │\n",
       "│ --- ┆ ---       ┆ ---    ┆ ---       ┆   ┆ ---               ┆ ---        ┆ ---       ┆ ---    │\n",
       "│ i64 ┆ str       ┆ str    ┆ str       ┆   ┆ str               ┆ str        ┆ str       ┆ f64    │\n",
       "╞═════╪═══════════╪════════╪═══════════╪═══╪═══════════════════╪════════════╪═══════════╪════════╡\n",
       "│ 142 ┆ Bumbleboy ┆ Male   ┆ null      ┆ … ┆ Marvel Comics     ┆ null       ┆ good      ┆ null   │\n",
       "│ 321 ┆ Hellboy   ┆ Male   ┆ gold      ┆ … ┆ Dark Horse Comics ┆ null       ┆ good      ┆ 158.0  │\n",
       "└─────┴───────────┴────────┴───────────┴───┴───────────────────┴────────────┴───────────┴────────┘"
      ]
     },
     "execution_count": 10,
     "metadata": {},
     "output_type": "execute_result"
    }
   ],
   "source": [
    "(heroes\n",
    " .filter(pl.col('name').str.contains('boy'))\n",
    " .head(2))"
   ]
  },
  {
   "cell_type": "markdown",
   "id": "4a37843e",
   "metadata": {
    "slideshow": {
     "slide_type": "slide"
    }
   },
   "source": [
    "#### `ILIKE` using `str.to_lowercase()`"
   ]
  },
  {
   "cell_type": "code",
   "execution_count": 11,
   "id": "f33ab806",
   "metadata": {
    "slideshow": {
     "slide_type": "fragment"
    }
   },
   "outputs": [
    {
     "data": {
      "text/html": [
       "<div><style>\n",
       ".dataframe > thead > tr,\n",
       ".dataframe > tbody > tr {\n",
       "  text-align: right;\n",
       "  white-space: pre-wrap;\n",
       "}\n",
       "</style>\n",
       "<small>shape: (3, 11)</small><table border=\"1\" class=\"dataframe\"><thead><tr><th>ID</th><th>name</th><th>Gender</th><th>Eye color</th><th>Race</th><th>Hair color</th><th>Height</th><th>Publisher</th><th>Skin color</th><th>Alignment</th><th>Weight</th></tr><tr><td>i64</td><td>str</td><td>str</td><td>str</td><td>str</td><td>str</td><td>f64</td><td>str</td><td>str</td><td>str</td><td>f64</td></tr></thead><tbody><tr><td>46</td><td>&quot;Astro Boy&quot;</td><td>&quot;Male&quot;</td><td>&quot;brown&quot;</td><td>null</td><td>&quot;Black&quot;</td><td>null</td><td>null</td><td>null</td><td>&quot;good&quot;</td><td>null</td></tr><tr><td>75</td><td>&quot;Beast Boy&quot;</td><td>&quot;Male&quot;</td><td>&quot;green&quot;</td><td>&quot;Human&quot;</td><td>&quot;Green&quot;</td><td>173.0</td><td>&quot;DC Comics&quot;</td><td>&quot;green&quot;</td><td>&quot;good&quot;</td><td>68.0</td></tr><tr><td>142</td><td>&quot;Bumbleboy&quot;</td><td>&quot;Male&quot;</td><td>null</td><td>null</td><td>null</td><td>null</td><td>&quot;Marvel Comics&quot;</td><td>null</td><td>&quot;good&quot;</td><td>null</td></tr></tbody></table></div>"
      ],
      "text/plain": [
       "shape: (3, 11)\n",
       "┌─────┬───────────┬────────┬───────────┬───┬───────────────┬────────────┬───────────┬────────┐\n",
       "│ ID  ┆ name      ┆ Gender ┆ Eye color ┆ … ┆ Publisher     ┆ Skin color ┆ Alignment ┆ Weight │\n",
       "│ --- ┆ ---       ┆ ---    ┆ ---       ┆   ┆ ---           ┆ ---        ┆ ---       ┆ ---    │\n",
       "│ i64 ┆ str       ┆ str    ┆ str       ┆   ┆ str           ┆ str        ┆ str       ┆ f64    │\n",
       "╞═════╪═══════════╪════════╪═══════════╪═══╪═══════════════╪════════════╪═══════════╪════════╡\n",
       "│ 46  ┆ Astro Boy ┆ Male   ┆ brown     ┆ … ┆ null          ┆ null       ┆ good      ┆ null   │\n",
       "│ 75  ┆ Beast Boy ┆ Male   ┆ green     ┆ … ┆ DC Comics     ┆ green      ┆ good      ┆ 68.0   │\n",
       "│ 142 ┆ Bumbleboy ┆ Male   ┆ null      ┆ … ┆ Marvel Comics ┆ null       ┆ good      ┆ null   │\n",
       "└─────┴───────────┴────────┴───────────┴───┴───────────────┴────────────┴───────────┴────────┘"
      ]
     },
     "execution_count": 11,
     "metadata": {},
     "output_type": "execute_result"
    }
   ],
   "source": [
    "(heroes\n",
    " .filter(pl.col('name').str.to_lowercase().str.contains('boy'))\n",
    " .head(3))"
   ]
  },
  {
   "cell_type": "markdown",
   "id": "3dcd6de5",
   "metadata": {
    "slideshow": {
     "slide_type": "slide"
    }
   },
   "source": [
    "## Cry 'Havoc!,' and let slip the dogs of RegEx\n",
    "\n",
    "Many `polars` string methods, like `contains` accept regular expressions."
   ]
  },
  {
   "cell_type": "code",
   "execution_count": 13,
   "id": "a9930c34",
   "metadata": {
    "slideshow": {
     "slide_type": "fragment"
    }
   },
   "outputs": [
    {
     "data": {
      "text/html": [
       "<div><style>\n",
       ".dataframe > thead > tr,\n",
       ".dataframe > tbody > tr {\n",
       "  text-align: right;\n",
       "  white-space: pre-wrap;\n",
       "}\n",
       "</style>\n",
       "<small>shape: (5, 11)</small><table border=\"1\" class=\"dataframe\"><thead><tr><th>ID</th><th>name</th><th>Gender</th><th>Eye color</th><th>Race</th><th>Hair color</th><th>Height</th><th>Publisher</th><th>Skin color</th><th>Alignment</th><th>Weight</th></tr><tr><td>i64</td><td>str</td><td>str</td><td>str</td><td>str</td><td>str</td><td>f64</td><td>str</td><td>str</td><td>str</td><td>f64</td></tr></thead><tbody><tr><td>75</td><td>&quot;Beast Boy&quot;</td><td>&quot;Male&quot;</td><td>&quot;green&quot;</td><td>&quot;Human&quot;</td><td>&quot;Green&quot;</td><td>173.0</td><td>&quot;DC Comics&quot;</td><td>&quot;green&quot;</td><td>&quot;good&quot;</td><td>68.0</td></tr><tr><td>142</td><td>&quot;Bumbleboy&quot;</td><td>&quot;Male&quot;</td><td>null</td><td>null</td><td>null</td><td>null</td><td>&quot;Marvel Comics&quot;</td><td>null</td><td>&quot;good&quot;</td><td>null</td></tr><tr><td>183</td><td>&quot;Colossal Boy&quot;</td><td>&quot;Male&quot;</td><td>null</td><td>null</td><td>null</td><td>null</td><td>&quot;DC Comics&quot;</td><td>null</td><td>&quot;good&quot;</td><td>null</td></tr><tr><td>643</td><td>&quot;Superboy&quot;</td><td>&quot;Male&quot;</td><td>&quot;blue&quot;</td><td>null</td><td>&quot;Black&quot;</td><td>170.0</td><td>&quot;DC Comics&quot;</td><td>null</td><td>&quot;good&quot;</td><td>68.0</td></tr><tr><td>644</td><td>&quot;Superboy-Prime&quot;</td><td>&quot;Male&quot;</td><td>&quot;blue&quot;</td><td>&quot;Kryptonian&quot;</td><td>&quot;Black / Blue&quot;</td><td>180.0</td><td>&quot;DC Comics&quot;</td><td>null</td><td>&quot;bad&quot;</td><td>77.0</td></tr></tbody></table></div>"
      ],
      "text/plain": [
       "shape: (5, 11)\n",
       "┌─────┬────────────────┬────────┬───────────┬───┬───────────────┬────────────┬───────────┬────────┐\n",
       "│ ID  ┆ name           ┆ Gender ┆ Eye color ┆ … ┆ Publisher     ┆ Skin color ┆ Alignment ┆ Weight │\n",
       "│ --- ┆ ---            ┆ ---    ┆ ---       ┆   ┆ ---           ┆ ---        ┆ ---       ┆ ---    │\n",
       "│ i64 ┆ str            ┆ str    ┆ str       ┆   ┆ str           ┆ str        ┆ str       ┆ f64    │\n",
       "╞═════╪════════════════╪════════╪═══════════╪═══╪═══════════════╪════════════╪═══════════╪════════╡\n",
       "│ 75  ┆ Beast Boy      ┆ Male   ┆ green     ┆ … ┆ DC Comics     ┆ green      ┆ good      ┆ 68.0   │\n",
       "│ 142 ┆ Bumbleboy      ┆ Male   ┆ null      ┆ … ┆ Marvel Comics ┆ null       ┆ good      ┆ null   │\n",
       "│ 183 ┆ Colossal Boy   ┆ Male   ┆ null      ┆ … ┆ DC Comics     ┆ null       ┆ good      ┆ null   │\n",
       "│ 643 ┆ Superboy       ┆ Male   ┆ blue      ┆ … ┆ DC Comics     ┆ null       ┆ good      ┆ 68.0   │\n",
       "│ 644 ┆ Superboy-Prime ┆ Male   ┆ blue      ┆ … ┆ DC Comics     ┆ null       ┆ bad       ┆ 77.0   │\n",
       "└─────┴────────────────┴────────┴───────────┴───┴───────────────┴────────────┴───────────┴────────┘"
      ]
     },
     "execution_count": 13,
     "metadata": {},
     "output_type": "execute_result"
    }
   ],
   "source": [
    "(heroes\n",
    " .filter(pl.col('Publisher').str.contains('DC|Marvel'))\n",
    " .filter(pl.col('name').str.contains(r'\\s[Bb]oy|\\wboy'))\n",
    " .head()\n",
    ")"
   ]
  },
  {
   "cell_type": "markdown",
   "id": "5f209e15",
   "metadata": {
    "slideshow": {
     "slide_type": "slide"
    }
   },
   "source": [
    "### Getting help on `polar` string methods.\n",
    "\n",
    "Currently, the jupyter `?` helper doesn't work with `polars` string methods, but you *can* get help using the Python `help` function."
   ]
  },
  {
   "cell_type": "code",
   "execution_count": 21,
   "id": "2cf7f4bf-112c-4616-b8e3-65481625aab8",
   "metadata": {},
   "outputs": [
    {
     "data": {
      "text/plain": [
       "['__class__',\n",
       " '__delattr__',\n",
       " '__dict__',\n",
       " '__dir__',\n",
       " '__doc__',\n",
       " '__eq__',\n",
       " '__format__',\n",
       " '__ge__',\n",
       " '__getattribute__',\n",
       " '__getstate__',\n",
       " '__gt__',\n",
       " '__hash__',\n",
       " '__init__',\n",
       " '__init_subclass__',\n",
       " '__le__',\n",
       " '__lt__',\n",
       " '__module__',\n",
       " '__ne__',\n",
       " '__new__',\n",
       " '__reduce__',\n",
       " '__reduce_ex__',\n",
       " '__repr__',\n",
       " '__setattr__',\n",
       " '__sizeof__',\n",
       " '__str__',\n",
       " '__subclasshook__',\n",
       " '__weakref__',\n",
       " '_accessor',\n",
       " '_pyexpr',\n",
       " 'concat',\n",
       " 'contains',\n",
       " 'contains_any',\n",
       " 'count_matches',\n",
       " 'decode',\n",
       " 'encode',\n",
       " 'ends_with',\n",
       " 'explode',\n",
       " 'extract',\n",
       " 'extract_all',\n",
       " 'extract_groups',\n",
       " 'extract_many',\n",
       " 'find',\n",
       " 'head',\n",
       " 'join',\n",
       " 'json_decode',\n",
       " 'json_path_match',\n",
       " 'len_bytes',\n",
       " 'len_chars',\n",
       " 'pad_end',\n",
       " 'pad_start',\n",
       " 'replace',\n",
       " 'replace_all',\n",
       " 'replace_many',\n",
       " 'reverse',\n",
       " 'slice',\n",
       " 'split',\n",
       " 'split_exact',\n",
       " 'splitn',\n",
       " 'starts_with',\n",
       " 'strip_chars',\n",
       " 'strip_chars_end',\n",
       " 'strip_chars_start',\n",
       " 'strip_prefix',\n",
       " 'strip_suffix',\n",
       " 'strptime',\n",
       " 'tail',\n",
       " 'to_date',\n",
       " 'to_datetime',\n",
       " 'to_decimal',\n",
       " 'to_integer',\n",
       " 'to_lowercase',\n",
       " 'to_time',\n",
       " 'to_titlecase',\n",
       " 'to_uppercase',\n",
       " 'zfill']"
      ]
     },
     "execution_count": 21,
     "metadata": {},
     "output_type": "execute_result"
    }
   ],
   "source": [
    "dir(pl.col('name').str)"
   ]
  },
  {
   "cell_type": "code",
   "execution_count": 22,
   "id": "e58c00b0",
   "metadata": {
    "slideshow": {
     "slide_type": "fragment"
    }
   },
   "outputs": [
    {
     "name": "stdout",
     "output_type": "stream",
     "text": [
      "Help on method contains in module polars.expr.string:\n",
      "\n",
      "contains(pattern: 'str | Expr', *, literal: 'bool' = False, strict: 'bool' = True) -> 'Expr' method of polars.expr.string.ExprStringNameSpace instance\n",
      "    Check if string contains a substring that matches a pattern.\n",
      "\n",
      "    Parameters\n",
      "    ----------\n",
      "    pattern\n",
      "        A valid regular expression pattern, compatible with the `regex crate\n",
      "        <https://docs.rs/regex/latest/regex/>`_.\n",
      "    literal\n",
      "        Treat `pattern` as a literal string, not as a regular expression.\n",
      "    strict\n",
      "        Raise an error if the underlying pattern is not a valid regex,\n",
      "        otherwise mask out with a null value.\n",
      "\n",
      "    Notes\n",
      "    -----\n",
      "    To modify regular expression behaviour (such as case-sensitivity) with\n",
      "    flags, use the inline `(?iLmsuxU)` syntax. For example:\n",
      "\n",
      "    >>> pl.DataFrame({\"s\": [\"AAA\", \"aAa\", \"aaa\"]}).with_columns(\n",
      "    ...     default_match=pl.col(\"s\").str.contains(\"AA\"),\n",
      "    ...     insensitive_match=pl.col(\"s\").str.contains(\"(?i)AA\"),\n",
      "    ... )\n",
      "    shape: (3, 3)\n",
      "    ┌─────┬───────────────┬───────────────────┐\n",
      "    │ s   ┆ default_match ┆ insensitive_match │\n",
      "    │ --- ┆ ---           ┆ ---               │\n",
      "    │ str ┆ bool          ┆ bool              │\n",
      "    ╞═════╪═══════════════╪═══════════════════╡\n",
      "    │ AAA ┆ true          ┆ true              │\n",
      "    │ aAa ┆ false         ┆ true              │\n",
      "    │ aaa ┆ false         ┆ true              │\n",
      "    └─────┴───────────────┴───────────────────┘\n",
      "\n",
      "    See the regex crate's section on `grouping and flags\n",
      "    <https://docs.rs/regex/latest/regex/#grouping-and-flags>`_ for\n",
      "    additional information about the use of inline expression modifiers.\n",
      "\n",
      "    See Also\n",
      "    --------\n",
      "    starts_with : Check if string values start with a substring.\n",
      "    ends_with : Check if string values end with a substring.\n",
      "    find: Return the index of the first substring matching a pattern.\n",
      "\n",
      "    Examples\n",
      "    --------\n",
      "    >>> df = pl.DataFrame({\"txt\": [\"Crab\", \"cat and dog\", \"rab$bit\", None]})\n",
      "    >>> df.select(\n",
      "    ...     pl.col(\"txt\"),\n",
      "    ...     pl.col(\"txt\").str.contains(\"cat|bit\").alias(\"regex\"),\n",
      "    ...     pl.col(\"txt\").str.contains(\"rab$\", literal=True).alias(\"literal\"),\n",
      "    ... )\n",
      "    shape: (4, 3)\n",
      "    ┌─────────────┬───────┬─────────┐\n",
      "    │ txt         ┆ regex ┆ literal │\n",
      "    │ ---         ┆ ---   ┆ ---     │\n",
      "    │ str         ┆ bool  ┆ bool    │\n",
      "    ╞═════════════╪═══════╪═════════╡\n",
      "    │ Crab        ┆ false ┆ false   │\n",
      "    │ cat and dog ┆ true  ┆ false   │\n",
      "    │ rab$bit     ┆ true  ┆ true    │\n",
      "    │ null        ┆ null  ┆ null    │\n",
      "    └─────────────┴───────┴─────────┘\n",
      "\n"
     ]
    }
   ],
   "source": [
    "# Get help on one of the methods.\n",
    "help(pl.col('name').str.contains)"
   ]
  },
  {
   "cell_type": "code",
   "execution_count": 23,
   "id": "c5baf2d4-63dc-4689-8b58-c655b9e39af1",
   "metadata": {},
   "outputs": [
    {
     "name": "stdout",
     "output_type": "stream",
     "text": [
      "Object `pl.col('name').str.contains` not found.\n"
     ]
    }
   ],
   "source": [
    "# BUT jupyter shortcuts don't work :(\n",
    "?pl.col('name').str.contains"
   ]
  },
  {
   "cell_type": "markdown",
   "id": "ee89917a",
   "metadata": {
    "slideshow": {
     "slide_type": "slide"
    }
   },
   "source": [
    "## Common Filter Operations -  `IN` and `NOT IN`\n",
    "\n",
    "`SQL` has `IN` and `NOT IN`, which are used to check if a value is in/not in a collection."
   ]
  },
  {
   "cell_type": "markdown",
   "id": "42450859",
   "metadata": {
    "slideshow": {
     "slide_type": "slide"
    }
   },
   "source": [
    "### Using  `IN`/`NOT IN` in `polars`\n",
    "\n",
    "* `polars` uses the column `pl.col('name').is_in` method\n",
    "* Prepend column expression with `~` for `NOT IN`"
   ]
  },
  {
   "cell_type": "markdown",
   "id": "22520c87",
   "metadata": {
    "slideshow": {
     "slide_type": "slide"
    }
   },
   "source": [
    "#### `IN` "
   ]
  },
  {
   "cell_type": "code",
   "execution_count": 24,
   "id": "bb599ac2",
   "metadata": {
    "slideshow": {
     "slide_type": "fragment"
    }
   },
   "outputs": [
    {
     "data": {
      "text/html": [
       "<div><style>\n",
       ".dataframe > thead > tr,\n",
       ".dataframe > tbody > tr {\n",
       "  text-align: right;\n",
       "  white-space: pre-wrap;\n",
       "}\n",
       "</style>\n",
       "<small>shape: (2, 11)</small><table border=\"1\" class=\"dataframe\"><thead><tr><th>ID</th><th>name</th><th>Gender</th><th>Eye color</th><th>Race</th><th>Hair color</th><th>Height</th><th>Publisher</th><th>Skin color</th><th>Alignment</th><th>Weight</th></tr><tr><td>i64</td><td>str</td><td>str</td><td>str</td><td>str</td><td>str</td><td>f64</td><td>str</td><td>str</td><td>str</td><td>f64</td></tr></thead><tbody><tr><td>0</td><td>&quot;A-Bomb&quot;</td><td>&quot;Male&quot;</td><td>&quot;yellow&quot;</td><td>&quot;Human&quot;</td><td>&quot;No Hair&quot;</td><td>203.0</td><td>&quot;Marvel Comics&quot;</td><td>null</td><td>&quot;good&quot;</td><td>441.0</td></tr><tr><td>2</td><td>&quot;Abin Sur&quot;</td><td>&quot;Male&quot;</td><td>&quot;blue&quot;</td><td>&quot;Ungaran&quot;</td><td>&quot;No Hair&quot;</td><td>185.0</td><td>&quot;DC Comics&quot;</td><td>&quot;red&quot;</td><td>&quot;good&quot;</td><td>90.0</td></tr></tbody></table></div>"
      ],
      "text/plain": [
       "shape: (2, 11)\n",
       "┌─────┬──────────┬────────┬───────────┬───┬───────────────┬────────────┬───────────┬────────┐\n",
       "│ ID  ┆ name     ┆ Gender ┆ Eye color ┆ … ┆ Publisher     ┆ Skin color ┆ Alignment ┆ Weight │\n",
       "│ --- ┆ ---      ┆ ---    ┆ ---       ┆   ┆ ---           ┆ ---        ┆ ---       ┆ ---    │\n",
       "│ i64 ┆ str      ┆ str    ┆ str       ┆   ┆ str           ┆ str        ┆ str       ┆ f64    │\n",
       "╞═════╪══════════╪════════╪═══════════╪═══╪═══════════════╪════════════╪═══════════╪════════╡\n",
       "│ 0   ┆ A-Bomb   ┆ Male   ┆ yellow    ┆ … ┆ Marvel Comics ┆ null       ┆ good      ┆ 441.0  │\n",
       "│ 2   ┆ Abin Sur ┆ Male   ┆ blue      ┆ … ┆ DC Comics     ┆ red        ┆ good      ┆ 90.0   │\n",
       "└─────┴──────────┴────────┴───────────┴───┴───────────────┴────────────┴───────────┴────────┘"
      ]
     },
     "execution_count": 24,
     "metadata": {},
     "output_type": "execute_result"
    }
   ],
   "source": [
    "(heroes\n",
    " .filter(pl.col('Publisher').is_in(['DC Comics', 'Marvel Comics']))\n",
    " .head(2))"
   ]
  },
  {
   "cell_type": "markdown",
   "id": "e22126b3",
   "metadata": {
    "slideshow": {
     "slide_type": "slide"
    }
   },
   "source": [
    "#### `NOT IN` "
   ]
  },
  {
   "cell_type": "code",
   "execution_count": 25,
   "id": "8ca101d3",
   "metadata": {
    "slideshow": {
     "slide_type": "fragment"
    }
   },
   "outputs": [
    {
     "data": {
      "text/html": [
       "<div><style>\n",
       ".dataframe > thead > tr,\n",
       ".dataframe > tbody > tr {\n",
       "  text-align: right;\n",
       "  white-space: pre-wrap;\n",
       "}\n",
       "</style>\n",
       "<small>shape: (2, 11)</small><table border=\"1\" class=\"dataframe\"><thead><tr><th>ID</th><th>name</th><th>Gender</th><th>Eye color</th><th>Race</th><th>Hair color</th><th>Height</th><th>Publisher</th><th>Skin color</th><th>Alignment</th><th>Weight</th></tr><tr><td>i64</td><td>str</td><td>str</td><td>str</td><td>str</td><td>str</td><td>f64</td><td>str</td><td>str</td><td>str</td><td>f64</td></tr></thead><tbody><tr><td>1</td><td>&quot;Abe Sapien&quot;</td><td>&quot;Male&quot;</td><td>&quot;blue&quot;</td><td>&quot;Icthyo Sapien&quot;</td><td>&quot;No Hair&quot;</td><td>191.0</td><td>&quot;Dark Horse Comics&quot;</td><td>&quot;blue&quot;</td><td>&quot;good&quot;</td><td>65.0</td></tr><tr><td>6</td><td>&quot;Adam Monroe&quot;</td><td>&quot;Male&quot;</td><td>&quot;blue&quot;</td><td>null</td><td>&quot;Blond&quot;</td><td>null</td><td>&quot;NBC - Heroes&quot;</td><td>null</td><td>&quot;good&quot;</td><td>null</td></tr></tbody></table></div>"
      ],
      "text/plain": [
       "shape: (2, 11)\n",
       "┌─────┬─────────────┬────────┬───────────┬───┬───────────────────┬────────────┬───────────┬────────┐\n",
       "│ ID  ┆ name        ┆ Gender ┆ Eye color ┆ … ┆ Publisher         ┆ Skin color ┆ Alignment ┆ Weight │\n",
       "│ --- ┆ ---         ┆ ---    ┆ ---       ┆   ┆ ---               ┆ ---        ┆ ---       ┆ ---    │\n",
       "│ i64 ┆ str         ┆ str    ┆ str       ┆   ┆ str               ┆ str        ┆ str       ┆ f64    │\n",
       "╞═════╪═════════════╪════════╪═══════════╪═══╪═══════════════════╪════════════╪═══════════╪════════╡\n",
       "│ 1   ┆ Abe Sapien  ┆ Male   ┆ blue      ┆ … ┆ Dark Horse Comics ┆ blue       ┆ good      ┆ 65.0   │\n",
       "│ 6   ┆ Adam Monroe ┆ Male   ┆ blue      ┆ … ┆ NBC - Heroes      ┆ null       ┆ good      ┆ null   │\n",
       "└─────┴─────────────┴────────┴───────────┴───┴───────────────────┴────────────┴───────────┴────────┘"
      ]
     },
     "execution_count": 25,
     "metadata": {},
     "output_type": "execute_result"
    }
   ],
   "source": [
    "(heroes\n",
    " .filter(~pl.col('Publisher').is_in(['DC Comics', 'Marvel Comics']))\n",
    " .head(2))"
   ]
  },
  {
   "cell_type": "markdown",
   "id": "264701b8",
   "metadata": {},
   "source": [
    "## <font color=\"red\"> Exercise 6.4.2 - The Super Hero Dating Game - Part 2</font>\n",
    "\n",
    "Yesterday, you notice another singles add in the local paper, which reads\n",
    "\n",
    "> SBiM looking for SyFy super hero (will also consider Star Wars, Star Trek, or NBC - Heroes).  Eye color must be either blue or brown and last name must start with either B or P.\n",
    "\n",
    "Write a query in `dfply` to help find candidates for this personal add."
   ]
  },
  {
   "cell_type": "code",
   "execution_count": 26,
   "id": "4bcbbc18",
   "metadata": {},
   "outputs": [],
   "source": [
    "# Your solution here"
   ]
  },
  {
   "cell_type": "markdown",
   "id": "19d6a60c",
   "metadata": {
    "slideshow": {
     "slide_type": "slide"
    }
   },
   "source": [
    "## Common Filter Operators - IS NULL/IS NOT NULL\n",
    "\n",
    "`SQL` has `IS NULL` and `IS NOT NULL`, which are used to check for missing values."
   ]
  },
  {
   "cell_type": "markdown",
   "id": "7adb941d",
   "metadata": {
    "slideshow": {
     "slide_type": "slide"
    }
   },
   "source": [
    "### Using  `IS NULL`/`IS NOT NULL` in `polars`\n",
    "\n",
    "`polars` use the column `is_null`/`is_not_null` methods"
   ]
  },
  {
   "cell_type": "markdown",
   "id": "de203f18",
   "metadata": {
    "slideshow": {
     "slide_type": "slide"
    }
   },
   "source": [
    "#### `IS NULL`"
   ]
  },
  {
   "cell_type": "code",
   "execution_count": 27,
   "id": "f9efcc58",
   "metadata": {
    "slideshow": {
     "slide_type": "fragment"
    }
   },
   "outputs": [
    {
     "data": {
      "text/html": [
       "<div><style>\n",
       ".dataframe > thead > tr,\n",
       ".dataframe > tbody > tr {\n",
       "  text-align: right;\n",
       "  white-space: pre-wrap;\n",
       "}\n",
       "</style>\n",
       "<small>shape: (2, 11)</small><table border=\"1\" class=\"dataframe\"><thead><tr><th>ID</th><th>name</th><th>Gender</th><th>Eye color</th><th>Race</th><th>Hair color</th><th>Height</th><th>Publisher</th><th>Skin color</th><th>Alignment</th><th>Weight</th></tr><tr><td>i64</td><td>str</td><td>str</td><td>str</td><td>str</td><td>str</td><td>f64</td><td>str</td><td>str</td><td>str</td><td>f64</td></tr></thead><tbody><tr><td>0</td><td>&quot;A-Bomb&quot;</td><td>&quot;Male&quot;</td><td>&quot;yellow&quot;</td><td>&quot;Human&quot;</td><td>&quot;No Hair&quot;</td><td>203.0</td><td>&quot;Marvel Comics&quot;</td><td>null</td><td>&quot;good&quot;</td><td>441.0</td></tr><tr><td>3</td><td>&quot;Abomination&quot;</td><td>&quot;Male&quot;</td><td>&quot;green&quot;</td><td>&quot;Human / Radiation&quot;</td><td>&quot;No Hair&quot;</td><td>203.0</td><td>&quot;Marvel Comics&quot;</td><td>null</td><td>&quot;bad&quot;</td><td>441.0</td></tr></tbody></table></div>"
      ],
      "text/plain": [
       "shape: (2, 11)\n",
       "┌─────┬─────────────┬────────┬───────────┬───┬───────────────┬────────────┬───────────┬────────┐\n",
       "│ ID  ┆ name        ┆ Gender ┆ Eye color ┆ … ┆ Publisher     ┆ Skin color ┆ Alignment ┆ Weight │\n",
       "│ --- ┆ ---         ┆ ---    ┆ ---       ┆   ┆ ---           ┆ ---        ┆ ---       ┆ ---    │\n",
       "│ i64 ┆ str         ┆ str    ┆ str       ┆   ┆ str           ┆ str        ┆ str       ┆ f64    │\n",
       "╞═════╪═════════════╪════════╪═══════════╪═══╪═══════════════╪════════════╪═══════════╪════════╡\n",
       "│ 0   ┆ A-Bomb      ┆ Male   ┆ yellow    ┆ … ┆ Marvel Comics ┆ null       ┆ good      ┆ 441.0  │\n",
       "│ 3   ┆ Abomination ┆ Male   ┆ green     ┆ … ┆ Marvel Comics ┆ null       ┆ bad       ┆ 441.0  │\n",
       "└─────┴─────────────┴────────┴───────────┴───┴───────────────┴────────────┴───────────┴────────┘"
      ]
     },
     "execution_count": 27,
     "metadata": {},
     "output_type": "execute_result"
    }
   ],
   "source": [
    "(heroes\n",
    " .filter(pl.col('Skin color').is_null())\n",
    " .head(2))"
   ]
  },
  {
   "cell_type": "markdown",
   "id": "2f06d84e",
   "metadata": {
    "slideshow": {
     "slide_type": "slide"
    }
   },
   "source": [
    "#### `IS NOT NULL`  using `is_not_null`"
   ]
  },
  {
   "cell_type": "code",
   "execution_count": 28,
   "id": "4df2bf79",
   "metadata": {
    "slideshow": {
     "slide_type": "fragment"
    }
   },
   "outputs": [
    {
     "data": {
      "text/html": [
       "<div><style>\n",
       ".dataframe > thead > tr,\n",
       ".dataframe > tbody > tr {\n",
       "  text-align: right;\n",
       "  white-space: pre-wrap;\n",
       "}\n",
       "</style>\n",
       "<small>shape: (2, 11)</small><table border=\"1\" class=\"dataframe\"><thead><tr><th>ID</th><th>name</th><th>Gender</th><th>Eye color</th><th>Race</th><th>Hair color</th><th>Height</th><th>Publisher</th><th>Skin color</th><th>Alignment</th><th>Weight</th></tr><tr><td>i64</td><td>str</td><td>str</td><td>str</td><td>str</td><td>str</td><td>f64</td><td>str</td><td>str</td><td>str</td><td>f64</td></tr></thead><tbody><tr><td>1</td><td>&quot;Abe Sapien&quot;</td><td>&quot;Male&quot;</td><td>&quot;blue&quot;</td><td>&quot;Icthyo Sapien&quot;</td><td>&quot;No Hair&quot;</td><td>191.0</td><td>&quot;Dark Horse Comics&quot;</td><td>&quot;blue&quot;</td><td>&quot;good&quot;</td><td>65.0</td></tr><tr><td>2</td><td>&quot;Abin Sur&quot;</td><td>&quot;Male&quot;</td><td>&quot;blue&quot;</td><td>&quot;Ungaran&quot;</td><td>&quot;No Hair&quot;</td><td>185.0</td><td>&quot;DC Comics&quot;</td><td>&quot;red&quot;</td><td>&quot;good&quot;</td><td>90.0</td></tr></tbody></table></div>"
      ],
      "text/plain": [
       "shape: (2, 11)\n",
       "┌─────┬────────────┬────────┬───────────┬───┬───────────────────┬────────────┬───────────┬────────┐\n",
       "│ ID  ┆ name       ┆ Gender ┆ Eye color ┆ … ┆ Publisher         ┆ Skin color ┆ Alignment ┆ Weight │\n",
       "│ --- ┆ ---        ┆ ---    ┆ ---       ┆   ┆ ---               ┆ ---        ┆ ---       ┆ ---    │\n",
       "│ i64 ┆ str        ┆ str    ┆ str       ┆   ┆ str               ┆ str        ┆ str       ┆ f64    │\n",
       "╞═════╪════════════╪════════╪═══════════╪═══╪═══════════════════╪════════════╪═══════════╪════════╡\n",
       "│ 1   ┆ Abe Sapien ┆ Male   ┆ blue      ┆ … ┆ Dark Horse Comics ┆ blue       ┆ good      ┆ 65.0   │\n",
       "│ 2   ┆ Abin Sur   ┆ Male   ┆ blue      ┆ … ┆ DC Comics         ┆ red        ┆ good      ┆ 90.0   │\n",
       "└─────┴────────────┴────────┴───────────┴───┴───────────────────┴────────────┴───────────┴────────┘"
      ]
     },
     "execution_count": 28,
     "metadata": {},
     "output_type": "execute_result"
    }
   ],
   "source": [
    "(heroes\n",
    " .filter(pl.col('Skin color').is_not_null())\n",
    " .head(2))"
   ]
  },
  {
   "cell_type": "markdown",
   "id": "75b44e24",
   "metadata": {
    "slideshow": {
     "slide_type": "slide"
    }
   },
   "source": [
    "## Common Filter Operations - `AND`/ `OR`\n",
    "\n",
    "`SQL` has `AND` and `OR`, which are used to check for missing values."
   ]
  },
  {
   "cell_type": "markdown",
   "id": "69cad664",
   "metadata": {
    "slideshow": {
     "slide_type": "slide"
    }
   },
   "source": [
    "### Using  `AND`/`OR` in `polars`\n",
    "\n",
    " In `polars`, we use \n",
    " \n",
    " * The `&` operator for AND\n",
    " * the `|` operator for OR\n",
    " "
   ]
  },
  {
   "cell_type": "markdown",
   "id": "32404b35",
   "metadata": {},
   "source": [
    "#### `AND` using `&`"
   ]
  },
  {
   "cell_type": "code",
   "execution_count": 29,
   "id": "42da1f1c",
   "metadata": {
    "slideshow": {
     "slide_type": "fragment"
    }
   },
   "outputs": [
    {
     "data": {
      "text/html": [
       "<div><style>\n",
       ".dataframe > thead > tr,\n",
       ".dataframe > tbody > tr {\n",
       "  text-align: right;\n",
       "  white-space: pre-wrap;\n",
       "}\n",
       "</style>\n",
       "<small>shape: (2, 11)</small><table border=\"1\" class=\"dataframe\"><thead><tr><th>ID</th><th>name</th><th>Gender</th><th>Eye color</th><th>Race</th><th>Hair color</th><th>Height</th><th>Publisher</th><th>Skin color</th><th>Alignment</th><th>Weight</th></tr><tr><td>i64</td><td>str</td><td>str</td><td>str</td><td>str</td><td>str</td><td>f64</td><td>str</td><td>str</td><td>str</td><td>f64</td></tr></thead><tbody><tr><td>1</td><td>&quot;Abe Sapien&quot;</td><td>&quot;Male&quot;</td><td>&quot;blue&quot;</td><td>&quot;Icthyo Sapien&quot;</td><td>&quot;No Hair&quot;</td><td>191.0</td><td>&quot;Dark Horse Comics&quot;</td><td>&quot;blue&quot;</td><td>&quot;good&quot;</td><td>65.0</td></tr><tr><td>2</td><td>&quot;Abin Sur&quot;</td><td>&quot;Male&quot;</td><td>&quot;blue&quot;</td><td>&quot;Ungaran&quot;</td><td>&quot;No Hair&quot;</td><td>185.0</td><td>&quot;DC Comics&quot;</td><td>&quot;red&quot;</td><td>&quot;good&quot;</td><td>90.0</td></tr></tbody></table></div>"
      ],
      "text/plain": [
       "shape: (2, 11)\n",
       "┌─────┬────────────┬────────┬───────────┬───┬───────────────────┬────────────┬───────────┬────────┐\n",
       "│ ID  ┆ name       ┆ Gender ┆ Eye color ┆ … ┆ Publisher         ┆ Skin color ┆ Alignment ┆ Weight │\n",
       "│ --- ┆ ---        ┆ ---    ┆ ---       ┆   ┆ ---               ┆ ---        ┆ ---       ┆ ---    │\n",
       "│ i64 ┆ str        ┆ str    ┆ str       ┆   ┆ str               ┆ str        ┆ str       ┆ f64    │\n",
       "╞═════╪════════════╪════════╪═══════════╪═══╪═══════════════════╪════════════╪═══════════╪════════╡\n",
       "│ 1   ┆ Abe Sapien ┆ Male   ┆ blue      ┆ … ┆ Dark Horse Comics ┆ blue       ┆ good      ┆ 65.0   │\n",
       "│ 2   ┆ Abin Sur   ┆ Male   ┆ blue      ┆ … ┆ DC Comics         ┆ red        ┆ good      ┆ 90.0   │\n",
       "└─────┴────────────┴────────┴───────────┴───┴───────────────────┴────────────┴───────────┴────────┘"
      ]
     },
     "execution_count": 29,
     "metadata": {},
     "output_type": "execute_result"
    }
   ],
   "source": [
    "(heroes\n",
    " .filter((pl.col('Hair color') == 'No Hair') & (pl.col('Eye color') == 'blue'))\n",
    " .head(2))"
   ]
  },
  {
   "cell_type": "markdown",
   "id": "253d5e98",
   "metadata": {},
   "source": [
    "#### `AND` using multiple `filter` calls"
   ]
  },
  {
   "cell_type": "code",
   "execution_count": 30,
   "id": "5391fb9a",
   "metadata": {
    "slideshow": {
     "slide_type": "fragment"
    }
   },
   "outputs": [
    {
     "data": {
      "text/html": [
       "<div><style>\n",
       ".dataframe > thead > tr,\n",
       ".dataframe > tbody > tr {\n",
       "  text-align: right;\n",
       "  white-space: pre-wrap;\n",
       "}\n",
       "</style>\n",
       "<small>shape: (2, 11)</small><table border=\"1\" class=\"dataframe\"><thead><tr><th>ID</th><th>name</th><th>Gender</th><th>Eye color</th><th>Race</th><th>Hair color</th><th>Height</th><th>Publisher</th><th>Skin color</th><th>Alignment</th><th>Weight</th></tr><tr><td>i64</td><td>str</td><td>str</td><td>str</td><td>str</td><td>str</td><td>f64</td><td>str</td><td>str</td><td>str</td><td>f64</td></tr></thead><tbody><tr><td>1</td><td>&quot;Abe Sapien&quot;</td><td>&quot;Male&quot;</td><td>&quot;blue&quot;</td><td>&quot;Icthyo Sapien&quot;</td><td>&quot;No Hair&quot;</td><td>191.0</td><td>&quot;Dark Horse Comics&quot;</td><td>&quot;blue&quot;</td><td>&quot;good&quot;</td><td>65.0</td></tr><tr><td>2</td><td>&quot;Abin Sur&quot;</td><td>&quot;Male&quot;</td><td>&quot;blue&quot;</td><td>&quot;Ungaran&quot;</td><td>&quot;No Hair&quot;</td><td>185.0</td><td>&quot;DC Comics&quot;</td><td>&quot;red&quot;</td><td>&quot;good&quot;</td><td>90.0</td></tr></tbody></table></div>"
      ],
      "text/plain": [
       "shape: (2, 11)\n",
       "┌─────┬────────────┬────────┬───────────┬───┬───────────────────┬────────────┬───────────┬────────┐\n",
       "│ ID  ┆ name       ┆ Gender ┆ Eye color ┆ … ┆ Publisher         ┆ Skin color ┆ Alignment ┆ Weight │\n",
       "│ --- ┆ ---        ┆ ---    ┆ ---       ┆   ┆ ---               ┆ ---        ┆ ---       ┆ ---    │\n",
       "│ i64 ┆ str        ┆ str    ┆ str       ┆   ┆ str               ┆ str        ┆ str       ┆ f64    │\n",
       "╞═════╪════════════╪════════╪═══════════╪═══╪═══════════════════╪════════════╪═══════════╪════════╡\n",
       "│ 1   ┆ Abe Sapien ┆ Male   ┆ blue      ┆ … ┆ Dark Horse Comics ┆ blue       ┆ good      ┆ 65.0   │\n",
       "│ 2   ┆ Abin Sur   ┆ Male   ┆ blue      ┆ … ┆ DC Comics         ┆ red        ┆ good      ┆ 90.0   │\n",
       "└─────┴────────────┴────────┴───────────┴───┴───────────────────┴────────────┴───────────┴────────┘"
      ]
     },
     "execution_count": 30,
     "metadata": {},
     "output_type": "execute_result"
    }
   ],
   "source": [
    "(heroes\n",
    " .filter(pl.col('Hair color') == 'No Hair')\n",
    " .filter(pl.col('Eye color') == 'blue')\n",
    " .head(2))"
   ]
  },
  {
   "cell_type": "markdown",
   "id": "1c05e51a",
   "metadata": {},
   "source": [
    "#### `OR`"
   ]
  },
  {
   "cell_type": "code",
   "execution_count": 31,
   "id": "69d0e340",
   "metadata": {
    "slideshow": {
     "slide_type": "fragment"
    }
   },
   "outputs": [
    {
     "data": {
      "text/html": [
       "<div><style>\n",
       ".dataframe > thead > tr,\n",
       ".dataframe > tbody > tr {\n",
       "  text-align: right;\n",
       "  white-space: pre-wrap;\n",
       "}\n",
       "</style>\n",
       "<small>shape: (2, 11)</small><table border=\"1\" class=\"dataframe\"><thead><tr><th>ID</th><th>name</th><th>Gender</th><th>Eye color</th><th>Race</th><th>Hair color</th><th>Height</th><th>Publisher</th><th>Skin color</th><th>Alignment</th><th>Weight</th></tr><tr><td>i64</td><td>str</td><td>str</td><td>str</td><td>str</td><td>str</td><td>f64</td><td>str</td><td>str</td><td>str</td><td>f64</td></tr></thead><tbody><tr><td>0</td><td>&quot;A-Bomb&quot;</td><td>&quot;Male&quot;</td><td>&quot;yellow&quot;</td><td>&quot;Human&quot;</td><td>&quot;No Hair&quot;</td><td>203.0</td><td>&quot;Marvel Comics&quot;</td><td>null</td><td>&quot;good&quot;</td><td>441.0</td></tr><tr><td>1</td><td>&quot;Abe Sapien&quot;</td><td>&quot;Male&quot;</td><td>&quot;blue&quot;</td><td>&quot;Icthyo Sapien&quot;</td><td>&quot;No Hair&quot;</td><td>191.0</td><td>&quot;Dark Horse Comics&quot;</td><td>&quot;blue&quot;</td><td>&quot;good&quot;</td><td>65.0</td></tr></tbody></table></div>"
      ],
      "text/plain": [
       "shape: (2, 11)\n",
       "┌─────┬────────────┬────────┬───────────┬───┬───────────────────┬────────────┬───────────┬────────┐\n",
       "│ ID  ┆ name       ┆ Gender ┆ Eye color ┆ … ┆ Publisher         ┆ Skin color ┆ Alignment ┆ Weight │\n",
       "│ --- ┆ ---        ┆ ---    ┆ ---       ┆   ┆ ---               ┆ ---        ┆ ---       ┆ ---    │\n",
       "│ i64 ┆ str        ┆ str    ┆ str       ┆   ┆ str               ┆ str        ┆ str       ┆ f64    │\n",
       "╞═════╪════════════╪════════╪═══════════╪═══╪═══════════════════╪════════════╪═══════════╪════════╡\n",
       "│ 0   ┆ A-Bomb     ┆ Male   ┆ yellow    ┆ … ┆ Marvel Comics     ┆ null       ┆ good      ┆ 441.0  │\n",
       "│ 1   ┆ Abe Sapien ┆ Male   ┆ blue      ┆ … ┆ Dark Horse Comics ┆ blue       ┆ good      ┆ 65.0   │\n",
       "└─────┴────────────┴────────┴───────────┴───┴───────────────────┴────────────┴───────────┴────────┘"
      ]
     },
     "execution_count": 31,
     "metadata": {},
     "output_type": "execute_result"
    }
   ],
   "source": [
    "(heroes\n",
    " .filter((pl.col('Hair color') == 'No Hair') | (pl.col('Eye color') == 'blue'))\n",
    " .head(2))"
   ]
  },
  {
   "cell_type": "markdown",
   "id": "8cb2ee16",
   "metadata": {
    "slideshow": {
     "slide_type": "slide"
    }
   },
   "source": [
    "#### Important NOTE\n",
    "You need to break the Python habit of using `and` and `or` (hard to do)"
   ]
  },
  {
   "cell_type": "code",
   "execution_count": 32,
   "id": "28b5239a",
   "metadata": {
    "slideshow": {
     "slide_type": "fragment"
    }
   },
   "outputs": [
    {
     "ename": "TypeError",
     "evalue": "the truth value of an Expr is ambiguous\n\nYou probably got here by using a Python standard library function instead of the native expressions API.\nHere are some things you might want to try:\n- instead of `pl.col('a') and pl.col('b')`, use `pl.col('a') & pl.col('b')`\n- instead of `pl.col('a') in [y, z]`, use `pl.col('a').is_in([y, z])`\n- instead of `max(pl.col('a'), pl.col('b'))`, use `pl.max_horizontal(pl.col('a'), pl.col('b'))`\n",
     "output_type": "error",
     "traceback": [
      "\u001b[0;31m---------------------------------------------------------------------------\u001b[0m",
      "\u001b[0;31mTypeError\u001b[0m                                 Traceback (most recent call last)",
      "\u001b[0;32m/var/folders/k4/_tynxgnx6l39rvqmb6z2_mmh0000gn/T/ipykernel_39369/3514144740.py\u001b[0m in \u001b[0;36m?\u001b[0;34m()\u001b[0m\n\u001b[1;32m      1\u001b[0m (heroes\n\u001b[0;32m----> 2\u001b[0;31m  \u001b[0;34m.\u001b[0m\u001b[0mfilter\u001b[0m\u001b[0;34m(\u001b[0m\u001b[0;34m(\u001b[0m\u001b[0mpl\u001b[0m\u001b[0;34m.\u001b[0m\u001b[0mcol\u001b[0m\u001b[0;34m(\u001b[0m\u001b[0;34m'Hair color'\u001b[0m\u001b[0;34m)\u001b[0m \u001b[0;34m==\u001b[0m \u001b[0;34m'No Hair'\u001b[0m\u001b[0;34m)\u001b[0m \u001b[0;32mand\u001b[0m \u001b[0;34m(\u001b[0m\u001b[0mpl\u001b[0m\u001b[0;34m.\u001b[0m\u001b[0mcol\u001b[0m\u001b[0;34m(\u001b[0m\u001b[0;34m'Eye color'\u001b[0m\u001b[0;34m)\u001b[0m \u001b[0;34m==\u001b[0m \u001b[0;34m'blue'\u001b[0m\u001b[0;34m)\u001b[0m\u001b[0;34m)\u001b[0m\u001b[0;34m\u001b[0m\u001b[0;34m\u001b[0m\u001b[0m\n\u001b[0m\u001b[1;32m      3\u001b[0m  \u001b[0;34m.\u001b[0m\u001b[0mhead\u001b[0m\u001b[0;34m(\u001b[0m\u001b[0;36m2\u001b[0m\u001b[0;34m)\u001b[0m\u001b[0;34m)\u001b[0m\u001b[0;34m\u001b[0m\u001b[0;34m\u001b[0m\u001b[0m\n",
      "\u001b[0;32m/opt/anaconda3/envs/polars/lib/python3.12/site-packages/polars/expr/expr.py\u001b[0m in \u001b[0;36m?\u001b[0;34m(self)\u001b[0m\n\u001b[1;32m    148\u001b[0m             \u001b[0;34m\"- instead of `pl.col('a') and pl.col('b')`, use `pl.col('a') & pl.col('b')`\\n\"\u001b[0m\u001b[0;34m\u001b[0m\u001b[0;34m\u001b[0m\u001b[0m\n\u001b[1;32m    149\u001b[0m             \u001b[0;34m\"- instead of `pl.col('a') in [y, z]`, use `pl.col('a').is_in([y, z])`\\n\"\u001b[0m\u001b[0;34m\u001b[0m\u001b[0;34m\u001b[0m\u001b[0m\n\u001b[1;32m    150\u001b[0m             \u001b[0;34m\"- instead of `max(pl.col('a'), pl.col('b'))`, use `pl.max_horizontal(pl.col('a'), pl.col('b'))`\\n\"\u001b[0m\u001b[0;34m\u001b[0m\u001b[0;34m\u001b[0m\u001b[0m\n\u001b[1;32m    151\u001b[0m         \u001b[0;34m)\u001b[0m\u001b[0;34m\u001b[0m\u001b[0;34m\u001b[0m\u001b[0m\n\u001b[0;32m--> 152\u001b[0;31m         \u001b[0;32mraise\u001b[0m \u001b[0mTypeError\u001b[0m\u001b[0;34m(\u001b[0m\u001b[0mmsg\u001b[0m\u001b[0;34m)\u001b[0m\u001b[0;34m\u001b[0m\u001b[0;34m\u001b[0m\u001b[0m\n\u001b[0m",
      "\u001b[0;31mTypeError\u001b[0m: the truth value of an Expr is ambiguous\n\nYou probably got here by using a Python standard library function instead of the native expressions API.\nHere are some things you might want to try:\n- instead of `pl.col('a') and pl.col('b')`, use `pl.col('a') & pl.col('b')`\n- instead of `pl.col('a') in [y, z]`, use `pl.col('a').is_in([y, z])`\n- instead of `max(pl.col('a'), pl.col('b'))`, use `pl.max_horizontal(pl.col('a'), pl.col('b'))`\n"
     ]
    }
   ],
   "source": [
    "(heroes\n",
    " .filter((pl.col('Hair color') == 'No Hair') and (pl.col('Eye color') == 'blue'))\n",
    " .head(2))"
   ]
  },
  {
   "cell_type": "markdown",
   "id": "360c70d0",
   "metadata": {
    "slideshow": {
     "slide_type": "slide"
    }
   },
   "source": [
    "## <font color=\"red\"> Exercise 6.4.3 - The Super Hero Dating Game - Part 3</font>\n",
    "\n",
    "Yesterday, you notice one more singles add in the local paper, which read\n",
    "\n",
    "> W4A (Woman for Androgynous) looking for super hero.  Must be either God/Eternal/Cosmic Entity; or have no body hair.  Bad heroes need not reply.\n",
    "\n",
    "Write a query in all three frameworks to help find candidates for this personal add.  You should complete each query with **exactly one filter_by/where**."
   ]
  },
  {
   "cell_type": "code",
   "execution_count": 112,
   "id": "18e5bf62",
   "metadata": {
    "slideshow": {
     "slide_type": "fragment"
    }
   },
   "outputs": [],
   "source": [
    "# Your solution here"
   ]
  }
 ],
 "metadata": {
  "celltoolbar": "Slideshow",
  "kernelspec": {
   "display_name": "Python 3 (ipykernel)",
   "language": "python",
   "name": "python3"
  },
  "language_info": {
   "codemirror_mode": {
    "name": "ipython",
    "version": 3
   },
   "file_extension": ".py",
   "mimetype": "text/x-python",
   "name": "python",
   "nbconvert_exporter": "python",
   "pygments_lexer": "ipython3",
   "version": "3.12.5"
  },
  "varInspector": {
   "cols": {
    "lenName": 16,
    "lenType": 16,
    "lenVar": 40
   },
   "kernels_config": {
    "python": {
     "delete_cmd_postfix": "",
     "delete_cmd_prefix": "del ",
     "library": "var_list.py",
     "varRefreshCmd": "print(var_dic_list())"
    },
    "r": {
     "delete_cmd_postfix": ") ",
     "delete_cmd_prefix": "rm(",
     "library": "var_list.r",
     "varRefreshCmd": "cat(var_dic_list()) "
    }
   },
   "types_to_exclude": [
    "module",
    "function",
    "builtin_function_or_method",
    "instance",
    "_Feature"
   ],
   "window_display": false
  }
 },
 "nbformat": 4,
 "nbformat_minor": 5
}
