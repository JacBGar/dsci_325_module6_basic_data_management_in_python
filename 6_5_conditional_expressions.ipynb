{
 "cells": [
  {
   "cell_type": "markdown",
   "metadata": {
    "jp-MarkdownHeadingCollapsed": true
   },
   "source": [
    "## Colab Prep\n",
    "\n",
    "Execute the following code cells to whenever you open/restart the notebook in Google Colab."
   ]
  },
  {
   "cell_type": "code",
   "execution_count": null,
   "metadata": {},
   "outputs": [],
   "source": [
    "!pip install \"polars[all]\""
   ]
  },
  {
   "cell_type": "code",
   "execution_count": null,
   "metadata": {},
   "outputs": [],
   "source": [
    "!wget https://github.com/WSU-DataScience/dsci_325_module6_basic_data_management_in_python/raw/main/sample_data.zip"
   ]
  },
  {
   "cell_type": "code",
   "execution_count": null,
   "metadata": {},
   "outputs": [],
   "source": [
    "!unzip ./sample_data.zip"
   ]
  },
  {
   "cell_type": "markdown",
   "metadata": {},
   "source": [
    "# Conditional Expressions"
   ]
  },
  {
   "cell_type": "code",
   "execution_count": 1,
   "metadata": {},
   "outputs": [],
   "source": [
    "import polars as pl\n",
    "pl.Config.with_columns_kwargs = True"
   ]
  },
  {
   "cell_type": "markdown",
   "metadata": {},
   "source": [
    "## Data sets\n",
    "\n",
    "We will be using two of the data sets provided by the Museam of Modern Art (MoMA) in this lecture.  Make sure that you have downloaded each repository.  [Download Instructions](./get_MOMA_data.ipynb)"
   ]
  },
  {
   "cell_type": "markdown",
   "metadata": {},
   "source": [
    "#### MoMA Artists"
   ]
  },
  {
   "cell_type": "code",
   "execution_count": 2,
   "metadata": {},
   "outputs": [
    {
     "data": {
      "text/html": [
       "<div><style>\n",
       ".dataframe > thead > tr,\n",
       ".dataframe > tbody > tr {\n",
       "  text-align: right;\n",
       "  white-space: pre-wrap;\n",
       "}\n",
       "</style>\n",
       "<small>shape: (2, 9)</small><table border=\"1\" class=\"dataframe\"><thead><tr><th>ConstituentID</th><th>DisplayName</th><th>ArtistBio</th><th>Nationality</th><th>Gender</th><th>BeginDate</th><th>EndDate</th><th>Wiki QID</th><th>ULAN</th></tr><tr><td>i64</td><td>str</td><td>str</td><td>str</td><td>str</td><td>i64</td><td>i64</td><td>str</td><td>i64</td></tr></thead><tbody><tr><td>1</td><td>&quot;Robert Arneson&quot;</td><td>&quot;American, 1930–1992&quot;</td><td>&quot;American&quot;</td><td>&quot;Male&quot;</td><td>1930</td><td>1992</td><td>null</td><td>null</td></tr><tr><td>2</td><td>&quot;Doroteo Arnaiz&quot;</td><td>&quot;Spanish, born 1936&quot;</td><td>&quot;Spanish&quot;</td><td>&quot;Male&quot;</td><td>1936</td><td>0</td><td>null</td><td>null</td></tr></tbody></table></div>"
      ],
      "text/plain": [
       "shape: (2, 9)\n",
       "┌─────────────┬─────────────┬─────────────┬────────────┬───┬───────────┬─────────┬──────────┬──────┐\n",
       "│ Constituent ┆ DisplayName ┆ ArtistBio   ┆ Nationalit ┆ … ┆ BeginDate ┆ EndDate ┆ Wiki QID ┆ ULAN │\n",
       "│ ID          ┆ ---         ┆ ---         ┆ y          ┆   ┆ ---       ┆ ---     ┆ ---      ┆ ---  │\n",
       "│ ---         ┆ str         ┆ str         ┆ ---        ┆   ┆ i64       ┆ i64     ┆ str      ┆ i64  │\n",
       "│ i64         ┆             ┆             ┆ str        ┆   ┆           ┆         ┆          ┆      │\n",
       "╞═════════════╪═════════════╪═════════════╪════════════╪═══╪═══════════╪═════════╪══════════╪══════╡\n",
       "│ 1           ┆ Robert      ┆ American,   ┆ American   ┆ … ┆ 1930      ┆ 1992    ┆ null     ┆ null │\n",
       "│             ┆ Arneson     ┆ 1930–1992   ┆            ┆   ┆           ┆         ┆          ┆      │\n",
       "│ 2           ┆ Doroteo     ┆ Spanish,    ┆ Spanish    ┆ … ┆ 1936      ┆ 0       ┆ null     ┆ null │\n",
       "│             ┆ Arnaiz      ┆ born 1936   ┆            ┆   ┆           ┆         ┆          ┆      │\n",
       "└─────────────┴─────────────┴─────────────┴────────────┴───┴───────────┴─────────┴──────────┴──────┘"
      ]
     },
     "execution_count": 2,
     "metadata": {},
     "output_type": "execute_result"
    }
   ],
   "source": [
    "artists = pl.read_csv(\"./sample_data/Artists.csv\")\n",
    "artists.head(2)"
   ]
  },
  {
   "cell_type": "markdown",
   "metadata": {},
   "source": [
    "#### MoMA Artwork"
   ]
  },
  {
   "cell_type": "code",
   "execution_count": 3,
   "metadata": {},
   "outputs": [
    {
     "data": {
      "text/html": [
       "<div><style>\n",
       ".dataframe > thead > tr,\n",
       ".dataframe > tbody > tr {\n",
       "  text-align: right;\n",
       "  white-space: pre-wrap;\n",
       "}\n",
       "</style>\n",
       "<small>shape: (2, 29)</small><table border=\"1\" class=\"dataframe\"><thead><tr><th>Title</th><th>Artist</th><th>ConstituentID</th><th>ArtistBio</th><th>Nationality</th><th>BeginDate</th><th>EndDate</th><th>Gender</th><th>Date</th><th>Medium</th><th>Dimensions</th><th>CreditLine</th><th>AccessionNumber</th><th>Classification</th><th>Department</th><th>DateAcquired</th><th>Cataloged</th><th>ObjectID</th><th>URL</th><th>ThumbnailURL</th><th>Circumference (cm)</th><th>Depth (cm)</th><th>Diameter (cm)</th><th>Height (cm)</th><th>Length (cm)</th><th>Weight (kg)</th><th>Width (cm)</th><th>Seat Height (cm)</th><th>Duration (sec.)</th></tr><tr><td>str</td><td>str</td><td>str</td><td>str</td><td>str</td><td>str</td><td>str</td><td>str</td><td>str</td><td>str</td><td>str</td><td>str</td><td>str</td><td>str</td><td>str</td><td>str</td><td>str</td><td>i64</td><td>str</td><td>str</td><td>str</td><td>str</td><td>str</td><td>f64</td><td>str</td><td>str</td><td>f64</td><td>str</td><td>str</td></tr></thead><tbody><tr><td>&quot;Ferdinandsbrücke Project, Vien…</td><td>&quot;Otto Wagner&quot;</td><td>&quot;6210&quot;</td><td>&quot;(Austrian, 1841–1918)&quot;</td><td>&quot;(Austrian)&quot;</td><td>&quot;(1841)&quot;</td><td>&quot;(1918)&quot;</td><td>&quot;(Male)&quot;</td><td>&quot;1896&quot;</td><td>&quot;Ink and cut-and-pasted painted…</td><td>&quot;19 1/8 x 66 1/2&quot; (48.6 x 168.9…</td><td>&quot;Fractional and promised gift o…</td><td>&quot;885.1996&quot;</td><td>&quot;Architecture&quot;</td><td>&quot;Architecture &amp; Design&quot;</td><td>&quot;1996-04-09&quot;</td><td>&quot;Y&quot;</td><td>2</td><td>&quot;http://www.moma.org/collection…</td><td>&quot;http://www.moma.org/media/W1si…</td><td>null</td><td>null</td><td>null</td><td>48.6</td><td>null</td><td>null</td><td>168.9</td><td>null</td><td>null</td></tr><tr><td>&quot;City of Music, National Superi…</td><td>&quot;Christian de Portzamparc&quot;</td><td>&quot;7470&quot;</td><td>&quot;(French, born 1944)&quot;</td><td>&quot;(French)&quot;</td><td>&quot;(1944)&quot;</td><td>&quot;(0)&quot;</td><td>&quot;(Male)&quot;</td><td>&quot;1987&quot;</td><td>&quot;Paint and colored pencil on pr…</td><td>&quot;16 x 11 3/4&quot; (40.6 x 29.8 cm)&quot;</td><td>&quot;Gift of the architect in honor…</td><td>&quot;1.1995&quot;</td><td>&quot;Architecture&quot;</td><td>&quot;Architecture &amp; Design&quot;</td><td>&quot;1995-01-17&quot;</td><td>&quot;Y&quot;</td><td>3</td><td>&quot;http://www.moma.org/collection…</td><td>&quot;http://www.moma.org/media/W1si…</td><td>null</td><td>null</td><td>null</td><td>40.6401</td><td>null</td><td>null</td><td>29.8451</td><td>null</td><td>null</td></tr></tbody></table></div>"
      ],
      "text/plain": [
       "shape: (2, 29)\n",
       "┌───────────┬───────────┬───────────┬───────────┬───┬───────────┬───────────┬───────────┬──────────┐\n",
       "│ Title     ┆ Artist    ┆ Constitue ┆ ArtistBio ┆ … ┆ Weight    ┆ Width     ┆ Seat      ┆ Duration │\n",
       "│ ---       ┆ ---       ┆ ntID      ┆ ---       ┆   ┆ (kg)      ┆ (cm)      ┆ Height    ┆ (sec.)   │\n",
       "│ str       ┆ str       ┆ ---       ┆ str       ┆   ┆ ---       ┆ ---       ┆ (cm)      ┆ ---      │\n",
       "│           ┆           ┆ str       ┆           ┆   ┆ str       ┆ f64       ┆ ---       ┆ str      │\n",
       "│           ┆           ┆           ┆           ┆   ┆           ┆           ┆ str       ┆          │\n",
       "╞═══════════╪═══════════╪═══════════╪═══════════╪═══╪═══════════╪═══════════╪═══════════╪══════════╡\n",
       "│ Ferdinand ┆ Otto      ┆ 6210      ┆ (Austrian ┆ … ┆ null      ┆ 168.9     ┆ null      ┆ null     │\n",
       "│ sbrücke   ┆ Wagner    ┆           ┆ , 1841–19 ┆   ┆           ┆           ┆           ┆          │\n",
       "│ Project,  ┆           ┆           ┆ 18)       ┆   ┆           ┆           ┆           ┆          │\n",
       "│ Vien…     ┆           ┆           ┆           ┆   ┆           ┆           ┆           ┆          │\n",
       "│ City of   ┆ Christian ┆ 7470      ┆ (French,  ┆ … ┆ null      ┆ 29.8451   ┆ null      ┆ null     │\n",
       "│ Music,    ┆ de Portza ┆           ┆ born      ┆   ┆           ┆           ┆           ┆          │\n",
       "│ National  ┆ mparc     ┆           ┆ 1944)     ┆   ┆           ┆           ┆           ┆          │\n",
       "│ Superi…   ┆           ┆           ┆           ┆   ┆           ┆           ┆           ┆          │\n",
       "└───────────┴───────────┴───────────┴───────────┴───┴───────────┴───────────┴───────────┴──────────┘"
      ]
     },
     "execution_count": 3,
     "metadata": {},
     "output_type": "execute_result"
    }
   ],
   "source": [
    "artwork = pl.read_csv(\"./sample_data/Artworks.csv\")\n",
    "artwork.head(2)"
   ]
  },
  {
   "cell_type": "markdown",
   "metadata": {},
   "source": [
    "## Review - CASE WHEN\n",
    "\n",
    "Recall that the `CASE WHEN` expression to condition results on some boolean condition(s).\n",
    "\n",
    "```{SQL}\n",
    "SELECT CASE \n",
    "            WHEN Nationality == 'American'\n",
    "            THEN 'Yes'\n",
    "            ELSE 'No'\n",
    "       END AS American\n",
    "FROM Artists\n",
    "```"
   ]
  },
  {
   "cell_type": "markdown",
   "metadata": {},
   "source": [
    "## Conditional expressions in `polars`\n",
    "\n",
    "To perform a `CASE WHEN` in `polars` with a single dot-chain by\n",
    "* Start with `pl.when(...).then(...)`\n",
    "* Add any number of additional `.when(...).then(...)` to the dot-chain\n",
    "* Add a `.otherwise(...)` to catch all remaining cases."
   ]
  },
  {
   "cell_type": "markdown",
   "metadata": {},
   "source": [
    "### Example"
   ]
  },
  {
   "cell_type": "code",
   "execution_count": 4,
   "metadata": {},
   "outputs": [
    {
     "data": {
      "text/html": [
       "<div><style>\n",
       ".dataframe > thead > tr,\n",
       ".dataframe > tbody > tr {\n",
       "  text-align: right;\n",
       "  white-space: pre-wrap;\n",
       "}\n",
       "</style>\n",
       "<small>shape: (5, 2)</small><table border=\"1\" class=\"dataframe\"><thead><tr><th>cat</th><th>val</th></tr><tr><td>str</td><td>i64</td></tr></thead><tbody><tr><td>&quot;a&quot;</td><td>1</td></tr><tr><td>&quot;b&quot;</td><td>1</td></tr><tr><td>&quot;b&quot;</td><td>2</td></tr><tr><td>&quot;c&quot;</td><td>1</td></tr><tr><td>&quot;c&quot;</td><td>2</td></tr></tbody></table></div>"
      ],
      "text/plain": [
       "shape: (5, 2)\n",
       "┌─────┬─────┐\n",
       "│ cat ┆ val │\n",
       "│ --- ┆ --- │\n",
       "│ str ┆ i64 │\n",
       "╞═════╪═════╡\n",
       "│ a   ┆ 1   │\n",
       "│ b   ┆ 1   │\n",
       "│ b   ┆ 2   │\n",
       "│ c   ┆ 1   │\n",
       "│ c   ┆ 2   │\n",
       "└─────┴─────┘"
      ]
     },
     "execution_count": 4,
     "metadata": {},
     "output_type": "execute_result"
    }
   ],
   "source": [
    "df = pl.DataFrame({'cat':['a','b','b','c','c'],\n",
    "                   'val':[ 1,  1,  2,  1, 2]})\n",
    "df"
   ]
  },
  {
   "cell_type": "markdown",
   "metadata": {},
   "source": [
    "#### `case_when` with one predicate pair\n",
    "\n",
    "Unmatched values are `null`"
   ]
  },
  {
   "cell_type": "code",
   "execution_count": 5,
   "metadata": {},
   "outputs": [
    {
     "data": {
      "text/html": [
       "<div><style>\n",
       ".dataframe > thead > tr,\n",
       ".dataframe > tbody > tr {\n",
       "  text-align: right;\n",
       "  white-space: pre-wrap;\n",
       "}\n",
       "</style>\n",
       "<small>shape: (5, 3)</small><table border=\"1\" class=\"dataframe\"><thead><tr><th>cat</th><th>val</th><th>new</th></tr><tr><td>str</td><td>i64</td><td>i64</td></tr></thead><tbody><tr><td>&quot;a&quot;</td><td>1</td><td>2</td></tr><tr><td>&quot;b&quot;</td><td>1</td><td>null</td></tr><tr><td>&quot;b&quot;</td><td>2</td><td>null</td></tr><tr><td>&quot;c&quot;</td><td>1</td><td>null</td></tr><tr><td>&quot;c&quot;</td><td>2</td><td>null</td></tr></tbody></table></div>"
      ],
      "text/plain": [
       "shape: (5, 3)\n",
       "┌─────┬─────┬──────┐\n",
       "│ cat ┆ val ┆ new  │\n",
       "│ --- ┆ --- ┆ ---  │\n",
       "│ str ┆ i64 ┆ i64  │\n",
       "╞═════╪═════╪══════╡\n",
       "│ a   ┆ 1   ┆ 2    │\n",
       "│ b   ┆ 1   ┆ null │\n",
       "│ b   ┆ 2   ┆ null │\n",
       "│ c   ┆ 1   ┆ null │\n",
       "│ c   ┆ 2   ┆ null │\n",
       "└─────┴─────┴──────┘"
      ]
     },
     "execution_count": 5,
     "metadata": {},
     "output_type": "execute_result"
    }
   ],
   "source": [
    "(df\n",
    " .with_columns(new = pl.when(pl.col('cat') == 'a')\n",
    "                       .then(pl.col('val') + 1)\n",
    "              )\n",
    ")"
   ]
  },
  {
   "cell_type": "markdown",
   "metadata": {},
   "source": [
    "#### Two WHEN/THEN clauses \n",
    "\n",
    "Note that the first matching predicate is applied"
   ]
  },
  {
   "cell_type": "code",
   "execution_count": 6,
   "metadata": {},
   "outputs": [
    {
     "data": {
      "text/html": [
       "<div><style>\n",
       ".dataframe > thead > tr,\n",
       ".dataframe > tbody > tr {\n",
       "  text-align: right;\n",
       "  white-space: pre-wrap;\n",
       "}\n",
       "</style>\n",
       "<small>shape: (5, 3)</small><table border=\"1\" class=\"dataframe\"><thead><tr><th>cat</th><th>val</th><th>new</th></tr><tr><td>str</td><td>i64</td><td>i64</td></tr></thead><tbody><tr><td>&quot;a&quot;</td><td>1</td><td>2</td></tr><tr><td>&quot;b&quot;</td><td>1</td><td>11</td></tr><tr><td>&quot;b&quot;</td><td>2</td><td>12</td></tr><tr><td>&quot;c&quot;</td><td>1</td><td>100</td></tr><tr><td>&quot;c&quot;</td><td>2</td><td>100</td></tr></tbody></table></div>"
      ],
      "text/plain": [
       "shape: (5, 3)\n",
       "┌─────┬─────┬─────┐\n",
       "│ cat ┆ val ┆ new │\n",
       "│ --- ┆ --- ┆ --- │\n",
       "│ str ┆ i64 ┆ i64 │\n",
       "╞═════╪═════╪═════╡\n",
       "│ a   ┆ 1   ┆ 2   │\n",
       "│ b   ┆ 1   ┆ 11  │\n",
       "│ b   ┆ 2   ┆ 12  │\n",
       "│ c   ┆ 1   ┆ 100 │\n",
       "│ c   ┆ 2   ┆ 100 │\n",
       "└─────┴─────┴─────┘"
      ]
     },
     "execution_count": 6,
     "metadata": {},
     "output_type": "execute_result"
    }
   ],
   "source": [
    "(df\n",
    " .with_columns(new = pl.when(pl.col('cat') == 'a')\n",
    "                       .then(pl.col('val') + 1)\n",
    "                       .when(pl.col('cat') == 'b')\n",
    "                       .then(pl.col('val') + 10)\n",
    "               \n",
    "                       .when(pl.col('cat') == 'c')\n",
    "                       .then(pl.lit(100))\n",
    "              )\n",
    ")"
   ]
  },
  {
   "cell_type": "markdown",
   "metadata": {},
   "source": [
    "#### Adding an else with `otherwise`"
   ]
  },
  {
   "cell_type": "code",
   "execution_count": 7,
   "metadata": {},
   "outputs": [
    {
     "data": {
      "text/html": [
       "<div><style>\n",
       ".dataframe > thead > tr,\n",
       ".dataframe > tbody > tr {\n",
       "  text-align: right;\n",
       "  white-space: pre-wrap;\n",
       "}\n",
       "</style>\n",
       "<small>shape: (5, 3)</small><table border=\"1\" class=\"dataframe\"><thead><tr><th>cat</th><th>val</th><th>new</th></tr><tr><td>str</td><td>i64</td><td>i64</td></tr></thead><tbody><tr><td>&quot;a&quot;</td><td>1</td><td>2</td></tr><tr><td>&quot;b&quot;</td><td>1</td><td>11</td></tr><tr><td>&quot;b&quot;</td><td>2</td><td>12</td></tr><tr><td>&quot;c&quot;</td><td>1</td><td>1</td></tr><tr><td>&quot;c&quot;</td><td>2</td><td>2</td></tr></tbody></table></div>"
      ],
      "text/plain": [
       "shape: (5, 3)\n",
       "┌─────┬─────┬─────┐\n",
       "│ cat ┆ val ┆ new │\n",
       "│ --- ┆ --- ┆ --- │\n",
       "│ str ┆ i64 ┆ i64 │\n",
       "╞═════╪═════╪═════╡\n",
       "│ a   ┆ 1   ┆ 2   │\n",
       "│ b   ┆ 1   ┆ 11  │\n",
       "│ b   ┆ 2   ┆ 12  │\n",
       "│ c   ┆ 1   ┆ 1   │\n",
       "│ c   ┆ 2   ┆ 2   │\n",
       "└─────┴─────┴─────┘"
      ]
     },
     "execution_count": 7,
     "metadata": {},
     "output_type": "execute_result"
    }
   ],
   "source": [
    "(df\n",
    " .with_columns(new = pl.when(pl.col('cat') == 'a')\n",
    "                       .then(pl.col('val') + 1)\n",
    "                       .when(pl.col('cat') == 'b')\n",
    "                       .then(pl.col('val') + 10)\n",
    "                       .otherwise(pl.col('val'))\n",
    "              )\n",
    ")"
   ]
  },
  {
   "cell_type": "markdown",
   "metadata": {},
   "source": [
    "### Including literal values\n",
    "\n",
    "Note that\n",
    "* `polars` is actually implemented in Rust.\n",
    "* Literal/constant values need to use `pl.lit`."
   ]
  },
  {
   "cell_type": "code",
   "execution_count": 8,
   "metadata": {},
   "outputs": [
    {
     "data": {
      "text/plain": [
       "0"
      ]
     },
     "execution_count": 8,
     "metadata": {},
     "output_type": "execute_result"
    }
   ],
   "source": [
    "0 # Python integer"
   ]
  },
  {
   "cell_type": "code",
   "execution_count": 9,
   "metadata": {},
   "outputs": [
    {
     "data": {
      "text/html": [
       "dyn int: 0"
      ],
      "text/plain": [
       "<Expr ['dyn int: 0'] at 0x120EAC9B0>"
      ]
     },
     "execution_count": 9,
     "metadata": {},
     "output_type": "execute_result"
    }
   ],
   "source": [
    "pl.lit(0) # Gets converted to Rust/Apache Arrow"
   ]
  },
  {
   "cell_type": "code",
   "execution_count": 10,
   "metadata": {},
   "outputs": [
    {
     "data": {
      "text/html": [
       "dyn int: 0.strict_cast(Int8)"
      ],
      "text/plain": [
       "<Expr ['dyn int: 0.strict_cast(Int8)'] at 0x123134AD0>"
      ]
     },
     "execution_count": 10,
     "metadata": {},
     "output_type": "execute_result"
    }
   ],
   "source": [
    "pl.lit(0, pl.Int8) # Cast to a specific int type"
   ]
  },
  {
   "cell_type": "markdown",
   "metadata": {},
   "source": [
    "#### `case_when` with an optional literal value"
   ]
  },
  {
   "cell_type": "code",
   "execution_count": 11,
   "metadata": {},
   "outputs": [
    {
     "data": {
      "text/html": [
       "<div><style>\n",
       ".dataframe > thead > tr,\n",
       ".dataframe > tbody > tr {\n",
       "  text-align: right;\n",
       "  white-space: pre-wrap;\n",
       "}\n",
       "</style>\n",
       "<small>shape: (5, 3)</small><table border=\"1\" class=\"dataframe\"><thead><tr><th>cat</th><th>val</th><th>new</th></tr><tr><td>str</td><td>i64</td><td>i64</td></tr></thead><tbody><tr><td>&quot;a&quot;</td><td>1</td><td>2</td></tr><tr><td>&quot;b&quot;</td><td>1</td><td>11</td></tr><tr><td>&quot;b&quot;</td><td>2</td><td>12</td></tr><tr><td>&quot;c&quot;</td><td>1</td><td>0</td></tr><tr><td>&quot;c&quot;</td><td>2</td><td>0</td></tr></tbody></table></div>"
      ],
      "text/plain": [
       "shape: (5, 3)\n",
       "┌─────┬─────┬─────┐\n",
       "│ cat ┆ val ┆ new │\n",
       "│ --- ┆ --- ┆ --- │\n",
       "│ str ┆ i64 ┆ i64 │\n",
       "╞═════╪═════╪═════╡\n",
       "│ a   ┆ 1   ┆ 2   │\n",
       "│ b   ┆ 1   ┆ 11  │\n",
       "│ b   ┆ 2   ┆ 12  │\n",
       "│ c   ┆ 1   ┆ 0   │\n",
       "│ c   ┆ 2   ┆ 0   │\n",
       "└─────┴─────┴─────┘"
      ]
     },
     "execution_count": 11,
     "metadata": {},
     "output_type": "execute_result"
    }
   ],
   "source": [
    "(df\n",
    " .with_columns(new = pl.when(pl.col('cat') == 'a')\n",
    "                       .then(pl.col('val') + 1)\n",
    "                       .when(pl.col('cat') == 'b')\n",
    "                       .then(pl.col('val') + 10)\n",
    "                       .otherwise(pl.lit(0))\n",
    "              )\n",
    ")"
   ]
  },
  {
   "cell_type": "markdown",
   "metadata": {},
   "source": [
    "## <font color=\"red\"> Exercise 6.7.1 </font>\n",
    "\n",
    "Consider the `Nationality` column `Artist` data.  We would like to an *indicator column* for the American nationality, that is make a new column that that contains `1` if the artist is of American decent and `0` otherwise. "
   ]
  },
  {
   "cell_type": "code",
   "execution_count": 12,
   "metadata": {},
   "outputs": [],
   "source": [
    "# Your code here"
   ]
  },
  {
   "cell_type": "markdown",
   "metadata": {},
   "source": [
    "## <font color=\"red\"> Exercise 6.7.2 </font>\n",
    "\n",
    "Consider the `Nationality` column `exhibition` table.  We would like to make a indicator column that reclassifies this column as `\"North American\"`, `\"European\"`, or `\"Other\"`.  Use `case_when` to accomplish this task.\n",
    "\n",
    "**Hint.** Lists of relevant nationalities are provided, consider using `is_in` with these lists in your predicates."
   ]
  },
  {
   "cell_type": "code",
   "execution_count": 13,
   "metadata": {},
   "outputs": [
    {
     "data": {
      "text/plain": [
       "['Cambodian',\n",
       " 'Portuguese',\n",
       " 'Estonian',\n",
       " 'Japanese',\n",
       " 'Russian',\n",
       " 'Beninese',\n",
       " 'Indian',\n",
       " 'Pakistani',\n",
       " 'Native American',\n",
       " 'Peruvian',\n",
       " 'Bosnian',\n",
       " 'Canadian Inuit',\n",
       " 'Guatemalan',\n",
       " 'Azerbaijani',\n",
       " 'Costa Rican',\n",
       " 'Ghanaian',\n",
       " 'New Zealander',\n",
       " 'Ukrainian',\n",
       " None,\n",
       " 'Kuwaiti',\n",
       " 'Bolivian',\n",
       " 'German',\n",
       " 'Czech',\n",
       " 'Malian',\n",
       " 'Georgian',\n",
       " 'Brazilian',\n",
       " 'Nationality unknown',\n",
       " 'Australian',\n",
       " 'Macedonian',\n",
       " 'Panamanian',\n",
       " 'Bulgarian',\n",
       " 'Finnish',\n",
       " 'Iranian',\n",
       " 'American',\n",
       " 'Serbian',\n",
       " 'French',\n",
       " 'Salvadoran',\n",
       " 'Czechoslovakian',\n",
       " 'Vietnamese',\n",
       " 'Mexican',\n",
       " 'Austrian',\n",
       " 'Sahrawi',\n",
       " 'Cuban',\n",
       " 'Ethiopian',\n",
       " 'South African',\n",
       " 'Egyptian',\n",
       " 'Belgian',\n",
       " 'Ecuadorian',\n",
       " 'Palestinian',\n",
       " 'Slovak',\n",
       " 'Sierra Leonean',\n",
       " 'Singaporean',\n",
       " 'Irish',\n",
       " 'Dutch',\n",
       " 'Cameroonian',\n",
       " 'Tanzanian',\n",
       " 'Norwegian',\n",
       " 'Afghan',\n",
       " 'Nicaraguan',\n",
       " 'Coptic',\n",
       " 'Korean',\n",
       " 'Taiwanese',\n",
       " 'Chinese',\n",
       " 'Chilean',\n",
       " 'Filipino',\n",
       " 'Argentine',\n",
       " 'Persian',\n",
       " 'Puerto Rican',\n",
       " 'Sudanese',\n",
       " 'Ugandan',\n",
       " 'Namibian',\n",
       " 'Burkinabe',\n",
       " 'Latvian',\n",
       " 'Ivorian',\n",
       " 'Senegalese',\n",
       " 'Albanian',\n",
       " 'Israeli',\n",
       " 'Moroccan',\n",
       " 'Lithuanian',\n",
       " 'Icelandic',\n",
       " 'Yugoslav',\n",
       " 'Algerian',\n",
       " 'Guyanese',\n",
       " 'Welsh',\n",
       " 'Malaysian',\n",
       " 'Lebanese',\n",
       " 'Swedish',\n",
       " 'Bangladeshi',\n",
       " 'Scottish',\n",
       " 'Croatian',\n",
       " 'Catalan',\n",
       " 'Italian',\n",
       " 'Uruguayan',\n",
       " 'Congolese',\n",
       " 'Tunisian',\n",
       " 'Swiss',\n",
       " 'Nigerian',\n",
       " 'Polish',\n",
       " 'Turkish',\n",
       " 'Kyrgyzstani',\n",
       " 'Emirati',\n",
       " 'Bahamian',\n",
       " 'Venezuelan',\n",
       " 'Paraguayan',\n",
       " 'Kenyan',\n",
       " 'Greek',\n",
       " 'Luxembourgish',\n",
       " 'Zimbabwean',\n",
       " 'Thai',\n",
       " 'Spanish',\n",
       " 'Colombian',\n",
       " 'Danish',\n",
       " 'Hungarian',\n",
       " 'Haitian',\n",
       " 'Romanian',\n",
       " 'British',\n",
       " 'Cypriot',\n",
       " 'Canadian',\n",
       " 'Slovenian']"
      ]
     },
     "execution_count": 13,
     "metadata": {},
     "output_type": "execute_result"
    }
   ],
   "source": [
    "all_countries = artists['Nationality'].unique().to_list() \n",
    "all_countries # This was used to make the following lists"
   ]
  },
  {
   "cell_type": "code",
   "execution_count": 14,
   "metadata": {},
   "outputs": [],
   "source": [
    "north_american = ['American',\n",
    "                  'Canadian',\n",
    "                  'Moroccan and American',\n",
    "                  'Canadian Inuit',\n",
    "                  'Native American',\n",
    "                  'American and Mexican']\n",
    "\n",
    "european = ['French', 'Dutch', 'Italian', 'Spanish', 'German',\n",
    "            'Austrian', 'Finnish', 'Swedish', 'Swiss',\n",
    "            'British', 'Czech', 'Belgian', 'Russian-Lithuanian', \n",
    "            'English', 'Greek', 'Norwegian', 'Latvian', 'Polish', \n",
    "            'Milanese', 'Danish', 'Netherlandish', 'Flemish',\n",
    "            'Scottish', 'Hungarian', 'Yugoslav', 'Catalan', \n",
    "            'Florentine', 'Venetian', 'Irish', 'Icelandic', \n",
    "            'Slovene', 'Bosnian', 'Croatian', 'Luxembourgish']"
   ]
  },
  {
   "cell_type": "code",
   "execution_count": 16,
   "metadata": {},
   "outputs": [],
   "source": [
    "# Your code here"
   ]
  }
 ],
 "metadata": {
  "kernelspec": {
   "display_name": "Python 3 (ipykernel)",
   "language": "python",
   "name": "python3"
  },
  "language_info": {
   "codemirror_mode": {
    "name": "ipython",
    "version": 3
   },
   "file_extension": ".py",
   "mimetype": "text/x-python",
   "name": "python",
   "nbconvert_exporter": "python",
   "pygments_lexer": "ipython3",
   "version": "3.12.5"
  },
  "varInspector": {
   "cols": {
    "lenName": 16,
    "lenType": 16,
    "lenVar": 40
   },
   "kernels_config": {
    "python": {
     "delete_cmd_postfix": "",
     "delete_cmd_prefix": "del ",
     "library": "var_list.py",
     "varRefreshCmd": "print(var_dic_list())"
    },
    "r": {
     "delete_cmd_postfix": ") ",
     "delete_cmd_prefix": "rm(",
     "library": "var_list.r",
     "varRefreshCmd": "cat(var_dic_list()) "
    }
   },
   "types_to_exclude": [
    "module",
    "function",
    "builtin_function_or_method",
    "instance",
    "_Feature"
   ],
   "window_display": false
  }
 },
 "nbformat": 4,
 "nbformat_minor": 4
}
