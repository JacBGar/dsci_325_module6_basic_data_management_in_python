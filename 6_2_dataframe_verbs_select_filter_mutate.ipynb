{
 "cells": [
  {
   "cell_type": "markdown",
   "id": "2d129329",
   "metadata": {
    "jp-MarkdownHeadingCollapsed": true,
    "slideshow": {
     "slide_type": "slide"
    }
   },
   "source": [
    "## Colab Prep\n",
    "\n",
    "Execute the following code cells to whenever you open/restart the notebook in Google Colab."
   ]
  },
  {
   "cell_type": "code",
   "execution_count": null,
   "id": "7b375479",
   "metadata": {
    "slideshow": {
     "slide_type": "fragment"
    }
   },
   "outputs": [],
   "source": [
    "!pip install \"polars[all]\""
   ]
  },
  {
   "cell_type": "code",
   "execution_count": null,
   "id": "d188a811",
   "metadata": {
    "scrolled": true,
    "slideshow": {
     "slide_type": "fragment"
    }
   },
   "outputs": [],
   "source": [
    "!wget https://github.com/WSU-DataScience/dsci_325_module6_basic_data_management_in_python/raw/main/sample_data.zip"
   ]
  },
  {
   "cell_type": "code",
   "execution_count": null,
   "id": "311d5379",
   "metadata": {
    "slideshow": {
     "slide_type": "fragment"
    }
   },
   "outputs": [],
   "source": [
    "!unzip ./sample_data.zip"
   ]
  },
  {
   "cell_type": "markdown",
   "id": "d856f262",
   "metadata": {
    "slideshow": {
     "slide_type": "slide"
    }
   },
   "source": [
    "# Select, Filter, and Mutate\n",
    "\n",
    "In this lecture, we will look at three important actions used to process data frames.  While each framework uses different names for these function `polars` uses the following methods for each of the basic data verbs listed below.\n",
    "\n",
    "\n",
    "1. SELECT is accomplished by dot-chaining into the dataframe `select` method. \n",
    "2. FILTER is accomplished by dot-chaining into either `filter` method.\n",
    "3. MUTATE can be performed either as part of a `select`--as seen in SQL--or using the `with_columns` method."
   ]
  },
  {
   "cell_type": "markdown",
   "id": "c3010223",
   "metadata": {
    "slideshow": {
     "slide_type": "slide"
    }
   },
   "source": [
    "## Example - Super Hero Information\n",
    "\n",
    "To illustrate these data verbs, we will be using the `heroes_information.csv`, which contains information about various super heroes."
   ]
  },
  {
   "cell_type": "code",
   "execution_count": 1,
   "id": "f031fb9a",
   "metadata": {
    "slideshow": {
     "slide_type": "fragment"
    }
   },
   "outputs": [],
   "source": [
    "import polars as pl"
   ]
  },
  {
   "cell_type": "code",
   "execution_count": 2,
   "id": "159bee1b",
   "metadata": {
    "slideshow": {
     "slide_type": "fragment"
    }
   },
   "outputs": [
    {
     "data": {
      "text/html": [
       "<div><style>\n",
       ".dataframe > thead > tr,\n",
       ".dataframe > tbody > tr {\n",
       "  text-align: right;\n",
       "  white-space: pre-wrap;\n",
       "}\n",
       "</style>\n",
       "<small>shape: (5, 11)</small><table border=\"1\" class=\"dataframe\"><thead><tr><th></th><th>name</th><th>Gender</th><th>Eye color</th><th>Race</th><th>Hair color</th><th>Height</th><th>Publisher</th><th>Skin color</th><th>Alignment</th><th>Weight</th></tr><tr><td>i64</td><td>str</td><td>str</td><td>str</td><td>str</td><td>str</td><td>f64</td><td>str</td><td>str</td><td>str</td><td>f64</td></tr></thead><tbody><tr><td>0</td><td>&quot;A-Bomb&quot;</td><td>&quot;Male&quot;</td><td>&quot;yellow&quot;</td><td>&quot;Human&quot;</td><td>&quot;No Hair&quot;</td><td>203.0</td><td>&quot;Marvel Comics&quot;</td><td>&quot;-&quot;</td><td>&quot;good&quot;</td><td>441.0</td></tr><tr><td>1</td><td>&quot;Abe Sapien&quot;</td><td>&quot;Male&quot;</td><td>&quot;blue&quot;</td><td>&quot;Icthyo Sapien&quot;</td><td>&quot;No Hair&quot;</td><td>191.0</td><td>&quot;Dark Horse Comics&quot;</td><td>&quot;blue&quot;</td><td>&quot;good&quot;</td><td>65.0</td></tr><tr><td>2</td><td>&quot;Abin Sur&quot;</td><td>&quot;Male&quot;</td><td>&quot;blue&quot;</td><td>&quot;Ungaran&quot;</td><td>&quot;No Hair&quot;</td><td>185.0</td><td>&quot;DC Comics&quot;</td><td>&quot;red&quot;</td><td>&quot;good&quot;</td><td>90.0</td></tr><tr><td>3</td><td>&quot;Abomination&quot;</td><td>&quot;Male&quot;</td><td>&quot;green&quot;</td><td>&quot;Human / Radiation&quot;</td><td>&quot;No Hair&quot;</td><td>203.0</td><td>&quot;Marvel Comics&quot;</td><td>&quot;-&quot;</td><td>&quot;bad&quot;</td><td>441.0</td></tr><tr><td>4</td><td>&quot;Abraxas&quot;</td><td>&quot;Male&quot;</td><td>&quot;blue&quot;</td><td>&quot;Cosmic Entity&quot;</td><td>&quot;Black&quot;</td><td>-99.0</td><td>&quot;Marvel Comics&quot;</td><td>&quot;-&quot;</td><td>&quot;bad&quot;</td><td>-99.0</td></tr></tbody></table></div>"
      ],
      "text/plain": [
       "shape: (5, 11)\n",
       "┌─────┬─────────────┬────────┬───────────┬───┬───────────────────┬────────────┬───────────┬────────┐\n",
       "│     ┆ name        ┆ Gender ┆ Eye color ┆ … ┆ Publisher         ┆ Skin color ┆ Alignment ┆ Weight │\n",
       "│ --- ┆ ---         ┆ ---    ┆ ---       ┆   ┆ ---               ┆ ---        ┆ ---       ┆ ---    │\n",
       "│ i64 ┆ str         ┆ str    ┆ str       ┆   ┆ str               ┆ str        ┆ str       ┆ f64    │\n",
       "╞═════╪═════════════╪════════╪═══════════╪═══╪═══════════════════╪════════════╪═══════════╪════════╡\n",
       "│ 0   ┆ A-Bomb      ┆ Male   ┆ yellow    ┆ … ┆ Marvel Comics     ┆ -          ┆ good      ┆ 441.0  │\n",
       "│ 1   ┆ Abe Sapien  ┆ Male   ┆ blue      ┆ … ┆ Dark Horse Comics ┆ blue       ┆ good      ┆ 65.0   │\n",
       "│ 2   ┆ Abin Sur    ┆ Male   ┆ blue      ┆ … ┆ DC Comics         ┆ red        ┆ good      ┆ 90.0   │\n",
       "│ 3   ┆ Abomination ┆ Male   ┆ green     ┆ … ┆ Marvel Comics     ┆ -          ┆ bad       ┆ 441.0  │\n",
       "│ 4   ┆ Abraxas     ┆ Male   ┆ blue      ┆ … ┆ Marvel Comics     ┆ -          ┆ bad       ┆ -99.0  │\n",
       "└─────┴─────────────┴────────┴───────────┴───┴───────────────────┴────────────┴───────────┴────────┘"
      ]
     },
     "execution_count": 2,
     "metadata": {},
     "output_type": "execute_result"
    }
   ],
   "source": [
    "heroes = pl.read_csv('./sample_data/heroes_information.csv')\n",
    "heroes.head()"
   ]
  },
  {
   "cell_type": "code",
   "execution_count": 3,
   "id": "8d9ebe08",
   "metadata": {
    "slideshow": {
     "slide_type": "subslide"
    }
   },
   "outputs": [
    {
     "data": {
      "text/plain": [
       "[Int64,\n",
       " String,\n",
       " String,\n",
       " String,\n",
       " String,\n",
       " String,\n",
       " Float64,\n",
       " String,\n",
       " String,\n",
       " String,\n",
       " Float64]"
      ]
     },
     "execution_count": 3,
     "metadata": {},
     "output_type": "execute_result"
    }
   ],
   "source": [
    "heroes.dtypes"
   ]
  },
  {
   "cell_type": "code",
   "execution_count": 4,
   "id": "214fdf79",
   "metadata": {
    "slideshow": {
     "slide_type": "fragment"
    }
   },
   "outputs": [
    {
     "data": {
      "text/plain": [
       "(734, 11)"
      ]
     },
     "execution_count": 4,
     "metadata": {},
     "output_type": "execute_result"
    }
   ],
   "source": [
    "heroes.shape"
   ]
  },
  {
   "cell_type": "markdown",
   "id": "22ee70de",
   "metadata": {
    "slideshow": {
     "slide_type": "slide"
    }
   },
   "source": [
    "## Selecting Columns\n",
    "\n",
    "The first verb, `select` \n",
    "\n",
    "* narrows the *columns*\n",
    "* At the core of `SQL` statements"
   ]
  },
  {
   "cell_type": "markdown",
   "id": "e68c7838",
   "metadata": {
    "slideshow": {
     "slide_type": "slide"
    }
   },
   "source": [
    "### How to select\n",
    "\n",
    "<img src=\"https://github.com/WSU-DataScience/dsci_325_module6_basic_data_management_in_python/raw/main/img/dot_chain_select.png\" width=\"800\">"
   ]
  },
  {
   "cell_type": "code",
   "execution_count": 5,
   "id": "c851a389",
   "metadata": {
    "slideshow": {
     "slide_type": "fragment"
    }
   },
   "outputs": [
    {
     "data": {
      "text/html": [
       "<div><style>\n",
       ".dataframe > thead > tr,\n",
       ".dataframe > tbody > tr {\n",
       "  text-align: right;\n",
       "  white-space: pre-wrap;\n",
       "}\n",
       "</style>\n",
       "<small>shape: (5, 3)</small><table border=\"1\" class=\"dataframe\"><thead><tr><th>Eye color</th><th>name</th><th>Gender</th></tr><tr><td>str</td><td>str</td><td>str</td></tr></thead><tbody><tr><td>&quot;yellow&quot;</td><td>&quot;A-Bomb&quot;</td><td>&quot;Male&quot;</td></tr><tr><td>&quot;blue&quot;</td><td>&quot;Abe Sapien&quot;</td><td>&quot;Male&quot;</td></tr><tr><td>&quot;blue&quot;</td><td>&quot;Abin Sur&quot;</td><td>&quot;Male&quot;</td></tr><tr><td>&quot;green&quot;</td><td>&quot;Abomination&quot;</td><td>&quot;Male&quot;</td></tr><tr><td>&quot;blue&quot;</td><td>&quot;Abraxas&quot;</td><td>&quot;Male&quot;</td></tr></tbody></table></div>"
      ],
      "text/plain": [
       "shape: (5, 3)\n",
       "┌───────────┬─────────────┬────────┐\n",
       "│ Eye color ┆ name        ┆ Gender │\n",
       "│ ---       ┆ ---         ┆ ---    │\n",
       "│ str       ┆ str         ┆ str    │\n",
       "╞═══════════╪═════════════╪════════╡\n",
       "│ yellow    ┆ A-Bomb      ┆ Male   │\n",
       "│ blue      ┆ Abe Sapien  ┆ Male   │\n",
       "│ blue      ┆ Abin Sur    ┆ Male   │\n",
       "│ green     ┆ Abomination ┆ Male   │\n",
       "│ blue      ┆ Abraxas     ┆ Male   │\n",
       "└───────────┴─────────────┴────────┘"
      ]
     },
     "execution_count": 5,
     "metadata": {},
     "output_type": "execute_result"
    }
   ],
   "source": [
    "heroes.select(['Eye color', pl.col('name'), heroes['Gender']]).head()"
   ]
  },
  {
   "cell_type": "markdown",
   "id": "336b2d1e",
   "metadata": {
    "slideshow": {
     "slide_type": "slide"
    }
   },
   "source": [
    "### Spreading your code across many lines makes it more readable\n",
    "\n",
    "<img src=\"https://github.com/WSU-DataScience/dsci_325_module6_basic_data_management_in_python/raw/main/img/spread_across_many_lines.png\" width=\"600\">"
   ]
  },
  {
   "cell_type": "code",
   "execution_count": 6,
   "id": "f8cda78f",
   "metadata": {
    "slideshow": {
     "slide_type": "fragment"
    }
   },
   "outputs": [
    {
     "data": {
      "text/html": [
       "<div><style>\n",
       ".dataframe > thead > tr,\n",
       ".dataframe > tbody > tr {\n",
       "  text-align: right;\n",
       "  white-space: pre-wrap;\n",
       "}\n",
       "</style>\n",
       "<small>shape: (5, 3)</small><table border=\"1\" class=\"dataframe\"><thead><tr><th>Eye color</th><th>name</th><th>Gender</th></tr><tr><td>str</td><td>str</td><td>str</td></tr></thead><tbody><tr><td>&quot;yellow&quot;</td><td>&quot;A-Bomb&quot;</td><td>&quot;Male&quot;</td></tr><tr><td>&quot;blue&quot;</td><td>&quot;Abe Sapien&quot;</td><td>&quot;Male&quot;</td></tr><tr><td>&quot;blue&quot;</td><td>&quot;Abin Sur&quot;</td><td>&quot;Male&quot;</td></tr><tr><td>&quot;green&quot;</td><td>&quot;Abomination&quot;</td><td>&quot;Male&quot;</td></tr><tr><td>&quot;blue&quot;</td><td>&quot;Abraxas&quot;</td><td>&quot;Male&quot;</td></tr></tbody></table></div>"
      ],
      "text/plain": [
       "shape: (5, 3)\n",
       "┌───────────┬─────────────┬────────┐\n",
       "│ Eye color ┆ name        ┆ Gender │\n",
       "│ ---       ┆ ---         ┆ ---    │\n",
       "│ str       ┆ str         ┆ str    │\n",
       "╞═══════════╪═════════════╪════════╡\n",
       "│ yellow    ┆ A-Bomb      ┆ Male   │\n",
       "│ blue      ┆ Abe Sapien  ┆ Male   │\n",
       "│ blue      ┆ Abin Sur    ┆ Male   │\n",
       "│ green     ┆ Abomination ┆ Male   │\n",
       "│ blue      ┆ Abraxas     ┆ Male   │\n",
       "└───────────┴─────────────┴────────┘"
      ]
     },
     "execution_count": 6,
     "metadata": {},
     "output_type": "execute_result"
    }
   ],
   "source": [
    "(heroes\n",
    " .select(['Eye color', \n",
    "          pl.col('name'),  \n",
    "          heroes['Gender'],\n",
    "         ])\n",
    " .head()\n",
    ")"
   ]
  },
  {
   "cell_type": "markdown",
   "id": "2ab41249",
   "metadata": {
    "slideshow": {
     "slide_type": "slide"
    }
   },
   "source": [
    "### Three ways to reference columns\n",
    "\n",
    "<img src=\"https://github.com/WSU-DataScience/dsci_325_module6_basic_data_management_in_python/raw/main//img/reference_columns.png\" width=\"500\">"
   ]
  },
  {
   "cell_type": "markdown",
   "id": "2f8e3832",
   "metadata": {
    "slideshow": {
     "slide_type": "slide"
    }
   },
   "source": [
    "## Filtering Rows\n",
    "\n",
    "<img src=\"https://github.com/WSU-DataScience/dsci_325_module6_basic_data_management_in_python/raw/main//img/filter.png\">\n",
    "\n",
    "The next verb, `filter` \n",
    "\n",
    "* filters the *rows*\n",
    "* is related to the `SQL` `WHERE` clause"
   ]
  },
  {
   "cell_type": "markdown",
   "id": "5e807a37",
   "metadata": {
    "slideshow": {
     "slide_type": "slide"
    }
   },
   "source": [
    "## How to filter\n",
    "\n",
    "* dot-chain (`.`) into `filters` \n",
    "* First argument is a boolean expression\n",
    "* Reference columns with `pl.col('column name')`"
   ]
  },
  {
   "cell_type": "code",
   "execution_count": 7,
   "id": "cc9a6eb5",
   "metadata": {
    "slideshow": {
     "slide_type": "fragment"
    }
   },
   "outputs": [
    {
     "data": {
      "text/html": [
       "<div><style>\n",
       ".dataframe > thead > tr,\n",
       ".dataframe > tbody > tr {\n",
       "  text-align: right;\n",
       "  white-space: pre-wrap;\n",
       "}\n",
       "</style>\n",
       "<small>shape: (5, 11)</small><table border=\"1\" class=\"dataframe\"><thead><tr><th></th><th>name</th><th>Gender</th><th>Eye color</th><th>Race</th><th>Hair color</th><th>Height</th><th>Publisher</th><th>Skin color</th><th>Alignment</th><th>Weight</th></tr><tr><td>i64</td><td>str</td><td>str</td><td>str</td><td>str</td><td>str</td><td>f64</td><td>str</td><td>str</td><td>str</td><td>f64</td></tr></thead><tbody><tr><td>0</td><td>&quot;A-Bomb&quot;</td><td>&quot;Male&quot;</td><td>&quot;yellow&quot;</td><td>&quot;Human&quot;</td><td>&quot;No Hair&quot;</td><td>203.0</td><td>&quot;Marvel Comics&quot;</td><td>&quot;-&quot;</td><td>&quot;good&quot;</td><td>441.0</td></tr><tr><td>1</td><td>&quot;Abe Sapien&quot;</td><td>&quot;Male&quot;</td><td>&quot;blue&quot;</td><td>&quot;Icthyo Sapien&quot;</td><td>&quot;No Hair&quot;</td><td>191.0</td><td>&quot;Dark Horse Comics&quot;</td><td>&quot;blue&quot;</td><td>&quot;good&quot;</td><td>65.0</td></tr><tr><td>2</td><td>&quot;Abin Sur&quot;</td><td>&quot;Male&quot;</td><td>&quot;blue&quot;</td><td>&quot;Ungaran&quot;</td><td>&quot;No Hair&quot;</td><td>185.0</td><td>&quot;DC Comics&quot;</td><td>&quot;red&quot;</td><td>&quot;good&quot;</td><td>90.0</td></tr><tr><td>3</td><td>&quot;Abomination&quot;</td><td>&quot;Male&quot;</td><td>&quot;green&quot;</td><td>&quot;Human / Radiation&quot;</td><td>&quot;No Hair&quot;</td><td>203.0</td><td>&quot;Marvel Comics&quot;</td><td>&quot;-&quot;</td><td>&quot;bad&quot;</td><td>441.0</td></tr><tr><td>4</td><td>&quot;Abraxas&quot;</td><td>&quot;Male&quot;</td><td>&quot;blue&quot;</td><td>&quot;Cosmic Entity&quot;</td><td>&quot;Black&quot;</td><td>-99.0</td><td>&quot;Marvel Comics&quot;</td><td>&quot;-&quot;</td><td>&quot;bad&quot;</td><td>-99.0</td></tr></tbody></table></div>"
      ],
      "text/plain": [
       "shape: (5, 11)\n",
       "┌─────┬─────────────┬────────┬───────────┬───┬───────────────────┬────────────┬───────────┬────────┐\n",
       "│     ┆ name        ┆ Gender ┆ Eye color ┆ … ┆ Publisher         ┆ Skin color ┆ Alignment ┆ Weight │\n",
       "│ --- ┆ ---         ┆ ---    ┆ ---       ┆   ┆ ---               ┆ ---        ┆ ---       ┆ ---    │\n",
       "│ i64 ┆ str         ┆ str    ┆ str       ┆   ┆ str               ┆ str        ┆ str       ┆ f64    │\n",
       "╞═════╪═════════════╪════════╪═══════════╪═══╪═══════════════════╪════════════╪═══════════╪════════╡\n",
       "│ 0   ┆ A-Bomb      ┆ Male   ┆ yellow    ┆ … ┆ Marvel Comics     ┆ -          ┆ good      ┆ 441.0  │\n",
       "│ 1   ┆ Abe Sapien  ┆ Male   ┆ blue      ┆ … ┆ Dark Horse Comics ┆ blue       ┆ good      ┆ 65.0   │\n",
       "│ 2   ┆ Abin Sur    ┆ Male   ┆ blue      ┆ … ┆ DC Comics         ┆ red        ┆ good      ┆ 90.0   │\n",
       "│ 3   ┆ Abomination ┆ Male   ┆ green     ┆ … ┆ Marvel Comics     ┆ -          ┆ bad       ┆ 441.0  │\n",
       "│ 4   ┆ Abraxas     ┆ Male   ┆ blue      ┆ … ┆ Marvel Comics     ┆ -          ┆ bad       ┆ -99.0  │\n",
       "└─────┴─────────────┴────────┴───────────┴───┴───────────────────┴────────────┴───────────┴────────┘"
      ]
     },
     "execution_count": 7,
     "metadata": {},
     "output_type": "execute_result"
    }
   ],
   "source": [
    "(heroes \n",
    " .filter(pl.col('Gender') == 'Male') # With a column expression\n",
    " .head()\n",
    ")"
   ]
  },
  {
   "cell_type": "markdown",
   "id": "7aff035c",
   "metadata": {
    "slideshow": {
     "slide_type": "slide"
    }
   },
   "source": [
    "### Column expressions a lazy\n",
    "\n",
    "Column expressions are\n",
    "\n",
    "* Lazy, waiting to process as long as possible.\n",
    "* Allow us to reference newly created or changed columns \n",
    "* The safe/preferred method of referencing columns."
   ]
  },
  {
   "cell_type": "code",
   "execution_count": 8,
   "id": "cde13b13",
   "metadata": {},
   "outputs": [
    {
     "data": {
      "text/html": [
       "[(col(\"Gender\")) == (String(Male))]"
      ],
      "text/plain": [
       "<Expr ['[(col(\"Gender\")) == (String(Ma…'] at 0x106B34C80>"
      ]
     },
     "execution_count": 8,
     "metadata": {},
     "output_type": "execute_result"
    }
   ],
   "source": [
    "pl.col('Gender') == 'Male' # lazy Expr"
   ]
  },
  {
   "cell_type": "markdown",
   "id": "2595c0e8",
   "metadata": {
    "slideshow": {
     "slide_type": "slide"
    }
   },
   "source": [
    "### Getting columns from the dataframe is eager\n",
    "\n",
    "When getting a column using `df[col_name]`\n",
    "\n",
    "* Eager, getting the contents of the column when code is read\n",
    "* Will throw an exception for newly created columns.\n",
    "* Will use the original data and miss any changes made in the chain.\n",
    "* Inefficient, as will read the whole original column and miss any filtering."
   ]
  },
  {
   "cell_type": "code",
   "execution_count": 9,
   "id": "1cc91506",
   "metadata": {
    "slideshow": {
     "slide_type": "fragment"
    }
   },
   "outputs": [
    {
     "data": {
      "text/html": [
       "<div><style>\n",
       ".dataframe > thead > tr,\n",
       ".dataframe > tbody > tr {\n",
       "  text-align: right;\n",
       "  white-space: pre-wrap;\n",
       "}\n",
       "</style>\n",
       "<small>shape: (5, 11)</small><table border=\"1\" class=\"dataframe\"><thead><tr><th></th><th>name</th><th>Gender</th><th>Eye color</th><th>Race</th><th>Hair color</th><th>Height</th><th>Publisher</th><th>Skin color</th><th>Alignment</th><th>Weight</th></tr><tr><td>i64</td><td>str</td><td>str</td><td>str</td><td>str</td><td>str</td><td>f64</td><td>str</td><td>str</td><td>str</td><td>f64</td></tr></thead><tbody><tr><td>0</td><td>&quot;A-Bomb&quot;</td><td>&quot;Male&quot;</td><td>&quot;yellow&quot;</td><td>&quot;Human&quot;</td><td>&quot;No Hair&quot;</td><td>203.0</td><td>&quot;Marvel Comics&quot;</td><td>&quot;-&quot;</td><td>&quot;good&quot;</td><td>441.0</td></tr><tr><td>1</td><td>&quot;Abe Sapien&quot;</td><td>&quot;Male&quot;</td><td>&quot;blue&quot;</td><td>&quot;Icthyo Sapien&quot;</td><td>&quot;No Hair&quot;</td><td>191.0</td><td>&quot;Dark Horse Comics&quot;</td><td>&quot;blue&quot;</td><td>&quot;good&quot;</td><td>65.0</td></tr><tr><td>2</td><td>&quot;Abin Sur&quot;</td><td>&quot;Male&quot;</td><td>&quot;blue&quot;</td><td>&quot;Ungaran&quot;</td><td>&quot;No Hair&quot;</td><td>185.0</td><td>&quot;DC Comics&quot;</td><td>&quot;red&quot;</td><td>&quot;good&quot;</td><td>90.0</td></tr><tr><td>3</td><td>&quot;Abomination&quot;</td><td>&quot;Male&quot;</td><td>&quot;green&quot;</td><td>&quot;Human / Radiation&quot;</td><td>&quot;No Hair&quot;</td><td>203.0</td><td>&quot;Marvel Comics&quot;</td><td>&quot;-&quot;</td><td>&quot;bad&quot;</td><td>441.0</td></tr><tr><td>4</td><td>&quot;Abraxas&quot;</td><td>&quot;Male&quot;</td><td>&quot;blue&quot;</td><td>&quot;Cosmic Entity&quot;</td><td>&quot;Black&quot;</td><td>-99.0</td><td>&quot;Marvel Comics&quot;</td><td>&quot;-&quot;</td><td>&quot;bad&quot;</td><td>-99.0</td></tr></tbody></table></div>"
      ],
      "text/plain": [
       "shape: (5, 11)\n",
       "┌─────┬─────────────┬────────┬───────────┬───┬───────────────────┬────────────┬───────────┬────────┐\n",
       "│     ┆ name        ┆ Gender ┆ Eye color ┆ … ┆ Publisher         ┆ Skin color ┆ Alignment ┆ Weight │\n",
       "│ --- ┆ ---         ┆ ---    ┆ ---       ┆   ┆ ---               ┆ ---        ┆ ---       ┆ ---    │\n",
       "│ i64 ┆ str         ┆ str    ┆ str       ┆   ┆ str               ┆ str        ┆ str       ┆ f64    │\n",
       "╞═════╪═════════════╪════════╪═══════════╪═══╪═══════════════════╪════════════╪═══════════╪════════╡\n",
       "│ 0   ┆ A-Bomb      ┆ Male   ┆ yellow    ┆ … ┆ Marvel Comics     ┆ -          ┆ good      ┆ 441.0  │\n",
       "│ 1   ┆ Abe Sapien  ┆ Male   ┆ blue      ┆ … ┆ Dark Horse Comics ┆ blue       ┆ good      ┆ 65.0   │\n",
       "│ 2   ┆ Abin Sur    ┆ Male   ┆ blue      ┆ … ┆ DC Comics         ┆ red        ┆ good      ┆ 90.0   │\n",
       "│ 3   ┆ Abomination ┆ Male   ┆ green     ┆ … ┆ Marvel Comics     ┆ -          ┆ bad       ┆ 441.0  │\n",
       "│ 4   ┆ Abraxas     ┆ Male   ┆ blue      ┆ … ┆ Marvel Comics     ┆ -          ┆ bad       ┆ -99.0  │\n",
       "└─────┴─────────────┴────────┴───────────┴───┴───────────────────┴────────────┴───────────┴────────┘"
      ]
     },
     "execution_count": 9,
     "metadata": {},
     "output_type": "execute_result"
    }
   ],
   "source": [
    "(heroes \n",
    " .filter(heroes['Gender'] == 'Male') # Get column from dataframe\n",
    " .head()\n",
    ")"
   ]
  },
  {
   "cell_type": "code",
   "execution_count": 10,
   "id": "1bb107c5",
   "metadata": {},
   "outputs": [
    {
     "data": {
      "text/html": [
       "<div><style>\n",
       ".dataframe > thead > tr,\n",
       ".dataframe > tbody > tr {\n",
       "  text-align: right;\n",
       "  white-space: pre-wrap;\n",
       "}\n",
       "</style>\n",
       "<small>shape: (734,)</small><table border=\"1\" class=\"dataframe\"><thead><tr><th>Gender</th></tr><tr><td>bool</td></tr></thead><tbody><tr><td>true</td></tr><tr><td>true</td></tr><tr><td>true</td></tr><tr><td>true</td></tr><tr><td>true</td></tr><tr><td>&hellip;</td></tr><tr><td>false</td></tr><tr><td>true</td></tr><tr><td>true</td></tr><tr><td>false</td></tr><tr><td>true</td></tr></tbody></table></div>"
      ],
      "text/plain": [
       "shape: (734,)\n",
       "Series: 'Gender' [bool]\n",
       "[\n",
       "\ttrue\n",
       "\ttrue\n",
       "\ttrue\n",
       "\ttrue\n",
       "\ttrue\n",
       "\t…\n",
       "\tfalse\n",
       "\ttrue\n",
       "\ttrue\n",
       "\tfalse\n",
       "\ttrue\n",
       "]"
      ]
     },
     "execution_count": 10,
     "metadata": {},
     "output_type": "execute_result"
    }
   ],
   "source": [
    "heroes['Gender'] == 'Male' # Eager, creating a Boolean series ASAP"
   ]
  },
  {
   "cell_type": "markdown",
   "id": "7265b291",
   "metadata": {
    "slideshow": {
     "slide_type": "slide"
    }
   },
   "source": [
    "## Chaining Data Verbs\n",
    "\n",
    "* Processing df $\\rightarrow$ chaining together many data verbs\n",
    "* Accomplished through dot-chains"
   ]
  },
  {
   "cell_type": "markdown",
   "id": "74a8db33",
   "metadata": {
    "slideshow": {
     "slide_type": "slide"
    }
   },
   "source": [
    "### Example 1 - `select` + `filter`"
   ]
  },
  {
   "cell_type": "code",
   "execution_count": 11,
   "id": "e727c13f",
   "metadata": {
    "slideshow": {
     "slide_type": "fragment"
    }
   },
   "outputs": [
    {
     "data": {
      "text/html": [
       "<div><style>\n",
       ".dataframe > thead > tr,\n",
       ".dataframe > tbody > tr {\n",
       "  text-align: right;\n",
       "  white-space: pre-wrap;\n",
       "}\n",
       "</style>\n",
       "<small>shape: (5, 3)</small><table border=\"1\" class=\"dataframe\"><thead><tr><th>name</th><th>Gender</th><th>Weight</th></tr><tr><td>str</td><td>str</td><td>f64</td></tr></thead><tbody><tr><td>&quot;A-Bomb&quot;</td><td>&quot;Male&quot;</td><td>441.0</td></tr><tr><td>&quot;Abe Sapien&quot;</td><td>&quot;Male&quot;</td><td>65.0</td></tr><tr><td>&quot;Abin Sur&quot;</td><td>&quot;Male&quot;</td><td>90.0</td></tr><tr><td>&quot;Abomination&quot;</td><td>&quot;Male&quot;</td><td>441.0</td></tr><tr><td>&quot;Abraxas&quot;</td><td>&quot;Male&quot;</td><td>-99.0</td></tr></tbody></table></div>"
      ],
      "text/plain": [
       "shape: (5, 3)\n",
       "┌─────────────┬────────┬────────┐\n",
       "│ name        ┆ Gender ┆ Weight │\n",
       "│ ---         ┆ ---    ┆ ---    │\n",
       "│ str         ┆ str    ┆ f64    │\n",
       "╞═════════════╪════════╪════════╡\n",
       "│ A-Bomb      ┆ Male   ┆ 441.0  │\n",
       "│ Abe Sapien  ┆ Male   ┆ 65.0   │\n",
       "│ Abin Sur    ┆ Male   ┆ 90.0   │\n",
       "│ Abomination ┆ Male   ┆ 441.0  │\n",
       "│ Abraxas     ┆ Male   ┆ -99.0  │\n",
       "└─────────────┴────────┴────────┘"
      ]
     },
     "execution_count": 11,
     "metadata": {},
     "output_type": "execute_result"
    }
   ],
   "source": [
    "(heroes \n",
    " .filter(pl.col('Gender') == 'Male') \n",
    " .select(['name', 'Gender', 'Weight'])\n",
    " .head()\n",
    ")"
   ]
  },
  {
   "cell_type": "markdown",
   "id": "80714ef6",
   "metadata": {
    "slideshow": {
     "slide_type": "slide"
    }
   },
   "source": [
    "### Example 2 - `filter` + `filter`\n",
    "\n",
    "Note that chaining `filter`s is an `and` operation."
   ]
  },
  {
   "cell_type": "code",
   "execution_count": 12,
   "id": "4cd9417b",
   "metadata": {
    "slideshow": {
     "slide_type": "fragment"
    }
   },
   "outputs": [
    {
     "data": {
      "text/html": [
       "<div><style>\n",
       ".dataframe > thead > tr,\n",
       ".dataframe > tbody > tr {\n",
       "  text-align: right;\n",
       "  white-space: pre-wrap;\n",
       "}\n",
       "</style>\n",
       "<small>shape: (5, 3)</small><table border=\"1\" class=\"dataframe\"><thead><tr><th>name</th><th>Gender</th><th>Weight</th></tr><tr><td>str</td><td>str</td><td>f64</td></tr></thead><tbody><tr><td>&quot;A-Bomb&quot;</td><td>&quot;Male&quot;</td><td>441.0</td></tr><tr><td>&quot;Abe Sapien&quot;</td><td>&quot;Male&quot;</td><td>65.0</td></tr><tr><td>&quot;Abin Sur&quot;</td><td>&quot;Male&quot;</td><td>90.0</td></tr><tr><td>&quot;Abomination&quot;</td><td>&quot;Male&quot;</td><td>441.0</td></tr><tr><td>&quot;Absorbing Man&quot;</td><td>&quot;Male&quot;</td><td>122.0</td></tr></tbody></table></div>"
      ],
      "text/plain": [
       "shape: (5, 3)\n",
       "┌───────────────┬────────┬────────┐\n",
       "│ name          ┆ Gender ┆ Weight │\n",
       "│ ---           ┆ ---    ┆ ---    │\n",
       "│ str           ┆ str    ┆ f64    │\n",
       "╞═══════════════╪════════╪════════╡\n",
       "│ A-Bomb        ┆ Male   ┆ 441.0  │\n",
       "│ Abe Sapien    ┆ Male   ┆ 65.0   │\n",
       "│ Abin Sur      ┆ Male   ┆ 90.0   │\n",
       "│ Abomination   ┆ Male   ┆ 441.0  │\n",
       "│ Absorbing Man ┆ Male   ┆ 122.0  │\n",
       "└───────────────┴────────┴────────┘"
      ]
     },
     "execution_count": 12,
     "metadata": {},
     "output_type": "execute_result"
    }
   ],
   "source": [
    "(heroes\n",
    ".select(['name', 'Gender', 'Weight'])\n",
    ".filter(pl.col('Gender') == 'Male')\n",
    ".filter(pl.col('Weight') > 0)\n",
    ".head()\n",
    ")"
   ]
  },
  {
   "cell_type": "markdown",
   "id": "40cb5489",
   "metadata": {
    "slideshow": {
     "slide_type": "slide"
    }
   },
   "source": [
    "## <font color=\"red\"> Exercise 6.2.1: Blue-eyed Heroes </font>\n",
    "\n",
    "Create a query that\n",
    "\n",
    "1. Selects the name, Gender, and Eye Color columns\n",
    "2. Filters on eye_color == 'blue'"
   ]
  },
  {
   "cell_type": "code",
   "execution_count": 13,
   "id": "ce2328ec",
   "metadata": {
    "slideshow": {
     "slide_type": "fragment"
    }
   },
   "outputs": [],
   "source": [
    "# Your code here"
   ]
  },
  {
   "cell_type": "markdown",
   "id": "5517360a",
   "metadata": {
    "slideshow": {
     "slide_type": "slide"
    }
   },
   "source": [
    "## Constructing New Columns\n",
    "\n",
    "The third verb, `mutate` \n",
    "\n",
    "* Creates new columns\n",
    "* Changes existing columns"
   ]
  },
  {
   "cell_type": "markdown",
   "id": "fc1212e8",
   "metadata": {
    "slideshow": {
     "slide_type": "slide"
    }
   },
   "source": [
    "### Method 1 - Inside `select`\n",
    "\n",
    "*  dot-chain (`.`) into `select`\n",
    "* Include one or more mutates in the `list` of expressions.\n",
    "* Name the new column using `alias`"
   ]
  },
  {
   "cell_type": "markdown",
   "id": "c9583cc3",
   "metadata": {
    "slideshow": {
     "slide_type": "slide"
    }
   },
   "source": [
    "#### Example - Converting Weight from pounds to kilograms inside `select`"
   ]
  },
  {
   "cell_type": "code",
   "execution_count": 14,
   "id": "5612fba0",
   "metadata": {
    "slideshow": {
     "slide_type": "fragment"
    }
   },
   "outputs": [
    {
     "data": {
      "text/html": [
       "<div><style>\n",
       ".dataframe > thead > tr,\n",
       ".dataframe > tbody > tr {\n",
       "  text-align: right;\n",
       "  white-space: pre-wrap;\n",
       "}\n",
       "</style>\n",
       "<small>shape: (5, 4)</small><table border=\"1\" class=\"dataframe\"><thead><tr><th>name</th><th>Gender</th><th>Weight</th><th>Weight_kg</th></tr><tr><td>str</td><td>str</td><td>f64</td><td>f64</td></tr></thead><tbody><tr><td>&quot;A-Bomb&quot;</td><td>&quot;Male&quot;</td><td>441.0</td><td>200.036288</td></tr><tr><td>&quot;Abe Sapien&quot;</td><td>&quot;Male&quot;</td><td>65.0</td><td>29.483807</td></tr><tr><td>&quot;Abin Sur&quot;</td><td>&quot;Male&quot;</td><td>90.0</td><td>40.823732</td></tr><tr><td>&quot;Abomination&quot;</td><td>&quot;Male&quot;</td><td>441.0</td><td>200.036288</td></tr><tr><td>&quot;Abraxas&quot;</td><td>&quot;Male&quot;</td><td>-99.0</td><td>-44.906105</td></tr></tbody></table></div>"
      ],
      "text/plain": [
       "shape: (5, 4)\n",
       "┌─────────────┬────────┬────────┬────────────┐\n",
       "│ name        ┆ Gender ┆ Weight ┆ Weight_kg  │\n",
       "│ ---         ┆ ---    ┆ ---    ┆ ---        │\n",
       "│ str         ┆ str    ┆ f64    ┆ f64        │\n",
       "╞═════════════╪════════╪════════╪════════════╡\n",
       "│ A-Bomb      ┆ Male   ┆ 441.0  ┆ 200.036288 │\n",
       "│ Abe Sapien  ┆ Male   ┆ 65.0   ┆ 29.483807  │\n",
       "│ Abin Sur    ┆ Male   ┆ 90.0   ┆ 40.823732  │\n",
       "│ Abomination ┆ Male   ┆ 441.0  ┆ 200.036288 │\n",
       "│ Abraxas     ┆ Male   ┆ -99.0  ┆ -44.906105 │\n",
       "└─────────────┴────────┴────────┴────────────┘"
      ]
     },
     "execution_count": 14,
     "metadata": {},
     "output_type": "execute_result"
    }
   ],
   "source": [
    "(heroes \n",
    " .select(['name', \n",
    "          'Gender', \n",
    "          'Weight',\n",
    "          (pl.col('Weight')/2.2046).alias('Weight_kg'),\n",
    "         ]) \n",
    " .head()\n",
    ")"
   ]
  },
  {
   "cell_type": "markdown",
   "id": "3a3859b5",
   "metadata": {
    "slideshow": {
     "slide_type": "slide"
    }
   },
   "source": [
    "### Method 2 - Mutate using `with_columns`\n",
    "\n",
    "* dot-chain (`.`) into `with_columns`\n",
    "* First argument is a `list` of transformational expressions\n",
    "* Reference columns with `pl.col('column_name')` or `df['column name']`\n",
    "* Name the new column using `alias`"
   ]
  },
  {
   "cell_type": "code",
   "execution_count": 15,
   "id": "7aad94a5",
   "metadata": {
    "slideshow": {
     "slide_type": "fragment"
    }
   },
   "outputs": [
    {
     "data": {
      "text/html": [
       "<div><style>\n",
       ".dataframe > thead > tr,\n",
       ".dataframe > tbody > tr {\n",
       "  text-align: right;\n",
       "  white-space: pre-wrap;\n",
       "}\n",
       "</style>\n",
       "<small>shape: (5, 5)</small><table border=\"1\" class=\"dataframe\"><thead><tr><th>name</th><th>Gender</th><th>Weight</th><th>Weight_kg</th><th>Weight_g</th></tr><tr><td>str</td><td>str</td><td>f64</td><td>f64</td><td>f64</td></tr></thead><tbody><tr><td>&quot;A-Bomb&quot;</td><td>&quot;Male&quot;</td><td>441.0</td><td>200.036288</td><td>200036.287762</td></tr><tr><td>&quot;Abe Sapien&quot;</td><td>&quot;Male&quot;</td><td>65.0</td><td>29.483807</td><td>29483.806586</td></tr><tr><td>&quot;Abin Sur&quot;</td><td>&quot;Male&quot;</td><td>90.0</td><td>40.823732</td><td>40823.732196</td></tr><tr><td>&quot;Abomination&quot;</td><td>&quot;Male&quot;</td><td>441.0</td><td>200.036288</td><td>200036.287762</td></tr><tr><td>&quot;Abraxas&quot;</td><td>&quot;Male&quot;</td><td>-99.0</td><td>-44.906105</td><td>-44906.105416</td></tr></tbody></table></div>"
      ],
      "text/plain": [
       "shape: (5, 5)\n",
       "┌─────────────┬────────┬────────┬────────────┬───────────────┐\n",
       "│ name        ┆ Gender ┆ Weight ┆ Weight_kg  ┆ Weight_g      │\n",
       "│ ---         ┆ ---    ┆ ---    ┆ ---        ┆ ---           │\n",
       "│ str         ┆ str    ┆ f64    ┆ f64        ┆ f64           │\n",
       "╞═════════════╪════════╪════════╪════════════╪═══════════════╡\n",
       "│ A-Bomb      ┆ Male   ┆ 441.0  ┆ 200.036288 ┆ 200036.287762 │\n",
       "│ Abe Sapien  ┆ Male   ┆ 65.0   ┆ 29.483807  ┆ 29483.806586  │\n",
       "│ Abin Sur    ┆ Male   ┆ 90.0   ┆ 40.823732  ┆ 40823.732196  │\n",
       "│ Abomination ┆ Male   ┆ 441.0  ┆ 200.036288 ┆ 200036.287762 │\n",
       "│ Abraxas     ┆ Male   ┆ -99.0  ┆ -44.906105 ┆ -44906.105416 │\n",
       "└─────────────┴────────┴────────┴────────────┴───────────────┘"
      ]
     },
     "execution_count": 15,
     "metadata": {},
     "output_type": "execute_result"
    }
   ],
   "source": [
    "(heroes \n",
    " .select(['name', \n",
    "          'Gender', \n",
    "          'Weight'\n",
    "         ]) \n",
    " .with_columns([(pl.col('Weight')/2.2046).alias('Weight_kg'),\n",
    "                (pl.col('Weight')/2.2046*1000).alias('Weight_g'),\n",
    "               ]) \n",
    " .head()\n",
    ")"
   ]
  },
  {
   "cell_type": "markdown",
   "id": "985f492b",
   "metadata": {},
   "source": [
    "### Making this more readable with keyword arguments\n",
    "\n",
    "* Use `new_var = col_expr`.\n",
    "* Removes the need for `alias`\n",
    "* `new_var` must be a proper Python name\n",
    "    * Only letter, numbers, or `_`.\n",
    "* Experimental, requires Config"
   ]
  },
  {
   "cell_type": "code",
   "execution_count": 16,
   "id": "bac49d97",
   "metadata": {
    "slideshow": {
     "slide_type": "fragment"
    }
   },
   "outputs": [
    {
     "data": {
      "text/html": [
       "<div><style>\n",
       ".dataframe > thead > tr,\n",
       ".dataframe > tbody > tr {\n",
       "  text-align: right;\n",
       "  white-space: pre-wrap;\n",
       "}\n",
       "</style>\n",
       "<small>shape: (5, 5)</small><table border=\"1\" class=\"dataframe\"><thead><tr><th>name</th><th>Gender</th><th>Weight</th><th>Weight_kg</th><th>Weight_g</th></tr><tr><td>str</td><td>str</td><td>f64</td><td>f64</td><td>f64</td></tr></thead><tbody><tr><td>&quot;A-Bomb&quot;</td><td>&quot;Male&quot;</td><td>441.0</td><td>200.036288</td><td>200036.287762</td></tr><tr><td>&quot;Abe Sapien&quot;</td><td>&quot;Male&quot;</td><td>65.0</td><td>29.483807</td><td>29483.806586</td></tr><tr><td>&quot;Abin Sur&quot;</td><td>&quot;Male&quot;</td><td>90.0</td><td>40.823732</td><td>40823.732196</td></tr><tr><td>&quot;Abomination&quot;</td><td>&quot;Male&quot;</td><td>441.0</td><td>200.036288</td><td>200036.287762</td></tr><tr><td>&quot;Abraxas&quot;</td><td>&quot;Male&quot;</td><td>-99.0</td><td>-44.906105</td><td>-44906.105416</td></tr></tbody></table></div>"
      ],
      "text/plain": [
       "shape: (5, 5)\n",
       "┌─────────────┬────────┬────────┬────────────┬───────────────┐\n",
       "│ name        ┆ Gender ┆ Weight ┆ Weight_kg  ┆ Weight_g      │\n",
       "│ ---         ┆ ---    ┆ ---    ┆ ---        ┆ ---           │\n",
       "│ str         ┆ str    ┆ f64    ┆ f64        ┆ f64           │\n",
       "╞═════════════╪════════╪════════╪════════════╪═══════════════╡\n",
       "│ A-Bomb      ┆ Male   ┆ 441.0  ┆ 200.036288 ┆ 200036.287762 │\n",
       "│ Abe Sapien  ┆ Male   ┆ 65.0   ┆ 29.483807  ┆ 29483.806586  │\n",
       "│ Abin Sur    ┆ Male   ┆ 90.0   ┆ 40.823732  ┆ 40823.732196  │\n",
       "│ Abomination ┆ Male   ┆ 441.0  ┆ 200.036288 ┆ 200036.287762 │\n",
       "│ Abraxas     ┆ Male   ┆ -99.0  ┆ -44.906105 ┆ -44906.105416 │\n",
       "└─────────────┴────────┴────────┴────────────┴───────────────┘"
      ]
     },
     "execution_count": 16,
     "metadata": {},
     "output_type": "execute_result"
    }
   ],
   "source": [
    "pl.Config.with_columns_kwargs = True\n",
    "\n",
    "(heroes \n",
    " .select(['name', \n",
    "          'Gender', \n",
    "          'Weight'\n",
    "         ]) \n",
    " .with_columns(Weight_kg = pl.col('Weight')/2.2046,\n",
    "               Weight_g =  pl.col('Weight')/2.2046*1000,\n",
    "               ) \n",
    " .head()\n",
    ")"
   ]
  },
  {
   "cell_type": "markdown",
   "id": "0666ee82",
   "metadata": {
    "slideshow": {
     "slide_type": "slide"
    }
   },
   "source": [
    "## Referencing a new column is tricky!\n",
    "\n",
    "If we reference a new column in the same `with_columns` or `select`, we get an exception."
   ]
  },
  {
   "cell_type": "code",
   "execution_count": 17,
   "id": "61d5c3b3",
   "metadata": {
    "scrolled": true,
    "slideshow": {
     "slide_type": "fragment"
    }
   },
   "outputs": [
    {
     "ename": "ColumnNotFoundError",
     "evalue": "Weight_kg",
     "output_type": "error",
     "traceback": [
      "\u001b[0;31m---------------------------------------------------------------------------\u001b[0m",
      "\u001b[0;31mColumnNotFoundError\u001b[0m                       Traceback (most recent call last)",
      "Cell \u001b[0;32mIn[17], line 8\u001b[0m\n\u001b[1;32m      1\u001b[0m pl\u001b[38;5;241m.\u001b[39mConfig\u001b[38;5;241m.\u001b[39mwith_columns_kwargs \u001b[38;5;241m=\u001b[39m \u001b[38;5;28;01mTrue\u001b[39;00m\n\u001b[1;32m      3\u001b[0m (\u001b[43mheroes\u001b[49m\u001b[43m \u001b[49m\n\u001b[1;32m      4\u001b[0m \u001b[43m \u001b[49m\u001b[38;5;241;43m.\u001b[39;49m\u001b[43mselect\u001b[49m\u001b[43m(\u001b[49m\u001b[43m[\u001b[49m\u001b[38;5;124;43m'\u001b[39;49m\u001b[38;5;124;43mname\u001b[39;49m\u001b[38;5;124;43m'\u001b[39;49m\u001b[43m,\u001b[49m\u001b[43m \u001b[49m\n\u001b[1;32m      5\u001b[0m \u001b[43m          \u001b[49m\u001b[38;5;124;43m'\u001b[39;49m\u001b[38;5;124;43mGender\u001b[39;49m\u001b[38;5;124;43m'\u001b[39;49m\u001b[43m,\u001b[49m\u001b[43m \u001b[49m\n\u001b[1;32m      6\u001b[0m \u001b[43m          \u001b[49m\u001b[38;5;124;43m'\u001b[39;49m\u001b[38;5;124;43mWeight\u001b[39;49m\u001b[38;5;124;43m'\u001b[39;49m\n\u001b[1;32m      7\u001b[0m \u001b[43m         \u001b[49m\u001b[43m]\u001b[49m\u001b[43m)\u001b[49m\u001b[43m \u001b[49m\n\u001b[0;32m----> 8\u001b[0m \u001b[43m \u001b[49m\u001b[38;5;241;43m.\u001b[39;49m\u001b[43mwith_columns\u001b[49m\u001b[43m(\u001b[49m\u001b[43mWeight_kg\u001b[49m\u001b[43m \u001b[49m\u001b[38;5;241;43m=\u001b[39;49m\u001b[43m \u001b[49m\u001b[43mpl\u001b[49m\u001b[38;5;241;43m.\u001b[39;49m\u001b[43mcol\u001b[49m\u001b[43m(\u001b[49m\u001b[38;5;124;43m'\u001b[39;49m\u001b[38;5;124;43mWeight\u001b[39;49m\u001b[38;5;124;43m'\u001b[39;49m\u001b[43m)\u001b[49m\u001b[38;5;241;43m/\u001b[39;49m\u001b[38;5;241;43m2.2046\u001b[39;49m\u001b[43m,\u001b[49m\n\u001b[1;32m      9\u001b[0m \u001b[43m               \u001b[49m\u001b[43mWeight_g\u001b[49m\u001b[43m \u001b[49m\u001b[38;5;241;43m=\u001b[39;49m\u001b[43m  \u001b[49m\u001b[43mpl\u001b[49m\u001b[38;5;241;43m.\u001b[39;49m\u001b[43mcol\u001b[49m\u001b[43m(\u001b[49m\u001b[38;5;124;43m'\u001b[39;49m\u001b[38;5;124;43mWeight_kg\u001b[39;49m\u001b[38;5;124;43m'\u001b[39;49m\u001b[43m)\u001b[49m\u001b[38;5;241;43m*\u001b[39;49m\u001b[38;5;241;43m1000\u001b[39;49m\u001b[43m)\u001b[49m \u001b[38;5;66;03m# References new column ==> CRASH!\u001b[39;00m\n\u001b[1;32m     10\u001b[0m  \u001b[38;5;241m.\u001b[39mfilter(pl\u001b[38;5;241m.\u001b[39mcol(\u001b[38;5;124m'\u001b[39m\u001b[38;5;124mWeight_kg\u001b[39m\u001b[38;5;124m'\u001b[39m) \u001b[38;5;241m<\u001b[39m \u001b[38;5;241m100\u001b[39m) \n\u001b[1;32m     11\u001b[0m  \u001b[38;5;241m.\u001b[39mhead()\n\u001b[1;32m     12\u001b[0m )\n",
      "File \u001b[0;32m/opt/anaconda3/envs/polars/lib/python3.12/site-packages/polars/dataframe/frame.py:8890\u001b[0m, in \u001b[0;36mDataFrame.with_columns\u001b[0;34m(self, *exprs, **named_exprs)\u001b[0m\n\u001b[1;32m   8744\u001b[0m \u001b[38;5;28;01mdef\u001b[39;00m \u001b[38;5;21mwith_columns\u001b[39m(\n\u001b[1;32m   8745\u001b[0m     \u001b[38;5;28mself\u001b[39m,\n\u001b[1;32m   8746\u001b[0m     \u001b[38;5;241m*\u001b[39mexprs: IntoExpr \u001b[38;5;241m|\u001b[39m Iterable[IntoExpr],\n\u001b[1;32m   8747\u001b[0m     \u001b[38;5;241m*\u001b[39m\u001b[38;5;241m*\u001b[39mnamed_exprs: IntoExpr,\n\u001b[1;32m   8748\u001b[0m ) \u001b[38;5;241m-\u001b[39m\u001b[38;5;241m>\u001b[39m DataFrame:\n\u001b[1;32m   8749\u001b[0m \u001b[38;5;250m    \u001b[39m\u001b[38;5;124;03m\"\"\"\u001b[39;00m\n\u001b[1;32m   8750\u001b[0m \u001b[38;5;124;03m    Add columns to this DataFrame.\u001b[39;00m\n\u001b[1;32m   8751\u001b[0m \n\u001b[0;32m   (...)\u001b[0m\n\u001b[1;32m   8888\u001b[0m \u001b[38;5;124;03m    └─────┴──────┴─────────────┘\u001b[39;00m\n\u001b[1;32m   8889\u001b[0m \u001b[38;5;124;03m    \"\"\"\u001b[39;00m\n\u001b[0;32m-> 8890\u001b[0m     \u001b[38;5;28;01mreturn\u001b[39;00m \u001b[38;5;28;43mself\u001b[39;49m\u001b[38;5;241;43m.\u001b[39;49m\u001b[43mlazy\u001b[49m\u001b[43m(\u001b[49m\u001b[43m)\u001b[49m\u001b[38;5;241;43m.\u001b[39;49m\u001b[43mwith_columns\u001b[49m\u001b[43m(\u001b[49m\u001b[38;5;241;43m*\u001b[39;49m\u001b[43mexprs\u001b[49m\u001b[43m,\u001b[49m\u001b[43m \u001b[49m\u001b[38;5;241;43m*\u001b[39;49m\u001b[38;5;241;43m*\u001b[39;49m\u001b[43mnamed_exprs\u001b[49m\u001b[43m)\u001b[49m\u001b[38;5;241;43m.\u001b[39;49m\u001b[43mcollect\u001b[49m\u001b[43m(\u001b[49m\u001b[43m_eager\u001b[49m\u001b[38;5;241;43m=\u001b[39;49m\u001b[38;5;28;43;01mTrue\u001b[39;49;00m\u001b[43m)\u001b[49m\n",
      "File \u001b[0;32m/opt/anaconda3/envs/polars/lib/python3.12/site-packages/polars/lazyframe/frame.py:2027\u001b[0m, in \u001b[0;36mLazyFrame.collect\u001b[0;34m(self, type_coercion, predicate_pushdown, projection_pushdown, simplify_expression, slice_pushdown, comm_subplan_elim, comm_subexpr_elim, cluster_with_columns, no_optimization, streaming, engine, background, _eager, **_kwargs)\u001b[0m\n\u001b[1;32m   2025\u001b[0m \u001b[38;5;66;03m# Only for testing purposes\u001b[39;00m\n\u001b[1;32m   2026\u001b[0m callback \u001b[38;5;241m=\u001b[39m _kwargs\u001b[38;5;241m.\u001b[39mget(\u001b[38;5;124m\"\u001b[39m\u001b[38;5;124mpost_opt_callback\u001b[39m\u001b[38;5;124m\"\u001b[39m, callback)\n\u001b[0;32m-> 2027\u001b[0m \u001b[38;5;28;01mreturn\u001b[39;00m wrap_df(\u001b[43mldf\u001b[49m\u001b[38;5;241;43m.\u001b[39;49m\u001b[43mcollect\u001b[49m\u001b[43m(\u001b[49m\u001b[43mcallback\u001b[49m\u001b[43m)\u001b[49m)\n",
      "\u001b[0;31mColumnNotFoundError\u001b[0m: Weight_kg"
     ]
    }
   ],
   "source": [
    "pl.Config.with_columns_kwargs = True\n",
    "\n",
    "(heroes \n",
    " .select(['name', \n",
    "          'Gender', \n",
    "          'Weight'\n",
    "         ]) \n",
    " .with_columns(Weight_kg = pl.col('Weight')/2.2046,\n",
    "               Weight_g =  pl.col('Weight_kg')*1000) # References new column ==> CRASH!\n",
    " .filter(pl.col('Weight_kg') < 100) \n",
    " .head()\n",
    ")"
   ]
  },
  {
   "cell_type": "markdown",
   "id": "1ce4fe23",
   "metadata": {
    "slideshow": {
     "slide_type": "slide"
    }
   },
   "source": [
    "### How to read a Python exception\n",
    "\n",
    "<img src=\"https://github.com/WSU-DataScience/dsci_325_module6_basic_data_management_in_python/raw/main//img/read_an_exception.png\" width=\"800\">"
   ]
  },
  {
   "cell_type": "markdown",
   "id": "00d40c84",
   "metadata": {
    "slideshow": {
     "slide_type": "slide"
    }
   },
   "source": [
    "## Referencing a new column\n",
    "\n",
    "* Newly created columns can't be referenced in the same `select` or `with_columns`.\n",
    "* Use `pl.col('new_column')` to reference in later method calls.\n",
    "* Add additional `with_columns` to use in new expressions."
   ]
  },
  {
   "cell_type": "code",
   "execution_count": 18,
   "id": "ad7bdec1",
   "metadata": {
    "slideshow": {
     "slide_type": "fragment"
    }
   },
   "outputs": [
    {
     "data": {
      "text/html": [
       "<div><style>\n",
       ".dataframe > thead > tr,\n",
       ".dataframe > tbody > tr {\n",
       "  text-align: right;\n",
       "  white-space: pre-wrap;\n",
       "}\n",
       "</style>\n",
       "<small>shape: (5, 5)</small><table border=\"1\" class=\"dataframe\"><thead><tr><th>name</th><th>Gender</th><th>Weight</th><th>Weight_kg</th><th>Weight_g</th></tr><tr><td>str</td><td>str</td><td>f64</td><td>f64</td><td>f64</td></tr></thead><tbody><tr><td>&quot;Abe Sapien&quot;</td><td>&quot;Male&quot;</td><td>65.0</td><td>29.483807</td><td>29483.806586</td></tr><tr><td>&quot;Abin Sur&quot;</td><td>&quot;Male&quot;</td><td>90.0</td><td>40.823732</td><td>40823.732196</td></tr><tr><td>&quot;Abraxas&quot;</td><td>&quot;Male&quot;</td><td>-99.0</td><td>-44.906105</td><td>-44906.105416</td></tr><tr><td>&quot;Absorbing Man&quot;</td><td>&quot;Male&quot;</td><td>122.0</td><td>55.338837</td><td>55338.836977</td></tr><tr><td>&quot;Adam Monroe&quot;</td><td>&quot;Male&quot;</td><td>-99.0</td><td>-44.906105</td><td>-44906.105416</td></tr></tbody></table></div>"
      ],
      "text/plain": [
       "shape: (5, 5)\n",
       "┌───────────────┬────────┬────────┬────────────┬───────────────┐\n",
       "│ name          ┆ Gender ┆ Weight ┆ Weight_kg  ┆ Weight_g      │\n",
       "│ ---           ┆ ---    ┆ ---    ┆ ---        ┆ ---           │\n",
       "│ str           ┆ str    ┆ f64    ┆ f64        ┆ f64           │\n",
       "╞═══════════════╪════════╪════════╪════════════╪═══════════════╡\n",
       "│ Abe Sapien    ┆ Male   ┆ 65.0   ┆ 29.483807  ┆ 29483.806586  │\n",
       "│ Abin Sur      ┆ Male   ┆ 90.0   ┆ 40.823732  ┆ 40823.732196  │\n",
       "│ Abraxas       ┆ Male   ┆ -99.0  ┆ -44.906105 ┆ -44906.105416 │\n",
       "│ Absorbing Man ┆ Male   ┆ 122.0  ┆ 55.338837  ┆ 55338.836977  │\n",
       "│ Adam Monroe   ┆ Male   ┆ -99.0  ┆ -44.906105 ┆ -44906.105416 │\n",
       "└───────────────┴────────┴────────┴────────────┴───────────────┘"
      ]
     },
     "execution_count": 18,
     "metadata": {},
     "output_type": "execute_result"
    }
   ],
   "source": [
    "pl.Config.with_columns_kwargs = True\n",
    "\n",
    "(heroes \n",
    " .select(['name', \n",
    "          'Gender', \n",
    "          'Weight'\n",
    "         ]) \n",
    " .with_columns(Weight_kg = pl.col('Weight')/2.2046)\n",
    " .with_columns(Weight_g =  pl.col('Weight_kg')*1000) # Can reference in new call\n",
    " .filter(pl.col('Weight_kg') < 100) \n",
    " .head()\n",
    ")"
   ]
  },
  {
   "cell_type": "markdown",
   "id": "cdad821b",
   "metadata": {
    "slideshow": {
     "slide_type": "slide"
    }
   },
   "source": [
    "## <font color=\"red\"> Exercise 6.2.2: Tall Heroes </font>\n",
    "\n",
    "Create a query that\n",
    "\n",
    "1. Selects the name, Gender, and Height columns\n",
    "2. Compute the height in inches.\n",
    "    * Check [here](https://www.kaggle.com/claudiodavi/superhero-set) to determine the current units.\n",
    "3. Filters on height_in > 72"
   ]
  },
  {
   "cell_type": "code",
   "execution_count": null,
   "id": "0384a8f2",
   "metadata": {
    "slideshow": {
     "slide_type": "fragment"
    }
   },
   "outputs": [],
   "source": [
    "# Your code here"
   ]
  }
 ],
 "metadata": {
  "celltoolbar": "Slideshow",
  "kernelspec": {
   "display_name": "Python 3 (ipykernel)",
   "language": "python",
   "name": "python3"
  },
  "language_info": {
   "codemirror_mode": {
    "name": "ipython",
    "version": 3
   },
   "file_extension": ".py",
   "mimetype": "text/x-python",
   "name": "python",
   "nbconvert_exporter": "python",
   "pygments_lexer": "ipython3",
   "version": "3.12.5"
  },
  "varInspector": {
   "cols": {
    "lenName": 16,
    "lenType": 16,
    "lenVar": 40
   },
   "kernels_config": {
    "python": {
     "delete_cmd_postfix": "",
     "delete_cmd_prefix": "del ",
     "library": "var_list.py",
     "varRefreshCmd": "print(var_dic_list())"
    },
    "r": {
     "delete_cmd_postfix": ") ",
     "delete_cmd_prefix": "rm(",
     "library": "var_list.r",
     "varRefreshCmd": "cat(var_dic_list()) "
    }
   },
   "types_to_exclude": [
    "module",
    "function",
    "builtin_function_or_method",
    "instance",
    "_Feature"
   ],
   "window_display": false
  }
 },
 "nbformat": 4,
 "nbformat_minor": 5
}
