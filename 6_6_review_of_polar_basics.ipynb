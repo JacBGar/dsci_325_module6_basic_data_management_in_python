{
 "cells": [
  {
   "cell_type": "markdown",
   "id": "2d129329",
   "metadata": {},
   "source": [
    "## Colab Prep\n",
    "\n",
    "Execute the following code cells to whenever you open/restart the notebook in Google Colab."
   ]
  },
  {
   "cell_type": "code",
   "execution_count": null,
   "id": "7b375479",
   "metadata": {},
   "outputs": [],
   "source": [
    "!pip install \"polars[all]\" #execute each time you start/restart a Colab session"
   ]
  },
  {
   "cell_type": "code",
   "execution_count": null,
   "id": "d188a811",
   "metadata": {
    "scrolled": true
   },
   "outputs": [],
   "source": [
    "!wget https://github.com/WSU-DataScience/dsci_325_module6_basic_data_management_in_python/raw/main/sample_data.zip"
   ]
  },
  {
   "cell_type": "code",
   "execution_count": null,
   "id": "311d5379",
   "metadata": {},
   "outputs": [],
   "source": [
    "!unzip ./sample_data.zip"
   ]
  },
  {
   "cell_type": "markdown",
   "id": "d7eb6615",
   "metadata": {
    "slideshow": {
     "slide_type": "slide"
    }
   },
   "source": [
    "# Module 6.6 - Review of `polars` basics"
   ]
  },
  {
   "cell_type": "markdown",
   "id": "75dedaaa",
   "metadata": {
    "jp-MarkdownHeadingCollapsed": true,
    "slideshow": {
     "slide_type": "slide"
    }
   },
   "source": [
    "## Topic 1 - Dataframe basics\n",
    "**Topics.**\n",
    "\n",
    "1. Reading and writing `CSV` files.\n",
    "2. Column expressions\n",
    "3. Inspecting a dataframe"
   ]
  },
  {
   "cell_type": "code",
   "execution_count": 23,
   "id": "604503d3",
   "metadata": {
    "slideshow": {
     "slide_type": "fragment"
    }
   },
   "outputs": [],
   "source": [
    "import polars as pl\n",
    "pl.Config.with_columns_kwargs = True"
   ]
  },
  {
   "cell_type": "markdown",
   "id": "c387ad88",
   "metadata": {
    "slideshow": {
     "slide_type": "slide"
    }
   },
   "source": [
    "### Reading from a data file with `read_csv`"
   ]
  },
  {
   "cell_type": "markdown",
   "id": "1e4a58eb",
   "metadata": {
    "slideshow": {
     "slide_type": "slide"
    }
   },
   "source": [
    "#### Open a CSV file from a local file w/ relative path"
   ]
  },
  {
   "cell_type": "code",
   "execution_count": 3,
   "id": "23873858",
   "metadata": {},
   "outputs": [
    {
     "data": {
      "text/html": [
       "<div><style>\n",
       ".dataframe > thead > tr,\n",
       ".dataframe > tbody > tr {\n",
       "  text-align: right;\n",
       "  white-space: pre-wrap;\n",
       "}\n",
       "</style>\n",
       "<small>shape: (5, 9)</small><table border=\"1\" class=\"dataframe\"><thead><tr><th>ConstituentID</th><th>DisplayName</th><th>ArtistBio</th><th>Nationality</th><th>Gender</th><th>BeginDate</th><th>EndDate</th><th>Wiki QID</th><th>ULAN</th></tr><tr><td>i64</td><td>str</td><td>str</td><td>str</td><td>str</td><td>i64</td><td>i64</td><td>str</td><td>i64</td></tr></thead><tbody><tr><td>1</td><td>&quot;Robert Arneson&quot;</td><td>&quot;American, 1930–1992&quot;</td><td>&quot;American&quot;</td><td>&quot;Male&quot;</td><td>1930</td><td>1992</td><td>null</td><td>null</td></tr><tr><td>2</td><td>&quot;Doroteo Arnaiz&quot;</td><td>&quot;Spanish, born 1936&quot;</td><td>&quot;Spanish&quot;</td><td>&quot;Male&quot;</td><td>1936</td><td>0</td><td>null</td><td>null</td></tr><tr><td>3</td><td>&quot;Bill Arnold&quot;</td><td>&quot;American, born 1941&quot;</td><td>&quot;American&quot;</td><td>&quot;Male&quot;</td><td>1941</td><td>0</td><td>null</td><td>null</td></tr><tr><td>4</td><td>&quot;Charles Arnoldi&quot;</td><td>&quot;American, born 1946&quot;</td><td>&quot;American&quot;</td><td>&quot;Male&quot;</td><td>1946</td><td>0</td><td>&quot;Q1063584&quot;</td><td>500027998</td></tr><tr><td>5</td><td>&quot;Per Arnoldi&quot;</td><td>&quot;Danish, born 1941&quot;</td><td>&quot;Danish&quot;</td><td>&quot;Male&quot;</td><td>1941</td><td>0</td><td>null</td><td>null</td></tr></tbody></table></div>"
      ],
      "text/plain": [
       "shape: (5, 9)\n",
       "┌────────────┬────────────┬───────────┬───────────┬───┬───────────┬─────────┬──────────┬───────────┐\n",
       "│ Constituen ┆ DisplayNam ┆ ArtistBio ┆ Nationali ┆ … ┆ BeginDate ┆ EndDate ┆ Wiki QID ┆ ULAN      │\n",
       "│ tID        ┆ e          ┆ ---       ┆ ty        ┆   ┆ ---       ┆ ---     ┆ ---      ┆ ---       │\n",
       "│ ---        ┆ ---        ┆ str       ┆ ---       ┆   ┆ i64       ┆ i64     ┆ str      ┆ i64       │\n",
       "│ i64        ┆ str        ┆           ┆ str       ┆   ┆           ┆         ┆          ┆           │\n",
       "╞════════════╪════════════╪═══════════╪═══════════╪═══╪═══════════╪═════════╪══════════╪═══════════╡\n",
       "│ 1          ┆ Robert     ┆ American, ┆ American  ┆ … ┆ 1930      ┆ 1992    ┆ null     ┆ null      │\n",
       "│            ┆ Arneson    ┆ 1930–1992 ┆           ┆   ┆           ┆         ┆          ┆           │\n",
       "│ 2          ┆ Doroteo    ┆ Spanish,  ┆ Spanish   ┆ … ┆ 1936      ┆ 0       ┆ null     ┆ null      │\n",
       "│            ┆ Arnaiz     ┆ born 1936 ┆           ┆   ┆           ┆         ┆          ┆           │\n",
       "│ 3          ┆ Bill       ┆ American, ┆ American  ┆ … ┆ 1941      ┆ 0       ┆ null     ┆ null      │\n",
       "│            ┆ Arnold     ┆ born 1941 ┆           ┆   ┆           ┆         ┆          ┆           │\n",
       "│ 4          ┆ Charles    ┆ American, ┆ American  ┆ … ┆ 1946      ┆ 0       ┆ Q1063584 ┆ 500027998 │\n",
       "│            ┆ Arnoldi    ┆ born 1946 ┆           ┆   ┆           ┆         ┆          ┆           │\n",
       "│ 5          ┆ Per        ┆ Danish,   ┆ Danish    ┆ … ┆ 1941      ┆ 0       ┆ null     ┆ null      │\n",
       "│            ┆ Arnoldi    ┆ born 1941 ┆           ┆   ┆           ┆         ┆          ┆           │\n",
       "└────────────┴────────────┴───────────┴───────────┴───┴───────────┴─────────┴──────────┴───────────┘"
      ]
     },
     "execution_count": 3,
     "metadata": {},
     "output_type": "execute_result"
    }
   ],
   "source": [
    "artists = pl.read_csv('./sample_data/Artists.csv')\n",
    "artists.head()"
   ]
  },
  {
   "cell_type": "markdown",
   "id": "1d5673cc",
   "metadata": {
    "slideshow": {
     "slide_type": "slide"
    }
   },
   "source": [
    "#### Open a CSV using a web address"
   ]
  },
  {
   "cell_type": "code",
   "execution_count": 5,
   "id": "41bfb5f9",
   "metadata": {
    "slideshow": {
     "slide_type": "fragment"
    }
   },
   "outputs": [
    {
     "data": {
      "text/html": [
       "<div><style>\n",
       ".dataframe > thead > tr,\n",
       ".dataframe > tbody > tr {\n",
       "  text-align: right;\n",
       "  white-space: pre-wrap;\n",
       "}\n",
       "</style>\n",
       "<small>shape: (5, 9)</small><table border=\"1\" class=\"dataframe\"><thead><tr><th>ConstituentID</th><th>DisplayName</th><th>ArtistBio</th><th>Nationality</th><th>Gender</th><th>BeginDate</th><th>EndDate</th><th>Wiki QID</th><th>ULAN</th></tr><tr><td>i64</td><td>str</td><td>str</td><td>str</td><td>str</td><td>i64</td><td>i64</td><td>str</td><td>i64</td></tr></thead><tbody><tr><td>1</td><td>&quot;Robert Arneson&quot;</td><td>&quot;American, 1930–1992&quot;</td><td>&quot;American&quot;</td><td>&quot;male&quot;</td><td>1930</td><td>1992</td><td>null</td><td>null</td></tr><tr><td>2</td><td>&quot;Doroteo Arnaiz&quot;</td><td>&quot;Spanish, born 1936&quot;</td><td>&quot;Spanish&quot;</td><td>&quot;male&quot;</td><td>1936</td><td>0</td><td>null</td><td>null</td></tr><tr><td>3</td><td>&quot;Bill Arnold&quot;</td><td>&quot;American, born 1941&quot;</td><td>&quot;American&quot;</td><td>&quot;male&quot;</td><td>1941</td><td>0</td><td>null</td><td>null</td></tr><tr><td>4</td><td>&quot;Charles Arnoldi&quot;</td><td>&quot;American, born 1946&quot;</td><td>&quot;American&quot;</td><td>&quot;male&quot;</td><td>1946</td><td>0</td><td>&quot;Q1063584&quot;</td><td>500027998</td></tr><tr><td>5</td><td>&quot;Per Arnoldi&quot;</td><td>&quot;Danish, born 1941&quot;</td><td>&quot;Danish&quot;</td><td>&quot;male&quot;</td><td>1941</td><td>0</td><td>null</td><td>null</td></tr></tbody></table></div>"
      ],
      "text/plain": [
       "shape: (5, 9)\n",
       "┌────────────┬────────────┬───────────┬───────────┬───┬───────────┬─────────┬──────────┬───────────┐\n",
       "│ Constituen ┆ DisplayNam ┆ ArtistBio ┆ Nationali ┆ … ┆ BeginDate ┆ EndDate ┆ Wiki QID ┆ ULAN      │\n",
       "│ tID        ┆ e          ┆ ---       ┆ ty        ┆   ┆ ---       ┆ ---     ┆ ---      ┆ ---       │\n",
       "│ ---        ┆ ---        ┆ str       ┆ ---       ┆   ┆ i64       ┆ i64     ┆ str      ┆ i64       │\n",
       "│ i64        ┆ str        ┆           ┆ str       ┆   ┆           ┆         ┆          ┆           │\n",
       "╞════════════╪════════════╪═══════════╪═══════════╪═══╪═══════════╪═════════╪══════════╪═══════════╡\n",
       "│ 1          ┆ Robert     ┆ American, ┆ American  ┆ … ┆ 1930      ┆ 1992    ┆ null     ┆ null      │\n",
       "│            ┆ Arneson    ┆ 1930–1992 ┆           ┆   ┆           ┆         ┆          ┆           │\n",
       "│ 2          ┆ Doroteo    ┆ Spanish,  ┆ Spanish   ┆ … ┆ 1936      ┆ 0       ┆ null     ┆ null      │\n",
       "│            ┆ Arnaiz     ┆ born 1936 ┆           ┆   ┆           ┆         ┆          ┆           │\n",
       "│ 3          ┆ Bill       ┆ American, ┆ American  ┆ … ┆ 1941      ┆ 0       ┆ null     ┆ null      │\n",
       "│            ┆ Arnold     ┆ born 1941 ┆           ┆   ┆           ┆         ┆          ┆           │\n",
       "│ 4          ┆ Charles    ┆ American, ┆ American  ┆ … ┆ 1946      ┆ 0       ┆ Q1063584 ┆ 500027998 │\n",
       "│            ┆ Arnoldi    ┆ born 1946 ┆           ┆   ┆           ┆         ┆          ┆           │\n",
       "│ 5          ┆ Per        ┆ Danish,   ┆ Danish    ┆ … ┆ 1941      ┆ 0       ┆ null     ┆ null      │\n",
       "│            ┆ Arnoldi    ┆ born 1941 ┆           ┆   ┆           ┆         ┆          ┆           │\n",
       "└────────────┴────────────┴───────────┴───────────┴───┴───────────┴─────────┴──────────┴───────────┘"
      ]
     },
     "execution_count": 5,
     "metadata": {},
     "output_type": "execute_result"
    }
   ],
   "source": [
    "url = \"https://github.com/MuseumofModernArt/collection/raw/main/Artists.csv\"\n",
    "artists =  pl.read_csv(url)\n",
    "artists.head()"
   ]
  },
  {
   "cell_type": "markdown",
   "id": "5728677a",
   "metadata": {
    "slideshow": {
     "slide_type": "slide"
    }
   },
   "source": [
    "### Lazy column expressions"
   ]
  },
  {
   "cell_type": "code",
   "execution_count": 12,
   "id": "c01758a9",
   "metadata": {},
   "outputs": [
    {
     "data": {
      "text/html": [
       "col(\"BeginDate\")"
      ],
      "text/plain": [
       "<Expr ['col(\"BeginDate\")'] at 0x12016C860>"
      ]
     },
     "execution_count": 12,
     "metadata": {},
     "output_type": "execute_result"
    }
   ],
   "source": [
    "pl.col('BeginDate')"
   ]
  },
  {
   "cell_type": "code",
   "execution_count": 10,
   "id": "8b33cf90-8417-4598-ba62-8a75800c7f3b",
   "metadata": {},
   "outputs": [
    {
     "data": {
      "text/html": [
       "col(\"BeginDate\").str.contains([String(19)])"
      ],
      "text/plain": [
       "<Expr ['col(\"BeginDate\").str.contains(…'] at 0x12016CBF0>"
      ]
     },
     "execution_count": 10,
     "metadata": {},
     "output_type": "execute_result"
    }
   ],
   "source": [
    "pl.col('BeginDate').str.contains('19')"
   ]
  },
  {
   "cell_type": "code",
   "execution_count": 11,
   "id": "454f7275-d96e-450b-8ab9-ad30c94e024a",
   "metadata": {},
   "outputs": [
    {
     "data": {
      "text/html": [
       "[(col(\"BeginDate\")) >= (dyn int: 1946)]"
      ],
      "text/plain": [
       "<Expr ['[(col(\"BeginDate\")) >= (dyn in…'] at 0x12016F500>"
      ]
     },
     "execution_count": 11,
     "metadata": {},
     "output_type": "execute_result"
    }
   ],
   "source": [
    "pl.col('BeginDate') >= 1946"
   ]
  },
  {
   "cell_type": "markdown",
   "id": "d487abbd",
   "metadata": {},
   "source": [
    "### Inspecting a dataframe"
   ]
  },
  {
   "cell_type": "code",
   "execution_count": 13,
   "id": "bb05165d",
   "metadata": {
    "scrolled": true,
    "slideshow": {
     "slide_type": "fragment"
    }
   },
   "outputs": [
    {
     "data": {
      "text/plain": [
       "[Int64, String, String, String, String, Int64, Int64, String, Int64]"
      ]
     },
     "execution_count": 13,
     "metadata": {},
     "output_type": "execute_result"
    }
   ],
   "source": [
    "artists.dtypes"
   ]
  },
  {
   "cell_type": "code",
   "execution_count": 14,
   "id": "8baf37c8",
   "metadata": {},
   "outputs": [
    {
     "data": {
      "text/plain": [
       "(15595, 9)"
      ]
     },
     "execution_count": 14,
     "metadata": {},
     "output_type": "execute_result"
    }
   ],
   "source": [
    "artists.shape"
   ]
  },
  {
   "cell_type": "code",
   "execution_count": 30,
   "id": "85d6b504",
   "metadata": {},
   "outputs": [
    {
     "data": {
      "text/html": [
       "<div><style>\n",
       ".dataframe > thead > tr,\n",
       ".dataframe > tbody > tr {\n",
       "  text-align: right;\n",
       "  white-space: pre-wrap;\n",
       "}\n",
       "</style>\n",
       "<small>shape: (9, 10)</small><table border=\"1\" class=\"dataframe\"><thead><tr><th>statistic</th><th>ConstituentID</th><th>DisplayName</th><th>ArtistBio</th><th>Nationality</th><th>Gender</th><th>BeginDate</th><th>EndDate</th><th>Wiki QID</th><th>ULAN</th></tr><tr><td>str</td><td>f64</td><td>str</td><td>str</td><td>str</td><td>str</td><td>f64</td><td>f64</td><td>str</td><td>f64</td></tr></thead><tbody><tr><td>&quot;count&quot;</td><td>15595.0</td><td>&quot;15595&quot;</td><td>&quot;13400&quot;</td><td>&quot;13106&quot;</td><td>&quot;12352&quot;</td><td>15595.0</td><td>15595.0</td><td>&quot;3247&quot;</td><td>2931.0</td></tr><tr><td>&quot;null_count&quot;</td><td>0.0</td><td>&quot;0&quot;</td><td>&quot;2195&quot;</td><td>&quot;2489&quot;</td><td>&quot;3243&quot;</td><td>0.0</td><td>0.0</td><td>&quot;12348&quot;</td><td>12664.0</td></tr><tr><td>&quot;mean&quot;</td><td>23854.509458</td><td>null</td><td>null</td><td>null</td><td>null</td><td>1490.80109</td><td>703.983584</td><td>null</td><td>5.0007e8</td></tr><tr><td>&quot;std&quot;</td><td>29037.329213</td><td>null</td><td>null</td><td>null</td><td>null</td><td>810.710112</td><td>947.599848</td><td>null</td><td>86603.459826</td></tr><tr><td>&quot;min&quot;</td><td>1.0</td><td>&quot;&quot;a.r.&quot; group&quot;</td><td>&quot;1858–ca. 1910&quot;</td><td>&quot;Afghan&quot;</td><td>&quot;female&quot;</td><td>0.0</td><td>0.0</td><td>&quot;Q1000203&quot;</td><td>5.00000006e8</td></tr><tr><td>&quot;25%&quot;</td><td>4371.0</td><td>null</td><td>null</td><td>null</td><td>null</td><td>1854.0</td><td>0.0</td><td>null</td><td>5.00017574e8</td></tr><tr><td>&quot;50%&quot;</td><td>9436.0</td><td>null</td><td>null</td><td>null</td><td>null</td><td>1923.0</td><td>0.0</td><td>null</td><td>5.00033033e8</td></tr><tr><td>&quot;75%&quot;</td><td>35521.0</td><td>null</td><td>null</td><td>null</td><td>null</td><td>1948.0</td><td>1967.0</td><td>null</td><td>5.00114615e8</td></tr><tr><td>&quot;max&quot;</td><td>138323.0</td><td>&quot;…XYZ Dot Dot Dot Ex Why Zed De…</td><td>&quot;Łódź, Poland, est. 1929 – 1936&quot;</td><td>&quot;Zimbabwean&quot;</td><td>&quot;unknown. (non-binary or trans?…</td><td>2017.0</td><td>2024.0</td><td>&quot;Q993400&quot;</td><td>5.00356571e8</td></tr></tbody></table></div>"
      ],
      "text/plain": [
       "shape: (9, 10)\n",
       "┌───────────┬───────────┬───────────┬───────────┬───┬───────────┬───────────┬──────────┬───────────┐\n",
       "│ statistic ┆ Constitue ┆ DisplayNa ┆ ArtistBio ┆ … ┆ BeginDate ┆ EndDate   ┆ Wiki QID ┆ ULAN      │\n",
       "│ ---       ┆ ntID      ┆ me        ┆ ---       ┆   ┆ ---       ┆ ---       ┆ ---      ┆ ---       │\n",
       "│ str       ┆ ---       ┆ ---       ┆ str       ┆   ┆ f64       ┆ f64       ┆ str      ┆ f64       │\n",
       "│           ┆ f64       ┆ str       ┆           ┆   ┆           ┆           ┆          ┆           │\n",
       "╞═══════════╪═══════════╪═══════════╪═══════════╪═══╪═══════════╪═══════════╪══════════╪═══════════╡\n",
       "│ count     ┆ 15595.0   ┆ 15595     ┆ 13400     ┆ … ┆ 15595.0   ┆ 15595.0   ┆ 3247     ┆ 2931.0    │\n",
       "│ null_coun ┆ 0.0       ┆ 0         ┆ 2195      ┆ … ┆ 0.0       ┆ 0.0       ┆ 12348    ┆ 12664.0   │\n",
       "│ t         ┆           ┆           ┆           ┆   ┆           ┆           ┆          ┆           │\n",
       "│ mean      ┆ 23854.509 ┆ null      ┆ null      ┆ … ┆ 1490.8010 ┆ 703.98358 ┆ null     ┆ 5.0007e8  │\n",
       "│           ┆ 458       ┆           ┆           ┆   ┆ 9         ┆ 4         ┆          ┆           │\n",
       "│ std       ┆ 29037.329 ┆ null      ┆ null      ┆ … ┆ 810.71011 ┆ 947.59984 ┆ null     ┆ 86603.459 │\n",
       "│           ┆ 213       ┆           ┆           ┆   ┆ 2         ┆ 8         ┆          ┆ 826       │\n",
       "│ min       ┆ 1.0       ┆ \"a.r.\"    ┆ 1858–ca.  ┆ … ┆ 0.0       ┆ 0.0       ┆ Q1000203 ┆ 5.0000000 │\n",
       "│           ┆           ┆ group     ┆ 1910      ┆   ┆           ┆           ┆          ┆ 6e8       │\n",
       "│ 25%       ┆ 4371.0    ┆ null      ┆ null      ┆ … ┆ 1854.0    ┆ 0.0       ┆ null     ┆ 5.0001757 │\n",
       "│           ┆           ┆           ┆           ┆   ┆           ┆           ┆          ┆ 4e8       │\n",
       "│ 50%       ┆ 9436.0    ┆ null      ┆ null      ┆ … ┆ 1923.0    ┆ 0.0       ┆ null     ┆ 5.0003303 │\n",
       "│           ┆           ┆           ┆           ┆   ┆           ┆           ┆          ┆ 3e8       │\n",
       "│ 75%       ┆ 35521.0   ┆ null      ┆ null      ┆ … ┆ 1948.0    ┆ 1967.0    ┆ null     ┆ 5.0011461 │\n",
       "│           ┆           ┆           ┆           ┆   ┆           ┆           ┆          ┆ 5e8       │\n",
       "│ max       ┆ 138323.0  ┆ …XYZ Dot  ┆ Łódź,     ┆ … ┆ 2017.0    ┆ 2024.0    ┆ Q993400  ┆ 5.0035657 │\n",
       "│           ┆           ┆ Dot Dot   ┆ Poland,   ┆   ┆           ┆           ┆          ┆ 1e8       │\n",
       "│           ┆           ┆ Ex Why    ┆ est. 1929 ┆   ┆           ┆           ┆          ┆           │\n",
       "│           ┆           ┆ Zed De…   ┆ – 1936    ┆   ┆           ┆           ┆          ┆           │\n",
       "└───────────┴───────────┴───────────┴───────────┴───┴───────────┴───────────┴──────────┴───────────┘"
      ]
     },
     "execution_count": 30,
     "metadata": {},
     "output_type": "execute_result"
    }
   ],
   "source": [
    "artists.describe()"
   ]
  },
  {
   "cell_type": "code",
   "execution_count": 31,
   "id": "6212b7d8-9426-41b6-b69d-38cd38be9cff",
   "metadata": {},
   "outputs": [
    {
     "data": {
      "text/plain": [
       "['ConstituentID',\n",
       " 'DisplayName',\n",
       " 'ArtistBio',\n",
       " 'Nationality',\n",
       " 'Gender',\n",
       " 'BeginDate',\n",
       " 'EndDate',\n",
       " 'Wiki QID',\n",
       " 'ULAN']"
      ]
     },
     "execution_count": 31,
     "metadata": {},
     "output_type": "execute_result"
    }
   ],
   "source": [
    "artists.columns"
   ]
  },
  {
   "cell_type": "code",
   "execution_count": 32,
   "id": "d9c47076-5d76-4b94-bd3c-38f82e08c1b6",
   "metadata": {},
   "outputs": [
    {
     "data": {
      "text/html": [
       "<div><style>\n",
       ".dataframe > thead > tr,\n",
       ".dataframe > tbody > tr {\n",
       "  text-align: right;\n",
       "  white-space: pre-wrap;\n",
       "}\n",
       "</style>\n",
       "<small>shape: (5, 9)</small><table border=\"1\" class=\"dataframe\"><thead><tr><th>ConstituentID</th><th>DisplayName</th><th>ArtistBio</th><th>Nationality</th><th>Gender</th><th>BeginDate</th><th>EndDate</th><th>Wiki QID</th><th>ULAN</th></tr><tr><td>i64</td><td>str</td><td>str</td><td>str</td><td>str</td><td>i64</td><td>i64</td><td>str</td><td>i64</td></tr></thead><tbody><tr><td>1</td><td>&quot;Robert Arneson&quot;</td><td>&quot;American, 1930–1992&quot;</td><td>&quot;American&quot;</td><td>&quot;male&quot;</td><td>1930</td><td>1992</td><td>null</td><td>null</td></tr><tr><td>2</td><td>&quot;Doroteo Arnaiz&quot;</td><td>&quot;Spanish, born 1936&quot;</td><td>&quot;Spanish&quot;</td><td>&quot;male&quot;</td><td>1936</td><td>0</td><td>null</td><td>null</td></tr><tr><td>3</td><td>&quot;Bill Arnold&quot;</td><td>&quot;American, born 1941&quot;</td><td>&quot;American&quot;</td><td>&quot;male&quot;</td><td>1941</td><td>0</td><td>null</td><td>null</td></tr><tr><td>4</td><td>&quot;Charles Arnoldi&quot;</td><td>&quot;American, born 1946&quot;</td><td>&quot;American&quot;</td><td>&quot;male&quot;</td><td>1946</td><td>0</td><td>&quot;Q1063584&quot;</td><td>500027998</td></tr><tr><td>5</td><td>&quot;Per Arnoldi&quot;</td><td>&quot;Danish, born 1941&quot;</td><td>&quot;Danish&quot;</td><td>&quot;male&quot;</td><td>1941</td><td>0</td><td>null</td><td>null</td></tr></tbody></table></div>"
      ],
      "text/plain": [
       "shape: (5, 9)\n",
       "┌────────────┬────────────┬───────────┬───────────┬───┬───────────┬─────────┬──────────┬───────────┐\n",
       "│ Constituen ┆ DisplayNam ┆ ArtistBio ┆ Nationali ┆ … ┆ BeginDate ┆ EndDate ┆ Wiki QID ┆ ULAN      │\n",
       "│ tID        ┆ e          ┆ ---       ┆ ty        ┆   ┆ ---       ┆ ---     ┆ ---      ┆ ---       │\n",
       "│ ---        ┆ ---        ┆ str       ┆ ---       ┆   ┆ i64       ┆ i64     ┆ str      ┆ i64       │\n",
       "│ i64        ┆ str        ┆           ┆ str       ┆   ┆           ┆         ┆          ┆           │\n",
       "╞════════════╪════════════╪═══════════╪═══════════╪═══╪═══════════╪═════════╪══════════╪═══════════╡\n",
       "│ 1          ┆ Robert     ┆ American, ┆ American  ┆ … ┆ 1930      ┆ 1992    ┆ null     ┆ null      │\n",
       "│            ┆ Arneson    ┆ 1930–1992 ┆           ┆   ┆           ┆         ┆          ┆           │\n",
       "│ 2          ┆ Doroteo    ┆ Spanish,  ┆ Spanish   ┆ … ┆ 1936      ┆ 0       ┆ null     ┆ null      │\n",
       "│            ┆ Arnaiz     ┆ born 1936 ┆           ┆   ┆           ┆         ┆          ┆           │\n",
       "│ 3          ┆ Bill       ┆ American, ┆ American  ┆ … ┆ 1941      ┆ 0       ┆ null     ┆ null      │\n",
       "│            ┆ Arnold     ┆ born 1941 ┆           ┆   ┆           ┆         ┆          ┆           │\n",
       "│ 4          ┆ Charles    ┆ American, ┆ American  ┆ … ┆ 1946      ┆ 0       ┆ Q1063584 ┆ 500027998 │\n",
       "│            ┆ Arnoldi    ┆ born 1946 ┆           ┆   ┆           ┆         ┆          ┆           │\n",
       "│ 5          ┆ Per        ┆ Danish,   ┆ Danish    ┆ … ┆ 1941      ┆ 0       ┆ null     ┆ null      │\n",
       "│            ┆ Arnoldi    ┆ born 1941 ┆           ┆   ┆           ┆         ┆          ┆           │\n",
       "└────────────┴────────────┴───────────┴───────────┴───┴───────────┴─────────┴──────────┴───────────┘"
      ]
     },
     "execution_count": 32,
     "metadata": {},
     "output_type": "execute_result"
    }
   ],
   "source": [
    "artists.head()"
   ]
  },
  {
   "cell_type": "code",
   "execution_count": 34,
   "id": "65b6a344-4560-4efb-a8a8-08bc3dd455da",
   "metadata": {},
   "outputs": [
    {
     "data": {
      "text/html": [
       "<div><style>\n",
       ".dataframe > thead > tr,\n",
       ".dataframe > tbody > tr {\n",
       "  text-align: right;\n",
       "  white-space: pre-wrap;\n",
       "}\n",
       "</style>\n",
       "<small>shape: (5, 9)</small><table border=\"1\" class=\"dataframe\"><thead><tr><th>ConstituentID</th><th>DisplayName</th><th>ArtistBio</th><th>Nationality</th><th>Gender</th><th>BeginDate</th><th>EndDate</th><th>Wiki QID</th><th>ULAN</th></tr><tr><td>i64</td><td>str</td><td>str</td><td>str</td><td>str</td><td>i64</td><td>i64</td><td>str</td><td>i64</td></tr></thead><tbody><tr><td>138318</td><td>&quot;Angelo González&quot;</td><td>null</td><td>null</td><td>&quot;male&quot;</td><td>0</td><td>0</td><td>null</td><td>null</td></tr><tr><td>138319</td><td>&quot;Roy Battiste&quot;</td><td>null</td><td>null</td><td>&quot;male&quot;</td><td>0</td><td>0</td><td>null</td><td>null</td></tr><tr><td>138320</td><td>&quot;(Moses) Anthony Figueroa&quot;</td><td>null</td><td>null</td><td>null</td><td>0</td><td>0</td><td>null</td><td>null</td></tr><tr><td>138321</td><td>&quot;Sal Becker&quot;</td><td>null</td><td>null</td><td>&quot;male&quot;</td><td>0</td><td>0</td><td>null</td><td>null</td></tr><tr><td>138323</td><td>&quot;MTA (Marina Tabassum Architect…</td><td>&quot;Bangladesh, founded 2005&quot;</td><td>&quot;Bangladesh&quot;</td><td>null</td><td>2005</td><td>0</td><td>null</td><td>null</td></tr></tbody></table></div>"
      ],
      "text/plain": [
       "shape: (5, 9)\n",
       "┌─────────────┬─────────────┬─────────────┬────────────┬───┬───────────┬─────────┬──────────┬──────┐\n",
       "│ Constituent ┆ DisplayName ┆ ArtistBio   ┆ Nationalit ┆ … ┆ BeginDate ┆ EndDate ┆ Wiki QID ┆ ULAN │\n",
       "│ ID          ┆ ---         ┆ ---         ┆ y          ┆   ┆ ---       ┆ ---     ┆ ---      ┆ ---  │\n",
       "│ ---         ┆ str         ┆ str         ┆ ---        ┆   ┆ i64       ┆ i64     ┆ str      ┆ i64  │\n",
       "│ i64         ┆             ┆             ┆ str        ┆   ┆           ┆         ┆          ┆      │\n",
       "╞═════════════╪═════════════╪═════════════╪════════════╪═══╪═══════════╪═════════╪══════════╪══════╡\n",
       "│ 138318      ┆ Angelo      ┆ null        ┆ null       ┆ … ┆ 0         ┆ 0       ┆ null     ┆ null │\n",
       "│             ┆ González    ┆             ┆            ┆   ┆           ┆         ┆          ┆      │\n",
       "│ 138319      ┆ Roy         ┆ null        ┆ null       ┆ … ┆ 0         ┆ 0       ┆ null     ┆ null │\n",
       "│             ┆ Battiste    ┆             ┆            ┆   ┆           ┆         ┆          ┆      │\n",
       "│ 138320      ┆ (Moses)     ┆ null        ┆ null       ┆ … ┆ 0         ┆ 0       ┆ null     ┆ null │\n",
       "│             ┆ Anthony     ┆             ┆            ┆   ┆           ┆         ┆          ┆      │\n",
       "│             ┆ Figueroa    ┆             ┆            ┆   ┆           ┆         ┆          ┆      │\n",
       "│ 138321      ┆ Sal Becker  ┆ null        ┆ null       ┆ … ┆ 0         ┆ 0       ┆ null     ┆ null │\n",
       "│ 138323      ┆ MTA (Marina ┆ Bangladesh, ┆ Bangladesh ┆ … ┆ 2005      ┆ 0       ┆ null     ┆ null │\n",
       "│             ┆ Tabassum    ┆ founded     ┆            ┆   ┆           ┆         ┆          ┆      │\n",
       "│             ┆ Architect…  ┆ 2005        ┆            ┆   ┆           ┆         ┆          ┆      │\n",
       "└─────────────┴─────────────┴─────────────┴────────────┴───┴───────────┴─────────┴──────────┴──────┘"
      ]
     },
     "execution_count": 34,
     "metadata": {},
     "output_type": "execute_result"
    }
   ],
   "source": [
    "artists.tail()"
   ]
  },
  {
   "cell_type": "markdown",
   "id": "d856f262",
   "metadata": {
    "jp-MarkdownHeadingCollapsed": true,
    "slideshow": {
     "slide_type": "slide"
    }
   },
   "source": [
    "## Topic 2 - Select, Filter, and Mutate in `polars`"
   ]
  },
  {
   "cell_type": "code",
   "execution_count": 16,
   "id": "159bee1b",
   "metadata": {
    "slideshow": {
     "slide_type": "fragment"
    }
   },
   "outputs": [
    {
     "data": {
      "text/html": [
       "<div><style>\n",
       ".dataframe > thead > tr,\n",
       ".dataframe > tbody > tr {\n",
       "  text-align: right;\n",
       "  white-space: pre-wrap;\n",
       "}\n",
       "</style>\n",
       "<small>shape: (5, 11)</small><table border=\"1\" class=\"dataframe\"><thead><tr><th></th><th>name</th><th>Gender</th><th>Eye color</th><th>Race</th><th>Hair color</th><th>Height</th><th>Publisher</th><th>Skin color</th><th>Alignment</th><th>Weight</th></tr><tr><td>i64</td><td>str</td><td>str</td><td>str</td><td>str</td><td>str</td><td>f64</td><td>str</td><td>str</td><td>str</td><td>f64</td></tr></thead><tbody><tr><td>0</td><td>&quot;A-Bomb&quot;</td><td>&quot;Male&quot;</td><td>&quot;yellow&quot;</td><td>&quot;Human&quot;</td><td>&quot;No Hair&quot;</td><td>203.0</td><td>&quot;Marvel Comics&quot;</td><td>&quot;-&quot;</td><td>&quot;good&quot;</td><td>441.0</td></tr><tr><td>1</td><td>&quot;Abe Sapien&quot;</td><td>&quot;Male&quot;</td><td>&quot;blue&quot;</td><td>&quot;Icthyo Sapien&quot;</td><td>&quot;No Hair&quot;</td><td>191.0</td><td>&quot;Dark Horse Comics&quot;</td><td>&quot;blue&quot;</td><td>&quot;good&quot;</td><td>65.0</td></tr><tr><td>2</td><td>&quot;Abin Sur&quot;</td><td>&quot;Male&quot;</td><td>&quot;blue&quot;</td><td>&quot;Ungaran&quot;</td><td>&quot;No Hair&quot;</td><td>185.0</td><td>&quot;DC Comics&quot;</td><td>&quot;red&quot;</td><td>&quot;good&quot;</td><td>90.0</td></tr><tr><td>3</td><td>&quot;Abomination&quot;</td><td>&quot;Male&quot;</td><td>&quot;green&quot;</td><td>&quot;Human / Radiation&quot;</td><td>&quot;No Hair&quot;</td><td>203.0</td><td>&quot;Marvel Comics&quot;</td><td>&quot;-&quot;</td><td>&quot;bad&quot;</td><td>441.0</td></tr><tr><td>4</td><td>&quot;Abraxas&quot;</td><td>&quot;Male&quot;</td><td>&quot;blue&quot;</td><td>&quot;Cosmic Entity&quot;</td><td>&quot;Black&quot;</td><td>-99.0</td><td>&quot;Marvel Comics&quot;</td><td>&quot;-&quot;</td><td>&quot;bad&quot;</td><td>-99.0</td></tr></tbody></table></div>"
      ],
      "text/plain": [
       "shape: (5, 11)\n",
       "┌─────┬─────────────┬────────┬───────────┬───┬───────────────────┬────────────┬───────────┬────────┐\n",
       "│     ┆ name        ┆ Gender ┆ Eye color ┆ … ┆ Publisher         ┆ Skin color ┆ Alignment ┆ Weight │\n",
       "│ --- ┆ ---         ┆ ---    ┆ ---       ┆   ┆ ---               ┆ ---        ┆ ---       ┆ ---    │\n",
       "│ i64 ┆ str         ┆ str    ┆ str       ┆   ┆ str               ┆ str        ┆ str       ┆ f64    │\n",
       "╞═════╪═════════════╪════════╪═══════════╪═══╪═══════════════════╪════════════╪═══════════╪════════╡\n",
       "│ 0   ┆ A-Bomb      ┆ Male   ┆ yellow    ┆ … ┆ Marvel Comics     ┆ -          ┆ good      ┆ 441.0  │\n",
       "│ 1   ┆ Abe Sapien  ┆ Male   ┆ blue      ┆ … ┆ Dark Horse Comics ┆ blue       ┆ good      ┆ 65.0   │\n",
       "│ 2   ┆ Abin Sur    ┆ Male   ┆ blue      ┆ … ┆ DC Comics         ┆ red        ┆ good      ┆ 90.0   │\n",
       "│ 3   ┆ Abomination ┆ Male   ┆ green     ┆ … ┆ Marvel Comics     ┆ -          ┆ bad       ┆ 441.0  │\n",
       "│ 4   ┆ Abraxas     ┆ Male   ┆ blue      ┆ … ┆ Marvel Comics     ┆ -          ┆ bad       ┆ -99.0  │\n",
       "└─────┴─────────────┴────────┴───────────┴───┴───────────────────┴────────────┴───────────┴────────┘"
      ]
     },
     "execution_count": 16,
     "metadata": {},
     "output_type": "execute_result"
    }
   ],
   "source": [
    "heroes = pl.read_csv('./sample_data/heroes_information.csv')\n",
    "heroes.head()"
   ]
  },
  {
   "cell_type": "markdown",
   "id": "22ee70de",
   "metadata": {
    "slideshow": {
     "slide_type": "slide"
    }
   },
   "source": [
    "### Selecting Columns with `select`"
   ]
  },
  {
   "cell_type": "code",
   "execution_count": 18,
   "id": "f8cda78f",
   "metadata": {
    "slideshow": {
     "slide_type": "fragment"
    }
   },
   "outputs": [
    {
     "data": {
      "text/html": [
       "<div><style>\n",
       ".dataframe > thead > tr,\n",
       ".dataframe > tbody > tr {\n",
       "  text-align: right;\n",
       "  white-space: pre-wrap;\n",
       "}\n",
       "</style>\n",
       "<small>shape: (5, 3)</small><table border=\"1\" class=\"dataframe\"><thead><tr><th>Eye color</th><th>name</th><th>Gender</th></tr><tr><td>str</td><td>str</td><td>str</td></tr></thead><tbody><tr><td>&quot;yellow&quot;</td><td>&quot;A-Bomb&quot;</td><td>&quot;Male&quot;</td></tr><tr><td>&quot;blue&quot;</td><td>&quot;Abe Sapien&quot;</td><td>&quot;Male&quot;</td></tr><tr><td>&quot;blue&quot;</td><td>&quot;Abin Sur&quot;</td><td>&quot;Male&quot;</td></tr><tr><td>&quot;green&quot;</td><td>&quot;Abomination&quot;</td><td>&quot;Male&quot;</td></tr><tr><td>&quot;blue&quot;</td><td>&quot;Abraxas&quot;</td><td>&quot;Male&quot;</td></tr></tbody></table></div>"
      ],
      "text/plain": [
       "shape: (5, 3)\n",
       "┌───────────┬─────────────┬────────┐\n",
       "│ Eye color ┆ name        ┆ Gender │\n",
       "│ ---       ┆ ---         ┆ ---    │\n",
       "│ str       ┆ str         ┆ str    │\n",
       "╞═══════════╪═════════════╪════════╡\n",
       "│ yellow    ┆ A-Bomb      ┆ Male   │\n",
       "│ blue      ┆ Abe Sapien  ┆ Male   │\n",
       "│ blue      ┆ Abin Sur    ┆ Male   │\n",
       "│ green     ┆ Abomination ┆ Male   │\n",
       "│ blue      ┆ Abraxas     ┆ Male   │\n",
       "└───────────┴─────────────┴────────┘"
      ]
     },
     "execution_count": 18,
     "metadata": {},
     "output_type": "execute_result"
    }
   ],
   "source": [
    "(heroes\n",
    " .select(['Eye color', \n",
    "          pl.col('name'),  \n",
    "          heroes['Gender'],\n",
    "         ])\n",
    " .head()\n",
    ")"
   ]
  },
  {
   "cell_type": "markdown",
   "id": "5e807a37",
   "metadata": {
    "slideshow": {
     "slide_type": "slide"
    }
   },
   "source": [
    "### How to filter in `polars`"
   ]
  },
  {
   "cell_type": "code",
   "execution_count": 19,
   "id": "cc9a6eb5",
   "metadata": {
    "slideshow": {
     "slide_type": "fragment"
    }
   },
   "outputs": [
    {
     "data": {
      "text/html": [
       "<div><style>\n",
       ".dataframe > thead > tr,\n",
       ".dataframe > tbody > tr {\n",
       "  text-align: right;\n",
       "  white-space: pre-wrap;\n",
       "}\n",
       "</style>\n",
       "<small>shape: (5, 11)</small><table border=\"1\" class=\"dataframe\"><thead><tr><th></th><th>name</th><th>Gender</th><th>Eye color</th><th>Race</th><th>Hair color</th><th>Height</th><th>Publisher</th><th>Skin color</th><th>Alignment</th><th>Weight</th></tr><tr><td>i64</td><td>str</td><td>str</td><td>str</td><td>str</td><td>str</td><td>f64</td><td>str</td><td>str</td><td>str</td><td>f64</td></tr></thead><tbody><tr><td>0</td><td>&quot;A-Bomb&quot;</td><td>&quot;Male&quot;</td><td>&quot;yellow&quot;</td><td>&quot;Human&quot;</td><td>&quot;No Hair&quot;</td><td>203.0</td><td>&quot;Marvel Comics&quot;</td><td>&quot;-&quot;</td><td>&quot;good&quot;</td><td>441.0</td></tr><tr><td>1</td><td>&quot;Abe Sapien&quot;</td><td>&quot;Male&quot;</td><td>&quot;blue&quot;</td><td>&quot;Icthyo Sapien&quot;</td><td>&quot;No Hair&quot;</td><td>191.0</td><td>&quot;Dark Horse Comics&quot;</td><td>&quot;blue&quot;</td><td>&quot;good&quot;</td><td>65.0</td></tr><tr><td>2</td><td>&quot;Abin Sur&quot;</td><td>&quot;Male&quot;</td><td>&quot;blue&quot;</td><td>&quot;Ungaran&quot;</td><td>&quot;No Hair&quot;</td><td>185.0</td><td>&quot;DC Comics&quot;</td><td>&quot;red&quot;</td><td>&quot;good&quot;</td><td>90.0</td></tr><tr><td>3</td><td>&quot;Abomination&quot;</td><td>&quot;Male&quot;</td><td>&quot;green&quot;</td><td>&quot;Human / Radiation&quot;</td><td>&quot;No Hair&quot;</td><td>203.0</td><td>&quot;Marvel Comics&quot;</td><td>&quot;-&quot;</td><td>&quot;bad&quot;</td><td>441.0</td></tr><tr><td>4</td><td>&quot;Abraxas&quot;</td><td>&quot;Male&quot;</td><td>&quot;blue&quot;</td><td>&quot;Cosmic Entity&quot;</td><td>&quot;Black&quot;</td><td>-99.0</td><td>&quot;Marvel Comics&quot;</td><td>&quot;-&quot;</td><td>&quot;bad&quot;</td><td>-99.0</td></tr></tbody></table></div>"
      ],
      "text/plain": [
       "shape: (5, 11)\n",
       "┌─────┬─────────────┬────────┬───────────┬───┬───────────────────┬────────────┬───────────┬────────┐\n",
       "│     ┆ name        ┆ Gender ┆ Eye color ┆ … ┆ Publisher         ┆ Skin color ┆ Alignment ┆ Weight │\n",
       "│ --- ┆ ---         ┆ ---    ┆ ---       ┆   ┆ ---               ┆ ---        ┆ ---       ┆ ---    │\n",
       "│ i64 ┆ str         ┆ str    ┆ str       ┆   ┆ str               ┆ str        ┆ str       ┆ f64    │\n",
       "╞═════╪═════════════╪════════╪═══════════╪═══╪═══════════════════╪════════════╪═══════════╪════════╡\n",
       "│ 0   ┆ A-Bomb      ┆ Male   ┆ yellow    ┆ … ┆ Marvel Comics     ┆ -          ┆ good      ┆ 441.0  │\n",
       "│ 1   ┆ Abe Sapien  ┆ Male   ┆ blue      ┆ … ┆ Dark Horse Comics ┆ blue       ┆ good      ┆ 65.0   │\n",
       "│ 2   ┆ Abin Sur    ┆ Male   ┆ blue      ┆ … ┆ DC Comics         ┆ red        ┆ good      ┆ 90.0   │\n",
       "│ 3   ┆ Abomination ┆ Male   ┆ green     ┆ … ┆ Marvel Comics     ┆ -          ┆ bad       ┆ 441.0  │\n",
       "│ 4   ┆ Abraxas     ┆ Male   ┆ blue      ┆ … ┆ Marvel Comics     ┆ -          ┆ bad       ┆ -99.0  │\n",
       "└─────┴─────────────┴────────┴───────────┴───┴───────────────────┴────────────┴───────────┴────────┘"
      ]
     },
     "execution_count": 19,
     "metadata": {},
     "output_type": "execute_result"
    }
   ],
   "source": [
    "(heroes \n",
    " .filter(pl.col('Gender') == 'Male') # With a column expression\n",
    " .head()\n",
    ")"
   ]
  },
  {
   "cell_type": "markdown",
   "id": "74a8db33",
   "metadata": {
    "slideshow": {
     "slide_type": "slide"
    }
   },
   "source": [
    "### Dot-chaining methods in a \"pipe\""
   ]
  },
  {
   "cell_type": "code",
   "execution_count": 12,
   "id": "4cd9417b",
   "metadata": {
    "slideshow": {
     "slide_type": "fragment"
    }
   },
   "outputs": [
    {
     "data": {
      "text/html": [
       "<div>\n",
       "<style scoped>\n",
       "    .dataframe tbody tr th:only-of-type {\n",
       "        vertical-align: middle;\n",
       "    }\n",
       "\n",
       "    .dataframe tbody tr th {\n",
       "        vertical-align: top;\n",
       "    }\n",
       "\n",
       "    .dataframe thead th {\n",
       "        text-align: right;\n",
       "    }\n",
       "\n",
       "    .dataframe td {\n",
       "        white-space: pre;\n",
       "    }\n",
       "\n",
       "    .dataframe td {\n",
       "        padding-top: 0;\n",
       "    }\n",
       "\n",
       "    .dataframe td {\n",
       "        padding-bottom: 0;\n",
       "    }\n",
       "\n",
       "    .dataframe td {\n",
       "        line-height: 95%;\n",
       "    }\n",
       "</style>\n",
       "<table border=\"1\" class=\"dataframe\" >\n",
       "<small>shape: (5, 3)</small>\n",
       "<thead>\n",
       "<tr>\n",
       "<th>\n",
       "name\n",
       "</th>\n",
       "<th>\n",
       "Gender\n",
       "</th>\n",
       "<th>\n",
       "Weight\n",
       "</th>\n",
       "</tr>\n",
       "<tr>\n",
       "<td>\n",
       "str\n",
       "</td>\n",
       "<td>\n",
       "str\n",
       "</td>\n",
       "<td>\n",
       "f64\n",
       "</td>\n",
       "</tr>\n",
       "</thead>\n",
       "<tbody>\n",
       "<tr>\n",
       "<td>\n",
       "&quot;A-Bomb&quot;\n",
       "</td>\n",
       "<td>\n",
       "&quot;Male&quot;\n",
       "</td>\n",
       "<td>\n",
       "441.0\n",
       "</td>\n",
       "</tr>\n",
       "<tr>\n",
       "<td>\n",
       "&quot;Abe Sapien&quot;\n",
       "</td>\n",
       "<td>\n",
       "&quot;Male&quot;\n",
       "</td>\n",
       "<td>\n",
       "65.0\n",
       "</td>\n",
       "</tr>\n",
       "<tr>\n",
       "<td>\n",
       "&quot;Abin Sur&quot;\n",
       "</td>\n",
       "<td>\n",
       "&quot;Male&quot;\n",
       "</td>\n",
       "<td>\n",
       "90.0\n",
       "</td>\n",
       "</tr>\n",
       "<tr>\n",
       "<td>\n",
       "&quot;Abomination&quot;\n",
       "</td>\n",
       "<td>\n",
       "&quot;Male&quot;\n",
       "</td>\n",
       "<td>\n",
       "441.0\n",
       "</td>\n",
       "</tr>\n",
       "<tr>\n",
       "<td>\n",
       "&quot;Absorbing Man&quot;\n",
       "</td>\n",
       "<td>\n",
       "&quot;Male&quot;\n",
       "</td>\n",
       "<td>\n",
       "122.0\n",
       "</td>\n",
       "</tr>\n",
       "</tbody>\n",
       "</table>\n",
       "</div>"
      ],
      "text/plain": [
       "shape: (5, 3)\n",
       "┌───────────────┬────────┬────────┐\n",
       "│ name          ┆ Gender ┆ Weight │\n",
       "│ ---           ┆ ---    ┆ ---    │\n",
       "│ str           ┆ str    ┆ f64    │\n",
       "╞═══════════════╪════════╪════════╡\n",
       "│ A-Bomb        ┆ Male   ┆ 441.0  │\n",
       "├╌╌╌╌╌╌╌╌╌╌╌╌╌╌╌┼╌╌╌╌╌╌╌╌┼╌╌╌╌╌╌╌╌┤\n",
       "│ Abe Sapien    ┆ Male   ┆ 65.0   │\n",
       "├╌╌╌╌╌╌╌╌╌╌╌╌╌╌╌┼╌╌╌╌╌╌╌╌┼╌╌╌╌╌╌╌╌┤\n",
       "│ Abin Sur      ┆ Male   ┆ 90.0   │\n",
       "├╌╌╌╌╌╌╌╌╌╌╌╌╌╌╌┼╌╌╌╌╌╌╌╌┼╌╌╌╌╌╌╌╌┤\n",
       "│ Abomination   ┆ Male   ┆ 441.0  │\n",
       "├╌╌╌╌╌╌╌╌╌╌╌╌╌╌╌┼╌╌╌╌╌╌╌╌┼╌╌╌╌╌╌╌╌┤\n",
       "│ Absorbing Man ┆ Male   ┆ 122.0  │\n",
       "└───────────────┴────────┴────────┘"
      ]
     },
     "execution_count": 12,
     "metadata": {},
     "output_type": "execute_result"
    }
   ],
   "source": [
    "(heroes\n",
    ".select(['name', 'Gender', 'Weight'])\n",
    ".filter(pl.col('Gender') == 'Male')\n",
    ".filter(pl.col('Weight') > 0)\n",
    ".head()\n",
    ")"
   ]
  },
  {
   "cell_type": "markdown",
   "id": "5517360a",
   "metadata": {
    "slideshow": {
     "slide_type": "slide"
    }
   },
   "source": [
    "### Two ways to `MUTATE` in `polars`\n",
    "\n",
    "1. Inside `select` like SQL\n",
    "2. Using `with_columns`"
   ]
  },
  {
   "cell_type": "code",
   "execution_count": 20,
   "id": "5612fba0",
   "metadata": {
    "slideshow": {
     "slide_type": "fragment"
    }
   },
   "outputs": [
    {
     "data": {
      "text/html": [
       "<div><style>\n",
       ".dataframe > thead > tr,\n",
       ".dataframe > tbody > tr {\n",
       "  text-align: right;\n",
       "  white-space: pre-wrap;\n",
       "}\n",
       "</style>\n",
       "<small>shape: (5, 4)</small><table border=\"1\" class=\"dataframe\"><thead><tr><th>name</th><th>Gender</th><th>Weight</th><th>Weight_kg</th></tr><tr><td>str</td><td>str</td><td>f64</td><td>f64</td></tr></thead><tbody><tr><td>&quot;A-Bomb&quot;</td><td>&quot;Male&quot;</td><td>441.0</td><td>200.036288</td></tr><tr><td>&quot;Abe Sapien&quot;</td><td>&quot;Male&quot;</td><td>65.0</td><td>29.483807</td></tr><tr><td>&quot;Abin Sur&quot;</td><td>&quot;Male&quot;</td><td>90.0</td><td>40.823732</td></tr><tr><td>&quot;Abomination&quot;</td><td>&quot;Male&quot;</td><td>441.0</td><td>200.036288</td></tr><tr><td>&quot;Abraxas&quot;</td><td>&quot;Male&quot;</td><td>-99.0</td><td>-44.906105</td></tr></tbody></table></div>"
      ],
      "text/plain": [
       "shape: (5, 4)\n",
       "┌─────────────┬────────┬────────┬────────────┐\n",
       "│ name        ┆ Gender ┆ Weight ┆ Weight_kg  │\n",
       "│ ---         ┆ ---    ┆ ---    ┆ ---        │\n",
       "│ str         ┆ str    ┆ f64    ┆ f64        │\n",
       "╞═════════════╪════════╪════════╪════════════╡\n",
       "│ A-Bomb      ┆ Male   ┆ 441.0  ┆ 200.036288 │\n",
       "│ Abe Sapien  ┆ Male   ┆ 65.0   ┆ 29.483807  │\n",
       "│ Abin Sur    ┆ Male   ┆ 90.0   ┆ 40.823732  │\n",
       "│ Abomination ┆ Male   ┆ 441.0  ┆ 200.036288 │\n",
       "│ Abraxas     ┆ Male   ┆ -99.0  ┆ -44.906105 │\n",
       "└─────────────┴────────┴────────┴────────────┘"
      ]
     },
     "execution_count": 20,
     "metadata": {},
     "output_type": "execute_result"
    }
   ],
   "source": [
    "(heroes \n",
    " .select(['name', \n",
    "          'Gender', \n",
    "          'Weight',\n",
    "          (pl.col('Weight')/2.2046).alias('Weight_kg'),\n",
    "         ]) \n",
    " .head()\n",
    ")"
   ]
  },
  {
   "cell_type": "code",
   "execution_count": 24,
   "id": "bac49d97",
   "metadata": {
    "slideshow": {
     "slide_type": "fragment"
    }
   },
   "outputs": [
    {
     "data": {
      "text/html": [
       "<div><style>\n",
       ".dataframe > thead > tr,\n",
       ".dataframe > tbody > tr {\n",
       "  text-align: right;\n",
       "  white-space: pre-wrap;\n",
       "}\n",
       "</style>\n",
       "<small>shape: (5, 5)</small><table border=\"1\" class=\"dataframe\"><thead><tr><th>name</th><th>Gender</th><th>Weight</th><th>Weight_kg</th><th>Weight_g</th></tr><tr><td>str</td><td>str</td><td>f64</td><td>f64</td><td>f64</td></tr></thead><tbody><tr><td>&quot;A-Bomb&quot;</td><td>&quot;Male&quot;</td><td>441.0</td><td>200.036288</td><td>200036.287762</td></tr><tr><td>&quot;Abe Sapien&quot;</td><td>&quot;Male&quot;</td><td>65.0</td><td>29.483807</td><td>29483.806586</td></tr><tr><td>&quot;Abin Sur&quot;</td><td>&quot;Male&quot;</td><td>90.0</td><td>40.823732</td><td>40823.732196</td></tr><tr><td>&quot;Abomination&quot;</td><td>&quot;Male&quot;</td><td>441.0</td><td>200.036288</td><td>200036.287762</td></tr><tr><td>&quot;Abraxas&quot;</td><td>&quot;Male&quot;</td><td>-99.0</td><td>-44.906105</td><td>-44906.105416</td></tr></tbody></table></div>"
      ],
      "text/plain": [
       "shape: (5, 5)\n",
       "┌─────────────┬────────┬────────┬────────────┬───────────────┐\n",
       "│ name        ┆ Gender ┆ Weight ┆ Weight_kg  ┆ Weight_g      │\n",
       "│ ---         ┆ ---    ┆ ---    ┆ ---        ┆ ---           │\n",
       "│ str         ┆ str    ┆ f64    ┆ f64        ┆ f64           │\n",
       "╞═════════════╪════════╪════════╪════════════╪═══════════════╡\n",
       "│ A-Bomb      ┆ Male   ┆ 441.0  ┆ 200.036288 ┆ 200036.287762 │\n",
       "│ Abe Sapien  ┆ Male   ┆ 65.0   ┆ 29.483807  ┆ 29483.806586  │\n",
       "│ Abin Sur    ┆ Male   ┆ 90.0   ┆ 40.823732  ┆ 40823.732196  │\n",
       "│ Abomination ┆ Male   ┆ 441.0  ┆ 200.036288 ┆ 200036.287762 │\n",
       "│ Abraxas     ┆ Male   ┆ -99.0  ┆ -44.906105 ┆ -44906.105416 │\n",
       "└─────────────┴────────┴────────┴────────────┴───────────────┘"
      ]
     },
     "execution_count": 24,
     "metadata": {},
     "output_type": "execute_result"
    }
   ],
   "source": [
    "# Note: requires the `pl.Config.with_columns_kwargs = True` setting\n",
    "\n",
    "(heroes \n",
    " .select(['name', \n",
    "          'Gender', \n",
    "          'Weight'\n",
    "         ]) \n",
    " .with_columns(Weight_kg = pl.col('Weight')/2.2046,\n",
    "               Weight_g =  pl.col('Weight')/2.2046*1000,\n",
    "               ) \n",
    " .head()\n",
    ")"
   ]
  },
  {
   "cell_type": "markdown",
   "id": "0666ee82",
   "metadata": {
    "slideshow": {
     "slide_type": "slide"
    }
   },
   "source": [
    "### WARNING: Referencing a new column is tricky!\n",
    "\n",
    "#### Cannot reference a new column in the same `with_columns`"
   ]
  },
  {
   "cell_type": "code",
   "execution_count": 27,
   "id": "61d5c3b3",
   "metadata": {
    "scrolled": true,
    "slideshow": {
     "slide_type": "fragment"
    }
   },
   "outputs": [
    {
     "ename": "ColumnNotFoundError",
     "evalue": "Weight_kg",
     "output_type": "error",
     "traceback": [
      "\u001b[0;31m---------------------------------------------------------------------------\u001b[0m",
      "\u001b[0;31mColumnNotFoundError\u001b[0m                       Traceback (most recent call last)",
      "Cell \u001b[0;32mIn[27], line 8\u001b[0m\n\u001b[1;32m      1\u001b[0m pl\u001b[38;5;241m.\u001b[39mConfig\u001b[38;5;241m.\u001b[39mwith_columns_kwargs \u001b[38;5;241m=\u001b[39m \u001b[38;5;28;01mTrue\u001b[39;00m\n\u001b[1;32m      3\u001b[0m (\u001b[43mheroes\u001b[49m\u001b[43m \u001b[49m\n\u001b[1;32m      4\u001b[0m \u001b[43m \u001b[49m\u001b[38;5;241;43m.\u001b[39;49m\u001b[43mselect\u001b[49m\u001b[43m(\u001b[49m\u001b[43m[\u001b[49m\u001b[38;5;124;43m'\u001b[39;49m\u001b[38;5;124;43mname\u001b[39;49m\u001b[38;5;124;43m'\u001b[39;49m\u001b[43m,\u001b[49m\u001b[43m \u001b[49m\n\u001b[1;32m      5\u001b[0m \u001b[43m          \u001b[49m\u001b[38;5;124;43m'\u001b[39;49m\u001b[38;5;124;43mGender\u001b[39;49m\u001b[38;5;124;43m'\u001b[39;49m\u001b[43m,\u001b[49m\u001b[43m \u001b[49m\n\u001b[1;32m      6\u001b[0m \u001b[43m          \u001b[49m\u001b[38;5;124;43m'\u001b[39;49m\u001b[38;5;124;43mWeight\u001b[39;49m\u001b[38;5;124;43m'\u001b[39;49m\n\u001b[1;32m      7\u001b[0m \u001b[43m         \u001b[49m\u001b[43m]\u001b[49m\u001b[43m)\u001b[49m\u001b[43m \u001b[49m\n\u001b[0;32m----> 8\u001b[0m \u001b[43m \u001b[49m\u001b[38;5;241;43m.\u001b[39;49m\u001b[43mwith_columns\u001b[49m\u001b[43m(\u001b[49m\u001b[43mWeight_kg\u001b[49m\u001b[43m \u001b[49m\u001b[38;5;241;43m=\u001b[39;49m\u001b[43m \u001b[49m\u001b[43mpl\u001b[49m\u001b[38;5;241;43m.\u001b[39;49m\u001b[43mcol\u001b[49m\u001b[43m(\u001b[49m\u001b[38;5;124;43m'\u001b[39;49m\u001b[38;5;124;43mWeight\u001b[39;49m\u001b[38;5;124;43m'\u001b[39;49m\u001b[43m)\u001b[49m\u001b[38;5;241;43m/\u001b[39;49m\u001b[38;5;241;43m2.2046\u001b[39;49m\u001b[43m,\u001b[49m\n\u001b[1;32m      9\u001b[0m \u001b[43m               \u001b[49m\u001b[43mWeight_g\u001b[49m\u001b[43m \u001b[49m\u001b[38;5;241;43m=\u001b[39;49m\u001b[43m  \u001b[49m\u001b[43mpl\u001b[49m\u001b[38;5;241;43m.\u001b[39;49m\u001b[43mcol\u001b[49m\u001b[43m(\u001b[49m\u001b[38;5;124;43m'\u001b[39;49m\u001b[38;5;124;43mWeight_kg\u001b[39;49m\u001b[38;5;124;43m'\u001b[39;49m\u001b[43m)\u001b[49m\u001b[38;5;241;43m*\u001b[39;49m\u001b[38;5;241;43m1000\u001b[39;49m\u001b[43m)\u001b[49m \u001b[38;5;66;03m# References new column ==> CRASH!\u001b[39;00m\n\u001b[1;32m     10\u001b[0m  \u001b[38;5;241m.\u001b[39mfilter(pl\u001b[38;5;241m.\u001b[39mcol(\u001b[38;5;124m'\u001b[39m\u001b[38;5;124mWeight_kg\u001b[39m\u001b[38;5;124m'\u001b[39m) \u001b[38;5;241m<\u001b[39m \u001b[38;5;241m100\u001b[39m) \n\u001b[1;32m     11\u001b[0m  \u001b[38;5;241m.\u001b[39mhead()\n\u001b[1;32m     12\u001b[0m )\n",
      "File \u001b[0;32m/opt/anaconda3/envs/polars/lib/python3.12/site-packages/polars/dataframe/frame.py:8890\u001b[0m, in \u001b[0;36mDataFrame.with_columns\u001b[0;34m(self, *exprs, **named_exprs)\u001b[0m\n\u001b[1;32m   8744\u001b[0m \u001b[38;5;28;01mdef\u001b[39;00m \u001b[38;5;21mwith_columns\u001b[39m(\n\u001b[1;32m   8745\u001b[0m     \u001b[38;5;28mself\u001b[39m,\n\u001b[1;32m   8746\u001b[0m     \u001b[38;5;241m*\u001b[39mexprs: IntoExpr \u001b[38;5;241m|\u001b[39m Iterable[IntoExpr],\n\u001b[1;32m   8747\u001b[0m     \u001b[38;5;241m*\u001b[39m\u001b[38;5;241m*\u001b[39mnamed_exprs: IntoExpr,\n\u001b[1;32m   8748\u001b[0m ) \u001b[38;5;241m-\u001b[39m\u001b[38;5;241m>\u001b[39m DataFrame:\n\u001b[1;32m   8749\u001b[0m \u001b[38;5;250m    \u001b[39m\u001b[38;5;124;03m\"\"\"\u001b[39;00m\n\u001b[1;32m   8750\u001b[0m \u001b[38;5;124;03m    Add columns to this DataFrame.\u001b[39;00m\n\u001b[1;32m   8751\u001b[0m \n\u001b[0;32m   (...)\u001b[0m\n\u001b[1;32m   8888\u001b[0m \u001b[38;5;124;03m    └─────┴──────┴─────────────┘\u001b[39;00m\n\u001b[1;32m   8889\u001b[0m \u001b[38;5;124;03m    \"\"\"\u001b[39;00m\n\u001b[0;32m-> 8890\u001b[0m     \u001b[38;5;28;01mreturn\u001b[39;00m \u001b[38;5;28;43mself\u001b[39;49m\u001b[38;5;241;43m.\u001b[39;49m\u001b[43mlazy\u001b[49m\u001b[43m(\u001b[49m\u001b[43m)\u001b[49m\u001b[38;5;241;43m.\u001b[39;49m\u001b[43mwith_columns\u001b[49m\u001b[43m(\u001b[49m\u001b[38;5;241;43m*\u001b[39;49m\u001b[43mexprs\u001b[49m\u001b[43m,\u001b[49m\u001b[43m \u001b[49m\u001b[38;5;241;43m*\u001b[39;49m\u001b[38;5;241;43m*\u001b[39;49m\u001b[43mnamed_exprs\u001b[49m\u001b[43m)\u001b[49m\u001b[38;5;241;43m.\u001b[39;49m\u001b[43mcollect\u001b[49m\u001b[43m(\u001b[49m\u001b[43m_eager\u001b[49m\u001b[38;5;241;43m=\u001b[39;49m\u001b[38;5;28;43;01mTrue\u001b[39;49;00m\u001b[43m)\u001b[49m\n",
      "File \u001b[0;32m/opt/anaconda3/envs/polars/lib/python3.12/site-packages/polars/lazyframe/frame.py:2027\u001b[0m, in \u001b[0;36mLazyFrame.collect\u001b[0;34m(self, type_coercion, predicate_pushdown, projection_pushdown, simplify_expression, slice_pushdown, comm_subplan_elim, comm_subexpr_elim, cluster_with_columns, no_optimization, streaming, engine, background, _eager, **_kwargs)\u001b[0m\n\u001b[1;32m   2025\u001b[0m \u001b[38;5;66;03m# Only for testing purposes\u001b[39;00m\n\u001b[1;32m   2026\u001b[0m callback \u001b[38;5;241m=\u001b[39m _kwargs\u001b[38;5;241m.\u001b[39mget(\u001b[38;5;124m\"\u001b[39m\u001b[38;5;124mpost_opt_callback\u001b[39m\u001b[38;5;124m\"\u001b[39m, callback)\n\u001b[0;32m-> 2027\u001b[0m \u001b[38;5;28;01mreturn\u001b[39;00m wrap_df(\u001b[43mldf\u001b[49m\u001b[38;5;241;43m.\u001b[39;49m\u001b[43mcollect\u001b[49m\u001b[43m(\u001b[49m\u001b[43mcallback\u001b[49m\u001b[43m)\u001b[49m)\n",
      "\u001b[0;31mColumnNotFoundError\u001b[0m: Weight_kg"
     ]
    }
   ],
   "source": [
    "pl.Config.with_columns_kwargs = True\n",
    "\n",
    "(heroes \n",
    " .select(['name', \n",
    "          'Gender', \n",
    "          'Weight'\n",
    "         ]) \n",
    " .with_columns(Weight_kg = pl.col('Weight')/2.2046,\n",
    "               Weight_g =  pl.col('Weight_kg')*1000) # References new column ==> CRASH!\n",
    " .filter(pl.col('Weight_kg') < 100) \n",
    " .head()\n",
    ")"
   ]
  },
  {
   "cell_type": "markdown",
   "id": "00d40c84",
   "metadata": {
    "slideshow": {
     "slide_type": "slide"
    }
   },
   "source": [
    "#### New column $\\longrightarrow$ new `with_columns`"
   ]
  },
  {
   "cell_type": "code",
   "execution_count": 28,
   "id": "ad7bdec1",
   "metadata": {
    "slideshow": {
     "slide_type": "fragment"
    }
   },
   "outputs": [
    {
     "data": {
      "text/html": [
       "<div><style>\n",
       ".dataframe > thead > tr,\n",
       ".dataframe > tbody > tr {\n",
       "  text-align: right;\n",
       "  white-space: pre-wrap;\n",
       "}\n",
       "</style>\n",
       "<small>shape: (5, 5)</small><table border=\"1\" class=\"dataframe\"><thead><tr><th>name</th><th>Gender</th><th>Weight</th><th>Weight_kg</th><th>Weight_g</th></tr><tr><td>str</td><td>str</td><td>f64</td><td>f64</td><td>f64</td></tr></thead><tbody><tr><td>&quot;Abe Sapien&quot;</td><td>&quot;Male&quot;</td><td>65.0</td><td>29.483807</td><td>29483.806586</td></tr><tr><td>&quot;Abin Sur&quot;</td><td>&quot;Male&quot;</td><td>90.0</td><td>40.823732</td><td>40823.732196</td></tr><tr><td>&quot;Abraxas&quot;</td><td>&quot;Male&quot;</td><td>-99.0</td><td>-44.906105</td><td>-44906.105416</td></tr><tr><td>&quot;Absorbing Man&quot;</td><td>&quot;Male&quot;</td><td>122.0</td><td>55.338837</td><td>55338.836977</td></tr><tr><td>&quot;Adam Monroe&quot;</td><td>&quot;Male&quot;</td><td>-99.0</td><td>-44.906105</td><td>-44906.105416</td></tr></tbody></table></div>"
      ],
      "text/plain": [
       "shape: (5, 5)\n",
       "┌───────────────┬────────┬────────┬────────────┬───────────────┐\n",
       "│ name          ┆ Gender ┆ Weight ┆ Weight_kg  ┆ Weight_g      │\n",
       "│ ---           ┆ ---    ┆ ---    ┆ ---        ┆ ---           │\n",
       "│ str           ┆ str    ┆ f64    ┆ f64        ┆ f64           │\n",
       "╞═══════════════╪════════╪════════╪════════════╪═══════════════╡\n",
       "│ Abe Sapien    ┆ Male   ┆ 65.0   ┆ 29.483807  ┆ 29483.806586  │\n",
       "│ Abin Sur      ┆ Male   ┆ 90.0   ┆ 40.823732  ┆ 40823.732196  │\n",
       "│ Abraxas       ┆ Male   ┆ -99.0  ┆ -44.906105 ┆ -44906.105416 │\n",
       "│ Absorbing Man ┆ Male   ┆ 122.0  ┆ 55.338837  ┆ 55338.836977  │\n",
       "│ Adam Monroe   ┆ Male   ┆ -99.0  ┆ -44.906105 ┆ -44906.105416 │\n",
       "└───────────────┴────────┴────────┴────────────┴───────────────┘"
      ]
     },
     "execution_count": 28,
     "metadata": {},
     "output_type": "execute_result"
    }
   ],
   "source": [
    "\n",
    "\n",
    "(heroes \n",
    " .select(['name', \n",
    "          'Gender', \n",
    "          'Weight'\n",
    "         ]) \n",
    " .with_columns(Weight_kg = pl.col('Weight')/2.2046)\n",
    " .with_columns(Weight_g =  pl.col('Weight_kg')*1000) # Can reference in new call\n",
    " .filter(pl.col('Weight_kg') < 100) \n",
    " .head()\n",
    ")"
   ]
  },
  {
   "cell_type": "markdown",
   "id": "074ba9f2",
   "metadata": {
    "jp-MarkdownHeadingCollapsed": true
   },
   "source": [
    "## Topic 3 - Advanced Applications of Select"
   ]
  },
  {
   "cell_type": "code",
   "execution_count": 29,
   "id": "0fc7ebe7",
   "metadata": {},
   "outputs": [
    {
     "data": {
      "text/plain": [
       "['',\n",
       " 'F1',\n",
       " 'F5',\n",
       " 'F2',\n",
       " 'F1.1',\n",
       " 'F2.1',\n",
       " 'F6',\n",
       " 'F4',\n",
       " 'F3',\n",
       " 'F5.1',\n",
       " 'F1.2',\n",
       " 'F2.2',\n",
       " 'F6.1',\n",
       " 'F2.3',\n",
       " 'F4.1',\n",
       " 'F2.4',\n",
       " 'F5.2',\n",
       " 'F2.5',\n",
       " 'F6.2',\n",
       " 'F1.3',\n",
       " 'F2.6',\n",
       " 'F5.3',\n",
       " 'F4.2',\n",
       " 'F2.7',\n",
       " 'F3.1',\n",
       " 'F2.8',\n",
       " 'F5.4',\n",
       " 'F3.2',\n",
       " 'F1.4',\n",
       " 'F3.3',\n",
       " 'F1.5',\n",
       " 'F5.5',\n",
       " 'F6.3',\n",
       " 'F1.6',\n",
       " 'F5.6',\n",
       " 'F2.9',\n",
       " 'F3.4',\n",
       " 'F4.3',\n",
       " 'F2.10',\n",
       " 'F1.7',\n",
       " 'F6.4',\n",
       " 'F4.4',\n",
       " 'F5.7',\n",
       " 'F3.5',\n",
       " 'F2.11']"
      ]
     },
     "execution_count": 29,
     "metadata": {},
     "output_type": "execute_result"
    }
   ],
   "source": [
    "survey_raw = pl.read_csv(\"./sample_data/health_survey.csv\")\n",
    "survey_raw.columns"
   ]
  },
  {
   "cell_type": "markdown",
   "id": "dc8ae8f5",
   "metadata": {},
   "source": [
    "### Renaming columns"
   ]
  },
  {
   "cell_type": "code",
   "execution_count": 35,
   "id": "11f25b3a",
   "metadata": {},
   "outputs": [
    {
     "data": {
      "text/html": [
       "<div><style>\n",
       ".dataframe > thead > tr,\n",
       ".dataframe > tbody > tr {\n",
       "  text-align: right;\n",
       "  white-space: pre-wrap;\n",
       "}\n",
       "</style>\n",
       "<small>shape: (5, 45)</small><table border=\"1\" class=\"dataframe\"><thead><tr><th>ID</th><th>F1</th><th>F5</th><th>F2</th><th>F1.1</th><th>F2.1</th><th>F6</th><th>F4</th><th>F3</th><th>F5.1</th><th>F1.2</th><th>F2.2</th><th>F6.1</th><th>F2.3</th><th>F4.1</th><th>F2.4</th><th>F5.2</th><th>F2.5</th><th>F6.2</th><th>F1.3</th><th>F2.6</th><th>F5.3</th><th>F4.2</th><th>F2.7</th><th>F3.1</th><th>F2.8</th><th>F5.4</th><th>F3.2</th><th>F1.4</th><th>F3.3</th><th>F1.5</th><th>F5.5</th><th>F6.3</th><th>F1.6</th><th>F5.6</th><th>F2.9</th><th>F3.4</th><th>F4.3</th><th>F2.10</th><th>F1.7</th><th>F6.4</th><th>F4.4</th><th>F5.7</th><th>F3.5</th><th>F2.11</th></tr><tr><td>i64</td><td>str</td><td>str</td><td>str</td><td>str</td><td>str</td><td>str</td><td>str</td><td>str</td><td>str</td><td>str</td><td>str</td><td>str</td><td>str</td><td>str</td><td>str</td><td>str</td><td>str</td><td>str</td><td>str</td><td>str</td><td>str</td><td>str</td><td>str</td><td>str</td><td>str</td><td>str</td><td>str</td><td>str</td><td>str</td><td>str</td><td>str</td><td>str</td><td>str</td><td>str</td><td>str</td><td>str</td><td>str</td><td>str</td><td>str</td><td>str</td><td>str</td><td>str</td><td>str</td><td>str</td></tr></thead><tbody><tr><td>1</td><td>&quot;Somewhat Agree&quot;</td><td>&quot;Somewhat Disagree&quot;</td><td>&quot;Somewhat Agree&quot;</td><td>&quot;Somewhat Agree&quot;</td><td>&quot;Somewhat Agree&quot;</td><td>&quot;Somewhat Disagree&quot;</td><td>&quot;Somewhat Agree&quot;</td><td>&quot;Somewhat Agree&quot;</td><td>&quot;Somewhat Agree&quot;</td><td>&quot;Somewhat Agree&quot;</td><td>&quot;Somewhat Agree&quot;</td><td>&quot;Somewhat Agree&quot;</td><td>&quot;Somewhat Agree&quot;</td><td>&quot;Somewhat Agree&quot;</td><td>&quot;Somewhat Agree&quot;</td><td>&quot;Somewhat Agree&quot;</td><td>&quot;Somewhat Agree&quot;</td><td>&quot;Somewhat Agree&quot;</td><td>&quot;Somewhat Agree&quot;</td><td>&quot;Somewhat Agree&quot;</td><td>&quot;Somewhat Agree&quot;</td><td>&quot;Somewhat Agree&quot;</td><td>&quot;Somewhat Agree&quot;</td><td>&quot;Somewhat Disagree&quot;</td><td>&quot;Somewhat Agree&quot;</td><td>&quot;Somewhat Agree&quot;</td><td>&quot;Somewhat Agree&quot;</td><td>&quot;Neither Agree nor Disagree&quot;</td><td>&quot;Somewhat Agree&quot;</td><td>&quot;Somewhat Agree&quot;</td><td>&quot;Somewhat Disagree&quot;</td><td>&quot;Somewhat Disagree&quot;</td><td>&quot;Somewhat Agree&quot;</td><td>&quot;Somewhat Agree&quot;</td><td>&quot;Somewhat Agree&quot;</td><td>&quot;Somewhat Disagree&quot;</td><td>&quot;Neither Agree nor Disagree&quot;</td><td>&quot;Somewhat Agree&quot;</td><td>&quot;Somewhat Agree&quot;</td><td>&quot;Somewhat Agree&quot;</td><td>&quot;Somewhat Agree&quot;</td><td>&quot;Somewhat Agree&quot;</td><td>&quot;Somewhat Agree&quot;</td><td>&quot;Somewhat Agree&quot;</td></tr><tr><td>2</td><td>&quot;Somewhat Agree&quot;</td><td>&quot;Somewhat Disagree&quot;</td><td>&quot;Somewhat Agree&quot;</td><td>&quot;Somewhat Agree&quot;</td><td>&quot;Somewhat Agree&quot;</td><td>&quot;Somewhat Disagree&quot;</td><td>&quot;Somewhat Agree&quot;</td><td>&quot;Neither Agree nor Disagree&quot;</td><td>&quot;Neither Agree nor Disagree&quot;</td><td>&quot;Somewhat Agree&quot;</td><td>&quot;Neither Agree nor Disagree&quot;</td><td>&quot;Somewhat Agree&quot;</td><td>&quot;Somewhat Agree&quot;</td><td>&quot;Neither Agree nor Disagree&quot;</td><td>&quot;Somewhat Agree&quot;</td><td>&quot;Somewhat Agree&quot;</td><td>&quot;Somewhat Agree&quot;</td><td>&quot;Somewhat Agree&quot;</td><td>&quot;Somewhat Agree&quot;</td><td>&quot;Somewhat Agree&quot;</td><td>&quot;Somewhat Agree&quot;</td><td>&quot;Somewhat Agree&quot;</td><td>&quot;Somewhat Agree&quot;</td><td>&quot;Neither Agree nor Disagree&quot;</td><td>&quot;Somewhat Agree&quot;</td><td>&quot;Neither Agree nor Disagree&quot;</td><td>&quot;Neither Agree nor Disagree&quot;</td><td>&quot;Somewhat Agree&quot;</td><td>&quot;Neither Agree nor Disagree&quot;</td><td>&quot;Neither Agree nor Disagree&quot;</td><td>&quot;Neither Agree nor Disagree&quot;</td><td>&quot;Somewhat Disagree&quot;</td><td>&quot;Somewhat Agree&quot;</td><td>&quot;Somewhat Disagree&quot;</td><td>&quot;Somewhat Agree&quot;</td><td>&quot;Somewhat Agree&quot;</td><td>&quot;Neither Agree nor Disagree&quot;</td><td>&quot;Somewhat Agree&quot;</td><td>&quot;Somewhat Agree&quot;</td><td>&quot;Somewhat Disagree&quot;</td><td>&quot;Neither Agree nor Disagree&quot;</td><td>&quot;Somewhat Agree&quot;</td><td>&quot;Neither Agree nor Disagree&quot;</td><td>&quot;Somewhat Agree&quot;</td></tr><tr><td>3</td><td>&quot;Strongly Agree&quot;</td><td>&quot;Neither Agree nor Disagree&quot;</td><td>&quot;Somewhat Agree&quot;</td><td>&quot;Strongly Agree&quot;</td><td>&quot;Strongly Agree&quot;</td><td>&quot;Somewhat Disagree&quot;</td><td>&quot;Somewhat Agree&quot;</td><td>&quot;Somewhat Agree&quot;</td><td>&quot;Somewhat Agree&quot;</td><td>&quot;Strongly Agree&quot;</td><td>&quot;Somewhat Agree&quot;</td><td>&quot;Neither Agree nor Disagree&quot;</td><td>&quot;Somewhat Agree&quot;</td><td>&quot;Neither Agree nor Disagree&quot;</td><td>&quot;Somewhat Agree&quot;</td><td>&quot;Somewhat Disagree&quot;</td><td>&quot;Strongly Agree&quot;</td><td>&quot;Somewhat Agree&quot;</td><td>&quot;Strongly Agree&quot;</td><td>&quot;Somewhat Agree&quot;</td><td>&quot;Somewhat Agree&quot;</td><td>&quot;Somewhat Agree&quot;</td><td>&quot;&quot;</td><td>&quot;Somewhat Disagree&quot;</td><td>&quot;Somewhat Agree&quot;</td><td>&quot;Somewhat Agree&quot;</td><td>&quot;Somewhat Agree&quot;</td><td>&quot;Somewhat Disagree&quot;</td><td>&quot;Somewhat Agree&quot;</td><td>&quot;Strongly Agree&quot;</td><td>&quot;Somewhat Disagree&quot;</td><td>&quot;Somewhat Disagree&quot;</td><td>&quot;Strongly Agree&quot;</td><td>&quot;Somewhat Disagree&quot;</td><td>&quot;Somewhat Agree&quot;</td><td>&quot;Somewhat Agree&quot;</td><td>&quot;Neither Agree nor Disagree&quot;</td><td>&quot;Somewhat Agree&quot;</td><td>&quot;Somewhat Agree&quot;</td><td>&quot;Somewhat Agree&quot;</td><td>&quot;Somewhat Agree&quot;</td><td>&quot;Strongly Agree&quot;</td><td>&quot;Strongly Disagree&quot;</td><td>&quot;Somewhat Agree&quot;</td></tr><tr><td>4</td><td>&quot;Somewhat Agree&quot;</td><td>&quot;Somewhat Agree&quot;</td><td>&quot;Strongly Agree&quot;</td><td>&quot;Somewhat Agree&quot;</td><td>&quot;Strongly Agree&quot;</td><td>&quot;Neither Agree nor Disagree&quot;</td><td>&quot;Neither Agree nor Disagree&quot;</td><td>&quot;Somewhat Disagree&quot;</td><td>&quot;Somewhat Agree&quot;</td><td>&quot;Strongly Agree&quot;</td><td>&quot;Strongly Agree&quot;</td><td>&quot;Somewhat Agree&quot;</td><td>&quot;Somewhat Agree&quot;</td><td>&quot;Neither Agree nor Disagree&quot;</td><td>&quot;Strongly Agree&quot;</td><td>&quot;Somewhat Disagree&quot;</td><td>&quot;Strongly Agree&quot;</td><td>&quot;Somewhat Agree&quot;</td><td>&quot;Somewhat Agree&quot;</td><td>&quot;Strongly Agree&quot;</td><td>&quot;Somewhat Agree&quot;</td><td>&quot;Somewhat Agree&quot;</td><td>&quot;Somewhat Agree&quot;</td><td>&quot;Somewhat Disagree&quot;</td><td>&quot;Somewhat Agree&quot;</td><td>&quot;Somewhat Agree&quot;</td><td>&quot;Somewhat Disagree&quot;</td><td>&quot;Neither Agree nor Disagree&quot;</td><td>&quot;Somewhat Disagree&quot;</td><td>&quot;Somewhat Agree&quot;</td><td>&quot;Somewhat Disagree&quot;</td><td>&quot;Somewhat Agree&quot;</td><td>&quot;Strongly Agree&quot;</td><td>&quot;Somewhat Disagree&quot;</td><td>&quot;Somewhat Agree&quot;</td><td>&quot;Somewhat Disagree&quot;</td><td>&quot;Somewhat Agree&quot;</td><td>&quot;Somewhat Agree&quot;</td><td>&quot;Neither Agree nor Disagree&quot;</td><td>&quot;Neither Agree nor Disagree&quot;</td><td>&quot;Neither Agree nor Disagree&quot;</td><td>&quot;Somewhat Agree&quot;</td><td>&quot;Somewhat Disagree&quot;</td><td>&quot;Somewhat Agree&quot;</td></tr><tr><td>5</td><td>&quot;Strongly Agree&quot;</td><td>&quot;Strongly Disagree&quot;</td><td>&quot;Neither Agree nor Disagree&quot;</td><td>&quot;Strongly Agree&quot;</td><td>&quot;Somewhat Agree&quot;</td><td>&quot;Strongly Disagree&quot;</td><td>&quot;Strongly Agree&quot;</td><td>&quot;Somewhat Agree&quot;</td><td>&quot;Neither Agree nor Disagree&quot;</td><td>&quot;Strongly Agree&quot;</td><td>&quot;Somewhat Agree&quot;</td><td>&quot;Somewhat Agree&quot;</td><td>&quot;Somewhat Disagree&quot;</td><td>&quot;Neither Agree nor Disagree&quot;</td><td>&quot;Somewhat Agree&quot;</td><td>&quot;Strongly Disagree&quot;</td><td>&quot;Strongly Agree&quot;</td><td>&quot;Strongly Agree&quot;</td><td>&quot;Strongly Agree&quot;</td><td>&quot;Strongly Agree&quot;</td><td>&quot;Strongly Agree&quot;</td><td>&quot;Somewhat Agree&quot;</td><td>&quot;Somewhat Agree&quot;</td><td>&quot;Somewhat Agree&quot;</td><td>&quot;Somewhat Agree&quot;</td><td>&quot;Neither Agree nor Disagree&quot;</td><td>&quot;Somewhat Agree&quot;</td><td>&quot;Somewhat Agree&quot;</td><td>&quot;Somewhat Agree&quot;</td><td>&quot;Somewhat Agree&quot;</td><td>&quot;Strongly Disagree&quot;</td><td>&quot;Neither Agree nor Disagree&quot;</td><td>&quot;Strongly Agree&quot;</td><td>&quot;Strongly Disagree&quot;</td><td>&quot;Somewhat Agree&quot;</td><td>&quot;Somewhat Agree&quot;</td><td>&quot;Neither Agree nor Disagree&quot;</td><td>&quot;Somewhat Agree&quot;</td><td>&quot;Somewhat Agree&quot;</td><td>&quot;Somewhat Agree&quot;</td><td>&quot;Somewhat Agree&quot;</td><td>&quot;Strongly Agree&quot;</td><td>&quot;Somewhat Disagree&quot;</td><td>&quot;Somewhat Agree&quot;</td></tr></tbody></table></div>"
      ],
      "text/plain": [
       "shape: (5, 45)\n",
       "┌─────┬────────────┬────────────┬────────────┬───┬────────────┬────────────┬───────────┬───────────┐\n",
       "│ ID  ┆ F1         ┆ F5         ┆ F2         ┆ … ┆ F4.4       ┆ F5.7       ┆ F3.5      ┆ F2.11     │\n",
       "│ --- ┆ ---        ┆ ---        ┆ ---        ┆   ┆ ---        ┆ ---        ┆ ---       ┆ ---       │\n",
       "│ i64 ┆ str        ┆ str        ┆ str        ┆   ┆ str        ┆ str        ┆ str       ┆ str       │\n",
       "╞═════╪════════════╪════════════╪════════════╪═══╪════════════╪════════════╪═══════════╪═══════════╡\n",
       "│ 1   ┆ Somewhat   ┆ Somewhat   ┆ Somewhat   ┆ … ┆ Somewhat   ┆ Somewhat   ┆ Somewhat  ┆ Somewhat  │\n",
       "│     ┆ Agree      ┆ Disagree   ┆ Agree      ┆   ┆ Agree      ┆ Agree      ┆ Agree     ┆ Agree     │\n",
       "│ 2   ┆ Somewhat   ┆ Somewhat   ┆ Somewhat   ┆ … ┆ Neither    ┆ Somewhat   ┆ Neither   ┆ Somewhat  │\n",
       "│     ┆ Agree      ┆ Disagree   ┆ Agree      ┆   ┆ Agree nor  ┆ Agree      ┆ Agree nor ┆ Agree     │\n",
       "│     ┆            ┆            ┆            ┆   ┆ Disagree   ┆            ┆ Disagree  ┆           │\n",
       "│ 3   ┆ Strongly   ┆ Neither    ┆ Somewhat   ┆ … ┆ Somewhat   ┆ Strongly   ┆ Strongly  ┆ Somewhat  │\n",
       "│     ┆ Agree      ┆ Agree nor  ┆ Agree      ┆   ┆ Agree      ┆ Agree      ┆ Disagree  ┆ Agree     │\n",
       "│     ┆            ┆ Disagree   ┆            ┆   ┆            ┆            ┆           ┆           │\n",
       "│ 4   ┆ Somewhat   ┆ Somewhat   ┆ Strongly   ┆ … ┆ Neither    ┆ Somewhat   ┆ Somewhat  ┆ Somewhat  │\n",
       "│     ┆ Agree      ┆ Agree      ┆ Agree      ┆   ┆ Agree nor  ┆ Agree      ┆ Disagree  ┆ Agree     │\n",
       "│     ┆            ┆            ┆            ┆   ┆ Disagree   ┆            ┆           ┆           │\n",
       "│ 5   ┆ Strongly   ┆ Strongly   ┆ Neither    ┆ … ┆ Somewhat   ┆ Strongly   ┆ Somewhat  ┆ Somewhat  │\n",
       "│     ┆ Agree      ┆ Disagree   ┆ Agree nor  ┆   ┆ Agree      ┆ Agree      ┆ Disagree  ┆ Agree     │\n",
       "│     ┆            ┆            ┆ Disagree   ┆   ┆            ┆            ┆           ┆           │\n",
       "└─────┴────────────┴────────────┴────────────┴───┴────────────┴────────────┴───────────┴───────────┘"
      ]
     },
     "execution_count": 35,
     "metadata": {},
     "output_type": "execute_result"
    }
   ],
   "source": [
    "survey = survey_raw.rename({'':'ID'})\n",
    "survey.head()"
   ]
  },
  {
   "cell_type": "markdown",
   "id": "03acfa5d",
   "metadata": {},
   "source": [
    "### Dropping one or more columns with `drop`"
   ]
  },
  {
   "cell_type": "markdown",
   "id": "c8b8ac96",
   "metadata": {},
   "source": [
    "#### Dropping a list of multiple columns"
   ]
  },
  {
   "cell_type": "code",
   "execution_count": 37,
   "id": "e58712ad-7eb5-45ed-a44d-62649410df1f",
   "metadata": {},
   "outputs": [
    {
     "data": {
      "text/html": [
       "<div><style>\n",
       ".dataframe > thead > tr,\n",
       ".dataframe > tbody > tr {\n",
       "  text-align: right;\n",
       "  white-space: pre-wrap;\n",
       "}\n",
       "</style>\n",
       "<small>shape: (2, 44)</small><table border=\"1\" class=\"dataframe\"><thead><tr><th>ID</th><th>F5</th><th>F2</th><th>F1.1</th><th>F2.1</th><th>F6</th><th>F4</th><th>F3</th><th>F5.1</th><th>F1.2</th><th>F2.2</th><th>F6.1</th><th>F2.3</th><th>F4.1</th><th>F2.4</th><th>F5.2</th><th>F2.5</th><th>F6.2</th><th>F1.3</th><th>F2.6</th><th>F5.3</th><th>F4.2</th><th>F2.7</th><th>F3.1</th><th>F2.8</th><th>F5.4</th><th>F3.2</th><th>F1.4</th><th>F3.3</th><th>F1.5</th><th>F5.5</th><th>F6.3</th><th>F1.6</th><th>F5.6</th><th>F2.9</th><th>F3.4</th><th>F4.3</th><th>F2.10</th><th>F1.7</th><th>F6.4</th><th>F4.4</th><th>F5.7</th><th>F3.5</th><th>F2.11</th></tr><tr><td>i64</td><td>str</td><td>str</td><td>str</td><td>str</td><td>str</td><td>str</td><td>str</td><td>str</td><td>str</td><td>str</td><td>str</td><td>str</td><td>str</td><td>str</td><td>str</td><td>str</td><td>str</td><td>str</td><td>str</td><td>str</td><td>str</td><td>str</td><td>str</td><td>str</td><td>str</td><td>str</td><td>str</td><td>str</td><td>str</td><td>str</td><td>str</td><td>str</td><td>str</td><td>str</td><td>str</td><td>str</td><td>str</td><td>str</td><td>str</td><td>str</td><td>str</td><td>str</td><td>str</td></tr></thead><tbody><tr><td>1</td><td>&quot;Somewhat Disagree&quot;</td><td>&quot;Somewhat Agree&quot;</td><td>&quot;Somewhat Agree&quot;</td><td>&quot;Somewhat Agree&quot;</td><td>&quot;Somewhat Disagree&quot;</td><td>&quot;Somewhat Agree&quot;</td><td>&quot;Somewhat Agree&quot;</td><td>&quot;Somewhat Agree&quot;</td><td>&quot;Somewhat Agree&quot;</td><td>&quot;Somewhat Agree&quot;</td><td>&quot;Somewhat Agree&quot;</td><td>&quot;Somewhat Agree&quot;</td><td>&quot;Somewhat Agree&quot;</td><td>&quot;Somewhat Agree&quot;</td><td>&quot;Somewhat Agree&quot;</td><td>&quot;Somewhat Agree&quot;</td><td>&quot;Somewhat Agree&quot;</td><td>&quot;Somewhat Agree&quot;</td><td>&quot;Somewhat Agree&quot;</td><td>&quot;Somewhat Agree&quot;</td><td>&quot;Somewhat Agree&quot;</td><td>&quot;Somewhat Agree&quot;</td><td>&quot;Somewhat Disagree&quot;</td><td>&quot;Somewhat Agree&quot;</td><td>&quot;Somewhat Agree&quot;</td><td>&quot;Somewhat Agree&quot;</td><td>&quot;Neither Agree nor Disagree&quot;</td><td>&quot;Somewhat Agree&quot;</td><td>&quot;Somewhat Agree&quot;</td><td>&quot;Somewhat Disagree&quot;</td><td>&quot;Somewhat Disagree&quot;</td><td>&quot;Somewhat Agree&quot;</td><td>&quot;Somewhat Agree&quot;</td><td>&quot;Somewhat Agree&quot;</td><td>&quot;Somewhat Disagree&quot;</td><td>&quot;Neither Agree nor Disagree&quot;</td><td>&quot;Somewhat Agree&quot;</td><td>&quot;Somewhat Agree&quot;</td><td>&quot;Somewhat Agree&quot;</td><td>&quot;Somewhat Agree&quot;</td><td>&quot;Somewhat Agree&quot;</td><td>&quot;Somewhat Agree&quot;</td><td>&quot;Somewhat Agree&quot;</td></tr><tr><td>2</td><td>&quot;Somewhat Disagree&quot;</td><td>&quot;Somewhat Agree&quot;</td><td>&quot;Somewhat Agree&quot;</td><td>&quot;Somewhat Agree&quot;</td><td>&quot;Somewhat Disagree&quot;</td><td>&quot;Somewhat Agree&quot;</td><td>&quot;Neither Agree nor Disagree&quot;</td><td>&quot;Neither Agree nor Disagree&quot;</td><td>&quot;Somewhat Agree&quot;</td><td>&quot;Neither Agree nor Disagree&quot;</td><td>&quot;Somewhat Agree&quot;</td><td>&quot;Somewhat Agree&quot;</td><td>&quot;Neither Agree nor Disagree&quot;</td><td>&quot;Somewhat Agree&quot;</td><td>&quot;Somewhat Agree&quot;</td><td>&quot;Somewhat Agree&quot;</td><td>&quot;Somewhat Agree&quot;</td><td>&quot;Somewhat Agree&quot;</td><td>&quot;Somewhat Agree&quot;</td><td>&quot;Somewhat Agree&quot;</td><td>&quot;Somewhat Agree&quot;</td><td>&quot;Somewhat Agree&quot;</td><td>&quot;Neither Agree nor Disagree&quot;</td><td>&quot;Somewhat Agree&quot;</td><td>&quot;Neither Agree nor Disagree&quot;</td><td>&quot;Neither Agree nor Disagree&quot;</td><td>&quot;Somewhat Agree&quot;</td><td>&quot;Neither Agree nor Disagree&quot;</td><td>&quot;Neither Agree nor Disagree&quot;</td><td>&quot;Neither Agree nor Disagree&quot;</td><td>&quot;Somewhat Disagree&quot;</td><td>&quot;Somewhat Agree&quot;</td><td>&quot;Somewhat Disagree&quot;</td><td>&quot;Somewhat Agree&quot;</td><td>&quot;Somewhat Agree&quot;</td><td>&quot;Neither Agree nor Disagree&quot;</td><td>&quot;Somewhat Agree&quot;</td><td>&quot;Somewhat Agree&quot;</td><td>&quot;Somewhat Disagree&quot;</td><td>&quot;Neither Agree nor Disagree&quot;</td><td>&quot;Somewhat Agree&quot;</td><td>&quot;Neither Agree nor Disagree&quot;</td><td>&quot;Somewhat Agree&quot;</td></tr></tbody></table></div>"
      ],
      "text/plain": [
       "shape: (2, 44)\n",
       "┌─────┬────────────┬────────────┬────────────┬───┬────────────┬────────────┬───────────┬───────────┐\n",
       "│ ID  ┆ F5         ┆ F2         ┆ F1.1       ┆ … ┆ F4.4       ┆ F5.7       ┆ F3.5      ┆ F2.11     │\n",
       "│ --- ┆ ---        ┆ ---        ┆ ---        ┆   ┆ ---        ┆ ---        ┆ ---       ┆ ---       │\n",
       "│ i64 ┆ str        ┆ str        ┆ str        ┆   ┆ str        ┆ str        ┆ str       ┆ str       │\n",
       "╞═════╪════════════╪════════════╪════════════╪═══╪════════════╪════════════╪═══════════╪═══════════╡\n",
       "│ 1   ┆ Somewhat   ┆ Somewhat   ┆ Somewhat   ┆ … ┆ Somewhat   ┆ Somewhat   ┆ Somewhat  ┆ Somewhat  │\n",
       "│     ┆ Disagree   ┆ Agree      ┆ Agree      ┆   ┆ Agree      ┆ Agree      ┆ Agree     ┆ Agree     │\n",
       "│ 2   ┆ Somewhat   ┆ Somewhat   ┆ Somewhat   ┆ … ┆ Neither    ┆ Somewhat   ┆ Neither   ┆ Somewhat  │\n",
       "│     ┆ Disagree   ┆ Agree      ┆ Agree      ┆   ┆ Agree nor  ┆ Agree      ┆ Agree nor ┆ Agree     │\n",
       "│     ┆            ┆            ┆            ┆   ┆ Disagree   ┆            ┆ Disagree  ┆           │\n",
       "└─────┴────────────┴────────────┴────────────┴───┴────────────┴────────────┴───────────┴───────────┘"
      ]
     },
     "execution_count": 37,
     "metadata": {},
     "output_type": "execute_result"
    }
   ],
   "source": [
    "(survey\n",
    " .drop('F1')\n",
    " .head(2)\n",
    ")"
   ]
  },
  {
   "cell_type": "code",
   "execution_count": 38,
   "id": "1746eef5",
   "metadata": {
    "scrolled": true
   },
   "outputs": [
    {
     "data": {
      "text/html": [
       "<div><style>\n",
       ".dataframe > thead > tr,\n",
       ".dataframe > tbody > tr {\n",
       "  text-align: right;\n",
       "  white-space: pre-wrap;\n",
       "}\n",
       "</style>\n",
       "<small>shape: (2, 43)</small><table border=\"1\" class=\"dataframe\"><thead><tr><th>ID</th><th>F5</th><th>F1.1</th><th>F2.1</th><th>F6</th><th>F4</th><th>F3</th><th>F5.1</th><th>F1.2</th><th>F2.2</th><th>F6.1</th><th>F2.3</th><th>F4.1</th><th>F2.4</th><th>F5.2</th><th>F2.5</th><th>F6.2</th><th>F1.3</th><th>F2.6</th><th>F5.3</th><th>F4.2</th><th>F2.7</th><th>F3.1</th><th>F2.8</th><th>F5.4</th><th>F3.2</th><th>F1.4</th><th>F3.3</th><th>F1.5</th><th>F5.5</th><th>F6.3</th><th>F1.6</th><th>F5.6</th><th>F2.9</th><th>F3.4</th><th>F4.3</th><th>F2.10</th><th>F1.7</th><th>F6.4</th><th>F4.4</th><th>F5.7</th><th>F3.5</th><th>F2.11</th></tr><tr><td>i64</td><td>str</td><td>str</td><td>str</td><td>str</td><td>str</td><td>str</td><td>str</td><td>str</td><td>str</td><td>str</td><td>str</td><td>str</td><td>str</td><td>str</td><td>str</td><td>str</td><td>str</td><td>str</td><td>str</td><td>str</td><td>str</td><td>str</td><td>str</td><td>str</td><td>str</td><td>str</td><td>str</td><td>str</td><td>str</td><td>str</td><td>str</td><td>str</td><td>str</td><td>str</td><td>str</td><td>str</td><td>str</td><td>str</td><td>str</td><td>str</td><td>str</td><td>str</td></tr></thead><tbody><tr><td>1</td><td>&quot;Somewhat Disagree&quot;</td><td>&quot;Somewhat Agree&quot;</td><td>&quot;Somewhat Agree&quot;</td><td>&quot;Somewhat Disagree&quot;</td><td>&quot;Somewhat Agree&quot;</td><td>&quot;Somewhat Agree&quot;</td><td>&quot;Somewhat Agree&quot;</td><td>&quot;Somewhat Agree&quot;</td><td>&quot;Somewhat Agree&quot;</td><td>&quot;Somewhat Agree&quot;</td><td>&quot;Somewhat Agree&quot;</td><td>&quot;Somewhat Agree&quot;</td><td>&quot;Somewhat Agree&quot;</td><td>&quot;Somewhat Agree&quot;</td><td>&quot;Somewhat Agree&quot;</td><td>&quot;Somewhat Agree&quot;</td><td>&quot;Somewhat Agree&quot;</td><td>&quot;Somewhat Agree&quot;</td><td>&quot;Somewhat Agree&quot;</td><td>&quot;Somewhat Agree&quot;</td><td>&quot;Somewhat Agree&quot;</td><td>&quot;Somewhat Disagree&quot;</td><td>&quot;Somewhat Agree&quot;</td><td>&quot;Somewhat Agree&quot;</td><td>&quot;Somewhat Agree&quot;</td><td>&quot;Neither Agree nor Disagree&quot;</td><td>&quot;Somewhat Agree&quot;</td><td>&quot;Somewhat Agree&quot;</td><td>&quot;Somewhat Disagree&quot;</td><td>&quot;Somewhat Disagree&quot;</td><td>&quot;Somewhat Agree&quot;</td><td>&quot;Somewhat Agree&quot;</td><td>&quot;Somewhat Agree&quot;</td><td>&quot;Somewhat Disagree&quot;</td><td>&quot;Neither Agree nor Disagree&quot;</td><td>&quot;Somewhat Agree&quot;</td><td>&quot;Somewhat Agree&quot;</td><td>&quot;Somewhat Agree&quot;</td><td>&quot;Somewhat Agree&quot;</td><td>&quot;Somewhat Agree&quot;</td><td>&quot;Somewhat Agree&quot;</td><td>&quot;Somewhat Agree&quot;</td></tr><tr><td>2</td><td>&quot;Somewhat Disagree&quot;</td><td>&quot;Somewhat Agree&quot;</td><td>&quot;Somewhat Agree&quot;</td><td>&quot;Somewhat Disagree&quot;</td><td>&quot;Somewhat Agree&quot;</td><td>&quot;Neither Agree nor Disagree&quot;</td><td>&quot;Neither Agree nor Disagree&quot;</td><td>&quot;Somewhat Agree&quot;</td><td>&quot;Neither Agree nor Disagree&quot;</td><td>&quot;Somewhat Agree&quot;</td><td>&quot;Somewhat Agree&quot;</td><td>&quot;Neither Agree nor Disagree&quot;</td><td>&quot;Somewhat Agree&quot;</td><td>&quot;Somewhat Agree&quot;</td><td>&quot;Somewhat Agree&quot;</td><td>&quot;Somewhat Agree&quot;</td><td>&quot;Somewhat Agree&quot;</td><td>&quot;Somewhat Agree&quot;</td><td>&quot;Somewhat Agree&quot;</td><td>&quot;Somewhat Agree&quot;</td><td>&quot;Somewhat Agree&quot;</td><td>&quot;Neither Agree nor Disagree&quot;</td><td>&quot;Somewhat Agree&quot;</td><td>&quot;Neither Agree nor Disagree&quot;</td><td>&quot;Neither Agree nor Disagree&quot;</td><td>&quot;Somewhat Agree&quot;</td><td>&quot;Neither Agree nor Disagree&quot;</td><td>&quot;Neither Agree nor Disagree&quot;</td><td>&quot;Neither Agree nor Disagree&quot;</td><td>&quot;Somewhat Disagree&quot;</td><td>&quot;Somewhat Agree&quot;</td><td>&quot;Somewhat Disagree&quot;</td><td>&quot;Somewhat Agree&quot;</td><td>&quot;Somewhat Agree&quot;</td><td>&quot;Neither Agree nor Disagree&quot;</td><td>&quot;Somewhat Agree&quot;</td><td>&quot;Somewhat Agree&quot;</td><td>&quot;Somewhat Disagree&quot;</td><td>&quot;Neither Agree nor Disagree&quot;</td><td>&quot;Somewhat Agree&quot;</td><td>&quot;Neither Agree nor Disagree&quot;</td><td>&quot;Somewhat Agree&quot;</td></tr></tbody></table></div>"
      ],
      "text/plain": [
       "shape: (2, 43)\n",
       "┌─────┬────────────┬────────────┬────────────┬───┬────────────┬────────────┬───────────┬───────────┐\n",
       "│ ID  ┆ F5         ┆ F1.1       ┆ F2.1       ┆ … ┆ F4.4       ┆ F5.7       ┆ F3.5      ┆ F2.11     │\n",
       "│ --- ┆ ---        ┆ ---        ┆ ---        ┆   ┆ ---        ┆ ---        ┆ ---       ┆ ---       │\n",
       "│ i64 ┆ str        ┆ str        ┆ str        ┆   ┆ str        ┆ str        ┆ str       ┆ str       │\n",
       "╞═════╪════════════╪════════════╪════════════╪═══╪════════════╪════════════╪═══════════╪═══════════╡\n",
       "│ 1   ┆ Somewhat   ┆ Somewhat   ┆ Somewhat   ┆ … ┆ Somewhat   ┆ Somewhat   ┆ Somewhat  ┆ Somewhat  │\n",
       "│     ┆ Disagree   ┆ Agree      ┆ Agree      ┆   ┆ Agree      ┆ Agree      ┆ Agree     ┆ Agree     │\n",
       "│ 2   ┆ Somewhat   ┆ Somewhat   ┆ Somewhat   ┆ … ┆ Neither    ┆ Somewhat   ┆ Neither   ┆ Somewhat  │\n",
       "│     ┆ Disagree   ┆ Agree      ┆ Agree      ┆   ┆ Agree nor  ┆ Agree      ┆ Agree nor ┆ Agree     │\n",
       "│     ┆            ┆            ┆            ┆   ┆ Disagree   ┆            ┆ Disagree  ┆           │\n",
       "└─────┴────────────┴────────────┴────────────┴───┴────────────┴────────────┴───────────┴───────────┘"
      ]
     },
     "execution_count": 38,
     "metadata": {},
     "output_type": "execute_result"
    }
   ],
   "source": [
    "(survey\n",
    " .drop(['F1', 'F2'])\n",
    " .head(2)\n",
    ")"
   ]
  },
  {
   "cell_type": "markdown",
   "id": "d93de53c-c4e0-40ed-b37f-65f5120b7cad",
   "metadata": {},
   "source": [
    "### `select` using the column type"
   ]
  },
  {
   "cell_type": "code",
   "execution_count": 47,
   "id": "c88927d7-8d1f-4445-b530-2547bba91253",
   "metadata": {},
   "outputs": [
    {
     "data": {
      "text/html": [
       "<div><style>\n",
       ".dataframe > thead > tr,\n",
       ".dataframe > tbody > tr {\n",
       "  text-align: right;\n",
       "  white-space: pre-wrap;\n",
       "}\n",
       "</style>\n",
       "<small>shape: (2, 44)</small><table border=\"1\" class=\"dataframe\"><thead><tr><th>F1</th><th>F5</th><th>F2</th><th>F1.1</th><th>F2.1</th><th>F6</th><th>F4</th><th>F3</th><th>F5.1</th><th>F1.2</th><th>F2.2</th><th>F6.1</th><th>F2.3</th><th>F4.1</th><th>F2.4</th><th>F5.2</th><th>F2.5</th><th>F6.2</th><th>F1.3</th><th>F2.6</th><th>F5.3</th><th>F4.2</th><th>F2.7</th><th>F3.1</th><th>F2.8</th><th>F5.4</th><th>F3.2</th><th>F1.4</th><th>F3.3</th><th>F1.5</th><th>F5.5</th><th>F6.3</th><th>F1.6</th><th>F5.6</th><th>F2.9</th><th>F3.4</th><th>F4.3</th><th>F2.10</th><th>F1.7</th><th>F6.4</th><th>F4.4</th><th>F5.7</th><th>F3.5</th><th>F2.11</th></tr><tr><td>str</td><td>str</td><td>str</td><td>str</td><td>str</td><td>str</td><td>str</td><td>str</td><td>str</td><td>str</td><td>str</td><td>str</td><td>str</td><td>str</td><td>str</td><td>str</td><td>str</td><td>str</td><td>str</td><td>str</td><td>str</td><td>str</td><td>str</td><td>str</td><td>str</td><td>str</td><td>str</td><td>str</td><td>str</td><td>str</td><td>str</td><td>str</td><td>str</td><td>str</td><td>str</td><td>str</td><td>str</td><td>str</td><td>str</td><td>str</td><td>str</td><td>str</td><td>str</td><td>str</td></tr></thead><tbody><tr><td>&quot;Somewhat Agree&quot;</td><td>&quot;Somewhat Disagree&quot;</td><td>&quot;Somewhat Agree&quot;</td><td>&quot;Somewhat Agree&quot;</td><td>&quot;Somewhat Agree&quot;</td><td>&quot;Somewhat Disagree&quot;</td><td>&quot;Somewhat Agree&quot;</td><td>&quot;Somewhat Agree&quot;</td><td>&quot;Somewhat Agree&quot;</td><td>&quot;Somewhat Agree&quot;</td><td>&quot;Somewhat Agree&quot;</td><td>&quot;Somewhat Agree&quot;</td><td>&quot;Somewhat Agree&quot;</td><td>&quot;Somewhat Agree&quot;</td><td>&quot;Somewhat Agree&quot;</td><td>&quot;Somewhat Agree&quot;</td><td>&quot;Somewhat Agree&quot;</td><td>&quot;Somewhat Agree&quot;</td><td>&quot;Somewhat Agree&quot;</td><td>&quot;Somewhat Agree&quot;</td><td>&quot;Somewhat Agree&quot;</td><td>&quot;Somewhat Agree&quot;</td><td>&quot;Somewhat Agree&quot;</td><td>&quot;Somewhat Disagree&quot;</td><td>&quot;Somewhat Agree&quot;</td><td>&quot;Somewhat Agree&quot;</td><td>&quot;Somewhat Agree&quot;</td><td>&quot;Neither Agree nor Disagree&quot;</td><td>&quot;Somewhat Agree&quot;</td><td>&quot;Somewhat Agree&quot;</td><td>&quot;Somewhat Disagree&quot;</td><td>&quot;Somewhat Disagree&quot;</td><td>&quot;Somewhat Agree&quot;</td><td>&quot;Somewhat Agree&quot;</td><td>&quot;Somewhat Agree&quot;</td><td>&quot;Somewhat Disagree&quot;</td><td>&quot;Neither Agree nor Disagree&quot;</td><td>&quot;Somewhat Agree&quot;</td><td>&quot;Somewhat Agree&quot;</td><td>&quot;Somewhat Agree&quot;</td><td>&quot;Somewhat Agree&quot;</td><td>&quot;Somewhat Agree&quot;</td><td>&quot;Somewhat Agree&quot;</td><td>&quot;Somewhat Agree&quot;</td></tr><tr><td>&quot;Somewhat Agree&quot;</td><td>&quot;Somewhat Disagree&quot;</td><td>&quot;Somewhat Agree&quot;</td><td>&quot;Somewhat Agree&quot;</td><td>&quot;Somewhat Agree&quot;</td><td>&quot;Somewhat Disagree&quot;</td><td>&quot;Somewhat Agree&quot;</td><td>&quot;Neither Agree nor Disagree&quot;</td><td>&quot;Neither Agree nor Disagree&quot;</td><td>&quot;Somewhat Agree&quot;</td><td>&quot;Neither Agree nor Disagree&quot;</td><td>&quot;Somewhat Agree&quot;</td><td>&quot;Somewhat Agree&quot;</td><td>&quot;Neither Agree nor Disagree&quot;</td><td>&quot;Somewhat Agree&quot;</td><td>&quot;Somewhat Agree&quot;</td><td>&quot;Somewhat Agree&quot;</td><td>&quot;Somewhat Agree&quot;</td><td>&quot;Somewhat Agree&quot;</td><td>&quot;Somewhat Agree&quot;</td><td>&quot;Somewhat Agree&quot;</td><td>&quot;Somewhat Agree&quot;</td><td>&quot;Somewhat Agree&quot;</td><td>&quot;Neither Agree nor Disagree&quot;</td><td>&quot;Somewhat Agree&quot;</td><td>&quot;Neither Agree nor Disagree&quot;</td><td>&quot;Neither Agree nor Disagree&quot;</td><td>&quot;Somewhat Agree&quot;</td><td>&quot;Neither Agree nor Disagree&quot;</td><td>&quot;Neither Agree nor Disagree&quot;</td><td>&quot;Neither Agree nor Disagree&quot;</td><td>&quot;Somewhat Disagree&quot;</td><td>&quot;Somewhat Agree&quot;</td><td>&quot;Somewhat Disagree&quot;</td><td>&quot;Somewhat Agree&quot;</td><td>&quot;Somewhat Agree&quot;</td><td>&quot;Neither Agree nor Disagree&quot;</td><td>&quot;Somewhat Agree&quot;</td><td>&quot;Somewhat Agree&quot;</td><td>&quot;Somewhat Disagree&quot;</td><td>&quot;Neither Agree nor Disagree&quot;</td><td>&quot;Somewhat Agree&quot;</td><td>&quot;Neither Agree nor Disagree&quot;</td><td>&quot;Somewhat Agree&quot;</td></tr></tbody></table></div>"
      ],
      "text/plain": [
       "shape: (2, 44)\n",
       "┌───────────┬───────────┬───────────┬───────────┬───┬───────────┬───────────┬───────────┬──────────┐\n",
       "│ F1        ┆ F5        ┆ F2        ┆ F1.1      ┆ … ┆ F4.4      ┆ F5.7      ┆ F3.5      ┆ F2.11    │\n",
       "│ ---       ┆ ---       ┆ ---       ┆ ---       ┆   ┆ ---       ┆ ---       ┆ ---       ┆ ---      │\n",
       "│ str       ┆ str       ┆ str       ┆ str       ┆   ┆ str       ┆ str       ┆ str       ┆ str      │\n",
       "╞═══════════╪═══════════╪═══════════╪═══════════╪═══╪═══════════╪═══════════╪═══════════╪══════════╡\n",
       "│ Somewhat  ┆ Somewhat  ┆ Somewhat  ┆ Somewhat  ┆ … ┆ Somewhat  ┆ Somewhat  ┆ Somewhat  ┆ Somewhat │\n",
       "│ Agree     ┆ Disagree  ┆ Agree     ┆ Agree     ┆   ┆ Agree     ┆ Agree     ┆ Agree     ┆ Agree    │\n",
       "│ Somewhat  ┆ Somewhat  ┆ Somewhat  ┆ Somewhat  ┆ … ┆ Neither   ┆ Somewhat  ┆ Neither   ┆ Somewhat │\n",
       "│ Agree     ┆ Disagree  ┆ Agree     ┆ Agree     ┆   ┆ Agree nor ┆ Agree     ┆ Agree nor ┆ Agree    │\n",
       "│           ┆           ┆           ┆           ┆   ┆ Disagree  ┆           ┆ Disagree  ┆          │\n",
       "└───────────┴───────────┴───────────┴───────────┴───┴───────────┴───────────┴───────────┴──────────┘"
      ]
     },
     "execution_count": 47,
     "metadata": {},
     "output_type": "execute_result"
    }
   ],
   "source": [
    "(survey\n",
    " .select(pl.col(pl.Utf8))\n",
    " .head(2)\n",
    ")"
   ]
  },
  {
   "cell_type": "markdown",
   "id": "84847c86",
   "metadata": {},
   "source": [
    "### `select` using regular expression"
   ]
  },
  {
   "cell_type": "code",
   "execution_count": 48,
   "id": "d39a9a2c",
   "metadata": {},
   "outputs": [
    {
     "data": {
      "text/html": [
       "<div><style>\n",
       ".dataframe > thead > tr,\n",
       ".dataframe > tbody > tr {\n",
       "  text-align: right;\n",
       "  white-space: pre-wrap;\n",
       "}\n",
       "</style>\n",
       "<small>shape: (2, 8)</small><table border=\"1\" class=\"dataframe\"><thead><tr><th>F1</th><th>F1.1</th><th>F1.2</th><th>F1.3</th><th>F1.4</th><th>F1.5</th><th>F1.6</th><th>F1.7</th></tr><tr><td>str</td><td>str</td><td>str</td><td>str</td><td>str</td><td>str</td><td>str</td><td>str</td></tr></thead><tbody><tr><td>&quot;Somewhat Agree&quot;</td><td>&quot;Somewhat Agree&quot;</td><td>&quot;Somewhat Agree&quot;</td><td>&quot;Somewhat Agree&quot;</td><td>&quot;Neither Agree nor Disagree&quot;</td><td>&quot;Somewhat Agree&quot;</td><td>&quot;Somewhat Agree&quot;</td><td>&quot;Somewhat Agree&quot;</td></tr><tr><td>&quot;Somewhat Agree&quot;</td><td>&quot;Somewhat Agree&quot;</td><td>&quot;Somewhat Agree&quot;</td><td>&quot;Somewhat Agree&quot;</td><td>&quot;Somewhat Agree&quot;</td><td>&quot;Neither Agree nor Disagree&quot;</td><td>&quot;Somewhat Agree&quot;</td><td>&quot;Somewhat Agree&quot;</td></tr></tbody></table></div>"
      ],
      "text/plain": [
       "shape: (2, 8)\n",
       "┌────────────┬────────────┬────────────┬───────────┬───────────┬───────────┬───────────┬───────────┐\n",
       "│ F1         ┆ F1.1       ┆ F1.2       ┆ F1.3      ┆ F1.4      ┆ F1.5      ┆ F1.6      ┆ F1.7      │\n",
       "│ ---        ┆ ---        ┆ ---        ┆ ---       ┆ ---       ┆ ---       ┆ ---       ┆ ---       │\n",
       "│ str        ┆ str        ┆ str        ┆ str       ┆ str       ┆ str       ┆ str       ┆ str       │\n",
       "╞════════════╪════════════╪════════════╪═══════════╪═══════════╪═══════════╪═══════════╪═══════════╡\n",
       "│ Somewhat   ┆ Somewhat   ┆ Somewhat   ┆ Somewhat  ┆ Neither   ┆ Somewhat  ┆ Somewhat  ┆ Somewhat  │\n",
       "│ Agree      ┆ Agree      ┆ Agree      ┆ Agree     ┆ Agree nor ┆ Agree     ┆ Agree     ┆ Agree     │\n",
       "│            ┆            ┆            ┆           ┆ Disagree  ┆           ┆           ┆           │\n",
       "│ Somewhat   ┆ Somewhat   ┆ Somewhat   ┆ Somewhat  ┆ Somewhat  ┆ Neither   ┆ Somewhat  ┆ Somewhat  │\n",
       "│ Agree      ┆ Agree      ┆ Agree      ┆ Agree     ┆ Agree     ┆ Agree nor ┆ Agree     ┆ Agree     │\n",
       "│            ┆            ┆            ┆           ┆           ┆ Disagree  ┆           ┆           │\n",
       "└────────────┴────────────┴────────────┴───────────┴───────────┴───────────┴───────────┴───────────┘"
      ]
     },
     "execution_count": 48,
     "metadata": {},
     "output_type": "execute_result"
    }
   ],
   "source": [
    "(survey\n",
    " .select(pl.col(r'^F1.*$')) # Needs to a be rare string starting, e.g. `r'...'`\n",
    " .head(2)\n",
    ")"
   ]
  },
  {
   "cell_type": "code",
   "execution_count": 49,
   "id": "391f83a6",
   "metadata": {},
   "outputs": [
    {
     "data": {
      "text/html": [
       "<div><style>\n",
       ".dataframe > thead > tr,\n",
       ".dataframe > tbody > tr {\n",
       "  text-align: right;\n",
       "  white-space: pre-wrap;\n",
       "}\n",
       "</style>\n",
       "<small>shape: (2, 20)</small><table border=\"1\" class=\"dataframe\"><thead><tr><th>F1</th><th>F2</th><th>F1.1</th><th>F2.1</th><th>F1.2</th><th>F2.2</th><th>F2.3</th><th>F2.4</th><th>F2.5</th><th>F1.3</th><th>F2.6</th><th>F2.7</th><th>F2.8</th><th>F1.4</th><th>F1.5</th><th>F1.6</th><th>F2.9</th><th>F2.10</th><th>F1.7</th><th>F2.11</th></tr><tr><td>str</td><td>str</td><td>str</td><td>str</td><td>str</td><td>str</td><td>str</td><td>str</td><td>str</td><td>str</td><td>str</td><td>str</td><td>str</td><td>str</td><td>str</td><td>str</td><td>str</td><td>str</td><td>str</td><td>str</td></tr></thead><tbody><tr><td>&quot;Somewhat Agree&quot;</td><td>&quot;Somewhat Agree&quot;</td><td>&quot;Somewhat Agree&quot;</td><td>&quot;Somewhat Agree&quot;</td><td>&quot;Somewhat Agree&quot;</td><td>&quot;Somewhat Agree&quot;</td><td>&quot;Somewhat Agree&quot;</td><td>&quot;Somewhat Agree&quot;</td><td>&quot;Somewhat Agree&quot;</td><td>&quot;Somewhat Agree&quot;</td><td>&quot;Somewhat Agree&quot;</td><td>&quot;Somewhat Agree&quot;</td><td>&quot;Somewhat Agree&quot;</td><td>&quot;Neither Agree nor Disagree&quot;</td><td>&quot;Somewhat Agree&quot;</td><td>&quot;Somewhat Agree&quot;</td><td>&quot;Somewhat Agree&quot;</td><td>&quot;Somewhat Agree&quot;</td><td>&quot;Somewhat Agree&quot;</td><td>&quot;Somewhat Agree&quot;</td></tr><tr><td>&quot;Somewhat Agree&quot;</td><td>&quot;Somewhat Agree&quot;</td><td>&quot;Somewhat Agree&quot;</td><td>&quot;Somewhat Agree&quot;</td><td>&quot;Somewhat Agree&quot;</td><td>&quot;Neither Agree nor Disagree&quot;</td><td>&quot;Somewhat Agree&quot;</td><td>&quot;Somewhat Agree&quot;</td><td>&quot;Somewhat Agree&quot;</td><td>&quot;Somewhat Agree&quot;</td><td>&quot;Somewhat Agree&quot;</td><td>&quot;Somewhat Agree&quot;</td><td>&quot;Somewhat Agree&quot;</td><td>&quot;Somewhat Agree&quot;</td><td>&quot;Neither Agree nor Disagree&quot;</td><td>&quot;Somewhat Agree&quot;</td><td>&quot;Somewhat Agree&quot;</td><td>&quot;Somewhat Agree&quot;</td><td>&quot;Somewhat Agree&quot;</td><td>&quot;Somewhat Agree&quot;</td></tr></tbody></table></div>"
      ],
      "text/plain": [
       "shape: (2, 20)\n",
       "┌───────────┬───────────┬───────────┬───────────┬───┬───────────┬───────────┬───────────┬──────────┐\n",
       "│ F1        ┆ F2        ┆ F1.1      ┆ F2.1      ┆ … ┆ F2.9      ┆ F2.10     ┆ F1.7      ┆ F2.11    │\n",
       "│ ---       ┆ ---       ┆ ---       ┆ ---       ┆   ┆ ---       ┆ ---       ┆ ---       ┆ ---      │\n",
       "│ str       ┆ str       ┆ str       ┆ str       ┆   ┆ str       ┆ str       ┆ str       ┆ str      │\n",
       "╞═══════════╪═══════════╪═══════════╪═══════════╪═══╪═══════════╪═══════════╪═══════════╪══════════╡\n",
       "│ Somewhat  ┆ Somewhat  ┆ Somewhat  ┆ Somewhat  ┆ … ┆ Somewhat  ┆ Somewhat  ┆ Somewhat  ┆ Somewhat │\n",
       "│ Agree     ┆ Agree     ┆ Agree     ┆ Agree     ┆   ┆ Agree     ┆ Agree     ┆ Agree     ┆ Agree    │\n",
       "│ Somewhat  ┆ Somewhat  ┆ Somewhat  ┆ Somewhat  ┆ … ┆ Somewhat  ┆ Somewhat  ┆ Somewhat  ┆ Somewhat │\n",
       "│ Agree     ┆ Agree     ┆ Agree     ┆ Agree     ┆   ┆ Agree     ┆ Agree     ┆ Agree     ┆ Agree    │\n",
       "└───────────┴───────────┴───────────┴───────────┴───┴───────────┴───────────┴───────────┴──────────┘"
      ]
     },
     "execution_count": 49,
     "metadata": {},
     "output_type": "execute_result"
    }
   ],
   "source": [
    "(survey\n",
    " .select(pl.col(r'^(F1|F2).*$'))\n",
    " .head(2)\n",
    ")"
   ]
  },
  {
   "cell_type": "code",
   "execution_count": 50,
   "id": "83a9e9b6",
   "metadata": {
    "scrolled": true
   },
   "outputs": [
    {
     "data": {
      "text/html": [
       "<div><style>\n",
       ".dataframe > thead > tr,\n",
       ".dataframe > tbody > tr {\n",
       "  text-align: right;\n",
       "  white-space: pre-wrap;\n",
       "}\n",
       "</style>\n",
       "<small>shape: (2, 38)</small><table border=\"1\" class=\"dataframe\"><thead><tr><th>F1.1</th><th>F2.1</th><th>F5.1</th><th>F1.2</th><th>F2.2</th><th>F6.1</th><th>F2.3</th><th>F4.1</th><th>F2.4</th><th>F5.2</th><th>F2.5</th><th>F6.2</th><th>F1.3</th><th>F2.6</th><th>F5.3</th><th>F4.2</th><th>F2.7</th><th>F3.1</th><th>F2.8</th><th>F5.4</th><th>F3.2</th><th>F1.4</th><th>F3.3</th><th>F1.5</th><th>F5.5</th><th>F6.3</th><th>F1.6</th><th>F5.6</th><th>F2.9</th><th>F3.4</th><th>F4.3</th><th>F2.10</th><th>F1.7</th><th>F6.4</th><th>F4.4</th><th>F5.7</th><th>F3.5</th><th>F2.11</th></tr><tr><td>str</td><td>str</td><td>str</td><td>str</td><td>str</td><td>str</td><td>str</td><td>str</td><td>str</td><td>str</td><td>str</td><td>str</td><td>str</td><td>str</td><td>str</td><td>str</td><td>str</td><td>str</td><td>str</td><td>str</td><td>str</td><td>str</td><td>str</td><td>str</td><td>str</td><td>str</td><td>str</td><td>str</td><td>str</td><td>str</td><td>str</td><td>str</td><td>str</td><td>str</td><td>str</td><td>str</td><td>str</td><td>str</td></tr></thead><tbody><tr><td>&quot;Somewhat Agree&quot;</td><td>&quot;Somewhat Agree&quot;</td><td>&quot;Somewhat Agree&quot;</td><td>&quot;Somewhat Agree&quot;</td><td>&quot;Somewhat Agree&quot;</td><td>&quot;Somewhat Agree&quot;</td><td>&quot;Somewhat Agree&quot;</td><td>&quot;Somewhat Agree&quot;</td><td>&quot;Somewhat Agree&quot;</td><td>&quot;Somewhat Agree&quot;</td><td>&quot;Somewhat Agree&quot;</td><td>&quot;Somewhat Agree&quot;</td><td>&quot;Somewhat Agree&quot;</td><td>&quot;Somewhat Agree&quot;</td><td>&quot;Somewhat Agree&quot;</td><td>&quot;Somewhat Agree&quot;</td><td>&quot;Somewhat Agree&quot;</td><td>&quot;Somewhat Disagree&quot;</td><td>&quot;Somewhat Agree&quot;</td><td>&quot;Somewhat Agree&quot;</td><td>&quot;Somewhat Agree&quot;</td><td>&quot;Neither Agree nor Disagree&quot;</td><td>&quot;Somewhat Agree&quot;</td><td>&quot;Somewhat Agree&quot;</td><td>&quot;Somewhat Disagree&quot;</td><td>&quot;Somewhat Disagree&quot;</td><td>&quot;Somewhat Agree&quot;</td><td>&quot;Somewhat Agree&quot;</td><td>&quot;Somewhat Agree&quot;</td><td>&quot;Somewhat Disagree&quot;</td><td>&quot;Neither Agree nor Disagree&quot;</td><td>&quot;Somewhat Agree&quot;</td><td>&quot;Somewhat Agree&quot;</td><td>&quot;Somewhat Agree&quot;</td><td>&quot;Somewhat Agree&quot;</td><td>&quot;Somewhat Agree&quot;</td><td>&quot;Somewhat Agree&quot;</td><td>&quot;Somewhat Agree&quot;</td></tr><tr><td>&quot;Somewhat Agree&quot;</td><td>&quot;Somewhat Agree&quot;</td><td>&quot;Neither Agree nor Disagree&quot;</td><td>&quot;Somewhat Agree&quot;</td><td>&quot;Neither Agree nor Disagree&quot;</td><td>&quot;Somewhat Agree&quot;</td><td>&quot;Somewhat Agree&quot;</td><td>&quot;Neither Agree nor Disagree&quot;</td><td>&quot;Somewhat Agree&quot;</td><td>&quot;Somewhat Agree&quot;</td><td>&quot;Somewhat Agree&quot;</td><td>&quot;Somewhat Agree&quot;</td><td>&quot;Somewhat Agree&quot;</td><td>&quot;Somewhat Agree&quot;</td><td>&quot;Somewhat Agree&quot;</td><td>&quot;Somewhat Agree&quot;</td><td>&quot;Somewhat Agree&quot;</td><td>&quot;Neither Agree nor Disagree&quot;</td><td>&quot;Somewhat Agree&quot;</td><td>&quot;Neither Agree nor Disagree&quot;</td><td>&quot;Neither Agree nor Disagree&quot;</td><td>&quot;Somewhat Agree&quot;</td><td>&quot;Neither Agree nor Disagree&quot;</td><td>&quot;Neither Agree nor Disagree&quot;</td><td>&quot;Neither Agree nor Disagree&quot;</td><td>&quot;Somewhat Disagree&quot;</td><td>&quot;Somewhat Agree&quot;</td><td>&quot;Somewhat Disagree&quot;</td><td>&quot;Somewhat Agree&quot;</td><td>&quot;Somewhat Agree&quot;</td><td>&quot;Neither Agree nor Disagree&quot;</td><td>&quot;Somewhat Agree&quot;</td><td>&quot;Somewhat Agree&quot;</td><td>&quot;Somewhat Disagree&quot;</td><td>&quot;Neither Agree nor Disagree&quot;</td><td>&quot;Somewhat Agree&quot;</td><td>&quot;Neither Agree nor Disagree&quot;</td><td>&quot;Somewhat Agree&quot;</td></tr></tbody></table></div>"
      ],
      "text/plain": [
       "shape: (2, 38)\n",
       "┌───────────┬───────────┬───────────┬───────────┬───┬───────────┬───────────┬───────────┬──────────┐\n",
       "│ F1.1      ┆ F2.1      ┆ F5.1      ┆ F1.2      ┆ … ┆ F4.4      ┆ F5.7      ┆ F3.5      ┆ F2.11    │\n",
       "│ ---       ┆ ---       ┆ ---       ┆ ---       ┆   ┆ ---       ┆ ---       ┆ ---       ┆ ---      │\n",
       "│ str       ┆ str       ┆ str       ┆ str       ┆   ┆ str       ┆ str       ┆ str       ┆ str      │\n",
       "╞═══════════╪═══════════╪═══════════╪═══════════╪═══╪═══════════╪═══════════╪═══════════╪══════════╡\n",
       "│ Somewhat  ┆ Somewhat  ┆ Somewhat  ┆ Somewhat  ┆ … ┆ Somewhat  ┆ Somewhat  ┆ Somewhat  ┆ Somewhat │\n",
       "│ Agree     ┆ Agree     ┆ Agree     ┆ Agree     ┆   ┆ Agree     ┆ Agree     ┆ Agree     ┆ Agree    │\n",
       "│ Somewhat  ┆ Somewhat  ┆ Neither   ┆ Somewhat  ┆ … ┆ Neither   ┆ Somewhat  ┆ Neither   ┆ Somewhat │\n",
       "│ Agree     ┆ Agree     ┆ Agree nor ┆ Agree     ┆   ┆ Agree nor ┆ Agree     ┆ Agree nor ┆ Agree    │\n",
       "│           ┆           ┆ Disagree  ┆           ┆   ┆ Disagree  ┆           ┆ Disagree  ┆          │\n",
       "└───────────┴───────────┴───────────┴───────────┴───┴───────────┴───────────┴───────────┴──────────┘"
      ]
     },
     "execution_count": 50,
     "metadata": {},
     "output_type": "execute_result"
    }
   ],
   "source": [
    "(survey\n",
    " .select(pl.col(r'^.*\\..*$'))\n",
    " .head(2)\n",
    ")"
   ]
  },
  {
   "cell_type": "markdown",
   "id": "c53c51da",
   "metadata": {},
   "source": [
    "### `exclude` a column with `pl.all().exclude('reg_ex')`"
   ]
  },
  {
   "cell_type": "code",
   "execution_count": 51,
   "id": "265a2332",
   "metadata": {},
   "outputs": [
    {
     "data": {
      "text/html": [
       "<div><style>\n",
       ".dataframe > thead > tr,\n",
       ".dataframe > tbody > tr {\n",
       "  text-align: right;\n",
       "  white-space: pre-wrap;\n",
       "}\n",
       "</style>\n",
       "<small>shape: (2, 37)</small><table border=\"1\" class=\"dataframe\"><thead><tr><th>ID</th><th>F5</th><th>F2</th><th>F2.1</th><th>F6</th><th>F4</th><th>F3</th><th>F5.1</th><th>F2.2</th><th>F6.1</th><th>F2.3</th><th>F4.1</th><th>F2.4</th><th>F5.2</th><th>F2.5</th><th>F6.2</th><th>F2.6</th><th>F5.3</th><th>F4.2</th><th>F2.7</th><th>F3.1</th><th>F2.8</th><th>F5.4</th><th>F3.2</th><th>F3.3</th><th>F5.5</th><th>F6.3</th><th>F5.6</th><th>F2.9</th><th>F3.4</th><th>F4.3</th><th>F2.10</th><th>F6.4</th><th>F4.4</th><th>F5.7</th><th>F3.5</th><th>F2.11</th></tr><tr><td>i64</td><td>str</td><td>str</td><td>str</td><td>str</td><td>str</td><td>str</td><td>str</td><td>str</td><td>str</td><td>str</td><td>str</td><td>str</td><td>str</td><td>str</td><td>str</td><td>str</td><td>str</td><td>str</td><td>str</td><td>str</td><td>str</td><td>str</td><td>str</td><td>str</td><td>str</td><td>str</td><td>str</td><td>str</td><td>str</td><td>str</td><td>str</td><td>str</td><td>str</td><td>str</td><td>str</td><td>str</td></tr></thead><tbody><tr><td>1</td><td>&quot;Somewhat Disagree&quot;</td><td>&quot;Somewhat Agree&quot;</td><td>&quot;Somewhat Agree&quot;</td><td>&quot;Somewhat Disagree&quot;</td><td>&quot;Somewhat Agree&quot;</td><td>&quot;Somewhat Agree&quot;</td><td>&quot;Somewhat Agree&quot;</td><td>&quot;Somewhat Agree&quot;</td><td>&quot;Somewhat Agree&quot;</td><td>&quot;Somewhat Agree&quot;</td><td>&quot;Somewhat Agree&quot;</td><td>&quot;Somewhat Agree&quot;</td><td>&quot;Somewhat Agree&quot;</td><td>&quot;Somewhat Agree&quot;</td><td>&quot;Somewhat Agree&quot;</td><td>&quot;Somewhat Agree&quot;</td><td>&quot;Somewhat Agree&quot;</td><td>&quot;Somewhat Agree&quot;</td><td>&quot;Somewhat Agree&quot;</td><td>&quot;Somewhat Disagree&quot;</td><td>&quot;Somewhat Agree&quot;</td><td>&quot;Somewhat Agree&quot;</td><td>&quot;Somewhat Agree&quot;</td><td>&quot;Somewhat Agree&quot;</td><td>&quot;Somewhat Disagree&quot;</td><td>&quot;Somewhat Disagree&quot;</td><td>&quot;Somewhat Agree&quot;</td><td>&quot;Somewhat Agree&quot;</td><td>&quot;Somewhat Disagree&quot;</td><td>&quot;Neither Agree nor Disagree&quot;</td><td>&quot;Somewhat Agree&quot;</td><td>&quot;Somewhat Agree&quot;</td><td>&quot;Somewhat Agree&quot;</td><td>&quot;Somewhat Agree&quot;</td><td>&quot;Somewhat Agree&quot;</td><td>&quot;Somewhat Agree&quot;</td></tr><tr><td>2</td><td>&quot;Somewhat Disagree&quot;</td><td>&quot;Somewhat Agree&quot;</td><td>&quot;Somewhat Agree&quot;</td><td>&quot;Somewhat Disagree&quot;</td><td>&quot;Somewhat Agree&quot;</td><td>&quot;Neither Agree nor Disagree&quot;</td><td>&quot;Neither Agree nor Disagree&quot;</td><td>&quot;Neither Agree nor Disagree&quot;</td><td>&quot;Somewhat Agree&quot;</td><td>&quot;Somewhat Agree&quot;</td><td>&quot;Neither Agree nor Disagree&quot;</td><td>&quot;Somewhat Agree&quot;</td><td>&quot;Somewhat Agree&quot;</td><td>&quot;Somewhat Agree&quot;</td><td>&quot;Somewhat Agree&quot;</td><td>&quot;Somewhat Agree&quot;</td><td>&quot;Somewhat Agree&quot;</td><td>&quot;Somewhat Agree&quot;</td><td>&quot;Somewhat Agree&quot;</td><td>&quot;Neither Agree nor Disagree&quot;</td><td>&quot;Somewhat Agree&quot;</td><td>&quot;Neither Agree nor Disagree&quot;</td><td>&quot;Neither Agree nor Disagree&quot;</td><td>&quot;Neither Agree nor Disagree&quot;</td><td>&quot;Neither Agree nor Disagree&quot;</td><td>&quot;Somewhat Disagree&quot;</td><td>&quot;Somewhat Disagree&quot;</td><td>&quot;Somewhat Agree&quot;</td><td>&quot;Somewhat Agree&quot;</td><td>&quot;Neither Agree nor Disagree&quot;</td><td>&quot;Somewhat Agree&quot;</td><td>&quot;Somewhat Disagree&quot;</td><td>&quot;Neither Agree nor Disagree&quot;</td><td>&quot;Somewhat Agree&quot;</td><td>&quot;Neither Agree nor Disagree&quot;</td><td>&quot;Somewhat Agree&quot;</td></tr></tbody></table></div>"
      ],
      "text/plain": [
       "shape: (2, 37)\n",
       "┌─────┬────────────┬────────────┬────────────┬───┬────────────┬────────────┬───────────┬───────────┐\n",
       "│ ID  ┆ F5         ┆ F2         ┆ F2.1       ┆ … ┆ F4.4       ┆ F5.7       ┆ F3.5      ┆ F2.11     │\n",
       "│ --- ┆ ---        ┆ ---        ┆ ---        ┆   ┆ ---        ┆ ---        ┆ ---       ┆ ---       │\n",
       "│ i64 ┆ str        ┆ str        ┆ str        ┆   ┆ str        ┆ str        ┆ str       ┆ str       │\n",
       "╞═════╪════════════╪════════════╪════════════╪═══╪════════════╪════════════╪═══════════╪═══════════╡\n",
       "│ 1   ┆ Somewhat   ┆ Somewhat   ┆ Somewhat   ┆ … ┆ Somewhat   ┆ Somewhat   ┆ Somewhat  ┆ Somewhat  │\n",
       "│     ┆ Disagree   ┆ Agree      ┆ Agree      ┆   ┆ Agree      ┆ Agree      ┆ Agree     ┆ Agree     │\n",
       "│ 2   ┆ Somewhat   ┆ Somewhat   ┆ Somewhat   ┆ … ┆ Neither    ┆ Somewhat   ┆ Neither   ┆ Somewhat  │\n",
       "│     ┆ Disagree   ┆ Agree      ┆ Agree      ┆   ┆ Agree nor  ┆ Agree      ┆ Agree nor ┆ Agree     │\n",
       "│     ┆            ┆            ┆            ┆   ┆ Disagree   ┆            ┆ Disagree  ┆           │\n",
       "└─────┴────────────┴────────────┴────────────┴───┴────────────┴────────────┴───────────┴───────────┘"
      ]
     },
     "execution_count": 51,
     "metadata": {},
     "output_type": "execute_result"
    }
   ],
   "source": [
    "(survey\n",
    " .select(pl.all().exclude(r'^F1.*$'))\n",
    " .head(2))"
   ]
  },
  {
   "cell_type": "markdown",
   "id": "48b95eb3",
   "metadata": {},
   "source": [
    "#### Excluding columns by type"
   ]
  },
  {
   "cell_type": "code",
   "execution_count": 52,
   "id": "30911de8",
   "metadata": {
    "scrolled": true
   },
   "outputs": [
    {
     "data": {
      "text/html": [
       "<div><style>\n",
       ".dataframe > thead > tr,\n",
       ".dataframe > tbody > tr {\n",
       "  text-align: right;\n",
       "  white-space: pre-wrap;\n",
       "}\n",
       "</style>\n",
       "<small>shape: (2, 44)</small><table border=\"1\" class=\"dataframe\"><thead><tr><th>F1</th><th>F5</th><th>F2</th><th>F1.1</th><th>F2.1</th><th>F6</th><th>F4</th><th>F3</th><th>F5.1</th><th>F1.2</th><th>F2.2</th><th>F6.1</th><th>F2.3</th><th>F4.1</th><th>F2.4</th><th>F5.2</th><th>F2.5</th><th>F6.2</th><th>F1.3</th><th>F2.6</th><th>F5.3</th><th>F4.2</th><th>F2.7</th><th>F3.1</th><th>F2.8</th><th>F5.4</th><th>F3.2</th><th>F1.4</th><th>F3.3</th><th>F1.5</th><th>F5.5</th><th>F6.3</th><th>F1.6</th><th>F5.6</th><th>F2.9</th><th>F3.4</th><th>F4.3</th><th>F2.10</th><th>F1.7</th><th>F6.4</th><th>F4.4</th><th>F5.7</th><th>F3.5</th><th>F2.11</th></tr><tr><td>str</td><td>str</td><td>str</td><td>str</td><td>str</td><td>str</td><td>str</td><td>str</td><td>str</td><td>str</td><td>str</td><td>str</td><td>str</td><td>str</td><td>str</td><td>str</td><td>str</td><td>str</td><td>str</td><td>str</td><td>str</td><td>str</td><td>str</td><td>str</td><td>str</td><td>str</td><td>str</td><td>str</td><td>str</td><td>str</td><td>str</td><td>str</td><td>str</td><td>str</td><td>str</td><td>str</td><td>str</td><td>str</td><td>str</td><td>str</td><td>str</td><td>str</td><td>str</td><td>str</td></tr></thead><tbody><tr><td>&quot;Somewhat Agree&quot;</td><td>&quot;Somewhat Disagree&quot;</td><td>&quot;Somewhat Agree&quot;</td><td>&quot;Somewhat Agree&quot;</td><td>&quot;Somewhat Agree&quot;</td><td>&quot;Somewhat Disagree&quot;</td><td>&quot;Somewhat Agree&quot;</td><td>&quot;Somewhat Agree&quot;</td><td>&quot;Somewhat Agree&quot;</td><td>&quot;Somewhat Agree&quot;</td><td>&quot;Somewhat Agree&quot;</td><td>&quot;Somewhat Agree&quot;</td><td>&quot;Somewhat Agree&quot;</td><td>&quot;Somewhat Agree&quot;</td><td>&quot;Somewhat Agree&quot;</td><td>&quot;Somewhat Agree&quot;</td><td>&quot;Somewhat Agree&quot;</td><td>&quot;Somewhat Agree&quot;</td><td>&quot;Somewhat Agree&quot;</td><td>&quot;Somewhat Agree&quot;</td><td>&quot;Somewhat Agree&quot;</td><td>&quot;Somewhat Agree&quot;</td><td>&quot;Somewhat Agree&quot;</td><td>&quot;Somewhat Disagree&quot;</td><td>&quot;Somewhat Agree&quot;</td><td>&quot;Somewhat Agree&quot;</td><td>&quot;Somewhat Agree&quot;</td><td>&quot;Neither Agree nor Disagree&quot;</td><td>&quot;Somewhat Agree&quot;</td><td>&quot;Somewhat Agree&quot;</td><td>&quot;Somewhat Disagree&quot;</td><td>&quot;Somewhat Disagree&quot;</td><td>&quot;Somewhat Agree&quot;</td><td>&quot;Somewhat Agree&quot;</td><td>&quot;Somewhat Agree&quot;</td><td>&quot;Somewhat Disagree&quot;</td><td>&quot;Neither Agree nor Disagree&quot;</td><td>&quot;Somewhat Agree&quot;</td><td>&quot;Somewhat Agree&quot;</td><td>&quot;Somewhat Agree&quot;</td><td>&quot;Somewhat Agree&quot;</td><td>&quot;Somewhat Agree&quot;</td><td>&quot;Somewhat Agree&quot;</td><td>&quot;Somewhat Agree&quot;</td></tr><tr><td>&quot;Somewhat Agree&quot;</td><td>&quot;Somewhat Disagree&quot;</td><td>&quot;Somewhat Agree&quot;</td><td>&quot;Somewhat Agree&quot;</td><td>&quot;Somewhat Agree&quot;</td><td>&quot;Somewhat Disagree&quot;</td><td>&quot;Somewhat Agree&quot;</td><td>&quot;Neither Agree nor Disagree&quot;</td><td>&quot;Neither Agree nor Disagree&quot;</td><td>&quot;Somewhat Agree&quot;</td><td>&quot;Neither Agree nor Disagree&quot;</td><td>&quot;Somewhat Agree&quot;</td><td>&quot;Somewhat Agree&quot;</td><td>&quot;Neither Agree nor Disagree&quot;</td><td>&quot;Somewhat Agree&quot;</td><td>&quot;Somewhat Agree&quot;</td><td>&quot;Somewhat Agree&quot;</td><td>&quot;Somewhat Agree&quot;</td><td>&quot;Somewhat Agree&quot;</td><td>&quot;Somewhat Agree&quot;</td><td>&quot;Somewhat Agree&quot;</td><td>&quot;Somewhat Agree&quot;</td><td>&quot;Somewhat Agree&quot;</td><td>&quot;Neither Agree nor Disagree&quot;</td><td>&quot;Somewhat Agree&quot;</td><td>&quot;Neither Agree nor Disagree&quot;</td><td>&quot;Neither Agree nor Disagree&quot;</td><td>&quot;Somewhat Agree&quot;</td><td>&quot;Neither Agree nor Disagree&quot;</td><td>&quot;Neither Agree nor Disagree&quot;</td><td>&quot;Neither Agree nor Disagree&quot;</td><td>&quot;Somewhat Disagree&quot;</td><td>&quot;Somewhat Agree&quot;</td><td>&quot;Somewhat Disagree&quot;</td><td>&quot;Somewhat Agree&quot;</td><td>&quot;Somewhat Agree&quot;</td><td>&quot;Neither Agree nor Disagree&quot;</td><td>&quot;Somewhat Agree&quot;</td><td>&quot;Somewhat Agree&quot;</td><td>&quot;Somewhat Disagree&quot;</td><td>&quot;Neither Agree nor Disagree&quot;</td><td>&quot;Somewhat Agree&quot;</td><td>&quot;Neither Agree nor Disagree&quot;</td><td>&quot;Somewhat Agree&quot;</td></tr></tbody></table></div>"
      ],
      "text/plain": [
       "shape: (2, 44)\n",
       "┌───────────┬───────────┬───────────┬───────────┬───┬───────────┬───────────┬───────────┬──────────┐\n",
       "│ F1        ┆ F5        ┆ F2        ┆ F1.1      ┆ … ┆ F4.4      ┆ F5.7      ┆ F3.5      ┆ F2.11    │\n",
       "│ ---       ┆ ---       ┆ ---       ┆ ---       ┆   ┆ ---       ┆ ---       ┆ ---       ┆ ---      │\n",
       "│ str       ┆ str       ┆ str       ┆ str       ┆   ┆ str       ┆ str       ┆ str       ┆ str      │\n",
       "╞═══════════╪═══════════╪═══════════╪═══════════╪═══╪═══════════╪═══════════╪═══════════╪══════════╡\n",
       "│ Somewhat  ┆ Somewhat  ┆ Somewhat  ┆ Somewhat  ┆ … ┆ Somewhat  ┆ Somewhat  ┆ Somewhat  ┆ Somewhat │\n",
       "│ Agree     ┆ Disagree  ┆ Agree     ┆ Agree     ┆   ┆ Agree     ┆ Agree     ┆ Agree     ┆ Agree    │\n",
       "│ Somewhat  ┆ Somewhat  ┆ Somewhat  ┆ Somewhat  ┆ … ┆ Neither   ┆ Somewhat  ┆ Neither   ┆ Somewhat │\n",
       "│ Agree     ┆ Disagree  ┆ Agree     ┆ Agree     ┆   ┆ Agree nor ┆ Agree     ┆ Agree nor ┆ Agree    │\n",
       "│           ┆           ┆           ┆           ┆   ┆ Disagree  ┆           ┆ Disagree  ┆          │\n",
       "└───────────┴───────────┴───────────┴───────────┴───┴───────────┴───────────┴───────────┴──────────┘"
      ]
     },
     "execution_count": 52,
     "metadata": {},
     "output_type": "execute_result"
    }
   ],
   "source": [
    "(survey\n",
    " .select(pl.all().exclude(pl.Int64))\n",
    " .head(2))"
   ]
  },
  {
   "cell_type": "markdown",
   "id": "96d8cbae",
   "metadata": {},
   "source": [
    "### `select` helpers from `more_polars`"
   ]
  },
  {
   "cell_type": "code",
   "execution_count": null,
   "id": "fd73fffa-c978-4a3d-934e-4fa0b6af1c1f",
   "metadata": {},
   "outputs": [],
   "source": [
    "# Run as needed\n",
    "%pip install more_polars"
   ]
  },
  {
   "cell_type": "code",
   "execution_count": 55,
   "id": "094a57c5",
   "metadata": {},
   "outputs": [
    {
     "data": {
      "text/html": [
       "<div><style>\n",
       ".dataframe > thead > tr,\n",
       ".dataframe > tbody > tr {\n",
       "  text-align: right;\n",
       "  white-space: pre-wrap;\n",
       "}\n",
       "</style>\n",
       "<small>shape: (2, 8)</small><table border=\"1\" class=\"dataframe\"><thead><tr><th>F1</th><th>F1.1</th><th>F1.2</th><th>F1.3</th><th>F1.4</th><th>F1.5</th><th>F1.6</th><th>F1.7</th></tr><tr><td>str</td><td>str</td><td>str</td><td>str</td><td>str</td><td>str</td><td>str</td><td>str</td></tr></thead><tbody><tr><td>&quot;Somewhat Agree&quot;</td><td>&quot;Somewhat Agree&quot;</td><td>&quot;Somewhat Agree&quot;</td><td>&quot;Somewhat Agree&quot;</td><td>&quot;Neither Agree nor Disagree&quot;</td><td>&quot;Somewhat Agree&quot;</td><td>&quot;Somewhat Agree&quot;</td><td>&quot;Somewhat Agree&quot;</td></tr><tr><td>&quot;Somewhat Agree&quot;</td><td>&quot;Somewhat Agree&quot;</td><td>&quot;Somewhat Agree&quot;</td><td>&quot;Somewhat Agree&quot;</td><td>&quot;Somewhat Agree&quot;</td><td>&quot;Neither Agree nor Disagree&quot;</td><td>&quot;Somewhat Agree&quot;</td><td>&quot;Somewhat Agree&quot;</td></tr></tbody></table></div>"
      ],
      "text/plain": [
       "shape: (2, 8)\n",
       "┌────────────┬────────────┬────────────┬───────────┬───────────┬───────────┬───────────┬───────────┐\n",
       "│ F1         ┆ F1.1       ┆ F1.2       ┆ F1.3      ┆ F1.4      ┆ F1.5      ┆ F1.6      ┆ F1.7      │\n",
       "│ ---        ┆ ---        ┆ ---        ┆ ---       ┆ ---       ┆ ---       ┆ ---       ┆ ---       │\n",
       "│ str        ┆ str        ┆ str        ┆ str       ┆ str       ┆ str       ┆ str       ┆ str       │\n",
       "╞════════════╪════════════╪════════════╪═══════════╪═══════════╪═══════════╪═══════════╪═══════════╡\n",
       "│ Somewhat   ┆ Somewhat   ┆ Somewhat   ┆ Somewhat  ┆ Neither   ┆ Somewhat  ┆ Somewhat  ┆ Somewhat  │\n",
       "│ Agree      ┆ Agree      ┆ Agree      ┆ Agree     ┆ Agree nor ┆ Agree     ┆ Agree     ┆ Agree     │\n",
       "│            ┆            ┆            ┆           ┆ Disagree  ┆           ┆           ┆           │\n",
       "│ Somewhat   ┆ Somewhat   ┆ Somewhat   ┆ Somewhat  ┆ Somewhat  ┆ Neither   ┆ Somewhat  ┆ Somewhat  │\n",
       "│ Agree      ┆ Agree      ┆ Agree      ┆ Agree     ┆ Agree     ┆ Agree nor ┆ Agree     ┆ Agree     │\n",
       "│            ┆            ┆            ┆           ┆           ┆ Disagree  ┆           ┆           │\n",
       "└────────────┴────────────┴────────────┴───────────┴───────────┴───────────┴───────────┴───────────┘"
      ]
     },
     "execution_count": 55,
     "metadata": {},
     "output_type": "execute_result"
    }
   ],
   "source": [
    "from more_polars import cols\n",
    "\n",
    "(survey\n",
    " .select(survey.columns >> cols.startswith('F1'))\n",
    " .head(2)\n",
    ")"
   ]
  },
  {
   "cell_type": "code",
   "execution_count": 48,
   "id": "ec3369e2",
   "metadata": {
    "scrolled": true
   },
   "outputs": [
    {
     "data": {
      "text/html": [
       "<div>\n",
       "<style scoped>\n",
       "    .dataframe tbody tr th:only-of-type {\n",
       "        vertical-align: middle;\n",
       "    }\n",
       "\n",
       "    .dataframe tbody tr th {\n",
       "        vertical-align: top;\n",
       "    }\n",
       "\n",
       "    .dataframe thead th {\n",
       "        text-align: right;\n",
       "    }\n",
       "\n",
       "    .dataframe td {\n",
       "        white-space: pre;\n",
       "    }\n",
       "\n",
       "    .dataframe td {\n",
       "        padding-top: 0;\n",
       "    }\n",
       "\n",
       "    .dataframe td {\n",
       "        padding-bottom: 0;\n",
       "    }\n",
       "\n",
       "    .dataframe td {\n",
       "        line-height: 95%;\n",
       "    }\n",
       "</style>\n",
       "<table border=\"1\" class=\"dataframe\" >\n",
       "<small>shape: (2, 4)</small>\n",
       "<thead>\n",
       "<tr>\n",
       "<th>\n",
       "F1\n",
       "</th>\n",
       "<th>\n",
       "F5\n",
       "</th>\n",
       "<th>\n",
       "F2\n",
       "</th>\n",
       "<th>\n",
       "F1.1\n",
       "</th>\n",
       "</tr>\n",
       "<tr>\n",
       "<td>\n",
       "str\n",
       "</td>\n",
       "<td>\n",
       "str\n",
       "</td>\n",
       "<td>\n",
       "str\n",
       "</td>\n",
       "<td>\n",
       "str\n",
       "</td>\n",
       "</tr>\n",
       "</thead>\n",
       "<tbody>\n",
       "<tr>\n",
       "<td>\n",
       "&quot;Somewhat Agree...\n",
       "</td>\n",
       "<td>\n",
       "&quot;Somewhat Disag...\n",
       "</td>\n",
       "<td>\n",
       "&quot;Somewhat Agree...\n",
       "</td>\n",
       "<td>\n",
       "&quot;Somewhat Agree...\n",
       "</td>\n",
       "</tr>\n",
       "<tr>\n",
       "<td>\n",
       "&quot;Somewhat Agree...\n",
       "</td>\n",
       "<td>\n",
       "&quot;Somewhat Disag...\n",
       "</td>\n",
       "<td>\n",
       "&quot;Somewhat Agree...\n",
       "</td>\n",
       "<td>\n",
       "&quot;Somewhat Agree...\n",
       "</td>\n",
       "</tr>\n",
       "</tbody>\n",
       "</table>\n",
       "</div>"
      ],
      "text/plain": [
       "shape: (2, 4)\n",
       "┌────────────────┬───────────────────┬────────────────┬────────────────┐\n",
       "│ F1             ┆ F5                ┆ F2             ┆ F1.1           │\n",
       "│ ---            ┆ ---               ┆ ---            ┆ ---            │\n",
       "│ str            ┆ str               ┆ str            ┆ str            │\n",
       "╞════════════════╪═══════════════════╪════════════════╪════════════════╡\n",
       "│ Somewhat Agree ┆ Somewhat Disagree ┆ Somewhat Agree ┆ Somewhat Agree │\n",
       "├╌╌╌╌╌╌╌╌╌╌╌╌╌╌╌╌┼╌╌╌╌╌╌╌╌╌╌╌╌╌╌╌╌╌╌╌┼╌╌╌╌╌╌╌╌╌╌╌╌╌╌╌╌┼╌╌╌╌╌╌╌╌╌╌╌╌╌╌╌╌┤\n",
       "│ Somewhat Agree ┆ Somewhat Disagree ┆ Somewhat Agree ┆ Somewhat Agree │\n",
       "└────────────────┴───────────────────┴────────────────┴────────────────┘"
      ]
     },
     "execution_count": 48,
     "metadata": {},
     "output_type": "execute_result"
    }
   ],
   "source": [
    "(survey\n",
    " .select(survey.columns >> cols.between('F1', 'F1.1'))\n",
    " .head(2))"
   ]
  },
  {
   "cell_type": "code",
   "execution_count": 50,
   "id": "04cad2a3",
   "metadata": {
    "scrolled": true
   },
   "outputs": [
    {
     "data": {
      "text/html": [
       "<div>\n",
       "<style scoped>\n",
       "    .dataframe tbody tr th:only-of-type {\n",
       "        vertical-align: middle;\n",
       "    }\n",
       "\n",
       "    .dataframe tbody tr th {\n",
       "        vertical-align: top;\n",
       "    }\n",
       "\n",
       "    .dataframe thead th {\n",
       "        text-align: right;\n",
       "    }\n",
       "\n",
       "    .dataframe td {\n",
       "        white-space: pre;\n",
       "    }\n",
       "\n",
       "    .dataframe td {\n",
       "        padding-top: 0;\n",
       "    }\n",
       "\n",
       "    .dataframe td {\n",
       "        padding-bottom: 0;\n",
       "    }\n",
       "\n",
       "    .dataframe td {\n",
       "        line-height: 95%;\n",
       "    }\n",
       "</style>\n",
       "<table border=\"1\" class=\"dataframe\" >\n",
       "<small>shape: (2, 3)</small>\n",
       "<thead>\n",
       "<tr>\n",
       "<th>\n",
       "F5.7\n",
       "</th>\n",
       "<th>\n",
       "F3.5\n",
       "</th>\n",
       "<th>\n",
       "F2.11\n",
       "</th>\n",
       "</tr>\n",
       "<tr>\n",
       "<td>\n",
       "str\n",
       "</td>\n",
       "<td>\n",
       "str\n",
       "</td>\n",
       "<td>\n",
       "str\n",
       "</td>\n",
       "</tr>\n",
       "</thead>\n",
       "<tbody>\n",
       "<tr>\n",
       "<td>\n",
       "&quot;Somewhat Agree...\n",
       "</td>\n",
       "<td>\n",
       "&quot;Somewhat Agree...\n",
       "</td>\n",
       "<td>\n",
       "&quot;Somewhat Agree...\n",
       "</td>\n",
       "</tr>\n",
       "<tr>\n",
       "<td>\n",
       "&quot;Somewhat Agree...\n",
       "</td>\n",
       "<td>\n",
       "&quot;Neither Agree ...\n",
       "</td>\n",
       "<td>\n",
       "&quot;Somewhat Agree...\n",
       "</td>\n",
       "</tr>\n",
       "</tbody>\n",
       "</table>\n",
       "</div>"
      ],
      "text/plain": [
       "shape: (2, 3)\n",
       "┌────────────────┬────────────────────────────┬────────────────┐\n",
       "│ F5.7           ┆ F3.5                       ┆ F2.11          │\n",
       "│ ---            ┆ ---                        ┆ ---            │\n",
       "│ str            ┆ str                        ┆ str            │\n",
       "╞════════════════╪════════════════════════════╪════════════════╡\n",
       "│ Somewhat Agree ┆ Somewhat Agree             ┆ Somewhat Agree │\n",
       "├╌╌╌╌╌╌╌╌╌╌╌╌╌╌╌╌┼╌╌╌╌╌╌╌╌╌╌╌╌╌╌╌╌╌╌╌╌╌╌╌╌╌╌╌╌┼╌╌╌╌╌╌╌╌╌╌╌╌╌╌╌╌┤\n",
       "│ Somewhat Agree ┆ Neither Agree nor Disagree ┆ Somewhat Agree │\n",
       "└────────────────┴────────────────────────────┴────────────────┘"
      ]
     },
     "execution_count": 50,
     "metadata": {},
     "output_type": "execute_result"
    }
   ],
   "source": [
    "(survey\n",
    " .select(survey.columns >> cols.from_('F5.7'))\n",
    " .head(2))"
   ]
  },
  {
   "cell_type": "code",
   "execution_count": 51,
   "id": "b782a53e",
   "metadata": {
    "scrolled": true
   },
   "outputs": [
    {
     "data": {
      "text/html": [
       "<div>\n",
       "<style scoped>\n",
       "    .dataframe tbody tr th:only-of-type {\n",
       "        vertical-align: middle;\n",
       "    }\n",
       "\n",
       "    .dataframe tbody tr th {\n",
       "        vertical-align: top;\n",
       "    }\n",
       "\n",
       "    .dataframe thead th {\n",
       "        text-align: right;\n",
       "    }\n",
       "\n",
       "    .dataframe td {\n",
       "        white-space: pre;\n",
       "    }\n",
       "\n",
       "    .dataframe td {\n",
       "        padding-top: 0;\n",
       "    }\n",
       "\n",
       "    .dataframe td {\n",
       "        padding-bottom: 0;\n",
       "    }\n",
       "\n",
       "    .dataframe td {\n",
       "        line-height: 95%;\n",
       "    }\n",
       "</style>\n",
       "<table border=\"1\" class=\"dataframe\" >\n",
       "<small>shape: (2, 5)</small>\n",
       "<thead>\n",
       "<tr>\n",
       "<th>\n",
       "ID\n",
       "</th>\n",
       "<th>\n",
       "F1\n",
       "</th>\n",
       "<th>\n",
       "F5\n",
       "</th>\n",
       "<th>\n",
       "F2\n",
       "</th>\n",
       "<th>\n",
       "F1.1\n",
       "</th>\n",
       "</tr>\n",
       "<tr>\n",
       "<td>\n",
       "i64\n",
       "</td>\n",
       "<td>\n",
       "str\n",
       "</td>\n",
       "<td>\n",
       "str\n",
       "</td>\n",
       "<td>\n",
       "str\n",
       "</td>\n",
       "<td>\n",
       "str\n",
       "</td>\n",
       "</tr>\n",
       "</thead>\n",
       "<tbody>\n",
       "<tr>\n",
       "<td>\n",
       "1\n",
       "</td>\n",
       "<td>\n",
       "&quot;Somewhat Agree...\n",
       "</td>\n",
       "<td>\n",
       "&quot;Somewhat Disag...\n",
       "</td>\n",
       "<td>\n",
       "&quot;Somewhat Agree...\n",
       "</td>\n",
       "<td>\n",
       "&quot;Somewhat Agree...\n",
       "</td>\n",
       "</tr>\n",
       "<tr>\n",
       "<td>\n",
       "2\n",
       "</td>\n",
       "<td>\n",
       "&quot;Somewhat Agree...\n",
       "</td>\n",
       "<td>\n",
       "&quot;Somewhat Disag...\n",
       "</td>\n",
       "<td>\n",
       "&quot;Somewhat Agree...\n",
       "</td>\n",
       "<td>\n",
       "&quot;Somewhat Agree...\n",
       "</td>\n",
       "</tr>\n",
       "</tbody>\n",
       "</table>\n",
       "</div>"
      ],
      "text/plain": [
       "shape: (2, 5)\n",
       "┌─────┬────────────────┬───────────────────┬────────────────┬────────────────┐\n",
       "│ ID  ┆ F1             ┆ F5                ┆ F2             ┆ F1.1           │\n",
       "│ --- ┆ ---            ┆ ---               ┆ ---            ┆ ---            │\n",
       "│ i64 ┆ str            ┆ str               ┆ str            ┆ str            │\n",
       "╞═════╪════════════════╪═══════════════════╪════════════════╪════════════════╡\n",
       "│ 1   ┆ Somewhat Agree ┆ Somewhat Disagree ┆ Somewhat Agree ┆ Somewhat Agree │\n",
       "├╌╌╌╌╌┼╌╌╌╌╌╌╌╌╌╌╌╌╌╌╌╌┼╌╌╌╌╌╌╌╌╌╌╌╌╌╌╌╌╌╌╌┼╌╌╌╌╌╌╌╌╌╌╌╌╌╌╌╌┼╌╌╌╌╌╌╌╌╌╌╌╌╌╌╌╌┤\n",
       "│ 2   ┆ Somewhat Agree ┆ Somewhat Disagree ┆ Somewhat Agree ┆ Somewhat Agree │\n",
       "└─────┴────────────────┴───────────────────┴────────────────┴────────────────┘"
      ]
     },
     "execution_count": 51,
     "metadata": {},
     "output_type": "execute_result"
    }
   ],
   "source": [
    "(survey\n",
    " .select(survey.columns >> cols.to('F1.1'))\n",
    " .head(2))"
   ]
  },
  {
   "cell_type": "code",
   "execution_count": 60,
   "id": "c1b23af2",
   "metadata": {
    "scrolled": true
   },
   "outputs": [
    {
     "data": {
      "text/html": [
       "<div>\n",
       "<style scoped>\n",
       "    .dataframe tbody tr th:only-of-type {\n",
       "        vertical-align: middle;\n",
       "    }\n",
       "\n",
       "    .dataframe tbody tr th {\n",
       "        vertical-align: top;\n",
       "    }\n",
       "\n",
       "    .dataframe thead th {\n",
       "        text-align: right;\n",
       "    }\n",
       "\n",
       "    .dataframe td {\n",
       "        white-space: pre;\n",
       "    }\n",
       "\n",
       "    .dataframe td {\n",
       "        padding-top: 0;\n",
       "    }\n",
       "\n",
       "    .dataframe td {\n",
       "        padding-bottom: 0;\n",
       "    }\n",
       "\n",
       "    .dataframe td {\n",
       "        line-height: 95%;\n",
       "    }\n",
       "</style>\n",
       "<table border=\"1\" class=\"dataframe\" >\n",
       "<small>shape: (2, 20)</small>\n",
       "<thead>\n",
       "<tr>\n",
       "<th>\n",
       "F1\n",
       "</th>\n",
       "<th>\n",
       "F1.1\n",
       "</th>\n",
       "<th>\n",
       "F1.2\n",
       "</th>\n",
       "<th>\n",
       "F1.3\n",
       "</th>\n",
       "<th>\n",
       "F1.4\n",
       "</th>\n",
       "<th>\n",
       "F1.5\n",
       "</th>\n",
       "<th>\n",
       "F1.6\n",
       "</th>\n",
       "<th>\n",
       "F1.7\n",
       "</th>\n",
       "<th>\n",
       "F2\n",
       "</th>\n",
       "<th>\n",
       "F2.1\n",
       "</th>\n",
       "<th>\n",
       "F2.2\n",
       "</th>\n",
       "<th>\n",
       "F2.3\n",
       "</th>\n",
       "<th>\n",
       "F2.4\n",
       "</th>\n",
       "<th>\n",
       "F2.5\n",
       "</th>\n",
       "<th>\n",
       "F2.6\n",
       "</th>\n",
       "<th>\n",
       "F2.7\n",
       "</th>\n",
       "<th>\n",
       "F2.8\n",
       "</th>\n",
       "<th>\n",
       "F2.9\n",
       "</th>\n",
       "<th>\n",
       "F2.10\n",
       "</th>\n",
       "<th>\n",
       "F2.11\n",
       "</th>\n",
       "</tr>\n",
       "<tr>\n",
       "<td>\n",
       "str\n",
       "</td>\n",
       "<td>\n",
       "str\n",
       "</td>\n",
       "<td>\n",
       "str\n",
       "</td>\n",
       "<td>\n",
       "str\n",
       "</td>\n",
       "<td>\n",
       "str\n",
       "</td>\n",
       "<td>\n",
       "str\n",
       "</td>\n",
       "<td>\n",
       "str\n",
       "</td>\n",
       "<td>\n",
       "str\n",
       "</td>\n",
       "<td>\n",
       "str\n",
       "</td>\n",
       "<td>\n",
       "str\n",
       "</td>\n",
       "<td>\n",
       "str\n",
       "</td>\n",
       "<td>\n",
       "str\n",
       "</td>\n",
       "<td>\n",
       "str\n",
       "</td>\n",
       "<td>\n",
       "str\n",
       "</td>\n",
       "<td>\n",
       "str\n",
       "</td>\n",
       "<td>\n",
       "str\n",
       "</td>\n",
       "<td>\n",
       "str\n",
       "</td>\n",
       "<td>\n",
       "str\n",
       "</td>\n",
       "<td>\n",
       "str\n",
       "</td>\n",
       "<td>\n",
       "str\n",
       "</td>\n",
       "</tr>\n",
       "</thead>\n",
       "<tbody>\n",
       "<tr>\n",
       "<td>\n",
       "&quot;Somewhat Agree...\n",
       "</td>\n",
       "<td>\n",
       "&quot;Somewhat Agree...\n",
       "</td>\n",
       "<td>\n",
       "&quot;Somewhat Agree...\n",
       "</td>\n",
       "<td>\n",
       "&quot;Somewhat Agree...\n",
       "</td>\n",
       "<td>\n",
       "&quot;Neither Agree ...\n",
       "</td>\n",
       "<td>\n",
       "&quot;Somewhat Agree...\n",
       "</td>\n",
       "<td>\n",
       "&quot;Somewhat Agree...\n",
       "</td>\n",
       "<td>\n",
       "&quot;Somewhat Agree...\n",
       "</td>\n",
       "<td>\n",
       "&quot;Somewhat Agree...\n",
       "</td>\n",
       "<td>\n",
       "&quot;Somewhat Agree...\n",
       "</td>\n",
       "<td>\n",
       "&quot;Somewhat Agree...\n",
       "</td>\n",
       "<td>\n",
       "&quot;Somewhat Agree...\n",
       "</td>\n",
       "<td>\n",
       "&quot;Somewhat Agree...\n",
       "</td>\n",
       "<td>\n",
       "&quot;Somewhat Agree...\n",
       "</td>\n",
       "<td>\n",
       "&quot;Somewhat Agree...\n",
       "</td>\n",
       "<td>\n",
       "&quot;Somewhat Agree...\n",
       "</td>\n",
       "<td>\n",
       "&quot;Somewhat Agree...\n",
       "</td>\n",
       "<td>\n",
       "&quot;Somewhat Agree...\n",
       "</td>\n",
       "<td>\n",
       "&quot;Somewhat Agree...\n",
       "</td>\n",
       "<td>\n",
       "&quot;Somewhat Agree...\n",
       "</td>\n",
       "</tr>\n",
       "<tr>\n",
       "<td>\n",
       "&quot;Somewhat Agree...\n",
       "</td>\n",
       "<td>\n",
       "&quot;Somewhat Agree...\n",
       "</td>\n",
       "<td>\n",
       "&quot;Somewhat Agree...\n",
       "</td>\n",
       "<td>\n",
       "&quot;Somewhat Agree...\n",
       "</td>\n",
       "<td>\n",
       "&quot;Somewhat Agree...\n",
       "</td>\n",
       "<td>\n",
       "&quot;Neither Agree ...\n",
       "</td>\n",
       "<td>\n",
       "&quot;Somewhat Agree...\n",
       "</td>\n",
       "<td>\n",
       "&quot;Somewhat Agree...\n",
       "</td>\n",
       "<td>\n",
       "&quot;Somewhat Agree...\n",
       "</td>\n",
       "<td>\n",
       "&quot;Somewhat Agree...\n",
       "</td>\n",
       "<td>\n",
       "&quot;Neither Agree ...\n",
       "</td>\n",
       "<td>\n",
       "&quot;Somewhat Agree...\n",
       "</td>\n",
       "<td>\n",
       "&quot;Somewhat Agree...\n",
       "</td>\n",
       "<td>\n",
       "&quot;Somewhat Agree...\n",
       "</td>\n",
       "<td>\n",
       "&quot;Somewhat Agree...\n",
       "</td>\n",
       "<td>\n",
       "&quot;Somewhat Agree...\n",
       "</td>\n",
       "<td>\n",
       "&quot;Somewhat Agree...\n",
       "</td>\n",
       "<td>\n",
       "&quot;Somewhat Agree...\n",
       "</td>\n",
       "<td>\n",
       "&quot;Somewhat Agree...\n",
       "</td>\n",
       "<td>\n",
       "&quot;Somewhat Agree...\n",
       "</td>\n",
       "</tr>\n",
       "</tbody>\n",
       "</table>\n",
       "</div>"
      ],
      "text/plain": [
       "shape: (2, 20)\n",
       "┌───────────┬───────────┬───────────┬───────────┬─────┬───────────┬──────────┬──────────┬──────────┐\n",
       "│ F1        ┆ F1.1      ┆ F1.2      ┆ F1.3      ┆ ... ┆ F2.8      ┆ F2.9     ┆ F2.10    ┆ F2.11    │\n",
       "│ ---       ┆ ---       ┆ ---       ┆ ---       ┆     ┆ ---       ┆ ---      ┆ ---      ┆ ---      │\n",
       "│ str       ┆ str       ┆ str       ┆ str       ┆     ┆ str       ┆ str      ┆ str      ┆ str      │\n",
       "╞═══════════╪═══════════╪═══════════╪═══════════╪═════╪═══════════╪══════════╪══════════╪══════════╡\n",
       "│ Somewhat  ┆ Somewhat  ┆ Somewhat  ┆ Somewhat  ┆ ... ┆ Somewhat  ┆ Somewhat ┆ Somewhat ┆ Somewhat │\n",
       "│ Agree     ┆ Agree     ┆ Agree     ┆ Agree     ┆     ┆ Agree     ┆ Agree    ┆ Agree    ┆ Agree    │\n",
       "├╌╌╌╌╌╌╌╌╌╌╌┼╌╌╌╌╌╌╌╌╌╌╌┼╌╌╌╌╌╌╌╌╌╌╌┼╌╌╌╌╌╌╌╌╌╌╌┼╌╌╌╌╌┼╌╌╌╌╌╌╌╌╌╌╌┼╌╌╌╌╌╌╌╌╌╌┼╌╌╌╌╌╌╌╌╌╌┼╌╌╌╌╌╌╌╌╌╌┤\n",
       "│ Somewhat  ┆ Somewhat  ┆ Somewhat  ┆ Somewhat  ┆ ... ┆ Somewhat  ┆ Somewhat ┆ Somewhat ┆ Somewhat │\n",
       "│ Agree     ┆ Agree     ┆ Agree     ┆ Agree     ┆     ┆ Agree     ┆ Agree    ┆ Agree    ┆ Agree    │\n",
       "└───────────┴───────────┴───────────┴───────────┴─────┴───────────┴──────────┴──────────┴──────────┘"
      ]
     },
     "execution_count": 60,
     "metadata": {},
     "output_type": "execute_result"
    }
   ],
   "source": [
    "(survey\n",
    " .select( (survey.columns >> cols.startswith('F1'))\n",
    "          + (survey.columns >> cols.startswith('F2'))\n",
    "         )\n",
    " .head(2))"
   ]
  },
  {
   "cell_type": "markdown",
   "id": "7fdc688b",
   "metadata": {},
   "source": [
    "#### Beware of duplicate columns!"
   ]
  },
  {
   "cell_type": "code",
   "execution_count": 58,
   "id": "13bb57bb",
   "metadata": {
    "scrolled": true
   },
   "outputs": [
    {
     "ename": "DuplicateError",
     "evalue": "the name 'F1.1' is duplicate\n\nIt's possible that multiple expressions are returning the same default column name. If this is the case, try renaming the columns with `.alias(\"new_name\")` to avoid duplicate column names.",
     "output_type": "error",
     "traceback": [
      "\u001b[0;31m---------------------------------------------------------------------------\u001b[0m",
      "\u001b[0;31mDuplicateError\u001b[0m                            Traceback (most recent call last)",
      "Cell \u001b[0;32mIn[58], line 2\u001b[0m\n\u001b[1;32m      1\u001b[0m (\u001b[43msurvey\u001b[49m\n\u001b[0;32m----> 2\u001b[0m \u001b[43m \u001b[49m\u001b[38;5;241;43m.\u001b[39;49m\u001b[43mselect\u001b[49m\u001b[43m(\u001b[49m\u001b[43m \u001b[49m\u001b[43m(\u001b[49m\u001b[43msurvey\u001b[49m\u001b[38;5;241;43m.\u001b[39;49m\u001b[43mcolumns\u001b[49m\u001b[43m \u001b[49m\u001b[38;5;241;43m>>\u001b[39;49m\u001b[43m \u001b[49m\u001b[43mcols\u001b[49m\u001b[38;5;241;43m.\u001b[39;49m\u001b[43mstartswith\u001b[49m\u001b[43m(\u001b[49m\u001b[38;5;124;43m'\u001b[39;49m\u001b[38;5;124;43mF1\u001b[39;49m\u001b[38;5;124;43m'\u001b[39;49m\u001b[43m)\u001b[49m\u001b[43m)\u001b[49m\n\u001b[1;32m      3\u001b[0m \u001b[43m          \u001b[49m\u001b[38;5;241;43m+\u001b[39;49m\u001b[43m \u001b[49m\u001b[43m(\u001b[49m\u001b[43msurvey\u001b[49m\u001b[38;5;241;43m.\u001b[39;49m\u001b[43mcolumns\u001b[49m\u001b[43m \u001b[49m\u001b[38;5;241;43m>>\u001b[39;49m\u001b[43m \u001b[49m\u001b[43mcols\u001b[49m\u001b[38;5;241;43m.\u001b[39;49m\u001b[43mcontains\u001b[49m\u001b[43m(\u001b[49m\u001b[38;5;124;43m'\u001b[39;49m\u001b[38;5;124;43m.\u001b[39;49m\u001b[38;5;124;43m'\u001b[39;49m\u001b[43m)\u001b[49m\u001b[43m)\u001b[49m\n\u001b[1;32m      4\u001b[0m \u001b[43m         \u001b[49m\u001b[43m)\u001b[49m\n\u001b[1;32m      5\u001b[0m  \u001b[38;5;241m.\u001b[39mhead(\u001b[38;5;241m2\u001b[39m))\n",
      "File \u001b[0;32m/opt/anaconda3/envs/polars/lib/python3.12/site-packages/polars/dataframe/frame.py:8717\u001b[0m, in \u001b[0;36mDataFrame.select\u001b[0;34m(self, *exprs, **named_exprs)\u001b[0m\n\u001b[1;32m   8617\u001b[0m \u001b[38;5;28;01mdef\u001b[39;00m \u001b[38;5;21mselect\u001b[39m(\n\u001b[1;32m   8618\u001b[0m     \u001b[38;5;28mself\u001b[39m, \u001b[38;5;241m*\u001b[39mexprs: IntoExpr \u001b[38;5;241m|\u001b[39m Iterable[IntoExpr], \u001b[38;5;241m*\u001b[39m\u001b[38;5;241m*\u001b[39mnamed_exprs: IntoExpr\n\u001b[1;32m   8619\u001b[0m ) \u001b[38;5;241m-\u001b[39m\u001b[38;5;241m>\u001b[39m DataFrame:\n\u001b[1;32m   8620\u001b[0m \u001b[38;5;250m    \u001b[39m\u001b[38;5;124;03m\"\"\"\u001b[39;00m\n\u001b[1;32m   8621\u001b[0m \u001b[38;5;124;03m    Select columns from this DataFrame.\u001b[39;00m\n\u001b[1;32m   8622\u001b[0m \n\u001b[0;32m   (...)\u001b[0m\n\u001b[1;32m   8715\u001b[0m \u001b[38;5;124;03m    └──────────────┘\u001b[39;00m\n\u001b[1;32m   8716\u001b[0m \u001b[38;5;124;03m    \"\"\"\u001b[39;00m\n\u001b[0;32m-> 8717\u001b[0m     \u001b[38;5;28;01mreturn\u001b[39;00m \u001b[38;5;28;43mself\u001b[39;49m\u001b[38;5;241;43m.\u001b[39;49m\u001b[43mlazy\u001b[49m\u001b[43m(\u001b[49m\u001b[43m)\u001b[49m\u001b[38;5;241;43m.\u001b[39;49m\u001b[43mselect\u001b[49m\u001b[43m(\u001b[49m\u001b[38;5;241;43m*\u001b[39;49m\u001b[43mexprs\u001b[49m\u001b[43m,\u001b[49m\u001b[43m \u001b[49m\u001b[38;5;241;43m*\u001b[39;49m\u001b[38;5;241;43m*\u001b[39;49m\u001b[43mnamed_exprs\u001b[49m\u001b[43m)\u001b[49m\u001b[38;5;241;43m.\u001b[39;49m\u001b[43mcollect\u001b[49m\u001b[43m(\u001b[49m\u001b[43m_eager\u001b[49m\u001b[38;5;241;43m=\u001b[39;49m\u001b[38;5;28;43;01mTrue\u001b[39;49;00m\u001b[43m)\u001b[49m\n",
      "File \u001b[0;32m/opt/anaconda3/envs/polars/lib/python3.12/site-packages/polars/lazyframe/frame.py:2027\u001b[0m, in \u001b[0;36mLazyFrame.collect\u001b[0;34m(self, type_coercion, predicate_pushdown, projection_pushdown, simplify_expression, slice_pushdown, comm_subplan_elim, comm_subexpr_elim, cluster_with_columns, no_optimization, streaming, engine, background, _eager, **_kwargs)\u001b[0m\n\u001b[1;32m   2025\u001b[0m \u001b[38;5;66;03m# Only for testing purposes\u001b[39;00m\n\u001b[1;32m   2026\u001b[0m callback \u001b[38;5;241m=\u001b[39m _kwargs\u001b[38;5;241m.\u001b[39mget(\u001b[38;5;124m\"\u001b[39m\u001b[38;5;124mpost_opt_callback\u001b[39m\u001b[38;5;124m\"\u001b[39m, callback)\n\u001b[0;32m-> 2027\u001b[0m \u001b[38;5;28;01mreturn\u001b[39;00m wrap_df(\u001b[43mldf\u001b[49m\u001b[38;5;241;43m.\u001b[39;49m\u001b[43mcollect\u001b[49m\u001b[43m(\u001b[49m\u001b[43mcallback\u001b[49m\u001b[43m)\u001b[49m)\n",
      "\u001b[0;31mDuplicateError\u001b[0m: the name 'F1.1' is duplicate\n\nIt's possible that multiple expressions are returning the same default column name. If this is the case, try renaming the columns with `.alias(\"new_name\")` to avoid duplicate column names."
     ]
    }
   ],
   "source": [
    "(survey\n",
    " .select( (survey.columns >> cols.startswith('F1'))\n",
    "          + (survey.columns >> cols.contains('.'))\n",
    "         )\n",
    " .head(2))"
   ]
  },
  {
   "cell_type": "markdown",
   "id": "d3c269f2",
   "metadata": {
    "jp-MarkdownHeadingCollapsed": true,
    "slideshow": {
     "slide_type": "slide"
    }
   },
   "source": [
    "## Topic 4 -  Advanced Filters"
   ]
  },
  {
   "cell_type": "code",
   "execution_count": 59,
   "id": "01e07ef2",
   "metadata": {
    "scrolled": true,
    "slideshow": {
     "slide_type": "fragment"
    }
   },
   "outputs": [
    {
     "data": {
      "text/html": [
       "<div><style>\n",
       ".dataframe > thead > tr,\n",
       ".dataframe > tbody > tr {\n",
       "  text-align: right;\n",
       "  white-space: pre-wrap;\n",
       "}\n",
       "</style>\n",
       "<small>shape: (5, 11)</small><table border=\"1\" class=\"dataframe\"><thead><tr><th>ID</th><th>name</th><th>Gender</th><th>Eye color</th><th>Race</th><th>Hair color</th><th>Height</th><th>Publisher</th><th>Skin color</th><th>Alignment</th><th>Weight</th></tr><tr><td>i64</td><td>str</td><td>str</td><td>str</td><td>str</td><td>str</td><td>f64</td><td>str</td><td>str</td><td>str</td><td>f64</td></tr></thead><tbody><tr><td>0</td><td>&quot;A-Bomb&quot;</td><td>&quot;Male&quot;</td><td>&quot;yellow&quot;</td><td>&quot;Human&quot;</td><td>&quot;No Hair&quot;</td><td>203.0</td><td>&quot;Marvel Comics&quot;</td><td>null</td><td>&quot;good&quot;</td><td>441.0</td></tr><tr><td>1</td><td>&quot;Abe Sapien&quot;</td><td>&quot;Male&quot;</td><td>&quot;blue&quot;</td><td>&quot;Icthyo Sapien&quot;</td><td>&quot;No Hair&quot;</td><td>191.0</td><td>&quot;Dark Horse Comics&quot;</td><td>&quot;blue&quot;</td><td>&quot;good&quot;</td><td>65.0</td></tr><tr><td>2</td><td>&quot;Abin Sur&quot;</td><td>&quot;Male&quot;</td><td>&quot;blue&quot;</td><td>&quot;Ungaran&quot;</td><td>&quot;No Hair&quot;</td><td>185.0</td><td>&quot;DC Comics&quot;</td><td>&quot;red&quot;</td><td>&quot;good&quot;</td><td>90.0</td></tr><tr><td>3</td><td>&quot;Abomination&quot;</td><td>&quot;Male&quot;</td><td>&quot;green&quot;</td><td>&quot;Human / Radiation&quot;</td><td>&quot;No Hair&quot;</td><td>203.0</td><td>&quot;Marvel Comics&quot;</td><td>null</td><td>&quot;bad&quot;</td><td>441.0</td></tr><tr><td>4</td><td>&quot;Abraxas&quot;</td><td>&quot;Male&quot;</td><td>&quot;blue&quot;</td><td>&quot;Cosmic Entity&quot;</td><td>&quot;Black&quot;</td><td>null</td><td>&quot;Marvel Comics&quot;</td><td>null</td><td>&quot;bad&quot;</td><td>null</td></tr></tbody></table></div>"
      ],
      "text/plain": [
       "shape: (5, 11)\n",
       "┌─────┬─────────────┬────────┬───────────┬───┬───────────────────┬────────────┬───────────┬────────┐\n",
       "│ ID  ┆ name        ┆ Gender ┆ Eye color ┆ … ┆ Publisher         ┆ Skin color ┆ Alignment ┆ Weight │\n",
       "│ --- ┆ ---         ┆ ---    ┆ ---       ┆   ┆ ---               ┆ ---        ┆ ---       ┆ ---    │\n",
       "│ i64 ┆ str         ┆ str    ┆ str       ┆   ┆ str               ┆ str        ┆ str       ┆ f64    │\n",
       "╞═════╪═════════════╪════════╪═══════════╪═══╪═══════════════════╪════════════╪═══════════╪════════╡\n",
       "│ 0   ┆ A-Bomb      ┆ Male   ┆ yellow    ┆ … ┆ Marvel Comics     ┆ null       ┆ good      ┆ 441.0  │\n",
       "│ 1   ┆ Abe Sapien  ┆ Male   ┆ blue      ┆ … ┆ Dark Horse Comics ┆ blue       ┆ good      ┆ 65.0   │\n",
       "│ 2   ┆ Abin Sur    ┆ Male   ┆ blue      ┆ … ┆ DC Comics         ┆ red        ┆ good      ┆ 90.0   │\n",
       "│ 3   ┆ Abomination ┆ Male   ┆ green     ┆ … ┆ Marvel Comics     ┆ null       ┆ bad       ┆ 441.0  │\n",
       "│ 4   ┆ Abraxas     ┆ Male   ┆ blue      ┆ … ┆ Marvel Comics     ┆ null       ┆ bad       ┆ null   │\n",
       "└─────┴─────────────┴────────┴───────────┴───┴───────────────────┴────────────┴───────────┴────────┘"
      ]
     },
     "execution_count": 59,
     "metadata": {},
     "output_type": "execute_result"
    }
   ],
   "source": [
    "heroes = (pl.read_csv('./sample_data/heroes_information.csv', null_values=['-', '-99.0', ''])\n",
    "          .rename({'':'ID'})\n",
    "         )\n",
    "heroes.head()"
   ]
  },
  {
   "cell_type": "markdown",
   "id": "ed8cc118",
   "metadata": {
    "slideshow": {
     "slide_type": "slide"
    }
   },
   "source": [
    "#### Check equality using `==`"
   ]
  },
  {
   "cell_type": "code",
   "execution_count": 60,
   "id": "4e0ef0b3",
   "metadata": {
    "slideshow": {
     "slide_type": "fragment"
    }
   },
   "outputs": [
    {
     "data": {
      "text/html": [
       "<div><style>\n",
       ".dataframe > thead > tr,\n",
       ".dataframe > tbody > tr {\n",
       "  text-align: right;\n",
       "  white-space: pre-wrap;\n",
       "}\n",
       "</style>\n",
       "<small>shape: (2, 11)</small><table border=\"1\" class=\"dataframe\"><thead><tr><th>ID</th><th>name</th><th>Gender</th><th>Eye color</th><th>Race</th><th>Hair color</th><th>Height</th><th>Publisher</th><th>Skin color</th><th>Alignment</th><th>Weight</th></tr><tr><td>i64</td><td>str</td><td>str</td><td>str</td><td>str</td><td>str</td><td>f64</td><td>str</td><td>str</td><td>str</td><td>f64</td></tr></thead><tbody><tr><td>1</td><td>&quot;Abe Sapien&quot;</td><td>&quot;Male&quot;</td><td>&quot;blue&quot;</td><td>&quot;Icthyo Sapien&quot;</td><td>&quot;No Hair&quot;</td><td>191.0</td><td>&quot;Dark Horse Comics&quot;</td><td>&quot;blue&quot;</td><td>&quot;good&quot;</td><td>65.0</td></tr><tr><td>2</td><td>&quot;Abin Sur&quot;</td><td>&quot;Male&quot;</td><td>&quot;blue&quot;</td><td>&quot;Ungaran&quot;</td><td>&quot;No Hair&quot;</td><td>185.0</td><td>&quot;DC Comics&quot;</td><td>&quot;red&quot;</td><td>&quot;good&quot;</td><td>90.0</td></tr></tbody></table></div>"
      ],
      "text/plain": [
       "shape: (2, 11)\n",
       "┌─────┬────────────┬────────┬───────────┬───┬───────────────────┬────────────┬───────────┬────────┐\n",
       "│ ID  ┆ name       ┆ Gender ┆ Eye color ┆ … ┆ Publisher         ┆ Skin color ┆ Alignment ┆ Weight │\n",
       "│ --- ┆ ---        ┆ ---    ┆ ---       ┆   ┆ ---               ┆ ---        ┆ ---       ┆ ---    │\n",
       "│ i64 ┆ str        ┆ str    ┆ str       ┆   ┆ str               ┆ str        ┆ str       ┆ f64    │\n",
       "╞═════╪════════════╪════════╪═══════════╪═══╪═══════════════════╪════════════╪═══════════╪════════╡\n",
       "│ 1   ┆ Abe Sapien ┆ Male   ┆ blue      ┆ … ┆ Dark Horse Comics ┆ blue       ┆ good      ┆ 65.0   │\n",
       "│ 2   ┆ Abin Sur   ┆ Male   ┆ blue      ┆ … ┆ DC Comics         ┆ red        ┆ good      ┆ 90.0   │\n",
       "└─────┴────────────┴────────┴───────────┴───┴───────────────────┴────────────┴───────────┴────────┘"
      ]
     },
     "execution_count": 60,
     "metadata": {},
     "output_type": "execute_result"
    }
   ],
   "source": [
    "(heroes\n",
    " .filter(pl.col('Eye color') == 'blue')\n",
    " .head(2))"
   ]
  },
  {
   "cell_type": "markdown",
   "id": "b68b366f",
   "metadata": {
    "slideshow": {
     "slide_type": "slide"
    }
   },
   "source": [
    "#### Check not equal using `!=`"
   ]
  },
  {
   "cell_type": "code",
   "execution_count": 61,
   "id": "b19f451c",
   "metadata": {
    "slideshow": {
     "slide_type": "fragment"
    }
   },
   "outputs": [
    {
     "data": {
      "text/html": [
       "<div><style>\n",
       ".dataframe > thead > tr,\n",
       ".dataframe > tbody > tr {\n",
       "  text-align: right;\n",
       "  white-space: pre-wrap;\n",
       "}\n",
       "</style>\n",
       "<small>shape: (2, 11)</small><table border=\"1\" class=\"dataframe\"><thead><tr><th>ID</th><th>name</th><th>Gender</th><th>Eye color</th><th>Race</th><th>Hair color</th><th>Height</th><th>Publisher</th><th>Skin color</th><th>Alignment</th><th>Weight</th></tr><tr><td>i64</td><td>str</td><td>str</td><td>str</td><td>str</td><td>str</td><td>f64</td><td>str</td><td>str</td><td>str</td><td>f64</td></tr></thead><tbody><tr><td>0</td><td>&quot;A-Bomb&quot;</td><td>&quot;Male&quot;</td><td>&quot;yellow&quot;</td><td>&quot;Human&quot;</td><td>&quot;No Hair&quot;</td><td>203.0</td><td>&quot;Marvel Comics&quot;</td><td>null</td><td>&quot;good&quot;</td><td>441.0</td></tr><tr><td>3</td><td>&quot;Abomination&quot;</td><td>&quot;Male&quot;</td><td>&quot;green&quot;</td><td>&quot;Human / Radiation&quot;</td><td>&quot;No Hair&quot;</td><td>203.0</td><td>&quot;Marvel Comics&quot;</td><td>null</td><td>&quot;bad&quot;</td><td>441.0</td></tr></tbody></table></div>"
      ],
      "text/plain": [
       "shape: (2, 11)\n",
       "┌─────┬─────────────┬────────┬───────────┬───┬───────────────┬────────────┬───────────┬────────┐\n",
       "│ ID  ┆ name        ┆ Gender ┆ Eye color ┆ … ┆ Publisher     ┆ Skin color ┆ Alignment ┆ Weight │\n",
       "│ --- ┆ ---         ┆ ---    ┆ ---       ┆   ┆ ---           ┆ ---        ┆ ---       ┆ ---    │\n",
       "│ i64 ┆ str         ┆ str    ┆ str       ┆   ┆ str           ┆ str        ┆ str       ┆ f64    │\n",
       "╞═════╪═════════════╪════════╪═══════════╪═══╪═══════════════╪════════════╪═══════════╪════════╡\n",
       "│ 0   ┆ A-Bomb      ┆ Male   ┆ yellow    ┆ … ┆ Marvel Comics ┆ null       ┆ good      ┆ 441.0  │\n",
       "│ 3   ┆ Abomination ┆ Male   ┆ green     ┆ … ┆ Marvel Comics ┆ null       ┆ bad       ┆ 441.0  │\n",
       "└─────┴─────────────┴────────┴───────────┴───┴───────────────┴────────────┴───────────┴────────┘"
      ]
     },
     "execution_count": 61,
     "metadata": {},
     "output_type": "execute_result"
    }
   ],
   "source": [
    "(heroes\n",
    " .filter(pl.col('Eye color') != 'blue')\n",
    " .head(2))"
   ]
  },
  {
   "cell_type": "markdown",
   "id": "570a46f1",
   "metadata": {
    "slideshow": {
     "slide_type": "slide"
    }
   },
   "source": [
    "#### Other inequalities"
   ]
  },
  {
   "cell_type": "code",
   "execution_count": 62,
   "id": "a32cf3db",
   "metadata": {
    "slideshow": {
     "slide_type": "fragment"
    }
   },
   "outputs": [
    {
     "data": {
      "text/html": [
       "<div><style>\n",
       ".dataframe > thead > tr,\n",
       ".dataframe > tbody > tr {\n",
       "  text-align: right;\n",
       "  white-space: pre-wrap;\n",
       "}\n",
       "</style>\n",
       "<small>shape: (2, 11)</small><table border=\"1\" class=\"dataframe\"><thead><tr><th>ID</th><th>name</th><th>Gender</th><th>Eye color</th><th>Race</th><th>Hair color</th><th>Height</th><th>Publisher</th><th>Skin color</th><th>Alignment</th><th>Weight</th></tr><tr><td>i64</td><td>str</td><td>str</td><td>str</td><td>str</td><td>str</td><td>f64</td><td>str</td><td>str</td><td>str</td><td>f64</td></tr></thead><tbody><tr><td>17</td><td>&quot;Alien&quot;</td><td>&quot;Male&quot;</td><td>null</td><td>&quot;Xenomorph XX121&quot;</td><td>&quot;No Hair&quot;</td><td>244.0</td><td>&quot;Dark Horse Comics&quot;</td><td>&quot;black&quot;</td><td>&quot;bad&quot;</td><td>169.0</td></tr><tr><td>19</td><td>&quot;Amazo&quot;</td><td>&quot;Male&quot;</td><td>&quot;red&quot;</td><td>&quot;Android&quot;</td><td>null</td><td>257.0</td><td>&quot;DC Comics&quot;</td><td>null</td><td>&quot;bad&quot;</td><td>173.0</td></tr></tbody></table></div>"
      ],
      "text/plain": [
       "shape: (2, 11)\n",
       "┌─────┬───────┬────────┬───────────┬───┬───────────────────┬────────────┬───────────┬────────┐\n",
       "│ ID  ┆ name  ┆ Gender ┆ Eye color ┆ … ┆ Publisher         ┆ Skin color ┆ Alignment ┆ Weight │\n",
       "│ --- ┆ ---   ┆ ---    ┆ ---       ┆   ┆ ---               ┆ ---        ┆ ---       ┆ ---    │\n",
       "│ i64 ┆ str   ┆ str    ┆ str       ┆   ┆ str               ┆ str        ┆ str       ┆ f64    │\n",
       "╞═════╪═══════╪════════╪═══════════╪═══╪═══════════════════╪════════════╪═══════════╪════════╡\n",
       "│ 17  ┆ Alien ┆ Male   ┆ null      ┆ … ┆ Dark Horse Comics ┆ black      ┆ bad       ┆ 169.0  │\n",
       "│ 19  ┆ Amazo ┆ Male   ┆ red       ┆ … ┆ DC Comics         ┆ null       ┆ bad       ┆ 173.0  │\n",
       "└─────┴───────┴────────┴───────────┴───┴───────────────────┴────────────┴───────────┴────────┘"
      ]
     },
     "execution_count": 62,
     "metadata": {},
     "output_type": "execute_result"
    }
   ],
   "source": [
    "(heroes\n",
    " .filter(pl.col('Height') > 200)\n",
    " .filter(pl.col('Weight') <= 440)\n",
    " .head(2))"
   ]
  },
  {
   "cell_type": "markdown",
   "id": "66ffe484",
   "metadata": {
    "slideshow": {
     "slide_type": "slide"
    }
   },
   "source": [
    "#### `LIKE 'Super%'`"
   ]
  },
  {
   "cell_type": "code",
   "execution_count": 63,
   "id": "bdb165e2",
   "metadata": {
    "slideshow": {
     "slide_type": "fragment"
    }
   },
   "outputs": [
    {
     "data": {
      "text/html": [
       "<div><style>\n",
       ".dataframe > thead > tr,\n",
       ".dataframe > tbody > tr {\n",
       "  text-align: right;\n",
       "  white-space: pre-wrap;\n",
       "}\n",
       "</style>\n",
       "<small>shape: (2, 11)</small><table border=\"1\" class=\"dataframe\"><thead><tr><th>ID</th><th>name</th><th>Gender</th><th>Eye color</th><th>Race</th><th>Hair color</th><th>Height</th><th>Publisher</th><th>Skin color</th><th>Alignment</th><th>Weight</th></tr><tr><td>i64</td><td>str</td><td>str</td><td>str</td><td>str</td><td>str</td><td>f64</td><td>str</td><td>str</td><td>str</td><td>f64</td></tr></thead><tbody><tr><td>643</td><td>&quot;Superboy&quot;</td><td>&quot;Male&quot;</td><td>&quot;blue&quot;</td><td>null</td><td>&quot;Black&quot;</td><td>170.0</td><td>&quot;DC Comics&quot;</td><td>null</td><td>&quot;good&quot;</td><td>68.0</td></tr><tr><td>644</td><td>&quot;Superboy-Prime&quot;</td><td>&quot;Male&quot;</td><td>&quot;blue&quot;</td><td>&quot;Kryptonian&quot;</td><td>&quot;Black / Blue&quot;</td><td>180.0</td><td>&quot;DC Comics&quot;</td><td>null</td><td>&quot;bad&quot;</td><td>77.0</td></tr></tbody></table></div>"
      ],
      "text/plain": [
       "shape: (2, 11)\n",
       "┌─────┬────────────────┬────────┬───────────┬───┬───────────┬────────────┬───────────┬────────┐\n",
       "│ ID  ┆ name           ┆ Gender ┆ Eye color ┆ … ┆ Publisher ┆ Skin color ┆ Alignment ┆ Weight │\n",
       "│ --- ┆ ---            ┆ ---    ┆ ---       ┆   ┆ ---       ┆ ---        ┆ ---       ┆ ---    │\n",
       "│ i64 ┆ str            ┆ str    ┆ str       ┆   ┆ str       ┆ str        ┆ str       ┆ f64    │\n",
       "╞═════╪════════════════╪════════╪═══════════╪═══╪═══════════╪════════════╪═══════════╪════════╡\n",
       "│ 643 ┆ Superboy       ┆ Male   ┆ blue      ┆ … ┆ DC Comics ┆ null       ┆ good      ┆ 68.0   │\n",
       "│ 644 ┆ Superboy-Prime ┆ Male   ┆ blue      ┆ … ┆ DC Comics ┆ null       ┆ bad       ┆ 77.0   │\n",
       "└─────┴────────────────┴────────┴───────────┴───┴───────────┴────────────┴───────────┴────────┘"
      ]
     },
     "execution_count": 63,
     "metadata": {},
     "output_type": "execute_result"
    }
   ],
   "source": [
    "(heroes\n",
    " .filter(pl.col('name').str.starts_with('Super'))\n",
    " .head(2))"
   ]
  },
  {
   "cell_type": "markdown",
   "id": "e588c675",
   "metadata": {
    "slideshow": {
     "slide_type": "slide"
    }
   },
   "source": [
    "#### `LIKE '%boy'`"
   ]
  },
  {
   "cell_type": "code",
   "execution_count": 64,
   "id": "f18de23d",
   "metadata": {
    "slideshow": {
     "slide_type": "fragment"
    }
   },
   "outputs": [
    {
     "data": {
      "text/html": [
       "<div><style>\n",
       ".dataframe > thead > tr,\n",
       ".dataframe > tbody > tr {\n",
       "  text-align: right;\n",
       "  white-space: pre-wrap;\n",
       "}\n",
       "</style>\n",
       "<small>shape: (2, 11)</small><table border=\"1\" class=\"dataframe\"><thead><tr><th>ID</th><th>name</th><th>Gender</th><th>Eye color</th><th>Race</th><th>Hair color</th><th>Height</th><th>Publisher</th><th>Skin color</th><th>Alignment</th><th>Weight</th></tr><tr><td>i64</td><td>str</td><td>str</td><td>str</td><td>str</td><td>str</td><td>f64</td><td>str</td><td>str</td><td>str</td><td>f64</td></tr></thead><tbody><tr><td>142</td><td>&quot;Bumbleboy&quot;</td><td>&quot;Male&quot;</td><td>null</td><td>null</td><td>null</td><td>null</td><td>&quot;Marvel Comics&quot;</td><td>null</td><td>&quot;good&quot;</td><td>null</td></tr><tr><td>321</td><td>&quot;Hellboy&quot;</td><td>&quot;Male&quot;</td><td>&quot;gold&quot;</td><td>&quot;Demon&quot;</td><td>&quot;Black&quot;</td><td>259.0</td><td>&quot;Dark Horse Comics&quot;</td><td>null</td><td>&quot;good&quot;</td><td>158.0</td></tr></tbody></table></div>"
      ],
      "text/plain": [
       "shape: (2, 11)\n",
       "┌─────┬───────────┬────────┬───────────┬───┬───────────────────┬────────────┬───────────┬────────┐\n",
       "│ ID  ┆ name      ┆ Gender ┆ Eye color ┆ … ┆ Publisher         ┆ Skin color ┆ Alignment ┆ Weight │\n",
       "│ --- ┆ ---       ┆ ---    ┆ ---       ┆   ┆ ---               ┆ ---        ┆ ---       ┆ ---    │\n",
       "│ i64 ┆ str       ┆ str    ┆ str       ┆   ┆ str               ┆ str        ┆ str       ┆ f64    │\n",
       "╞═════╪═══════════╪════════╪═══════════╪═══╪═══════════════════╪════════════╪═══════════╪════════╡\n",
       "│ 142 ┆ Bumbleboy ┆ Male   ┆ null      ┆ … ┆ Marvel Comics     ┆ null       ┆ good      ┆ null   │\n",
       "│ 321 ┆ Hellboy   ┆ Male   ┆ gold      ┆ … ┆ Dark Horse Comics ┆ null       ┆ good      ┆ 158.0  │\n",
       "└─────┴───────────┴────────┴───────────┴───┴───────────────────┴────────────┴───────────┴────────┘"
      ]
     },
     "execution_count": 64,
     "metadata": {},
     "output_type": "execute_result"
    }
   ],
   "source": [
    "(heroes\n",
    " .filter(pl.col('name').str.ends_with('boy'))\n",
    " .head(2))"
   ]
  },
  {
   "cell_type": "markdown",
   "id": "75fcd7e4",
   "metadata": {
    "slideshow": {
     "slide_type": "slide"
    }
   },
   "source": [
    "#### `LIKE '%boy%'`"
   ]
  },
  {
   "cell_type": "code",
   "execution_count": 65,
   "id": "2fcebeff",
   "metadata": {
    "slideshow": {
     "slide_type": "fragment"
    }
   },
   "outputs": [
    {
     "data": {
      "text/html": [
       "<div><style>\n",
       ".dataframe > thead > tr,\n",
       ".dataframe > tbody > tr {\n",
       "  text-align: right;\n",
       "  white-space: pre-wrap;\n",
       "}\n",
       "</style>\n",
       "<small>shape: (2, 11)</small><table border=\"1\" class=\"dataframe\"><thead><tr><th>ID</th><th>name</th><th>Gender</th><th>Eye color</th><th>Race</th><th>Hair color</th><th>Height</th><th>Publisher</th><th>Skin color</th><th>Alignment</th><th>Weight</th></tr><tr><td>i64</td><td>str</td><td>str</td><td>str</td><td>str</td><td>str</td><td>f64</td><td>str</td><td>str</td><td>str</td><td>f64</td></tr></thead><tbody><tr><td>142</td><td>&quot;Bumbleboy&quot;</td><td>&quot;Male&quot;</td><td>null</td><td>null</td><td>null</td><td>null</td><td>&quot;Marvel Comics&quot;</td><td>null</td><td>&quot;good&quot;</td><td>null</td></tr><tr><td>321</td><td>&quot;Hellboy&quot;</td><td>&quot;Male&quot;</td><td>&quot;gold&quot;</td><td>&quot;Demon&quot;</td><td>&quot;Black&quot;</td><td>259.0</td><td>&quot;Dark Horse Comics&quot;</td><td>null</td><td>&quot;good&quot;</td><td>158.0</td></tr></tbody></table></div>"
      ],
      "text/plain": [
       "shape: (2, 11)\n",
       "┌─────┬───────────┬────────┬───────────┬───┬───────────────────┬────────────┬───────────┬────────┐\n",
       "│ ID  ┆ name      ┆ Gender ┆ Eye color ┆ … ┆ Publisher         ┆ Skin color ┆ Alignment ┆ Weight │\n",
       "│ --- ┆ ---       ┆ ---    ┆ ---       ┆   ┆ ---               ┆ ---        ┆ ---       ┆ ---    │\n",
       "│ i64 ┆ str       ┆ str    ┆ str       ┆   ┆ str               ┆ str        ┆ str       ┆ f64    │\n",
       "╞═════╪═══════════╪════════╪═══════════╪═══╪═══════════════════╪════════════╪═══════════╪════════╡\n",
       "│ 142 ┆ Bumbleboy ┆ Male   ┆ null      ┆ … ┆ Marvel Comics     ┆ null       ┆ good      ┆ null   │\n",
       "│ 321 ┆ Hellboy   ┆ Male   ┆ gold      ┆ … ┆ Dark Horse Comics ┆ null       ┆ good      ┆ 158.0  │\n",
       "└─────┴───────────┴────────┴───────────┴───┴───────────────────┴────────────┴───────────┴────────┘"
      ]
     },
     "execution_count": 65,
     "metadata": {},
     "output_type": "execute_result"
    }
   ],
   "source": [
    "(heroes\n",
    " .filter(pl.col('name').str.contains('boy'))\n",
    " .head(2))"
   ]
  },
  {
   "cell_type": "markdown",
   "id": "4a37843e",
   "metadata": {
    "slideshow": {
     "slide_type": "slide"
    }
   },
   "source": [
    "#### `ILIKE` using `str.to_lowercase()`"
   ]
  },
  {
   "cell_type": "code",
   "execution_count": 66,
   "id": "f33ab806",
   "metadata": {
    "slideshow": {
     "slide_type": "fragment"
    }
   },
   "outputs": [
    {
     "data": {
      "text/html": [
       "<div><style>\n",
       ".dataframe > thead > tr,\n",
       ".dataframe > tbody > tr {\n",
       "  text-align: right;\n",
       "  white-space: pre-wrap;\n",
       "}\n",
       "</style>\n",
       "<small>shape: (3, 11)</small><table border=\"1\" class=\"dataframe\"><thead><tr><th>ID</th><th>name</th><th>Gender</th><th>Eye color</th><th>Race</th><th>Hair color</th><th>Height</th><th>Publisher</th><th>Skin color</th><th>Alignment</th><th>Weight</th></tr><tr><td>i64</td><td>str</td><td>str</td><td>str</td><td>str</td><td>str</td><td>f64</td><td>str</td><td>str</td><td>str</td><td>f64</td></tr></thead><tbody><tr><td>46</td><td>&quot;Astro Boy&quot;</td><td>&quot;Male&quot;</td><td>&quot;brown&quot;</td><td>null</td><td>&quot;Black&quot;</td><td>null</td><td>null</td><td>null</td><td>&quot;good&quot;</td><td>null</td></tr><tr><td>75</td><td>&quot;Beast Boy&quot;</td><td>&quot;Male&quot;</td><td>&quot;green&quot;</td><td>&quot;Human&quot;</td><td>&quot;Green&quot;</td><td>173.0</td><td>&quot;DC Comics&quot;</td><td>&quot;green&quot;</td><td>&quot;good&quot;</td><td>68.0</td></tr><tr><td>142</td><td>&quot;Bumbleboy&quot;</td><td>&quot;Male&quot;</td><td>null</td><td>null</td><td>null</td><td>null</td><td>&quot;Marvel Comics&quot;</td><td>null</td><td>&quot;good&quot;</td><td>null</td></tr></tbody></table></div>"
      ],
      "text/plain": [
       "shape: (3, 11)\n",
       "┌─────┬───────────┬────────┬───────────┬───┬───────────────┬────────────┬───────────┬────────┐\n",
       "│ ID  ┆ name      ┆ Gender ┆ Eye color ┆ … ┆ Publisher     ┆ Skin color ┆ Alignment ┆ Weight │\n",
       "│ --- ┆ ---       ┆ ---    ┆ ---       ┆   ┆ ---           ┆ ---        ┆ ---       ┆ ---    │\n",
       "│ i64 ┆ str       ┆ str    ┆ str       ┆   ┆ str           ┆ str        ┆ str       ┆ f64    │\n",
       "╞═════╪═══════════╪════════╪═══════════╪═══╪═══════════════╪════════════╪═══════════╪════════╡\n",
       "│ 46  ┆ Astro Boy ┆ Male   ┆ brown     ┆ … ┆ null          ┆ null       ┆ good      ┆ null   │\n",
       "│ 75  ┆ Beast Boy ┆ Male   ┆ green     ┆ … ┆ DC Comics     ┆ green      ┆ good      ┆ 68.0   │\n",
       "│ 142 ┆ Bumbleboy ┆ Male   ┆ null      ┆ … ┆ Marvel Comics ┆ null       ┆ good      ┆ null   │\n",
       "└─────┴───────────┴────────┴───────────┴───┴───────────────┴────────────┴───────────┴────────┘"
      ]
     },
     "execution_count": 66,
     "metadata": {},
     "output_type": "execute_result"
    }
   ],
   "source": [
    "(heroes\n",
    " .filter(pl.col('name').str.to_lowercase().str.contains('boy'))\n",
    " .head(3))"
   ]
  },
  {
   "cell_type": "markdown",
   "id": "3dcd6de5",
   "metadata": {
    "slideshow": {
     "slide_type": "slide"
    }
   },
   "source": [
    "#### Using RegEx with `str.contains`"
   ]
  },
  {
   "cell_type": "code",
   "execution_count": 67,
   "id": "a9930c34",
   "metadata": {
    "slideshow": {
     "slide_type": "fragment"
    }
   },
   "outputs": [
    {
     "name": "stderr",
     "output_type": "stream",
     "text": [
      "<>:3: SyntaxWarning: invalid escape sequence '\\s'\n",
      "<>:3: SyntaxWarning: invalid escape sequence '\\s'\n",
      "/var/folders/k4/_tynxgnx6l39rvqmb6z2_mmh0000gn/T/ipykernel_54946/3490748738.py:3: SyntaxWarning: invalid escape sequence '\\s'\n",
      "  .filter(pl.col('name').str.contains('\\s[Bb]oy|\\wboy'))\n"
     ]
    },
    {
     "data": {
      "text/html": [
       "<div><style>\n",
       ".dataframe > thead > tr,\n",
       ".dataframe > tbody > tr {\n",
       "  text-align: right;\n",
       "  white-space: pre-wrap;\n",
       "}\n",
       "</style>\n",
       "<small>shape: (5, 11)</small><table border=\"1\" class=\"dataframe\"><thead><tr><th>ID</th><th>name</th><th>Gender</th><th>Eye color</th><th>Race</th><th>Hair color</th><th>Height</th><th>Publisher</th><th>Skin color</th><th>Alignment</th><th>Weight</th></tr><tr><td>i64</td><td>str</td><td>str</td><td>str</td><td>str</td><td>str</td><td>f64</td><td>str</td><td>str</td><td>str</td><td>f64</td></tr></thead><tbody><tr><td>75</td><td>&quot;Beast Boy&quot;</td><td>&quot;Male&quot;</td><td>&quot;green&quot;</td><td>&quot;Human&quot;</td><td>&quot;Green&quot;</td><td>173.0</td><td>&quot;DC Comics&quot;</td><td>&quot;green&quot;</td><td>&quot;good&quot;</td><td>68.0</td></tr><tr><td>142</td><td>&quot;Bumbleboy&quot;</td><td>&quot;Male&quot;</td><td>null</td><td>null</td><td>null</td><td>null</td><td>&quot;Marvel Comics&quot;</td><td>null</td><td>&quot;good&quot;</td><td>null</td></tr><tr><td>183</td><td>&quot;Colossal Boy&quot;</td><td>&quot;Male&quot;</td><td>null</td><td>null</td><td>null</td><td>null</td><td>&quot;DC Comics&quot;</td><td>null</td><td>&quot;good&quot;</td><td>null</td></tr><tr><td>643</td><td>&quot;Superboy&quot;</td><td>&quot;Male&quot;</td><td>&quot;blue&quot;</td><td>null</td><td>&quot;Black&quot;</td><td>170.0</td><td>&quot;DC Comics&quot;</td><td>null</td><td>&quot;good&quot;</td><td>68.0</td></tr><tr><td>644</td><td>&quot;Superboy-Prime&quot;</td><td>&quot;Male&quot;</td><td>&quot;blue&quot;</td><td>&quot;Kryptonian&quot;</td><td>&quot;Black / Blue&quot;</td><td>180.0</td><td>&quot;DC Comics&quot;</td><td>null</td><td>&quot;bad&quot;</td><td>77.0</td></tr></tbody></table></div>"
      ],
      "text/plain": [
       "shape: (5, 11)\n",
       "┌─────┬────────────────┬────────┬───────────┬───┬───────────────┬────────────┬───────────┬────────┐\n",
       "│ ID  ┆ name           ┆ Gender ┆ Eye color ┆ … ┆ Publisher     ┆ Skin color ┆ Alignment ┆ Weight │\n",
       "│ --- ┆ ---            ┆ ---    ┆ ---       ┆   ┆ ---           ┆ ---        ┆ ---       ┆ ---    │\n",
       "│ i64 ┆ str            ┆ str    ┆ str       ┆   ┆ str           ┆ str        ┆ str       ┆ f64    │\n",
       "╞═════╪════════════════╪════════╪═══════════╪═══╪═══════════════╪════════════╪═══════════╪════════╡\n",
       "│ 75  ┆ Beast Boy      ┆ Male   ┆ green     ┆ … ┆ DC Comics     ┆ green      ┆ good      ┆ 68.0   │\n",
       "│ 142 ┆ Bumbleboy      ┆ Male   ┆ null      ┆ … ┆ Marvel Comics ┆ null       ┆ good      ┆ null   │\n",
       "│ 183 ┆ Colossal Boy   ┆ Male   ┆ null      ┆ … ┆ DC Comics     ┆ null       ┆ good      ┆ null   │\n",
       "│ 643 ┆ Superboy       ┆ Male   ┆ blue      ┆ … ┆ DC Comics     ┆ null       ┆ good      ┆ 68.0   │\n",
       "│ 644 ┆ Superboy-Prime ┆ Male   ┆ blue      ┆ … ┆ DC Comics     ┆ null       ┆ bad       ┆ 77.0   │\n",
       "└─────┴────────────────┴────────┴───────────┴───┴───────────────┴────────────┴───────────┴────────┘"
      ]
     },
     "execution_count": 67,
     "metadata": {},
     "output_type": "execute_result"
    }
   ],
   "source": [
    "(heroes\n",
    " .filter(pl.col('Publisher').str.contains('DC|Marvel'))\n",
    " .filter(pl.col('name').str.contains('\\s[Bb]oy|\\wboy'))\n",
    " .head()\n",
    ")"
   ]
  },
  {
   "cell_type": "markdown",
   "id": "22520c87",
   "metadata": {
    "slideshow": {
     "slide_type": "slide"
    }
   },
   "source": [
    "#### `IN` "
   ]
  },
  {
   "cell_type": "code",
   "execution_count": 69,
   "id": "bb599ac2",
   "metadata": {
    "slideshow": {
     "slide_type": "fragment"
    }
   },
   "outputs": [
    {
     "data": {
      "text/html": [
       "<div><style>\n",
       ".dataframe > thead > tr,\n",
       ".dataframe > tbody > tr {\n",
       "  text-align: right;\n",
       "  white-space: pre-wrap;\n",
       "}\n",
       "</style>\n",
       "<small>shape: (2, 11)</small><table border=\"1\" class=\"dataframe\"><thead><tr><th>ID</th><th>name</th><th>Gender</th><th>Eye color</th><th>Race</th><th>Hair color</th><th>Height</th><th>Publisher</th><th>Skin color</th><th>Alignment</th><th>Weight</th></tr><tr><td>i64</td><td>str</td><td>str</td><td>str</td><td>str</td><td>str</td><td>f64</td><td>str</td><td>str</td><td>str</td><td>f64</td></tr></thead><tbody><tr><td>0</td><td>&quot;A-Bomb&quot;</td><td>&quot;Male&quot;</td><td>&quot;yellow&quot;</td><td>&quot;Human&quot;</td><td>&quot;No Hair&quot;</td><td>203.0</td><td>&quot;Marvel Comics&quot;</td><td>null</td><td>&quot;good&quot;</td><td>441.0</td></tr><tr><td>2</td><td>&quot;Abin Sur&quot;</td><td>&quot;Male&quot;</td><td>&quot;blue&quot;</td><td>&quot;Ungaran&quot;</td><td>&quot;No Hair&quot;</td><td>185.0</td><td>&quot;DC Comics&quot;</td><td>&quot;red&quot;</td><td>&quot;good&quot;</td><td>90.0</td></tr></tbody></table></div>"
      ],
      "text/plain": [
       "shape: (2, 11)\n",
       "┌─────┬──────────┬────────┬───────────┬───┬───────────────┬────────────┬───────────┬────────┐\n",
       "│ ID  ┆ name     ┆ Gender ┆ Eye color ┆ … ┆ Publisher     ┆ Skin color ┆ Alignment ┆ Weight │\n",
       "│ --- ┆ ---      ┆ ---    ┆ ---       ┆   ┆ ---           ┆ ---        ┆ ---       ┆ ---    │\n",
       "│ i64 ┆ str      ┆ str    ┆ str       ┆   ┆ str           ┆ str        ┆ str       ┆ f64    │\n",
       "╞═════╪══════════╪════════╪═══════════╪═══╪═══════════════╪════════════╪═══════════╪════════╡\n",
       "│ 0   ┆ A-Bomb   ┆ Male   ┆ yellow    ┆ … ┆ Marvel Comics ┆ null       ┆ good      ┆ 441.0  │\n",
       "│ 2   ┆ Abin Sur ┆ Male   ┆ blue      ┆ … ┆ DC Comics     ┆ red        ┆ good      ┆ 90.0   │\n",
       "└─────┴──────────┴────────┴───────────┴───┴───────────────┴────────────┴───────────┴────────┘"
      ]
     },
     "execution_count": 69,
     "metadata": {},
     "output_type": "execute_result"
    }
   ],
   "source": [
    "(heroes\n",
    " .filter(pl.col('Publisher').is_in(['DC Comics', 'Marvel Comics']))\n",
    " .head(2))"
   ]
  },
  {
   "cell_type": "markdown",
   "id": "e22126b3",
   "metadata": {
    "slideshow": {
     "slide_type": "slide"
    }
   },
   "source": [
    "#### `NOT IN` "
   ]
  },
  {
   "cell_type": "code",
   "execution_count": 70,
   "id": "8ca101d3",
   "metadata": {
    "slideshow": {
     "slide_type": "fragment"
    }
   },
   "outputs": [
    {
     "data": {
      "text/html": [
       "<div><style>\n",
       ".dataframe > thead > tr,\n",
       ".dataframe > tbody > tr {\n",
       "  text-align: right;\n",
       "  white-space: pre-wrap;\n",
       "}\n",
       "</style>\n",
       "<small>shape: (2, 11)</small><table border=\"1\" class=\"dataframe\"><thead><tr><th>ID</th><th>name</th><th>Gender</th><th>Eye color</th><th>Race</th><th>Hair color</th><th>Height</th><th>Publisher</th><th>Skin color</th><th>Alignment</th><th>Weight</th></tr><tr><td>i64</td><td>str</td><td>str</td><td>str</td><td>str</td><td>str</td><td>f64</td><td>str</td><td>str</td><td>str</td><td>f64</td></tr></thead><tbody><tr><td>1</td><td>&quot;Abe Sapien&quot;</td><td>&quot;Male&quot;</td><td>&quot;blue&quot;</td><td>&quot;Icthyo Sapien&quot;</td><td>&quot;No Hair&quot;</td><td>191.0</td><td>&quot;Dark Horse Comics&quot;</td><td>&quot;blue&quot;</td><td>&quot;good&quot;</td><td>65.0</td></tr><tr><td>6</td><td>&quot;Adam Monroe&quot;</td><td>&quot;Male&quot;</td><td>&quot;blue&quot;</td><td>null</td><td>&quot;Blond&quot;</td><td>null</td><td>&quot;NBC - Heroes&quot;</td><td>null</td><td>&quot;good&quot;</td><td>null</td></tr></tbody></table></div>"
      ],
      "text/plain": [
       "shape: (2, 11)\n",
       "┌─────┬─────────────┬────────┬───────────┬───┬───────────────────┬────────────┬───────────┬────────┐\n",
       "│ ID  ┆ name        ┆ Gender ┆ Eye color ┆ … ┆ Publisher         ┆ Skin color ┆ Alignment ┆ Weight │\n",
       "│ --- ┆ ---         ┆ ---    ┆ ---       ┆   ┆ ---               ┆ ---        ┆ ---       ┆ ---    │\n",
       "│ i64 ┆ str         ┆ str    ┆ str       ┆   ┆ str               ┆ str        ┆ str       ┆ f64    │\n",
       "╞═════╪═════════════╪════════╪═══════════╪═══╪═══════════════════╪════════════╪═══════════╪════════╡\n",
       "│ 1   ┆ Abe Sapien  ┆ Male   ┆ blue      ┆ … ┆ Dark Horse Comics ┆ blue       ┆ good      ┆ 65.0   │\n",
       "│ 6   ┆ Adam Monroe ┆ Male   ┆ blue      ┆ … ┆ NBC - Heroes      ┆ null       ┆ good      ┆ null   │\n",
       "└─────┴─────────────┴────────┴───────────┴───┴───────────────────┴────────────┴───────────┴────────┘"
      ]
     },
     "execution_count": 70,
     "metadata": {},
     "output_type": "execute_result"
    }
   ],
   "source": [
    "(heroes\n",
    " .filter(~pl.col('Publisher').is_in(['DC Comics', 'Marvel Comics']))\n",
    " .head(2))"
   ]
  },
  {
   "cell_type": "markdown",
   "id": "de203f18",
   "metadata": {
    "slideshow": {
     "slide_type": "slide"
    }
   },
   "source": [
    "#### `IS NULL`"
   ]
  },
  {
   "cell_type": "code",
   "execution_count": 71,
   "id": "f9efcc58",
   "metadata": {
    "slideshow": {
     "slide_type": "fragment"
    }
   },
   "outputs": [
    {
     "data": {
      "text/html": [
       "<div><style>\n",
       ".dataframe > thead > tr,\n",
       ".dataframe > tbody > tr {\n",
       "  text-align: right;\n",
       "  white-space: pre-wrap;\n",
       "}\n",
       "</style>\n",
       "<small>shape: (2, 11)</small><table border=\"1\" class=\"dataframe\"><thead><tr><th>ID</th><th>name</th><th>Gender</th><th>Eye color</th><th>Race</th><th>Hair color</th><th>Height</th><th>Publisher</th><th>Skin color</th><th>Alignment</th><th>Weight</th></tr><tr><td>i64</td><td>str</td><td>str</td><td>str</td><td>str</td><td>str</td><td>f64</td><td>str</td><td>str</td><td>str</td><td>f64</td></tr></thead><tbody><tr><td>0</td><td>&quot;A-Bomb&quot;</td><td>&quot;Male&quot;</td><td>&quot;yellow&quot;</td><td>&quot;Human&quot;</td><td>&quot;No Hair&quot;</td><td>203.0</td><td>&quot;Marvel Comics&quot;</td><td>null</td><td>&quot;good&quot;</td><td>441.0</td></tr><tr><td>3</td><td>&quot;Abomination&quot;</td><td>&quot;Male&quot;</td><td>&quot;green&quot;</td><td>&quot;Human / Radiation&quot;</td><td>&quot;No Hair&quot;</td><td>203.0</td><td>&quot;Marvel Comics&quot;</td><td>null</td><td>&quot;bad&quot;</td><td>441.0</td></tr></tbody></table></div>"
      ],
      "text/plain": [
       "shape: (2, 11)\n",
       "┌─────┬─────────────┬────────┬───────────┬───┬───────────────┬────────────┬───────────┬────────┐\n",
       "│ ID  ┆ name        ┆ Gender ┆ Eye color ┆ … ┆ Publisher     ┆ Skin color ┆ Alignment ┆ Weight │\n",
       "│ --- ┆ ---         ┆ ---    ┆ ---       ┆   ┆ ---           ┆ ---        ┆ ---       ┆ ---    │\n",
       "│ i64 ┆ str         ┆ str    ┆ str       ┆   ┆ str           ┆ str        ┆ str       ┆ f64    │\n",
       "╞═════╪═════════════╪════════╪═══════════╪═══╪═══════════════╪════════════╪═══════════╪════════╡\n",
       "│ 0   ┆ A-Bomb      ┆ Male   ┆ yellow    ┆ … ┆ Marvel Comics ┆ null       ┆ good      ┆ 441.0  │\n",
       "│ 3   ┆ Abomination ┆ Male   ┆ green     ┆ … ┆ Marvel Comics ┆ null       ┆ bad       ┆ 441.0  │\n",
       "└─────┴─────────────┴────────┴───────────┴───┴───────────────┴────────────┴───────────┴────────┘"
      ]
     },
     "execution_count": 71,
     "metadata": {},
     "output_type": "execute_result"
    }
   ],
   "source": [
    "(heroes\n",
    " .filter(pl.col('Skin color').is_null())\n",
    " .head(2))"
   ]
  },
  {
   "cell_type": "markdown",
   "id": "2f06d84e",
   "metadata": {
    "slideshow": {
     "slide_type": "slide"
    }
   },
   "source": [
    "#### `IS NOT NULL`  using `is_not_null`"
   ]
  },
  {
   "cell_type": "code",
   "execution_count": 72,
   "id": "4df2bf79",
   "metadata": {
    "slideshow": {
     "slide_type": "fragment"
    }
   },
   "outputs": [
    {
     "data": {
      "text/html": [
       "<div><style>\n",
       ".dataframe > thead > tr,\n",
       ".dataframe > tbody > tr {\n",
       "  text-align: right;\n",
       "  white-space: pre-wrap;\n",
       "}\n",
       "</style>\n",
       "<small>shape: (2, 11)</small><table border=\"1\" class=\"dataframe\"><thead><tr><th>ID</th><th>name</th><th>Gender</th><th>Eye color</th><th>Race</th><th>Hair color</th><th>Height</th><th>Publisher</th><th>Skin color</th><th>Alignment</th><th>Weight</th></tr><tr><td>i64</td><td>str</td><td>str</td><td>str</td><td>str</td><td>str</td><td>f64</td><td>str</td><td>str</td><td>str</td><td>f64</td></tr></thead><tbody><tr><td>1</td><td>&quot;Abe Sapien&quot;</td><td>&quot;Male&quot;</td><td>&quot;blue&quot;</td><td>&quot;Icthyo Sapien&quot;</td><td>&quot;No Hair&quot;</td><td>191.0</td><td>&quot;Dark Horse Comics&quot;</td><td>&quot;blue&quot;</td><td>&quot;good&quot;</td><td>65.0</td></tr><tr><td>2</td><td>&quot;Abin Sur&quot;</td><td>&quot;Male&quot;</td><td>&quot;blue&quot;</td><td>&quot;Ungaran&quot;</td><td>&quot;No Hair&quot;</td><td>185.0</td><td>&quot;DC Comics&quot;</td><td>&quot;red&quot;</td><td>&quot;good&quot;</td><td>90.0</td></tr></tbody></table></div>"
      ],
      "text/plain": [
       "shape: (2, 11)\n",
       "┌─────┬────────────┬────────┬───────────┬───┬───────────────────┬────────────┬───────────┬────────┐\n",
       "│ ID  ┆ name       ┆ Gender ┆ Eye color ┆ … ┆ Publisher         ┆ Skin color ┆ Alignment ┆ Weight │\n",
       "│ --- ┆ ---        ┆ ---    ┆ ---       ┆   ┆ ---               ┆ ---        ┆ ---       ┆ ---    │\n",
       "│ i64 ┆ str        ┆ str    ┆ str       ┆   ┆ str               ┆ str        ┆ str       ┆ f64    │\n",
       "╞═════╪════════════╪════════╪═══════════╪═══╪═══════════════════╪════════════╪═══════════╪════════╡\n",
       "│ 1   ┆ Abe Sapien ┆ Male   ┆ blue      ┆ … ┆ Dark Horse Comics ┆ blue       ┆ good      ┆ 65.0   │\n",
       "│ 2   ┆ Abin Sur   ┆ Male   ┆ blue      ┆ … ┆ DC Comics         ┆ red        ┆ good      ┆ 90.0   │\n",
       "└─────┴────────────┴────────┴───────────┴───┴───────────────────┴────────────┴───────────┴────────┘"
      ]
     },
     "execution_count": 72,
     "metadata": {},
     "output_type": "execute_result"
    }
   ],
   "source": [
    "(heroes\n",
    " .filter(pl.col('Skin color').is_not_null())\n",
    " .head(2))"
   ]
  },
  {
   "cell_type": "markdown",
   "id": "32404b35",
   "metadata": {},
   "source": [
    "#### `AND` using `&`"
   ]
  },
  {
   "cell_type": "code",
   "execution_count": 73,
   "id": "42da1f1c",
   "metadata": {
    "slideshow": {
     "slide_type": "fragment"
    }
   },
   "outputs": [
    {
     "data": {
      "text/html": [
       "<div><style>\n",
       ".dataframe > thead > tr,\n",
       ".dataframe > tbody > tr {\n",
       "  text-align: right;\n",
       "  white-space: pre-wrap;\n",
       "}\n",
       "</style>\n",
       "<small>shape: (2, 11)</small><table border=\"1\" class=\"dataframe\"><thead><tr><th>ID</th><th>name</th><th>Gender</th><th>Eye color</th><th>Race</th><th>Hair color</th><th>Height</th><th>Publisher</th><th>Skin color</th><th>Alignment</th><th>Weight</th></tr><tr><td>i64</td><td>str</td><td>str</td><td>str</td><td>str</td><td>str</td><td>f64</td><td>str</td><td>str</td><td>str</td><td>f64</td></tr></thead><tbody><tr><td>1</td><td>&quot;Abe Sapien&quot;</td><td>&quot;Male&quot;</td><td>&quot;blue&quot;</td><td>&quot;Icthyo Sapien&quot;</td><td>&quot;No Hair&quot;</td><td>191.0</td><td>&quot;Dark Horse Comics&quot;</td><td>&quot;blue&quot;</td><td>&quot;good&quot;</td><td>65.0</td></tr><tr><td>2</td><td>&quot;Abin Sur&quot;</td><td>&quot;Male&quot;</td><td>&quot;blue&quot;</td><td>&quot;Ungaran&quot;</td><td>&quot;No Hair&quot;</td><td>185.0</td><td>&quot;DC Comics&quot;</td><td>&quot;red&quot;</td><td>&quot;good&quot;</td><td>90.0</td></tr></tbody></table></div>"
      ],
      "text/plain": [
       "shape: (2, 11)\n",
       "┌─────┬────────────┬────────┬───────────┬───┬───────────────────┬────────────┬───────────┬────────┐\n",
       "│ ID  ┆ name       ┆ Gender ┆ Eye color ┆ … ┆ Publisher         ┆ Skin color ┆ Alignment ┆ Weight │\n",
       "│ --- ┆ ---        ┆ ---    ┆ ---       ┆   ┆ ---               ┆ ---        ┆ ---       ┆ ---    │\n",
       "│ i64 ┆ str        ┆ str    ┆ str       ┆   ┆ str               ┆ str        ┆ str       ┆ f64    │\n",
       "╞═════╪════════════╪════════╪═══════════╪═══╪═══════════════════╪════════════╪═══════════╪════════╡\n",
       "│ 1   ┆ Abe Sapien ┆ Male   ┆ blue      ┆ … ┆ Dark Horse Comics ┆ blue       ┆ good      ┆ 65.0   │\n",
       "│ 2   ┆ Abin Sur   ┆ Male   ┆ blue      ┆ … ┆ DC Comics         ┆ red        ┆ good      ┆ 90.0   │\n",
       "└─────┴────────────┴────────┴───────────┴───┴───────────────────┴────────────┴───────────┴────────┘"
      ]
     },
     "execution_count": 73,
     "metadata": {},
     "output_type": "execute_result"
    }
   ],
   "source": [
    "(heroes\n",
    " .filter((pl.col('Hair color') == 'No Hair') & (pl.col('Eye color') == 'blue'))\n",
    " .head(2))"
   ]
  },
  {
   "cell_type": "markdown",
   "id": "1c05e51a",
   "metadata": {},
   "source": [
    "#### `OR`"
   ]
  },
  {
   "cell_type": "code",
   "execution_count": 74,
   "id": "69d0e340",
   "metadata": {
    "slideshow": {
     "slide_type": "fragment"
    }
   },
   "outputs": [
    {
     "data": {
      "text/html": [
       "<div><style>\n",
       ".dataframe > thead > tr,\n",
       ".dataframe > tbody > tr {\n",
       "  text-align: right;\n",
       "  white-space: pre-wrap;\n",
       "}\n",
       "</style>\n",
       "<small>shape: (2, 11)</small><table border=\"1\" class=\"dataframe\"><thead><tr><th>ID</th><th>name</th><th>Gender</th><th>Eye color</th><th>Race</th><th>Hair color</th><th>Height</th><th>Publisher</th><th>Skin color</th><th>Alignment</th><th>Weight</th></tr><tr><td>i64</td><td>str</td><td>str</td><td>str</td><td>str</td><td>str</td><td>f64</td><td>str</td><td>str</td><td>str</td><td>f64</td></tr></thead><tbody><tr><td>0</td><td>&quot;A-Bomb&quot;</td><td>&quot;Male&quot;</td><td>&quot;yellow&quot;</td><td>&quot;Human&quot;</td><td>&quot;No Hair&quot;</td><td>203.0</td><td>&quot;Marvel Comics&quot;</td><td>null</td><td>&quot;good&quot;</td><td>441.0</td></tr><tr><td>1</td><td>&quot;Abe Sapien&quot;</td><td>&quot;Male&quot;</td><td>&quot;blue&quot;</td><td>&quot;Icthyo Sapien&quot;</td><td>&quot;No Hair&quot;</td><td>191.0</td><td>&quot;Dark Horse Comics&quot;</td><td>&quot;blue&quot;</td><td>&quot;good&quot;</td><td>65.0</td></tr></tbody></table></div>"
      ],
      "text/plain": [
       "shape: (2, 11)\n",
       "┌─────┬────────────┬────────┬───────────┬───┬───────────────────┬────────────┬───────────┬────────┐\n",
       "│ ID  ┆ name       ┆ Gender ┆ Eye color ┆ … ┆ Publisher         ┆ Skin color ┆ Alignment ┆ Weight │\n",
       "│ --- ┆ ---        ┆ ---    ┆ ---       ┆   ┆ ---               ┆ ---        ┆ ---       ┆ ---    │\n",
       "│ i64 ┆ str        ┆ str    ┆ str       ┆   ┆ str               ┆ str        ┆ str       ┆ f64    │\n",
       "╞═════╪════════════╪════════╪═══════════╪═══╪═══════════════════╪════════════╪═══════════╪════════╡\n",
       "│ 0   ┆ A-Bomb     ┆ Male   ┆ yellow    ┆ … ┆ Marvel Comics     ┆ null       ┆ good      ┆ 441.0  │\n",
       "│ 1   ┆ Abe Sapien ┆ Male   ┆ blue      ┆ … ┆ Dark Horse Comics ┆ blue       ┆ good      ┆ 65.0   │\n",
       "└─────┴────────────┴────────┴───────────┴───┴───────────────────┴────────────┴───────────┴────────┘"
      ]
     },
     "execution_count": 74,
     "metadata": {},
     "output_type": "execute_result"
    }
   ],
   "source": [
    "(heroes\n",
    " .filter((pl.col('Hair color') == 'No Hair') | (pl.col('Eye color') == 'blue'))\n",
    " .head(2))"
   ]
  },
  {
   "cell_type": "markdown",
   "id": "8cb2ee16",
   "metadata": {
    "slideshow": {
     "slide_type": "slide"
    }
   },
   "source": [
    "#### WARNING: Don't use `and` and `or` (hard to do)"
   ]
  },
  {
   "cell_type": "code",
   "execution_count": 75,
   "id": "28b5239a",
   "metadata": {
    "slideshow": {
     "slide_type": "fragment"
    }
   },
   "outputs": [
    {
     "ename": "TypeError",
     "evalue": "the truth value of an Expr is ambiguous\n\nYou probably got here by using a Python standard library function instead of the native expressions API.\nHere are some things you might want to try:\n- instead of `pl.col('a') and pl.col('b')`, use `pl.col('a') & pl.col('b')`\n- instead of `pl.col('a') in [y, z]`, use `pl.col('a').is_in([y, z])`\n- instead of `max(pl.col('a'), pl.col('b'))`, use `pl.max_horizontal(pl.col('a'), pl.col('b'))`\n",
     "output_type": "error",
     "traceback": [
      "\u001b[0;31m---------------------------------------------------------------------------\u001b[0m",
      "\u001b[0;31mTypeError\u001b[0m                                 Traceback (most recent call last)",
      "\u001b[0;32m/var/folders/k4/_tynxgnx6l39rvqmb6z2_mmh0000gn/T/ipykernel_54946/3514144740.py\u001b[0m in \u001b[0;36m?\u001b[0;34m()\u001b[0m\n\u001b[1;32m      1\u001b[0m (heroes\n\u001b[0;32m----> 2\u001b[0;31m  \u001b[0;34m.\u001b[0m\u001b[0mfilter\u001b[0m\u001b[0;34m(\u001b[0m\u001b[0;34m(\u001b[0m\u001b[0mpl\u001b[0m\u001b[0;34m.\u001b[0m\u001b[0mcol\u001b[0m\u001b[0;34m(\u001b[0m\u001b[0;34m'Hair color'\u001b[0m\u001b[0;34m)\u001b[0m \u001b[0;34m==\u001b[0m \u001b[0;34m'No Hair'\u001b[0m\u001b[0;34m)\u001b[0m \u001b[0;32mand\u001b[0m \u001b[0;34m(\u001b[0m\u001b[0mpl\u001b[0m\u001b[0;34m.\u001b[0m\u001b[0mcol\u001b[0m\u001b[0;34m(\u001b[0m\u001b[0;34m'Eye color'\u001b[0m\u001b[0;34m)\u001b[0m \u001b[0;34m==\u001b[0m \u001b[0;34m'blue'\u001b[0m\u001b[0;34m)\u001b[0m\u001b[0;34m)\u001b[0m\u001b[0;34m\u001b[0m\u001b[0;34m\u001b[0m\u001b[0m\n\u001b[0m\u001b[1;32m      3\u001b[0m  \u001b[0;34m.\u001b[0m\u001b[0mhead\u001b[0m\u001b[0;34m(\u001b[0m\u001b[0;36m2\u001b[0m\u001b[0;34m)\u001b[0m\u001b[0;34m)\u001b[0m\u001b[0;34m\u001b[0m\u001b[0;34m\u001b[0m\u001b[0m\n",
      "\u001b[0;32m/opt/anaconda3/envs/polars/lib/python3.12/site-packages/polars/expr/expr.py\u001b[0m in \u001b[0;36m?\u001b[0;34m(self)\u001b[0m\n\u001b[1;32m    148\u001b[0m             \u001b[0;34m\"- instead of `pl.col('a') and pl.col('b')`, use `pl.col('a') & pl.col('b')`\\n\"\u001b[0m\u001b[0;34m\u001b[0m\u001b[0;34m\u001b[0m\u001b[0m\n\u001b[1;32m    149\u001b[0m             \u001b[0;34m\"- instead of `pl.col('a') in [y, z]`, use `pl.col('a').is_in([y, z])`\\n\"\u001b[0m\u001b[0;34m\u001b[0m\u001b[0;34m\u001b[0m\u001b[0m\n\u001b[1;32m    150\u001b[0m             \u001b[0;34m\"- instead of `max(pl.col('a'), pl.col('b'))`, use `pl.max_horizontal(pl.col('a'), pl.col('b'))`\\n\"\u001b[0m\u001b[0;34m\u001b[0m\u001b[0;34m\u001b[0m\u001b[0m\n\u001b[1;32m    151\u001b[0m         \u001b[0;34m)\u001b[0m\u001b[0;34m\u001b[0m\u001b[0;34m\u001b[0m\u001b[0m\n\u001b[0;32m--> 152\u001b[0;31m         \u001b[0;32mraise\u001b[0m \u001b[0mTypeError\u001b[0m\u001b[0;34m(\u001b[0m\u001b[0mmsg\u001b[0m\u001b[0;34m)\u001b[0m\u001b[0;34m\u001b[0m\u001b[0;34m\u001b[0m\u001b[0m\n\u001b[0m",
      "\u001b[0;31mTypeError\u001b[0m: the truth value of an Expr is ambiguous\n\nYou probably got here by using a Python standard library function instead of the native expressions API.\nHere are some things you might want to try:\n- instead of `pl.col('a') and pl.col('b')`, use `pl.col('a') & pl.col('b')`\n- instead of `pl.col('a') in [y, z]`, use `pl.col('a').is_in([y, z])`\n- instead of `max(pl.col('a'), pl.col('b'))`, use `pl.max_horizontal(pl.col('a'), pl.col('b'))`\n"
     ]
    }
   ],
   "source": [
    "(heroes\n",
    " .filter((pl.col('Hair color') == 'No Hair') and (pl.col('Eye color') == 'blue'))\n",
    " .head(2))"
   ]
  },
  {
   "cell_type": "markdown",
   "id": "c161a912",
   "metadata": {
    "jp-MarkdownHeadingCollapsed": true
   },
   "source": [
    "## Topic 5 - Conditional Expressions"
   ]
  },
  {
   "cell_type": "markdown",
   "id": "8b19addb",
   "metadata": {},
   "source": [
    "### Conditional expressions in `polars`\n",
    "\n",
    "To perform a `CASE WHEN` in `polars` with a single dot-chain by\n",
    "* Start with `pl.when(...).then(...)`\n",
    "* Add any number of additional `.when(...).then(...)` to the dot-chain\n",
    "* Add a `.otherwise(...)` to catch all remaining cases."
   ]
  },
  {
   "cell_type": "code",
   "execution_count": 77,
   "id": "a1a21eff",
   "metadata": {},
   "outputs": [
    {
     "data": {
      "text/html": [
       "<div><style>\n",
       ".dataframe > thead > tr,\n",
       ".dataframe > tbody > tr {\n",
       "  text-align: right;\n",
       "  white-space: pre-wrap;\n",
       "}\n",
       "</style>\n",
       "<small>shape: (5, 2)</small><table border=\"1\" class=\"dataframe\"><thead><tr><th>cat</th><th>val</th></tr><tr><td>str</td><td>i64</td></tr></thead><tbody><tr><td>&quot;a&quot;</td><td>1</td></tr><tr><td>&quot;b&quot;</td><td>1</td></tr><tr><td>&quot;b&quot;</td><td>2</td></tr><tr><td>&quot;c&quot;</td><td>1</td></tr><tr><td>&quot;c&quot;</td><td>2</td></tr></tbody></table></div>"
      ],
      "text/plain": [
       "shape: (5, 2)\n",
       "┌─────┬─────┐\n",
       "│ cat ┆ val │\n",
       "│ --- ┆ --- │\n",
       "│ str ┆ i64 │\n",
       "╞═════╪═════╡\n",
       "│ a   ┆ 1   │\n",
       "│ b   ┆ 1   │\n",
       "│ b   ┆ 2   │\n",
       "│ c   ┆ 1   │\n",
       "│ c   ┆ 2   │\n",
       "└─────┴─────┘"
      ]
     },
     "execution_count": 77,
     "metadata": {},
     "output_type": "execute_result"
    }
   ],
   "source": [
    "df = pl.DataFrame({'cat':['a','b','b','c','c'],\n",
    "                   'val':[ 1,  1,  2,  1, 2]})\n",
    "df"
   ]
  },
  {
   "cell_type": "code",
   "execution_count": 80,
   "id": "049d7a0b",
   "metadata": {},
   "outputs": [
    {
     "data": {
      "text/html": [
       "<div><style>\n",
       ".dataframe > thead > tr,\n",
       ".dataframe > tbody > tr {\n",
       "  text-align: right;\n",
       "  white-space: pre-wrap;\n",
       "}\n",
       "</style>\n",
       "<small>shape: (5, 3)</small><table border=\"1\" class=\"dataframe\"><thead><tr><th>cat</th><th>val</th><th>new</th></tr><tr><td>str</td><td>i64</td><td>i64</td></tr></thead><tbody><tr><td>&quot;a&quot;</td><td>1</td><td>2</td></tr><tr><td>&quot;b&quot;</td><td>1</td><td>11</td></tr><tr><td>&quot;b&quot;</td><td>2</td><td>12</td></tr><tr><td>&quot;c&quot;</td><td>1</td><td>1</td></tr><tr><td>&quot;c&quot;</td><td>2</td><td>2</td></tr></tbody></table></div>"
      ],
      "text/plain": [
       "shape: (5, 3)\n",
       "┌─────┬─────┬─────┐\n",
       "│ cat ┆ val ┆ new │\n",
       "│ --- ┆ --- ┆ --- │\n",
       "│ str ┆ i64 ┆ i64 │\n",
       "╞═════╪═════╪═════╡\n",
       "│ a   ┆ 1   ┆ 2   │\n",
       "│ b   ┆ 1   ┆ 11  │\n",
       "│ b   ┆ 2   ┆ 12  │\n",
       "│ c   ┆ 1   ┆ 1   │\n",
       "│ c   ┆ 2   ┆ 2   │\n",
       "└─────┴─────┴─────┘"
      ]
     },
     "execution_count": 80,
     "metadata": {},
     "output_type": "execute_result"
    }
   ],
   "source": [
    "(df\n",
    " .with_columns(new = pl.when(pl.col('cat') == 'a')\n",
    "                       .then(pl.col('val') + 1)\n",
    "                       .when(pl.col('cat') == 'b')\n",
    "                       .then(pl.col('val') + 10)\n",
    "                       .otherwise(pl.col('val'))\n",
    "              )\n",
    ")"
   ]
  },
  {
   "cell_type": "markdown",
   "id": "59e381f7",
   "metadata": {},
   "source": [
    "### Including `polars` literal values\n",
    "\n",
    "Note that\n",
    "* `polars` is actually implemented in Rust.\n",
    "* Literal/constant values need to use `pl.lit`."
   ]
  },
  {
   "cell_type": "code",
   "execution_count": 81,
   "id": "5fc6ea54",
   "metadata": {},
   "outputs": [
    {
     "data": {
      "text/plain": [
       "0"
      ]
     },
     "execution_count": 81,
     "metadata": {},
     "output_type": "execute_result"
    }
   ],
   "source": [
    "0 # Python integer"
   ]
  },
  {
   "cell_type": "code",
   "execution_count": 82,
   "id": "7c31f266",
   "metadata": {},
   "outputs": [
    {
     "data": {
      "text/html": [
       "dyn int: 0"
      ],
      "text/plain": [
       "<Expr ['dyn int: 0'] at 0x1216219D0>"
      ]
     },
     "execution_count": 82,
     "metadata": {},
     "output_type": "execute_result"
    }
   ],
   "source": [
    "pl.lit(0) # Gets converted to Rust/Apache Arrow"
   ]
  },
  {
   "cell_type": "code",
   "execution_count": 83,
   "id": "92673e99",
   "metadata": {},
   "outputs": [
    {
     "data": {
      "text/html": [
       "dyn int: 0.strict_cast(Int8)"
      ],
      "text/plain": [
       "<Expr ['dyn int: 0.strict_cast(Int8)'] at 0x121620380>"
      ]
     },
     "execution_count": 83,
     "metadata": {},
     "output_type": "execute_result"
    }
   ],
   "source": [
    "pl.lit(0, pl.Int8) # Cast to a specific int type"
   ]
  },
  {
   "cell_type": "markdown",
   "id": "bce6a6db",
   "metadata": {},
   "source": [
    "#### `case_when` with an optional literal value"
   ]
  },
  {
   "cell_type": "code",
   "execution_count": 84,
   "id": "ffb594a6",
   "metadata": {},
   "outputs": [
    {
     "data": {
      "text/html": [
       "<div><style>\n",
       ".dataframe > thead > tr,\n",
       ".dataframe > tbody > tr {\n",
       "  text-align: right;\n",
       "  white-space: pre-wrap;\n",
       "}\n",
       "</style>\n",
       "<small>shape: (5, 3)</small><table border=\"1\" class=\"dataframe\"><thead><tr><th>cat</th><th>val</th><th>new</th></tr><tr><td>str</td><td>i64</td><td>i64</td></tr></thead><tbody><tr><td>&quot;a&quot;</td><td>1</td><td>2</td></tr><tr><td>&quot;b&quot;</td><td>1</td><td>11</td></tr><tr><td>&quot;b&quot;</td><td>2</td><td>12</td></tr><tr><td>&quot;c&quot;</td><td>1</td><td>0</td></tr><tr><td>&quot;c&quot;</td><td>2</td><td>0</td></tr></tbody></table></div>"
      ],
      "text/plain": [
       "shape: (5, 3)\n",
       "┌─────┬─────┬─────┐\n",
       "│ cat ┆ val ┆ new │\n",
       "│ --- ┆ --- ┆ --- │\n",
       "│ str ┆ i64 ┆ i64 │\n",
       "╞═════╪═════╪═════╡\n",
       "│ a   ┆ 1   ┆ 2   │\n",
       "│ b   ┆ 1   ┆ 11  │\n",
       "│ b   ┆ 2   ┆ 12  │\n",
       "│ c   ┆ 1   ┆ 0   │\n",
       "│ c   ┆ 2   ┆ 0   │\n",
       "└─────┴─────┴─────┘"
      ]
     },
     "execution_count": 84,
     "metadata": {},
     "output_type": "execute_result"
    }
   ],
   "source": [
    "(df\n",
    " .with_columns(new = pl.when(pl.col('cat') == 'a')\n",
    "                       .then(pl.col('val') + 1)\n",
    "                       .when(pl.col('cat') == 'b')\n",
    "                       .then(pl.col('val') + 10)\n",
    "                       .otherwise(pl.lit(0))\n",
    "              )\n",
    ")"
   ]
  }
 ],
 "metadata": {
  "kernelspec": {
   "display_name": "Python 3 (ipykernel)",
   "language": "python",
   "name": "python3"
  },
  "language_info": {
   "codemirror_mode": {
    "name": "ipython",
    "version": 3
   },
   "file_extension": ".py",
   "mimetype": "text/x-python",
   "name": "python",
   "nbconvert_exporter": "python",
   "pygments_lexer": "ipython3",
   "version": "3.12.5"
  },
  "varInspector": {
   "cols": {
    "lenName": 16,
    "lenType": 16,
    "lenVar": 40
   },
   "kernels_config": {
    "python": {
     "delete_cmd_postfix": "",
     "delete_cmd_prefix": "del ",
     "library": "var_list.py",
     "varRefreshCmd": "print(var_dic_list())"
    },
    "r": {
     "delete_cmd_postfix": ") ",
     "delete_cmd_prefix": "rm(",
     "library": "var_list.r",
     "varRefreshCmd": "cat(var_dic_list()) "
    }
   },
   "types_to_exclude": [
    "module",
    "function",
    "builtin_function_or_method",
    "instance",
    "_Feature"
   ],
   "window_display": false
  }
 },
 "nbformat": 4,
 "nbformat_minor": 5
}
